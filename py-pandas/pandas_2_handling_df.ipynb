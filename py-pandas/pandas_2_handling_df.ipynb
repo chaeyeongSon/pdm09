{
  "nbformat": 4,
  "nbformat_minor": 0,
  "metadata": {
    "kernelspec": {
      "name": "python3",
      "display_name": "Python 3"
    },
    "language_info": {
      "codemirror_mode": {
        "name": "ipython",
        "version": 3
      },
      "file_extension": ".py",
      "mimetype": "text/x-python",
      "name": "python",
      "nbconvert_exporter": "python",
      "pygments_lexer": "ipython3",
      "version": "3.6.6"
    },
    "colab": {
      "name": "pandas_2_handling_df.ipynb",
      "provenance": [],
      "collapsed_sections": [],
      "include_colab_link": true
    }
  },
  "cells": [
    {
      "cell_type": "markdown",
      "metadata": {
        "id": "view-in-github",
        "colab_type": "text"
      },
      "source": [
        "<a href=\"https://colab.research.google.com/github/chaeyeongSon/pdm09/blob/master/py-pandas/pandas_2_handling_df.ipynb\" target=\"_parent\"><img src=\"https://colab.research.google.com/assets/colab-badge.svg\" alt=\"Open In Colab\"/></a>"
      ]
    },
    {
      "cell_type": "markdown",
      "metadata": {
        "id": "-a_Ksvwdx5pf"
      },
      "source": [
        "### Python module 3. **pandas**"
      ]
    },
    {
      "cell_type": "markdown",
      "metadata": {
        "id": "P_F0RSPKx5pl"
      },
      "source": [
        "# Using pandas"
      ]
    },
    {
      "cell_type": "markdown",
      "metadata": {
        "id": "FfxMgWUFx5pm"
      },
      "source": [
        "* [10 Minutes to pandas](https://pandas.pydata.org/pandas-docs/stable/10min.html)\n",
        "* [Pandas tutorial with interactive exercises](https://www.kaggle.com/pistak/pandas-tutorial-with-interactive-exercises)"
      ]
    },
    {
      "cell_type": "code",
      "metadata": {
        "id": "2mpGSeRlx5po"
      },
      "source": [
        "import pandas as pd\n",
        "import numpy as np\n",
        "import matplotlib.pyplot as plt\n",
        "# %matplotlib inline  # work for Jupyter notebook or lab"
      ],
      "execution_count": null,
      "outputs": []
    },
    {
      "cell_type": "markdown",
      "metadata": {
        "id": "wq1nIp3F1fFB"
      },
      "source": [
        "\n",
        "\n",
        "---\n",
        "\n"
      ]
    },
    {
      "cell_type": "markdown",
      "metadata": {
        "id": "D3zoFQ4bx5qh"
      },
      "source": [
        "## [2] Handling DataFrame\n",
        "- head()\n",
        "- tail()\n",
        "- describe()\n",
        "- info()"
      ]
    },
    {
      "cell_type": "code",
      "metadata": {
        "id": "w2eNkCfLx5p-",
        "outputId": "3b620eb7-02a6-404f-b55f-b4913a178104",
        "colab": {
          "base_uri": "https://localhost:8080/",
          "height": 71
        }
      },
      "source": [
        "# Creating a DataFrame by passing a NumPy array, with a datetime index and labeled columns:\n",
        "dates = pd.date_range('20200928', periods=6)  # 2020-09-28부터 6일간의 날짜를 dates라는 변수에 저장한다.\n",
        "dates"
      ],
      "execution_count": null,
      "outputs": [
        {
          "output_type": "execute_result",
          "data": {
            "text/plain": [
              "DatetimeIndex(['2020-09-28', '2020-09-29', '2020-09-30', '2020-10-01',\n",
              "               '2020-10-02', '2020-10-03'],\n",
              "              dtype='datetime64[ns]', freq='D')"
            ]
          },
          "metadata": {
            "tags": []
          },
          "execution_count": 3
        }
      ]
    },
    {
      "cell_type": "code",
      "metadata": {
        "id": "dHwUodTGx5qj",
        "outputId": "9117b0b8-e317-41d6-f848-4203a553cd94",
        "colab": {
          "base_uri": "https://localhost:8080/",
          "height": 204
        }
      },
      "source": [
        "# head()\n",
        "df = pd.DataFrame(np.random.randn(6,4), index=dates, columns=list('ABCD'))\n",
        "df.head() # DataFrame에 있는 5개의 행을 보여준다."
      ],
      "execution_count": null,
      "outputs": [
        {
          "output_type": "execute_result",
          "data": {
            "text/html": [
              "<div>\n",
              "<style scoped>\n",
              "    .dataframe tbody tr th:only-of-type {\n",
              "        vertical-align: middle;\n",
              "    }\n",
              "\n",
              "    .dataframe tbody tr th {\n",
              "        vertical-align: top;\n",
              "    }\n",
              "\n",
              "    .dataframe thead th {\n",
              "        text-align: right;\n",
              "    }\n",
              "</style>\n",
              "<table border=\"1\" class=\"dataframe\">\n",
              "  <thead>\n",
              "    <tr style=\"text-align: right;\">\n",
              "      <th></th>\n",
              "      <th>A</th>\n",
              "      <th>B</th>\n",
              "      <th>C</th>\n",
              "      <th>D</th>\n",
              "    </tr>\n",
              "  </thead>\n",
              "  <tbody>\n",
              "    <tr>\n",
              "      <th>2020-09-28</th>\n",
              "      <td>-0.575482</td>\n",
              "      <td>0.655350</td>\n",
              "      <td>0.957043</td>\n",
              "      <td>-0.492131</td>\n",
              "    </tr>\n",
              "    <tr>\n",
              "      <th>2020-09-29</th>\n",
              "      <td>0.851061</td>\n",
              "      <td>-0.953022</td>\n",
              "      <td>-0.190944</td>\n",
              "      <td>0.399628</td>\n",
              "    </tr>\n",
              "    <tr>\n",
              "      <th>2020-09-30</th>\n",
              "      <td>-0.362120</td>\n",
              "      <td>0.266898</td>\n",
              "      <td>-0.848485</td>\n",
              "      <td>0.782454</td>\n",
              "    </tr>\n",
              "    <tr>\n",
              "      <th>2020-10-01</th>\n",
              "      <td>-0.379900</td>\n",
              "      <td>-1.410698</td>\n",
              "      <td>-0.422763</td>\n",
              "      <td>0.634358</td>\n",
              "    </tr>\n",
              "    <tr>\n",
              "      <th>2020-10-02</th>\n",
              "      <td>1.408231</td>\n",
              "      <td>1.255450</td>\n",
              "      <td>-1.037922</td>\n",
              "      <td>-0.849412</td>\n",
              "    </tr>\n",
              "  </tbody>\n",
              "</table>\n",
              "</div>"
            ],
            "text/plain": [
              "                   A         B         C         D\n",
              "2020-09-28 -0.575482  0.655350  0.957043 -0.492131\n",
              "2020-09-29  0.851061 -0.953022 -0.190944  0.399628\n",
              "2020-09-30 -0.362120  0.266898 -0.848485  0.782454\n",
              "2020-10-01 -0.379900 -1.410698 -0.422763  0.634358\n",
              "2020-10-02  1.408231  1.255450 -1.037922 -0.849412"
            ]
          },
          "metadata": {
            "tags": []
          },
          "execution_count": 5
        }
      ]
    },
    {
      "cell_type": "code",
      "metadata": {
        "id": "OvYDoBVE1og9",
        "outputId": "365b910b-838d-4b18-b4d2-0bbb437659ed",
        "colab": {
          "base_uri": "https://localhost:8080/",
          "height": 142
        }
      },
      "source": [
        "df.head(3)  # DataFrame에 있는 초반 3개의 행을 보여준다."
      ],
      "execution_count": null,
      "outputs": [
        {
          "output_type": "execute_result",
          "data": {
            "text/html": [
              "<div>\n",
              "<style scoped>\n",
              "    .dataframe tbody tr th:only-of-type {\n",
              "        vertical-align: middle;\n",
              "    }\n",
              "\n",
              "    .dataframe tbody tr th {\n",
              "        vertical-align: top;\n",
              "    }\n",
              "\n",
              "    .dataframe thead th {\n",
              "        text-align: right;\n",
              "    }\n",
              "</style>\n",
              "<table border=\"1\" class=\"dataframe\">\n",
              "  <thead>\n",
              "    <tr style=\"text-align: right;\">\n",
              "      <th></th>\n",
              "      <th>A</th>\n",
              "      <th>B</th>\n",
              "      <th>C</th>\n",
              "      <th>D</th>\n",
              "    </tr>\n",
              "  </thead>\n",
              "  <tbody>\n",
              "    <tr>\n",
              "      <th>2020-09-28</th>\n",
              "      <td>-0.575482</td>\n",
              "      <td>0.655350</td>\n",
              "      <td>0.957043</td>\n",
              "      <td>-0.492131</td>\n",
              "    </tr>\n",
              "    <tr>\n",
              "      <th>2020-09-29</th>\n",
              "      <td>0.851061</td>\n",
              "      <td>-0.953022</td>\n",
              "      <td>-0.190944</td>\n",
              "      <td>0.399628</td>\n",
              "    </tr>\n",
              "    <tr>\n",
              "      <th>2020-09-30</th>\n",
              "      <td>-0.362120</td>\n",
              "      <td>0.266898</td>\n",
              "      <td>-0.848485</td>\n",
              "      <td>0.782454</td>\n",
              "    </tr>\n",
              "  </tbody>\n",
              "</table>\n",
              "</div>"
            ],
            "text/plain": [
              "                   A         B         C         D\n",
              "2020-09-28 -0.575482  0.655350  0.957043 -0.492131\n",
              "2020-09-29  0.851061 -0.953022 -0.190944  0.399628\n",
              "2020-09-30 -0.362120  0.266898 -0.848485  0.782454"
            ]
          },
          "metadata": {
            "tags": []
          },
          "execution_count": 6
        }
      ]
    },
    {
      "cell_type": "code",
      "metadata": {
        "id": "LzWwuDWDx5qo",
        "outputId": "cc6aefd9-6458-4b2a-ce5a-c00542418a1b",
        "colab": {
          "base_uri": "https://localhost:8080/",
          "height": 142
        }
      },
      "source": [
        "df.tail(3)  # 끝에서 3개를 보여준다."
      ],
      "execution_count": null,
      "outputs": [
        {
          "output_type": "execute_result",
          "data": {
            "text/html": [
              "<div>\n",
              "<style scoped>\n",
              "    .dataframe tbody tr th:only-of-type {\n",
              "        vertical-align: middle;\n",
              "    }\n",
              "\n",
              "    .dataframe tbody tr th {\n",
              "        vertical-align: top;\n",
              "    }\n",
              "\n",
              "    .dataframe thead th {\n",
              "        text-align: right;\n",
              "    }\n",
              "</style>\n",
              "<table border=\"1\" class=\"dataframe\">\n",
              "  <thead>\n",
              "    <tr style=\"text-align: right;\">\n",
              "      <th></th>\n",
              "      <th>A</th>\n",
              "      <th>B</th>\n",
              "      <th>C</th>\n",
              "      <th>D</th>\n",
              "    </tr>\n",
              "  </thead>\n",
              "  <tbody>\n",
              "    <tr>\n",
              "      <th>2020-10-01</th>\n",
              "      <td>-0.379900</td>\n",
              "      <td>-1.410698</td>\n",
              "      <td>-0.422763</td>\n",
              "      <td>0.634358</td>\n",
              "    </tr>\n",
              "    <tr>\n",
              "      <th>2020-10-02</th>\n",
              "      <td>1.408231</td>\n",
              "      <td>1.255450</td>\n",
              "      <td>-1.037922</td>\n",
              "      <td>-0.849412</td>\n",
              "    </tr>\n",
              "    <tr>\n",
              "      <th>2020-10-03</th>\n",
              "      <td>1.284745</td>\n",
              "      <td>1.442525</td>\n",
              "      <td>-0.272151</td>\n",
              "      <td>1.014011</td>\n",
              "    </tr>\n",
              "  </tbody>\n",
              "</table>\n",
              "</div>"
            ],
            "text/plain": [
              "                   A         B         C         D\n",
              "2020-10-01 -0.379900 -1.410698 -0.422763  0.634358\n",
              "2020-10-02  1.408231  1.255450 -1.037922 -0.849412\n",
              "2020-10-03  1.284745  1.442525 -0.272151  1.014011"
            ]
          },
          "metadata": {
            "tags": []
          },
          "execution_count": 7
        }
      ]
    },
    {
      "cell_type": "code",
      "metadata": {
        "id": "rJLH024Zx5qs",
        "outputId": "ebaf90d3-6a6c-4010-aee9-444835a9f9c7",
        "colab": {
          "base_uri": "https://localhost:8080/",
          "height": 71
        }
      },
      "source": [
        "# Display the index, columns, and the underlying NumPy data:\n",
        "df.index  # DataFrame의 index를 보여줌"
      ],
      "execution_count": null,
      "outputs": [
        {
          "output_type": "execute_result",
          "data": {
            "text/plain": [
              "DatetimeIndex(['2020-09-28', '2020-09-29', '2020-09-30', '2020-10-01',\n",
              "               '2020-10-02', '2020-10-03'],\n",
              "              dtype='datetime64[ns]', freq='D')"
            ]
          },
          "metadata": {
            "tags": []
          },
          "execution_count": 8
        }
      ]
    },
    {
      "cell_type": "code",
      "metadata": {
        "id": "TB-CHW85x5rA",
        "outputId": "3b63b558-7218-4934-f010-145f94f4e864",
        "colab": {
          "base_uri": "https://localhost:8080/",
          "height": 233
        }
      },
      "source": [
        "df.info() # DataFrame의 정보를 보여줌\n",
        "          # 각각에 data가 들어있으면 non-null을 반환 data가 비어있으면 null을 반환한다."
      ],
      "execution_count": null,
      "outputs": [
        {
          "output_type": "stream",
          "text": [
            "<class 'pandas.core.frame.DataFrame'>\n",
            "DatetimeIndex: 6 entries, 2020-09-28 to 2020-10-03\n",
            "Freq: D\n",
            "Data columns (total 4 columns):\n",
            " #   Column  Non-Null Count  Dtype  \n",
            "---  ------  --------------  -----  \n",
            " 0   A       6 non-null      float64\n",
            " 1   B       6 non-null      float64\n",
            " 2   C       6 non-null      float64\n",
            " 3   D       6 non-null      float64\n",
            "dtypes: float64(4)\n",
            "memory usage: 240.0 bytes\n"
          ],
          "name": "stdout"
        }
      ]
    },
    {
      "cell_type": "code",
      "metadata": {
        "id": "PEzVmjUAx5q7",
        "outputId": "0066f7c5-172d-406d-9575-937e63f20d11",
        "colab": {
          "base_uri": "https://localhost:8080/",
          "height": 297
        }
      },
      "source": [
        "# describe() shows a quick statistic summary of your data:\n",
        "df.describe() # 각 열에 몇개의 data가 들어있는지, 평균을 얼마고 표준편차는 얼마인지 등을 알려줌"
      ],
      "execution_count": null,
      "outputs": [
        {
          "output_type": "execute_result",
          "data": {
            "text/html": [
              "<div>\n",
              "<style scoped>\n",
              "    .dataframe tbody tr th:only-of-type {\n",
              "        vertical-align: middle;\n",
              "    }\n",
              "\n",
              "    .dataframe tbody tr th {\n",
              "        vertical-align: top;\n",
              "    }\n",
              "\n",
              "    .dataframe thead th {\n",
              "        text-align: right;\n",
              "    }\n",
              "</style>\n",
              "<table border=\"1\" class=\"dataframe\">\n",
              "  <thead>\n",
              "    <tr style=\"text-align: right;\">\n",
              "      <th></th>\n",
              "      <th>A</th>\n",
              "      <th>B</th>\n",
              "      <th>C</th>\n",
              "      <th>D</th>\n",
              "    </tr>\n",
              "  </thead>\n",
              "  <tbody>\n",
              "    <tr>\n",
              "      <th>count</th>\n",
              "      <td>6.000000</td>\n",
              "      <td>6.000000</td>\n",
              "      <td>6.000000</td>\n",
              "      <td>6.000000</td>\n",
              "    </tr>\n",
              "    <tr>\n",
              "      <th>mean</th>\n",
              "      <td>0.371089</td>\n",
              "      <td>0.209417</td>\n",
              "      <td>-0.302537</td>\n",
              "      <td>0.248151</td>\n",
              "    </tr>\n",
              "    <tr>\n",
              "      <th>std</th>\n",
              "      <td>0.909767</td>\n",
              "      <td>1.165584</td>\n",
              "      <td>0.700460</td>\n",
              "      <td>0.747902</td>\n",
              "    </tr>\n",
              "    <tr>\n",
              "      <th>min</th>\n",
              "      <td>-0.575482</td>\n",
              "      <td>-1.410698</td>\n",
              "      <td>-1.037922</td>\n",
              "      <td>-0.849412</td>\n",
              "    </tr>\n",
              "    <tr>\n",
              "      <th>25%</th>\n",
              "      <td>-0.375455</td>\n",
              "      <td>-0.648042</td>\n",
              "      <td>-0.742054</td>\n",
              "      <td>-0.269192</td>\n",
              "    </tr>\n",
              "    <tr>\n",
              "      <th>50%</th>\n",
              "      <td>0.244470</td>\n",
              "      <td>0.461124</td>\n",
              "      <td>-0.347457</td>\n",
              "      <td>0.516993</td>\n",
              "    </tr>\n",
              "    <tr>\n",
              "      <th>75%</th>\n",
              "      <td>1.176324</td>\n",
              "      <td>1.105425</td>\n",
              "      <td>-0.211246</td>\n",
              "      <td>0.745430</td>\n",
              "    </tr>\n",
              "    <tr>\n",
              "      <th>max</th>\n",
              "      <td>1.408231</td>\n",
              "      <td>1.442525</td>\n",
              "      <td>0.957043</td>\n",
              "      <td>1.014011</td>\n",
              "    </tr>\n",
              "  </tbody>\n",
              "</table>\n",
              "</div>"
            ],
            "text/plain": [
              "              A         B         C         D\n",
              "count  6.000000  6.000000  6.000000  6.000000\n",
              "mean   0.371089  0.209417 -0.302537  0.248151\n",
              "std    0.909767  1.165584  0.700460  0.747902\n",
              "min   -0.575482 -1.410698 -1.037922 -0.849412\n",
              "25%   -0.375455 -0.648042 -0.742054 -0.269192\n",
              "50%    0.244470  0.461124 -0.347457  0.516993\n",
              "75%    1.176324  1.105425 -0.211246  0.745430\n",
              "max    1.408231  1.442525  0.957043  1.014011"
            ]
          },
          "metadata": {
            "tags": []
          },
          "execution_count": 12
        }
      ]
    },
    {
      "cell_type": "code",
      "metadata": {
        "id": "UOIWmDR-x5qz",
        "outputId": "e73e5093-851e-4262-e920-aceb2e75f44f",
        "colab": {
          "base_uri": "https://localhost:8080/",
          "height": 35
        }
      },
      "source": [
        "df.columns  # 각 열의 title을 보여줌"
      ],
      "execution_count": null,
      "outputs": [
        {
          "output_type": "execute_result",
          "data": {
            "text/plain": [
              "Index(['A', 'B', 'C', 'D'], dtype='object')"
            ]
          },
          "metadata": {
            "tags": []
          },
          "execution_count": 9
        }
      ]
    },
    {
      "cell_type": "code",
      "metadata": {
        "id": "Br9VwFVex5rE",
        "outputId": "b1cd1755-1efd-4421-9487-52425c950b57",
        "colab": {
          "base_uri": "https://localhost:8080/",
          "height": 173
        }
      },
      "source": [
        "# Transposing your dataframe:\n",
        "df.T  # 행과 열이 바뀐다.\n",
        "      # 행은 A, B, C, D로 열은 날짜로 바뀜"
      ],
      "execution_count": null,
      "outputs": [
        {
          "output_type": "execute_result",
          "data": {
            "text/html": [
              "<div>\n",
              "<style scoped>\n",
              "    .dataframe tbody tr th:only-of-type {\n",
              "        vertical-align: middle;\n",
              "    }\n",
              "\n",
              "    .dataframe tbody tr th {\n",
              "        vertical-align: top;\n",
              "    }\n",
              "\n",
              "    .dataframe thead th {\n",
              "        text-align: right;\n",
              "    }\n",
              "</style>\n",
              "<table border=\"1\" class=\"dataframe\">\n",
              "  <thead>\n",
              "    <tr style=\"text-align: right;\">\n",
              "      <th></th>\n",
              "      <th>2020-09-28</th>\n",
              "      <th>2020-09-29</th>\n",
              "      <th>2020-09-30</th>\n",
              "      <th>2020-10-01</th>\n",
              "      <th>2020-10-02</th>\n",
              "      <th>2020-10-03</th>\n",
              "    </tr>\n",
              "  </thead>\n",
              "  <tbody>\n",
              "    <tr>\n",
              "      <th>A</th>\n",
              "      <td>-0.575482</td>\n",
              "      <td>0.851061</td>\n",
              "      <td>-0.362120</td>\n",
              "      <td>-0.379900</td>\n",
              "      <td>1.408231</td>\n",
              "      <td>1.284745</td>\n",
              "    </tr>\n",
              "    <tr>\n",
              "      <th>B</th>\n",
              "      <td>0.655350</td>\n",
              "      <td>-0.953022</td>\n",
              "      <td>0.266898</td>\n",
              "      <td>-1.410698</td>\n",
              "      <td>1.255450</td>\n",
              "      <td>1.442525</td>\n",
              "    </tr>\n",
              "    <tr>\n",
              "      <th>C</th>\n",
              "      <td>0.957043</td>\n",
              "      <td>-0.190944</td>\n",
              "      <td>-0.848485</td>\n",
              "      <td>-0.422763</td>\n",
              "      <td>-1.037922</td>\n",
              "      <td>-0.272151</td>\n",
              "    </tr>\n",
              "    <tr>\n",
              "      <th>D</th>\n",
              "      <td>-0.492131</td>\n",
              "      <td>0.399628</td>\n",
              "      <td>0.782454</td>\n",
              "      <td>0.634358</td>\n",
              "      <td>-0.849412</td>\n",
              "      <td>1.014011</td>\n",
              "    </tr>\n",
              "  </tbody>\n",
              "</table>\n",
              "</div>"
            ],
            "text/plain": [
              "   2020-09-28  2020-09-29  2020-09-30  2020-10-01  2020-10-02  2020-10-03\n",
              "A   -0.575482    0.851061   -0.362120   -0.379900    1.408231    1.284745\n",
              "B    0.655350   -0.953022    0.266898   -1.410698    1.255450    1.442525\n",
              "C    0.957043   -0.190944   -0.848485   -0.422763   -1.037922   -0.272151\n",
              "D   -0.492131    0.399628    0.782454    0.634358   -0.849412    1.014011"
            ]
          },
          "metadata": {
            "tags": []
          },
          "execution_count": 13
        }
      ]
    },
    {
      "cell_type": "code",
      "metadata": {
        "id": "vkg1gQUVLoy9",
        "outputId": "4bf9408e-c188-4e30-a7a0-b38f8044264c",
        "colab": {
          "base_uri": "https://localhost:8080/",
          "height": 35
        }
      },
      "source": [
        "df.T.index  # 행과 열이 바뀜"
      ],
      "execution_count": null,
      "outputs": [
        {
          "output_type": "execute_result",
          "data": {
            "text/plain": [
              "Index(['A', 'B', 'C', 'D'], dtype='object')"
            ]
          },
          "metadata": {
            "tags": []
          },
          "execution_count": 10
        }
      ]
    },
    {
      "cell_type": "markdown",
      "metadata": {
        "id": "A4lHGd4px5rU"
      },
      "source": [
        "### Sorting"
      ]
    },
    {
      "cell_type": "markdown",
      "metadata": {
        "id": "jlXuIbzD6oUD"
      },
      "source": [
        "#### Sort by index\n",
        "- sort_index(axis=0, ascending=False)\n",
        "- sort_index(axis=1, ascending=False)\n",
        "\n",
        "> Axis=0 Column-Wise Operation (수직으로)\n",
        "\n",
        "> Axis=1 Row-Wise Operation (수평으로)"
      ]
    },
    {
      "cell_type": "code",
      "metadata": {
        "id": "RM9Rlk64x5rW",
        "outputId": "b673e6c3-6813-4e7d-cfdf-da13f13dbe17",
        "colab": {
          "base_uri": "https://localhost:8080/",
          "height": 269
        }
      },
      "source": [
        "# Sorting by an axis:\n",
        "df, df.sort_index(axis=0, ascending=False)  # default는 ascending이 True 과거~미래 ascending이 False면 미래~과거순"
      ],
      "execution_count": null,
      "outputs": [
        {
          "output_type": "execute_result",
          "data": {
            "text/plain": [
              "(                   A         B         C         D\n",
              " 2020-09-28 -0.575482  0.655350  0.957043 -0.492131\n",
              " 2020-09-29  0.851061 -0.953022 -0.190944  0.399628\n",
              " 2020-09-30 -0.362120  0.266898 -0.848485  0.782454\n",
              " 2020-10-01 -0.379900 -1.410698 -0.422763  0.634358\n",
              " 2020-10-02  1.408231  1.255450 -1.037922 -0.849412\n",
              " 2020-10-03  1.284745  1.442525 -0.272151  1.014011,\n",
              "                    A         B         C         D\n",
              " 2020-10-03  1.284745  1.442525 -0.272151  1.014011\n",
              " 2020-10-02  1.408231  1.255450 -1.037922 -0.849412\n",
              " 2020-10-01 -0.379900 -1.410698 -0.422763  0.634358\n",
              " 2020-09-30 -0.362120  0.266898 -0.848485  0.782454\n",
              " 2020-09-29  0.851061 -0.953022 -0.190944  0.399628\n",
              " 2020-09-28 -0.575482  0.655350  0.957043 -0.492131)"
            ]
          },
          "metadata": {
            "tags": []
          },
          "execution_count": 15
        }
      ]
    },
    {
      "cell_type": "code",
      "metadata": {
        "id": "w_7d__Hsx5rb",
        "outputId": "9810ba65-d52f-47b4-ead4-dd6d957ca4f0",
        "colab": {
          "base_uri": "https://localhost:8080/",
          "height": 269
        }
      },
      "source": [
        "df,df.sort_index(axis=1, ascending=False) # 마찬가지로 ascending의 default 값은 True로 알파벳 순서대로, False면 알파벳 거꾸로순"
      ],
      "execution_count": null,
      "outputs": [
        {
          "output_type": "execute_result",
          "data": {
            "text/plain": [
              "(                   A         B         C         D\n",
              " 2020-09-28 -0.575482  0.655350  0.957043 -0.492131\n",
              " 2020-09-29  0.851061 -0.953022 -0.190944  0.399628\n",
              " 2020-09-30 -0.362120  0.266898 -0.848485  0.782454\n",
              " 2020-10-01 -0.379900 -1.410698 -0.422763  0.634358\n",
              " 2020-10-02  1.408231  1.255450 -1.037922 -0.849412\n",
              " 2020-10-03  1.284745  1.442525 -0.272151  1.014011,\n",
              "                    D         C         B         A\n",
              " 2020-09-28 -0.492131  0.957043  0.655350 -0.575482\n",
              " 2020-09-29  0.399628 -0.190944 -0.953022  0.851061\n",
              " 2020-09-30  0.782454 -0.848485  0.266898 -0.362120\n",
              " 2020-10-01  0.634358 -0.422763 -1.410698 -0.379900\n",
              " 2020-10-02 -0.849412 -1.037922  1.255450  1.408231\n",
              " 2020-10-03  1.014011 -0.272151  1.442525  1.284745)"
            ]
          },
          "metadata": {
            "tags": []
          },
          "execution_count": 16
        }
      ]
    },
    {
      "cell_type": "markdown",
      "metadata": {
        "id": "8J59I-KW6yNK"
      },
      "source": [
        "#### Sort by value\n",
        "- sort_values(by='column')"
      ]
    },
    {
      "cell_type": "code",
      "metadata": {
        "id": "VJw7_sTLx5rg",
        "outputId": "9d042e7d-f8d8-4a3b-e32b-bca18bd1d2ea",
        "colab": {
          "base_uri": "https://localhost:8080/",
          "height": 269
        }
      },
      "source": [
        "# Sorting by values:\n",
        "df,df.sort_values(by='B') #, ascending=False) # B열을 기준으로 작은 값~큰 값 순으로 정렬됨"
      ],
      "execution_count": null,
      "outputs": [
        {
          "output_type": "execute_result",
          "data": {
            "text/plain": [
              "(                   A         B         C         D\n",
              " 2020-09-28 -0.575482  0.655350  0.957043 -0.492131\n",
              " 2020-09-29  0.851061 -0.953022 -0.190944  0.399628\n",
              " 2020-09-30 -0.362120  0.266898 -0.848485  0.782454\n",
              " 2020-10-01 -0.379900 -1.410698 -0.422763  0.634358\n",
              " 2020-10-02  1.408231  1.255450 -1.037922 -0.849412\n",
              " 2020-10-03  1.284745  1.442525 -0.272151  1.014011,\n",
              "                    A         B         C         D\n",
              " 2020-10-01 -0.379900 -1.410698 -0.422763  0.634358\n",
              " 2020-09-29  0.851061 -0.953022 -0.190944  0.399628\n",
              " 2020-09-30 -0.362120  0.266898 -0.848485  0.782454\n",
              " 2020-09-28 -0.575482  0.655350  0.957043 -0.492131\n",
              " 2020-10-02  1.408231  1.255450 -1.037922 -0.849412\n",
              " 2020-10-03  1.284745  1.442525 -0.272151  1.014011)"
            ]
          },
          "metadata": {
            "tags": []
          },
          "execution_count": 17
        }
      ]
    },
    {
      "cell_type": "markdown",
      "metadata": {
        "id": "rBW0-saPPGbN"
      },
      "source": [
        "## indexing and slicing of DataFrame"
      ]
    },
    {
      "cell_type": "markdown",
      "metadata": {
        "id": "oH89Wa-ix5rq"
      },
      "source": [
        "#### Selecting data by indexing and slicing\n",
        "- indexing\n",
        "- slicing\n"
      ]
    },
    {
      "cell_type": "code",
      "metadata": {
        "id": "X6L1dn-5WQ8r",
        "outputId": "b6a8cedd-c61a-44e6-d659-3b9abe128d8f",
        "colab": {
          "base_uri": "https://localhost:8080/",
          "height": 235
        }
      },
      "source": [
        "df"
      ],
      "execution_count": null,
      "outputs": [
        {
          "output_type": "execute_result",
          "data": {
            "text/html": [
              "<div>\n",
              "<style scoped>\n",
              "    .dataframe tbody tr th:only-of-type {\n",
              "        vertical-align: middle;\n",
              "    }\n",
              "\n",
              "    .dataframe tbody tr th {\n",
              "        vertical-align: top;\n",
              "    }\n",
              "\n",
              "    .dataframe thead th {\n",
              "        text-align: right;\n",
              "    }\n",
              "</style>\n",
              "<table border=\"1\" class=\"dataframe\">\n",
              "  <thead>\n",
              "    <tr style=\"text-align: right;\">\n",
              "      <th></th>\n",
              "      <th>A</th>\n",
              "      <th>B</th>\n",
              "      <th>C</th>\n",
              "      <th>D</th>\n",
              "    </tr>\n",
              "  </thead>\n",
              "  <tbody>\n",
              "    <tr>\n",
              "      <th>2020-09-28</th>\n",
              "      <td>-0.575482</td>\n",
              "      <td>0.655350</td>\n",
              "      <td>0.957043</td>\n",
              "      <td>-0.492131</td>\n",
              "    </tr>\n",
              "    <tr>\n",
              "      <th>2020-09-29</th>\n",
              "      <td>0.851061</td>\n",
              "      <td>-0.953022</td>\n",
              "      <td>-0.190944</td>\n",
              "      <td>0.399628</td>\n",
              "    </tr>\n",
              "    <tr>\n",
              "      <th>2020-09-30</th>\n",
              "      <td>-0.362120</td>\n",
              "      <td>0.266898</td>\n",
              "      <td>-0.848485</td>\n",
              "      <td>0.782454</td>\n",
              "    </tr>\n",
              "    <tr>\n",
              "      <th>2020-10-01</th>\n",
              "      <td>-0.379900</td>\n",
              "      <td>-1.410698</td>\n",
              "      <td>-0.422763</td>\n",
              "      <td>0.634358</td>\n",
              "    </tr>\n",
              "    <tr>\n",
              "      <th>2020-10-02</th>\n",
              "      <td>1.408231</td>\n",
              "      <td>1.255450</td>\n",
              "      <td>-1.037922</td>\n",
              "      <td>-0.849412</td>\n",
              "    </tr>\n",
              "    <tr>\n",
              "      <th>2020-10-03</th>\n",
              "      <td>1.284745</td>\n",
              "      <td>1.442525</td>\n",
              "      <td>-0.272151</td>\n",
              "      <td>1.014011</td>\n",
              "    </tr>\n",
              "  </tbody>\n",
              "</table>\n",
              "</div>"
            ],
            "text/plain": [
              "                   A         B         C         D\n",
              "2020-09-28 -0.575482  0.655350  0.957043 -0.492131\n",
              "2020-09-29  0.851061 -0.953022 -0.190944  0.399628\n",
              "2020-09-30 -0.362120  0.266898 -0.848485  0.782454\n",
              "2020-10-01 -0.379900 -1.410698 -0.422763  0.634358\n",
              "2020-10-02  1.408231  1.255450 -1.037922 -0.849412\n",
              "2020-10-03  1.284745  1.442525 -0.272151  1.014011"
            ]
          },
          "metadata": {
            "tags": []
          },
          "execution_count": 18
        }
      ]
    },
    {
      "cell_type": "code",
      "metadata": {
        "id": "YufIBMYzx5ru",
        "outputId": "7064a4b7-698f-4379-bbbb-835f9441b488",
        "colab": {
          "base_uri": "https://localhost:8080/",
          "height": 143
        }
      },
      "source": [
        "# Selecting a single column, which yields a Series\n",
        "df['A'] # A열의 값만 출력됨"
      ],
      "execution_count": null,
      "outputs": [
        {
          "output_type": "execute_result",
          "data": {
            "text/plain": [
              "2020-09-28   -0.575482\n",
              "2020-09-29    0.851061\n",
              "2020-09-30   -0.362120\n",
              "2020-10-01   -0.379900\n",
              "2020-10-02    1.408231\n",
              "2020-10-03    1.284745\n",
              "Freq: D, Name: A, dtype: float64"
            ]
          },
          "metadata": {
            "tags": []
          },
          "execution_count": 19
        }
      ]
    },
    {
      "cell_type": "markdown",
      "metadata": {
        "id": "A0JCwJR9Wimg"
      },
      "source": [
        "### 그러면 열-A,B를 다 선택하려면?"
      ]
    },
    {
      "cell_type": "code",
      "metadata": {
        "id": "oMFHRZ4T0LDx",
        "outputId": "632d4b06-325f-480d-bf8c-24b86b2ca673",
        "colab": {
          "base_uri": "https://localhost:8080/",
          "height": 235
        }
      },
      "source": [
        "df[['A', 'B']] # df['A', 'B'] -> 에러 발생"
      ],
      "execution_count": null,
      "outputs": [
        {
          "output_type": "execute_result",
          "data": {
            "text/html": [
              "<div>\n",
              "<style scoped>\n",
              "    .dataframe tbody tr th:only-of-type {\n",
              "        vertical-align: middle;\n",
              "    }\n",
              "\n",
              "    .dataframe tbody tr th {\n",
              "        vertical-align: top;\n",
              "    }\n",
              "\n",
              "    .dataframe thead th {\n",
              "        text-align: right;\n",
              "    }\n",
              "</style>\n",
              "<table border=\"1\" class=\"dataframe\">\n",
              "  <thead>\n",
              "    <tr style=\"text-align: right;\">\n",
              "      <th></th>\n",
              "      <th>A</th>\n",
              "      <th>B</th>\n",
              "    </tr>\n",
              "  </thead>\n",
              "  <tbody>\n",
              "    <tr>\n",
              "      <th>2020-09-28</th>\n",
              "      <td>-0.575482</td>\n",
              "      <td>0.655350</td>\n",
              "    </tr>\n",
              "    <tr>\n",
              "      <th>2020-09-29</th>\n",
              "      <td>0.851061</td>\n",
              "      <td>-0.953022</td>\n",
              "    </tr>\n",
              "    <tr>\n",
              "      <th>2020-09-30</th>\n",
              "      <td>-0.362120</td>\n",
              "      <td>0.266898</td>\n",
              "    </tr>\n",
              "    <tr>\n",
              "      <th>2020-10-01</th>\n",
              "      <td>-0.379900</td>\n",
              "      <td>-1.410698</td>\n",
              "    </tr>\n",
              "    <tr>\n",
              "      <th>2020-10-02</th>\n",
              "      <td>1.408231</td>\n",
              "      <td>1.255450</td>\n",
              "    </tr>\n",
              "    <tr>\n",
              "      <th>2020-10-03</th>\n",
              "      <td>1.284745</td>\n",
              "      <td>1.442525</td>\n",
              "    </tr>\n",
              "  </tbody>\n",
              "</table>\n",
              "</div>"
            ],
            "text/plain": [
              "                   A         B\n",
              "2020-09-28 -0.575482  0.655350\n",
              "2020-09-29  0.851061 -0.953022\n",
              "2020-09-30 -0.362120  0.266898\n",
              "2020-10-01 -0.379900 -1.410698\n",
              "2020-10-02  1.408231  1.255450\n",
              "2020-10-03  1.284745  1.442525"
            ]
          },
          "metadata": {
            "tags": []
          },
          "execution_count": 21
        }
      ]
    },
    {
      "cell_type": "code",
      "metadata": {
        "id": "ijxuNMS5x5r3",
        "outputId": "7d132357-f768-4d0c-ca69-409e549b5ce8",
        "colab": {
          "base_uri": "https://localhost:8080/",
          "height": 142
        }
      },
      "source": [
        "# Selecting via [], which slices the rows.\n",
        "df[0:3] # 행 0부터 2까지"
      ],
      "execution_count": null,
      "outputs": [
        {
          "output_type": "execute_result",
          "data": {
            "text/html": [
              "<div>\n",
              "<style scoped>\n",
              "    .dataframe tbody tr th:only-of-type {\n",
              "        vertical-align: middle;\n",
              "    }\n",
              "\n",
              "    .dataframe tbody tr th {\n",
              "        vertical-align: top;\n",
              "    }\n",
              "\n",
              "    .dataframe thead th {\n",
              "        text-align: right;\n",
              "    }\n",
              "</style>\n",
              "<table border=\"1\" class=\"dataframe\">\n",
              "  <thead>\n",
              "    <tr style=\"text-align: right;\">\n",
              "      <th></th>\n",
              "      <th>A</th>\n",
              "      <th>B</th>\n",
              "      <th>C</th>\n",
              "      <th>D</th>\n",
              "    </tr>\n",
              "  </thead>\n",
              "  <tbody>\n",
              "    <tr>\n",
              "      <th>2020-09-28</th>\n",
              "      <td>-0.575482</td>\n",
              "      <td>0.655350</td>\n",
              "      <td>0.957043</td>\n",
              "      <td>-0.492131</td>\n",
              "    </tr>\n",
              "    <tr>\n",
              "      <th>2020-09-29</th>\n",
              "      <td>0.851061</td>\n",
              "      <td>-0.953022</td>\n",
              "      <td>-0.190944</td>\n",
              "      <td>0.399628</td>\n",
              "    </tr>\n",
              "    <tr>\n",
              "      <th>2020-09-30</th>\n",
              "      <td>-0.362120</td>\n",
              "      <td>0.266898</td>\n",
              "      <td>-0.848485</td>\n",
              "      <td>0.782454</td>\n",
              "    </tr>\n",
              "  </tbody>\n",
              "</table>\n",
              "</div>"
            ],
            "text/plain": [
              "                   A         B         C         D\n",
              "2020-09-28 -0.575482  0.655350  0.957043 -0.492131\n",
              "2020-09-29  0.851061 -0.953022 -0.190944  0.399628\n",
              "2020-09-30 -0.362120  0.266898 -0.848485  0.782454"
            ]
          },
          "metadata": {
            "tags": []
          },
          "execution_count": 27
        }
      ]
    },
    {
      "cell_type": "code",
      "metadata": {
        "id": "T8XP7m9nx5r9",
        "outputId": "8f710dd7-7e5d-4bc9-80bb-b314a4c44876",
        "colab": {
          "base_uri": "https://localhost:8080/",
          "height": 173
        }
      },
      "source": [
        "df['20200928':'20201001'] # 인덱스가 아닌 값인 경우는 지정된 범위가 다 선택된다."
      ],
      "execution_count": null,
      "outputs": [
        {
          "output_type": "execute_result",
          "data": {
            "text/html": [
              "<div>\n",
              "<style scoped>\n",
              "    .dataframe tbody tr th:only-of-type {\n",
              "        vertical-align: middle;\n",
              "    }\n",
              "\n",
              "    .dataframe tbody tr th {\n",
              "        vertical-align: top;\n",
              "    }\n",
              "\n",
              "    .dataframe thead th {\n",
              "        text-align: right;\n",
              "    }\n",
              "</style>\n",
              "<table border=\"1\" class=\"dataframe\">\n",
              "  <thead>\n",
              "    <tr style=\"text-align: right;\">\n",
              "      <th></th>\n",
              "      <th>A</th>\n",
              "      <th>B</th>\n",
              "      <th>C</th>\n",
              "      <th>D</th>\n",
              "    </tr>\n",
              "  </thead>\n",
              "  <tbody>\n",
              "    <tr>\n",
              "      <th>2020-09-28</th>\n",
              "      <td>-0.575482</td>\n",
              "      <td>0.655350</td>\n",
              "      <td>0.957043</td>\n",
              "      <td>-0.492131</td>\n",
              "    </tr>\n",
              "    <tr>\n",
              "      <th>2020-09-29</th>\n",
              "      <td>0.851061</td>\n",
              "      <td>-0.953022</td>\n",
              "      <td>-0.190944</td>\n",
              "      <td>0.399628</td>\n",
              "    </tr>\n",
              "    <tr>\n",
              "      <th>2020-09-30</th>\n",
              "      <td>-0.362120</td>\n",
              "      <td>0.266898</td>\n",
              "      <td>-0.848485</td>\n",
              "      <td>0.782454</td>\n",
              "    </tr>\n",
              "    <tr>\n",
              "      <th>2020-10-01</th>\n",
              "      <td>-0.379900</td>\n",
              "      <td>-1.410698</td>\n",
              "      <td>-0.422763</td>\n",
              "      <td>0.634358</td>\n",
              "    </tr>\n",
              "  </tbody>\n",
              "</table>\n",
              "</div>"
            ],
            "text/plain": [
              "                   A         B         C         D\n",
              "2020-09-28 -0.575482  0.655350  0.957043 -0.492131\n",
              "2020-09-29  0.851061 -0.953022 -0.190944  0.399628\n",
              "2020-09-30 -0.362120  0.266898 -0.848485  0.782454\n",
              "2020-10-01 -0.379900 -1.410698 -0.422763  0.634358"
            ]
          },
          "metadata": {
            "tags": []
          },
          "execution_count": 26
        }
      ]
    },
    {
      "cell_type": "markdown",
      "metadata": {
        "id": "E7-V96t9x5sB"
      },
      "source": [
        "#### Selecting data by label\n",
        "\n",
        "> **loc, iloc**\n"
      ]
    },
    {
      "cell_type": "code",
      "metadata": {
        "id": "TV4dnwU-x5sC",
        "outputId": "1946f8d8-50bc-4c05-dd41-3a492140633b",
        "colab": {
          "base_uri": "https://localhost:8080/",
          "height": 235
        }
      },
      "source": [
        "df"
      ],
      "execution_count": null,
      "outputs": [
        {
          "output_type": "execute_result",
          "data": {
            "text/html": [
              "<div>\n",
              "<style scoped>\n",
              "    .dataframe tbody tr th:only-of-type {\n",
              "        vertical-align: middle;\n",
              "    }\n",
              "\n",
              "    .dataframe tbody tr th {\n",
              "        vertical-align: top;\n",
              "    }\n",
              "\n",
              "    .dataframe thead th {\n",
              "        text-align: right;\n",
              "    }\n",
              "</style>\n",
              "<table border=\"1\" class=\"dataframe\">\n",
              "  <thead>\n",
              "    <tr style=\"text-align: right;\">\n",
              "      <th></th>\n",
              "      <th>A</th>\n",
              "      <th>B</th>\n",
              "      <th>C</th>\n",
              "      <th>D</th>\n",
              "    </tr>\n",
              "  </thead>\n",
              "  <tbody>\n",
              "    <tr>\n",
              "      <th>2020-09-28</th>\n",
              "      <td>-0.575482</td>\n",
              "      <td>0.655350</td>\n",
              "      <td>0.957043</td>\n",
              "      <td>-0.492131</td>\n",
              "    </tr>\n",
              "    <tr>\n",
              "      <th>2020-09-29</th>\n",
              "      <td>0.851061</td>\n",
              "      <td>-0.953022</td>\n",
              "      <td>-0.190944</td>\n",
              "      <td>0.399628</td>\n",
              "    </tr>\n",
              "    <tr>\n",
              "      <th>2020-09-30</th>\n",
              "      <td>-0.362120</td>\n",
              "      <td>0.266898</td>\n",
              "      <td>-0.848485</td>\n",
              "      <td>0.782454</td>\n",
              "    </tr>\n",
              "    <tr>\n",
              "      <th>2020-10-01</th>\n",
              "      <td>-0.379900</td>\n",
              "      <td>-1.410698</td>\n",
              "      <td>-0.422763</td>\n",
              "      <td>0.634358</td>\n",
              "    </tr>\n",
              "    <tr>\n",
              "      <th>2020-10-02</th>\n",
              "      <td>1.408231</td>\n",
              "      <td>1.255450</td>\n",
              "      <td>-1.037922</td>\n",
              "      <td>-0.849412</td>\n",
              "    </tr>\n",
              "    <tr>\n",
              "      <th>2020-10-03</th>\n",
              "      <td>1.284745</td>\n",
              "      <td>1.442525</td>\n",
              "      <td>-0.272151</td>\n",
              "      <td>1.014011</td>\n",
              "    </tr>\n",
              "  </tbody>\n",
              "</table>\n",
              "</div>"
            ],
            "text/plain": [
              "                   A         B         C         D\n",
              "2020-09-28 -0.575482  0.655350  0.957043 -0.492131\n",
              "2020-09-29  0.851061 -0.953022 -0.190944  0.399628\n",
              "2020-09-30 -0.362120  0.266898 -0.848485  0.782454\n",
              "2020-10-01 -0.379900 -1.410698 -0.422763  0.634358\n",
              "2020-10-02  1.408231  1.255450 -1.037922 -0.849412\n",
              "2020-10-03  1.284745  1.442525 -0.272151  1.014011"
            ]
          },
          "metadata": {
            "tags": []
          },
          "execution_count": 28
        }
      ]
    },
    {
      "cell_type": "code",
      "metadata": {
        "id": "SuNee15tX26H",
        "outputId": "41f01611-6c10-4918-836e-8658ea035d3c",
        "colab": {
          "base_uri": "https://localhost:8080/",
          "height": 35
        }
      },
      "source": [
        "dates[0]  # 2020-09-28"
      ],
      "execution_count": null,
      "outputs": [
        {
          "output_type": "execute_result",
          "data": {
            "text/plain": [
              "Timestamp('2020-09-28 00:00:00', freq='D')"
            ]
          },
          "metadata": {
            "tags": []
          },
          "execution_count": 29
        }
      ]
    },
    {
      "cell_type": "code",
      "metadata": {
        "id": "iPZE3U5cx5sG",
        "outputId": "d1840955-5557-4f14-b8b7-eb9a8dd39fa3",
        "colab": {
          "base_uri": "https://localhost:8080/",
          "height": 107
        }
      },
      "source": [
        "df.loc[dates[0]]   # loc() # 2020-09-28 날짜의 data가 나옴"
      ],
      "execution_count": null,
      "outputs": [
        {
          "output_type": "execute_result",
          "data": {
            "text/plain": [
              "A   -0.575482\n",
              "B    0.655350\n",
              "C    0.957043\n",
              "D   -0.492131\n",
              "Name: 2020-09-28 00:00:00, dtype: float64"
            ]
          },
          "metadata": {
            "tags": []
          },
          "execution_count": 31
        }
      ]
    },
    {
      "cell_type": "code",
      "metadata": {
        "id": "jteYZDQnx5sL",
        "outputId": "dc7c3926-a921-40b2-b751-995cdaa16b23",
        "colab": {
          "base_uri": "https://localhost:8080/",
          "height": 235
        }
      },
      "source": [
        "# Selecting on a multi-axis by label:\n",
        "df.loc[:,['A','B']] # : - 전체 행, ['A', 'B'] - 열 A, B"
      ],
      "execution_count": null,
      "outputs": [
        {
          "output_type": "execute_result",
          "data": {
            "text/html": [
              "<div>\n",
              "<style scoped>\n",
              "    .dataframe tbody tr th:only-of-type {\n",
              "        vertical-align: middle;\n",
              "    }\n",
              "\n",
              "    .dataframe tbody tr th {\n",
              "        vertical-align: top;\n",
              "    }\n",
              "\n",
              "    .dataframe thead th {\n",
              "        text-align: right;\n",
              "    }\n",
              "</style>\n",
              "<table border=\"1\" class=\"dataframe\">\n",
              "  <thead>\n",
              "    <tr style=\"text-align: right;\">\n",
              "      <th></th>\n",
              "      <th>A</th>\n",
              "      <th>B</th>\n",
              "    </tr>\n",
              "  </thead>\n",
              "  <tbody>\n",
              "    <tr>\n",
              "      <th>2020-09-28</th>\n",
              "      <td>-0.575482</td>\n",
              "      <td>0.655350</td>\n",
              "    </tr>\n",
              "    <tr>\n",
              "      <th>2020-09-29</th>\n",
              "      <td>0.851061</td>\n",
              "      <td>-0.953022</td>\n",
              "    </tr>\n",
              "    <tr>\n",
              "      <th>2020-09-30</th>\n",
              "      <td>-0.362120</td>\n",
              "      <td>0.266898</td>\n",
              "    </tr>\n",
              "    <tr>\n",
              "      <th>2020-10-01</th>\n",
              "      <td>-0.379900</td>\n",
              "      <td>-1.410698</td>\n",
              "    </tr>\n",
              "    <tr>\n",
              "      <th>2020-10-02</th>\n",
              "      <td>1.408231</td>\n",
              "      <td>1.255450</td>\n",
              "    </tr>\n",
              "    <tr>\n",
              "      <th>2020-10-03</th>\n",
              "      <td>1.284745</td>\n",
              "      <td>1.442525</td>\n",
              "    </tr>\n",
              "  </tbody>\n",
              "</table>\n",
              "</div>"
            ],
            "text/plain": [
              "                   A         B\n",
              "2020-09-28 -0.575482  0.655350\n",
              "2020-09-29  0.851061 -0.953022\n",
              "2020-09-30 -0.362120  0.266898\n",
              "2020-10-01 -0.379900 -1.410698\n",
              "2020-10-02  1.408231  1.255450\n",
              "2020-10-03  1.284745  1.442525"
            ]
          },
          "metadata": {
            "tags": []
          },
          "execution_count": 30
        }
      ]
    },
    {
      "cell_type": "markdown",
      "metadata": {
        "id": "QqYJvRLnx5sP"
      },
      "source": [
        "#### [도전코딩]\n",
        "\n",
        "> Select data for first two days AND comumn 3,4 from df."
      ]
    },
    {
      "cell_type": "code",
      "metadata": {
        "id": "O1UhOOHI2R_5",
        "outputId": "0137a550-141a-449f-8436-c1a28d396913",
        "colab": {
          "base_uri": "https://localhost:8080/",
          "height": 111
        }
      },
      "source": [
        "df[0:2]"
      ],
      "execution_count": null,
      "outputs": [
        {
          "output_type": "execute_result",
          "data": {
            "text/html": [
              "<div>\n",
              "<style scoped>\n",
              "    .dataframe tbody tr th:only-of-type {\n",
              "        vertical-align: middle;\n",
              "    }\n",
              "\n",
              "    .dataframe tbody tr th {\n",
              "        vertical-align: top;\n",
              "    }\n",
              "\n",
              "    .dataframe thead th {\n",
              "        text-align: right;\n",
              "    }\n",
              "</style>\n",
              "<table border=\"1\" class=\"dataframe\">\n",
              "  <thead>\n",
              "    <tr style=\"text-align: right;\">\n",
              "      <th></th>\n",
              "      <th>A</th>\n",
              "      <th>B</th>\n",
              "      <th>C</th>\n",
              "      <th>D</th>\n",
              "    </tr>\n",
              "  </thead>\n",
              "  <tbody>\n",
              "    <tr>\n",
              "      <th>2020-09-28</th>\n",
              "      <td>-0.575482</td>\n",
              "      <td>0.655350</td>\n",
              "      <td>0.957043</td>\n",
              "      <td>-0.492131</td>\n",
              "    </tr>\n",
              "    <tr>\n",
              "      <th>2020-09-29</th>\n",
              "      <td>0.851061</td>\n",
              "      <td>-0.953022</td>\n",
              "      <td>-0.190944</td>\n",
              "      <td>0.399628</td>\n",
              "    </tr>\n",
              "  </tbody>\n",
              "</table>\n",
              "</div>"
            ],
            "text/plain": [
              "                   A         B         C         D\n",
              "2020-09-28 -0.575482  0.655350  0.957043 -0.492131\n",
              "2020-09-29  0.851061 -0.953022 -0.190944  0.399628"
            ]
          },
          "metadata": {
            "tags": []
          },
          "execution_count": 34
        }
      ]
    },
    {
      "cell_type": "code",
      "metadata": {
        "id": "jSUlF4icx5sQ",
        "outputId": "acbfc9f0-87ed-419b-d8fa-d45baeb34341",
        "colab": {
          "base_uri": "https://localhost:8080/",
          "height": 111
        }
      },
      "source": [
        "# df.loc[0:2,['C','D']] # 에러 발생 - loc 함수는 Index를 쓰는 것이 아님\n",
        "# df.loc['20200928':'20200929',['C','D']] # 주의 - 마지막을 20200930라고 하지 않는다\n",
        "df.loc[dates[:2],['C','D']]"
      ],
      "execution_count": null,
      "outputs": [
        {
          "output_type": "execute_result",
          "data": {
            "text/html": [
              "<div>\n",
              "<style scoped>\n",
              "    .dataframe tbody tr th:only-of-type {\n",
              "        vertical-align: middle;\n",
              "    }\n",
              "\n",
              "    .dataframe tbody tr th {\n",
              "        vertical-align: top;\n",
              "    }\n",
              "\n",
              "    .dataframe thead th {\n",
              "        text-align: right;\n",
              "    }\n",
              "</style>\n",
              "<table border=\"1\" class=\"dataframe\">\n",
              "  <thead>\n",
              "    <tr style=\"text-align: right;\">\n",
              "      <th></th>\n",
              "      <th>C</th>\n",
              "      <th>D</th>\n",
              "    </tr>\n",
              "  </thead>\n",
              "  <tbody>\n",
              "    <tr>\n",
              "      <th>2020-09-28</th>\n",
              "      <td>0.957043</td>\n",
              "      <td>-0.492131</td>\n",
              "    </tr>\n",
              "    <tr>\n",
              "      <th>2020-09-29</th>\n",
              "      <td>-0.190944</td>\n",
              "      <td>0.399628</td>\n",
              "    </tr>\n",
              "  </tbody>\n",
              "</table>\n",
              "</div>"
            ],
            "text/plain": [
              "                   C         D\n",
              "2020-09-28  0.957043 -0.492131\n",
              "2020-09-29 -0.190944  0.399628"
            ]
          },
          "metadata": {
            "tags": []
          },
          "execution_count": 36
        }
      ]
    },
    {
      "cell_type": "markdown",
      "metadata": {
        "id": "-BGWuIwpx5sV"
      },
      "source": [
        "#### Selecting data by position (iloc())\n",
        "- index 사용"
      ]
    },
    {
      "cell_type": "code",
      "metadata": {
        "id": "gYtgID9rx5sW",
        "outputId": "d7d0985e-9706-4324-bbec-4c315e3ff207",
        "colab": {
          "base_uri": "https://localhost:8080/",
          "height": 235
        }
      },
      "source": [
        "df"
      ],
      "execution_count": null,
      "outputs": [
        {
          "output_type": "execute_result",
          "data": {
            "text/html": [
              "<div>\n",
              "<style scoped>\n",
              "    .dataframe tbody tr th:only-of-type {\n",
              "        vertical-align: middle;\n",
              "    }\n",
              "\n",
              "    .dataframe tbody tr th {\n",
              "        vertical-align: top;\n",
              "    }\n",
              "\n",
              "    .dataframe thead th {\n",
              "        text-align: right;\n",
              "    }\n",
              "</style>\n",
              "<table border=\"1\" class=\"dataframe\">\n",
              "  <thead>\n",
              "    <tr style=\"text-align: right;\">\n",
              "      <th></th>\n",
              "      <th>A</th>\n",
              "      <th>B</th>\n",
              "      <th>C</th>\n",
              "      <th>D</th>\n",
              "    </tr>\n",
              "  </thead>\n",
              "  <tbody>\n",
              "    <tr>\n",
              "      <th>2020-09-28</th>\n",
              "      <td>-0.575482</td>\n",
              "      <td>0.655350</td>\n",
              "      <td>0.957043</td>\n",
              "      <td>-0.492131</td>\n",
              "    </tr>\n",
              "    <tr>\n",
              "      <th>2020-09-29</th>\n",
              "      <td>0.851061</td>\n",
              "      <td>-0.953022</td>\n",
              "      <td>-0.190944</td>\n",
              "      <td>0.399628</td>\n",
              "    </tr>\n",
              "    <tr>\n",
              "      <th>2020-09-30</th>\n",
              "      <td>-0.362120</td>\n",
              "      <td>0.266898</td>\n",
              "      <td>-0.848485</td>\n",
              "      <td>0.782454</td>\n",
              "    </tr>\n",
              "    <tr>\n",
              "      <th>2020-10-01</th>\n",
              "      <td>-0.379900</td>\n",
              "      <td>-1.410698</td>\n",
              "      <td>-0.422763</td>\n",
              "      <td>0.634358</td>\n",
              "    </tr>\n",
              "    <tr>\n",
              "      <th>2020-10-02</th>\n",
              "      <td>1.408231</td>\n",
              "      <td>1.255450</td>\n",
              "      <td>-1.037922</td>\n",
              "      <td>-0.849412</td>\n",
              "    </tr>\n",
              "    <tr>\n",
              "      <th>2020-10-03</th>\n",
              "      <td>1.284745</td>\n",
              "      <td>1.442525</td>\n",
              "      <td>-0.272151</td>\n",
              "      <td>1.014011</td>\n",
              "    </tr>\n",
              "  </tbody>\n",
              "</table>\n",
              "</div>"
            ],
            "text/plain": [
              "                   A         B         C         D\n",
              "2020-09-28 -0.575482  0.655350  0.957043 -0.492131\n",
              "2020-09-29  0.851061 -0.953022 -0.190944  0.399628\n",
              "2020-09-30 -0.362120  0.266898 -0.848485  0.782454\n",
              "2020-10-01 -0.379900 -1.410698 -0.422763  0.634358\n",
              "2020-10-02  1.408231  1.255450 -1.037922 -0.849412\n",
              "2020-10-03  1.284745  1.442525 -0.272151  1.014011"
            ]
          },
          "metadata": {
            "tags": []
          },
          "execution_count": 37
        }
      ]
    },
    {
      "cell_type": "code",
      "metadata": {
        "id": "PNgZ3u8-x5sa",
        "outputId": "f2547b8d-2b6b-4b28-bfde-dd6b52cba8d7",
        "colab": {
          "base_uri": "https://localhost:8080/",
          "height": 107
        }
      },
      "source": [
        "df.iloc[3]  # 결과는 차원축소형으로 표현됨."
      ],
      "execution_count": null,
      "outputs": [
        {
          "output_type": "execute_result",
          "data": {
            "text/plain": [
              "A   -0.379900\n",
              "B   -1.410698\n",
              "C   -0.422763\n",
              "D    0.634358\n",
              "Name: 2020-10-01 00:00:00, dtype: float64"
            ]
          },
          "metadata": {
            "tags": []
          },
          "execution_count": 38
        }
      ]
    },
    {
      "cell_type": "code",
      "metadata": {
        "id": "12eWuxQ_x5sh",
        "outputId": "f6cdc7cb-8d49-4c66-e565-41fbb34c5de2",
        "colab": {
          "base_uri": "https://localhost:8080/",
          "height": 111
        }
      },
      "source": [
        "# [다시 도전]\n",
        "# Select data for first two days AND comumn 3,4 from df.\n",
        "# Use iloc\n",
        "df.iloc[:2,2:4]"
      ],
      "execution_count": null,
      "outputs": [
        {
          "output_type": "execute_result",
          "data": {
            "text/html": [
              "<div>\n",
              "<style scoped>\n",
              "    .dataframe tbody tr th:only-of-type {\n",
              "        vertical-align: middle;\n",
              "    }\n",
              "\n",
              "    .dataframe tbody tr th {\n",
              "        vertical-align: top;\n",
              "    }\n",
              "\n",
              "    .dataframe thead th {\n",
              "        text-align: right;\n",
              "    }\n",
              "</style>\n",
              "<table border=\"1\" class=\"dataframe\">\n",
              "  <thead>\n",
              "    <tr style=\"text-align: right;\">\n",
              "      <th></th>\n",
              "      <th>C</th>\n",
              "      <th>D</th>\n",
              "    </tr>\n",
              "  </thead>\n",
              "  <tbody>\n",
              "    <tr>\n",
              "      <th>2020-09-28</th>\n",
              "      <td>0.957043</td>\n",
              "      <td>-0.492131</td>\n",
              "    </tr>\n",
              "    <tr>\n",
              "      <th>2020-09-29</th>\n",
              "      <td>-0.190944</td>\n",
              "      <td>0.399628</td>\n",
              "    </tr>\n",
              "  </tbody>\n",
              "</table>\n",
              "</div>"
            ],
            "text/plain": [
              "                   C         D\n",
              "2020-09-28  0.957043 -0.492131\n",
              "2020-09-29 -0.190944  0.399628"
            ]
          },
          "metadata": {
            "tags": []
          },
          "execution_count": 39
        }
      ]
    },
    {
      "cell_type": "code",
      "metadata": {
        "id": "_S-omW3hx5sn",
        "outputId": "25565628-ae3f-48d4-bafe-2bf63c0b990b",
        "colab": {
          "base_uri": "https://localhost:8080/",
          "height": 35
        }
      },
      "source": [
        "# Select one item\n",
        "df.iloc[1,1]  # 20200929, B"
      ],
      "execution_count": null,
      "outputs": [
        {
          "output_type": "execute_result",
          "data": {
            "text/plain": [
              "-0.9530217622757842"
            ]
          },
          "metadata": {
            "tags": []
          },
          "execution_count": 40
        }
      ]
    },
    {
      "cell_type": "markdown",
      "metadata": {
        "id": "fDoWVVGHx5su"
      },
      "source": [
        "#### Selecting data by Boolean indexing"
      ]
    },
    {
      "cell_type": "code",
      "metadata": {
        "id": "CG7LipUrx5sv",
        "outputId": "d02d06aa-ef98-4c8c-8a3b-7d355687e28d",
        "colab": {
          "base_uri": "https://localhost:8080/",
          "height": 235
        }
      },
      "source": [
        "df"
      ],
      "execution_count": null,
      "outputs": [
        {
          "output_type": "execute_result",
          "data": {
            "text/html": [
              "<div>\n",
              "<style scoped>\n",
              "    .dataframe tbody tr th:only-of-type {\n",
              "        vertical-align: middle;\n",
              "    }\n",
              "\n",
              "    .dataframe tbody tr th {\n",
              "        vertical-align: top;\n",
              "    }\n",
              "\n",
              "    .dataframe thead th {\n",
              "        text-align: right;\n",
              "    }\n",
              "</style>\n",
              "<table border=\"1\" class=\"dataframe\">\n",
              "  <thead>\n",
              "    <tr style=\"text-align: right;\">\n",
              "      <th></th>\n",
              "      <th>A</th>\n",
              "      <th>B</th>\n",
              "      <th>C</th>\n",
              "      <th>D</th>\n",
              "    </tr>\n",
              "  </thead>\n",
              "  <tbody>\n",
              "    <tr>\n",
              "      <th>2020-09-28</th>\n",
              "      <td>-0.575482</td>\n",
              "      <td>0.655350</td>\n",
              "      <td>0.957043</td>\n",
              "      <td>-0.492131</td>\n",
              "    </tr>\n",
              "    <tr>\n",
              "      <th>2020-09-29</th>\n",
              "      <td>0.851061</td>\n",
              "      <td>-0.953022</td>\n",
              "      <td>-0.190944</td>\n",
              "      <td>0.399628</td>\n",
              "    </tr>\n",
              "    <tr>\n",
              "      <th>2020-09-30</th>\n",
              "      <td>-0.362120</td>\n",
              "      <td>0.266898</td>\n",
              "      <td>-0.848485</td>\n",
              "      <td>0.782454</td>\n",
              "    </tr>\n",
              "    <tr>\n",
              "      <th>2020-10-01</th>\n",
              "      <td>-0.379900</td>\n",
              "      <td>-1.410698</td>\n",
              "      <td>-0.422763</td>\n",
              "      <td>0.634358</td>\n",
              "    </tr>\n",
              "    <tr>\n",
              "      <th>2020-10-02</th>\n",
              "      <td>1.408231</td>\n",
              "      <td>1.255450</td>\n",
              "      <td>-1.037922</td>\n",
              "      <td>-0.849412</td>\n",
              "    </tr>\n",
              "    <tr>\n",
              "      <th>2020-10-03</th>\n",
              "      <td>1.284745</td>\n",
              "      <td>1.442525</td>\n",
              "      <td>-0.272151</td>\n",
              "      <td>1.014011</td>\n",
              "    </tr>\n",
              "  </tbody>\n",
              "</table>\n",
              "</div>"
            ],
            "text/plain": [
              "                   A         B         C         D\n",
              "2020-09-28 -0.575482  0.655350  0.957043 -0.492131\n",
              "2020-09-29  0.851061 -0.953022 -0.190944  0.399628\n",
              "2020-09-30 -0.362120  0.266898 -0.848485  0.782454\n",
              "2020-10-01 -0.379900 -1.410698 -0.422763  0.634358\n",
              "2020-10-02  1.408231  1.255450 -1.037922 -0.849412\n",
              "2020-10-03  1.284745  1.442525 -0.272151  1.014011"
            ]
          },
          "metadata": {
            "tags": []
          },
          "execution_count": 41
        }
      ]
    },
    {
      "cell_type": "code",
      "metadata": {
        "id": "U5If1VEYx5sy",
        "outputId": "1b3a6939-8396-4606-cabf-13557c145fc8",
        "colab": {
          "base_uri": "https://localhost:8080/",
          "height": 173
        }
      },
      "source": [
        "df[df.A > 0]  # A열 값이 0보다 큰 것들만 뽑아서 나옴"
      ],
      "execution_count": null,
      "outputs": [
        {
          "output_type": "execute_result",
          "data": {
            "text/html": [
              "<div>\n",
              "<style scoped>\n",
              "    .dataframe tbody tr th:only-of-type {\n",
              "        vertical-align: middle;\n",
              "    }\n",
              "\n",
              "    .dataframe tbody tr th {\n",
              "        vertical-align: top;\n",
              "    }\n",
              "\n",
              "    .dataframe thead th {\n",
              "        text-align: right;\n",
              "    }\n",
              "</style>\n",
              "<table border=\"1\" class=\"dataframe\">\n",
              "  <thead>\n",
              "    <tr style=\"text-align: right;\">\n",
              "      <th></th>\n",
              "      <th>A</th>\n",
              "      <th>B</th>\n",
              "      <th>C</th>\n",
              "      <th>D</th>\n",
              "    </tr>\n",
              "  </thead>\n",
              "  <tbody>\n",
              "    <tr>\n",
              "      <th>2020-09-29</th>\n",
              "      <td>0.064454</td>\n",
              "      <td>0.576990</td>\n",
              "      <td>0.288620</td>\n",
              "      <td>0.099795</td>\n",
              "    </tr>\n",
              "    <tr>\n",
              "      <th>2020-09-30</th>\n",
              "      <td>0.246634</td>\n",
              "      <td>1.160587</td>\n",
              "      <td>0.750102</td>\n",
              "      <td>0.939071</td>\n",
              "    </tr>\n",
              "    <tr>\n",
              "      <th>2020-10-01</th>\n",
              "      <td>1.114518</td>\n",
              "      <td>1.680180</td>\n",
              "      <td>-3.533937</td>\n",
              "      <td>-0.314434</td>\n",
              "    </tr>\n",
              "    <tr>\n",
              "      <th>2020-10-02</th>\n",
              "      <td>0.350298</td>\n",
              "      <td>-0.067793</td>\n",
              "      <td>-0.061537</td>\n",
              "      <td>0.512121</td>\n",
              "    </tr>\n",
              "  </tbody>\n",
              "</table>\n",
              "</div>"
            ],
            "text/plain": [
              "                   A         B         C         D\n",
              "2020-09-29  0.064454  0.576990  0.288620  0.099795\n",
              "2020-09-30  0.246634  1.160587  0.750102  0.939071\n",
              "2020-10-01  1.114518  1.680180 -3.533937 -0.314434\n",
              "2020-10-02  0.350298 -0.067793 -0.061537  0.512121"
            ]
          },
          "metadata": {
            "tags": []
          },
          "execution_count": 47
        }
      ]
    },
    {
      "cell_type": "code",
      "metadata": {
        "id": "8WkB7Q5rx5s1",
        "outputId": "e1a61082-fae8-4032-8ad9-db2647ce0aec",
        "colab": {
          "base_uri": "https://localhost:8080/",
          "height": 235
        }
      },
      "source": [
        "df[df > 0]  # DataFrame에서 0보다 큰 값들만 표시가 되고 0보다 작은 값들은 NaN으로 처리가 됨"
      ],
      "execution_count": null,
      "outputs": [
        {
          "output_type": "execute_result",
          "data": {
            "text/html": [
              "<div>\n",
              "<style scoped>\n",
              "    .dataframe tbody tr th:only-of-type {\n",
              "        vertical-align: middle;\n",
              "    }\n",
              "\n",
              "    .dataframe tbody tr th {\n",
              "        vertical-align: top;\n",
              "    }\n",
              "\n",
              "    .dataframe thead th {\n",
              "        text-align: right;\n",
              "    }\n",
              "</style>\n",
              "<table border=\"1\" class=\"dataframe\">\n",
              "  <thead>\n",
              "    <tr style=\"text-align: right;\">\n",
              "      <th></th>\n",
              "      <th>A</th>\n",
              "      <th>B</th>\n",
              "      <th>C</th>\n",
              "      <th>D</th>\n",
              "    </tr>\n",
              "  </thead>\n",
              "  <tbody>\n",
              "    <tr>\n",
              "      <th>2020-09-28</th>\n",
              "      <td>NaN</td>\n",
              "      <td>0.655350</td>\n",
              "      <td>0.957043</td>\n",
              "      <td>NaN</td>\n",
              "    </tr>\n",
              "    <tr>\n",
              "      <th>2020-09-29</th>\n",
              "      <td>0.851061</td>\n",
              "      <td>NaN</td>\n",
              "      <td>NaN</td>\n",
              "      <td>0.399628</td>\n",
              "    </tr>\n",
              "    <tr>\n",
              "      <th>2020-09-30</th>\n",
              "      <td>NaN</td>\n",
              "      <td>0.266898</td>\n",
              "      <td>NaN</td>\n",
              "      <td>0.782454</td>\n",
              "    </tr>\n",
              "    <tr>\n",
              "      <th>2020-10-01</th>\n",
              "      <td>NaN</td>\n",
              "      <td>NaN</td>\n",
              "      <td>NaN</td>\n",
              "      <td>0.634358</td>\n",
              "    </tr>\n",
              "    <tr>\n",
              "      <th>2020-10-02</th>\n",
              "      <td>1.408231</td>\n",
              "      <td>1.255450</td>\n",
              "      <td>NaN</td>\n",
              "      <td>NaN</td>\n",
              "    </tr>\n",
              "    <tr>\n",
              "      <th>2020-10-03</th>\n",
              "      <td>1.284745</td>\n",
              "      <td>1.442525</td>\n",
              "      <td>NaN</td>\n",
              "      <td>1.014011</td>\n",
              "    </tr>\n",
              "  </tbody>\n",
              "</table>\n",
              "</div>"
            ],
            "text/plain": [
              "                   A         B         C         D\n",
              "2020-09-28       NaN  0.655350  0.957043       NaN\n",
              "2020-09-29  0.851061       NaN       NaN  0.399628\n",
              "2020-09-30       NaN  0.266898       NaN  0.782454\n",
              "2020-10-01       NaN       NaN       NaN  0.634358\n",
              "2020-10-02  1.408231  1.255450       NaN       NaN\n",
              "2020-10-03  1.284745  1.442525       NaN  1.014011"
            ]
          },
          "metadata": {
            "tags": []
          },
          "execution_count": 42
        }
      ]
    }
  ]
}