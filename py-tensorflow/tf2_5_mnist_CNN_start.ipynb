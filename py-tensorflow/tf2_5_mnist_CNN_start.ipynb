{
  "nbformat": 4,
  "nbformat_minor": 0,
  "metadata": {
    "colab": {
      "name": "tf2_5_mnist_CNN_start.ipynb",
      "provenance": [],
      "collapsed_sections": [],
      "toc_visible": true,
      "include_colab_link": true
    },
    "kernelspec": {
      "name": "python3",
      "display_name": "Python 3"
    },
    "accelerator": "GPU"
  },
  "cells": [
    {
      "cell_type": "markdown",
      "metadata": {
        "id": "view-in-github",
        "colab_type": "text"
      },
      "source": [
        "<a href=\"https://colab.research.google.com/github/chaeyeongSon/pdm09/blob/master/py-tensorflow/tf2_5_mnist_CNN_start.ipynb\" target=\"_parent\"><img src=\"https://colab.research.google.com/assets/colab-badge.svg\" alt=\"Open In Colab\"/></a>"
      ]
    },
    {
      "cell_type": "markdown",
      "metadata": {
        "id": "rswfCVLZ-QW0"
      },
      "source": [
        "# **CNN model of mnist dataset**\n",
        "- Conv2D + FCN\n",
        "    * Conv2D : 2차원 합성곱 필터링 + 풀링(Pooling)\n",
        "    * FCN : 1차원 완전연결신경망\n",
        "\n",
        "***\n",
        "\n",
        "![mnist_NN_2_layers](https://img1.daumcdn.net/thumb/R1280x0/?scode=mtistory2&fname=https%3A%2F%2Fblog.kakaocdn.net%2Fdn%2FdJp5Z6%2FbtqAPebnF3x%2FQCe5vVcskhmxe964bGz4iK%2Fimg.png)\n",
        "\n",
        "(source: https://img1.daumcdn.net/thumb/R1280x0/?scode=mtistory2&fname=https%3A%2F%2Fblog.kakaocdn.net%2Fdn%2FdJp5Z6%2FbtqAPebnF3x%2FQCe5vVcskhmxe964bGz4iK%2Fimg.png)"
      ]
    },
    {
      "cell_type": "code",
      "metadata": {
        "colab": {
          "base_uri": "https://localhost:8080/"
        },
        "id": "xl8-Xx4ZefjW",
        "outputId": "0c6c7ad3-7f2c-4657-c1c2-b82693992c9f"
      },
      "source": [
        "64*7*7"
      ],
      "execution_count": 1,
      "outputs": [
        {
          "output_type": "execute_result",
          "data": {
            "text/plain": [
              "3136"
            ]
          },
          "metadata": {
            "tags": []
          },
          "execution_count": 1
        }
      ]
    },
    {
      "cell_type": "code",
      "metadata": {
        "id": "8GgGzPXPVyfa",
        "colab": {
          "base_uri": "https://localhost:8080/"
        },
        "outputId": "059a7776-e1b2-492d-dbaf-08e08b664666"
      },
      "source": [
        "import numpy as np\n",
        "import tensorflow as tf\n",
        "from tensorflow import keras\n",
        "import pandas as pd\n",
        "import matplotlib.pyplot as plt\n",
        "%matplotlib inline\n",
        "\n",
        "print(tf.__version__)\n",
        "tf.random.set_seed(0)"
      ],
      "execution_count": 2,
      "outputs": [
        {
          "output_type": "stream",
          "text": [
            "2.3.0\n"
          ],
          "name": "stdout"
        }
      ]
    },
    {
      "cell_type": "markdown",
      "metadata": {
        "id": "-0IOOUM14Jk1"
      },
      "source": [
        "## **데이터 로딩, 정규화**"
      ]
    },
    {
      "cell_type": "code",
      "metadata": {
        "id": "N1ogJ7I64Fz-",
        "colab": {
          "base_uri": "https://localhost:8080/"
        },
        "outputId": "12a7784b-b9d9-4a1a-e95b-db3ce384b138"
      },
      "source": [
        "from keras.datasets import mnist\n",
        "\n",
        "(X_train0, y_train0), (X_test0, y_test0) = mnist.load_data()\n",
        "\n",
        "# Reshape\n",
        "X_train = X_train0.reshape(60000,28,28,1)\n",
        "X_test = X_test0.reshape(10000,28,28,1)\n",
        "\n",
        "# Normalization\n",
        "X_train, X_test = X_train/255.0, X_test/255.0 # 정규화\n",
        "\n",
        "print(\"X_train={0}\".format(X_train.shape))\n",
        "print(\"y_train={0}\".format(y_train0.shape)) \n",
        "print(\"X_test={0}\".format(X_test.shape))\n",
        "print(\"y_test={0}\".format(y_test0.shape))"
      ],
      "execution_count": 3,
      "outputs": [
        {
          "output_type": "stream",
          "text": [
            "Downloading data from https://storage.googleapis.com/tensorflow/tf-keras-datasets/mnist.npz\n",
            "11493376/11490434 [==============================] - 0s 0us/step\n",
            "X_train=(60000, 28, 28, 1)\n",
            "y_train=(60000,)\n",
            "X_test=(10000, 28, 28, 1)\n",
            "y_test=(10000,)\n"
          ],
          "name": "stdout"
        }
      ]
    },
    {
      "cell_type": "code",
      "metadata": {
        "id": "F46-QZqJHiQ6",
        "colab": {
          "base_uri": "https://localhost:8080/"
        },
        "outputId": "d03bf4ca-4096-4ce3-e0a2-a02c6b450fcb"
      },
      "source": [
        "# One-Hot-Encoding\n",
        "# Use function to_categorical() to do One-Hot-Encoding\n",
        "# tf.keras.utils.to_categorical\n",
        "from keras.utils import to_categorical\n",
        "\n",
        "y_train = to_categorical(y_train0, 10)\n",
        "y_test = to_categorical(y_test0, 10)\n",
        "y_train.shape,y_test.shape"
      ],
      "execution_count": 4,
      "outputs": [
        {
          "output_type": "execute_result",
          "data": {
            "text/plain": [
              "((60000, 10), (10000, 10))"
            ]
          },
          "metadata": {
            "tags": []
          },
          "execution_count": 4
        }
      ]
    },
    {
      "cell_type": "markdown",
      "metadata": {
        "id": "5z7SozStigmF"
      },
      "source": [
        "### Display numbers\n",
        "- one random number\n",
        "- 10 representative numbers"
      ]
    },
    {
      "cell_type": "code",
      "metadata": {
        "id": "IK7XT3XoirSL",
        "colab": {
          "base_uri": "https://localhost:8080/",
          "height": 286
        },
        "outputId": "4baabe86-6f7d-471a-f91e-abe8bdefbaa7"
      },
      "source": [
        "# Code here!\n",
        "# display one random image from the training set:\n",
        "class_names = [\"0\",\"1\",\"2\",\"3\",\"4\",\"5\",\"6\",\"7\",\"8\",\"9\"]\n",
        "\n",
        "idx = np.random.randint(0, X_train0.shape[0])\n",
        "print(idx)\n",
        "image = X_train0[idx]\n",
        "plt.imshow(image) #, cmap=plt.get_cmap('gray'))\n",
        "plt.title(class_names[y_train0[idx]])\n",
        "plt.xticks([])\n",
        "plt.yticks([])\n",
        "plt.show()"
      ],
      "execution_count": 6,
      "outputs": [
        {
          "output_type": "stream",
          "text": [
            "33084\n"
          ],
          "name": "stdout"
        },
        {
          "output_type": "display_data",
          "data": {
            "image/png": "[encoded data removed]",
            "text/plain": [
              "<Figure size 432x288 with 1 Axes>"
            ]
          },
          "metadata": {
            "tags": []
          }
        }
      ]
    },
    {
      "cell_type": "code",
      "metadata": {
        "colab": {
          "base_uri": "https://localhost:8080/",
          "height": 325
        },
        "id": "xy7TSnLugGCe",
        "outputId": "235df798-7046-4546-fc0b-3c327775add3"
      },
      "source": [
        "# 10 representative numbers\n",
        "fig = plt.figure(figsize=(10,6))\n",
        "for i in range(10):\n",
        "    plt.subplot(2, 5, i+1)\n",
        "    num0_9 = X_train0[y_train0 == i]\n",
        "    # print(num0_9.shape)\n",
        "    plt.imshow(num0_9[0]) #, cmap='gray') #, interpolation='none')\n",
        "    plt.title(\"Class %d\" % (i))\n",
        "    plt.xticks([])\n",
        "    plt.yticks([])"
      ],
      "execution_count": 7,
      "outputs": [
        {
          "output_type": "display_data",
          "data": {
            "image/png": "[encoded data removed]",
            "text/plain": [
              "<Figure size 720x432 with 10 Axes>"
            ]
          },
          "metadata": {
            "tags": []
          }
        }
      ]
    },
    {
      "cell_type": "markdown",
      "metadata": {
        "id": "55DYVfFXi0WR"
      },
      "source": [
        "# Design CNN"
      ]
    },
    {
      "cell_type": "markdown",
      "metadata": {
        "id": "iPcLIcUCcsiG"
      },
      "source": [
        "### import Conv2D, MaxPool2D"
      ]
    },
    {
      "cell_type": "code",
      "metadata": {
        "id": "NzqMC4Xtc3ZE"
      },
      "source": [
        "from keras.layers import Conv2D, MaxPool2D, Flatten, Dense, Dropout"
      ],
      "execution_count": 15,
      "outputs": []
    },
    {
      "cell_type": "markdown",
      "metadata": {
        "id": "pkaGYiPY4L4J"
      },
      "source": [
        "##**CNN1 + FCN2**\n",
        "- CNN1: Conv2D + MaxPooling2D\n",
        "- FCN2: Dense(128) + Output(10) "
      ]
    },
    {
      "cell_type": "code",
      "metadata": {
        "id": "-LL0E4UX4Nj-"
      },
      "source": [
        "c1f2 = keras.models.Sequential([ \n",
        "    Conv2D(input_shape=(28,28,1),kernel_size=(3,3),strides=(1,1),filters= 32,padding='same',activation='relu'),\n",
        "    MaxPool2D(pool_size=(2,2), strides=(2,2)), \n",
        "    Flatten(),\n",
        "    Dense(128, activation='relu'),\n",
        "    keras.layers.Dropout(0.25), \n",
        "    keras.layers.Dense(10, activation='softmax')\n",
        "])\n",
        "\n",
        "c1f2.compile(optimizer='adam',\n",
        "              loss='categorical_crossentropy',\n",
        "              metrics=['accuracy']) "
      ],
      "execution_count": 16,
      "outputs": []
    },
    {
      "cell_type": "code",
      "metadata": {
        "id": "3r9oCDEN4UGu",
        "colab": {
          "base_uri": "https://localhost:8080/"
        },
        "outputId": "516cf8b4-b545-421b-8917-d15c72fd0f7f"
      },
      "source": [
        "c1f2.summary()"
      ],
      "execution_count": 17,
      "outputs": [
        {
          "output_type": "stream",
          "text": [
            "Model: \"sequential_1\"\n",
            "_________________________________________________________________\n",
            "Layer (type)                 Output Shape              Param #   \n",
            "=================================================================\n",
            "conv2d_2 (Conv2D)            (None, 28, 28, 32)        320       \n",
            "_________________________________________________________________\n",
            "max_pooling2d_2 (MaxPooling2 (None, 14, 14, 32)        0         \n",
            "_________________________________________________________________\n",
            "flatten (Flatten)            (None, 6272)              0         \n",
            "_________________________________________________________________\n",
            "dense_2 (Dense)              (None, 128)               802944    \n",
            "_________________________________________________________________\n",
            "dropout_1 (Dropout)          (None, 128)               0         \n",
            "_________________________________________________________________\n",
            "dense_3 (Dense)              (None, 10)                1290      \n",
            "=================================================================\n",
            "Total params: 804,554\n",
            "Trainable params: 804,554\n",
            "Non-trainable params: 0\n",
            "_________________________________________________________________\n"
          ],
          "name": "stdout"
        }
      ]
    },
    {
      "cell_type": "code",
      "metadata": {
        "colab": {
          "base_uri": "https://localhost:8080/"
        },
        "id": "eLDjknB3kDR3",
        "outputId": "535c0979-efff-41bf-803e-ea6c1c758698"
      },
      "source": [
        "32*14*14, 32*14*14*128 + 128"
      ],
      "execution_count": 18,
      "outputs": [
        {
          "output_type": "execute_result",
          "data": {
            "text/plain": [
              "(6272, 802944)"
            ]
          },
          "metadata": {
            "tags": []
          },
          "execution_count": 18
        }
      ]
    },
    {
      "cell_type": "code",
      "metadata": {
        "id": "E5P-W0384WCv",
        "colab": {
          "base_uri": "https://localhost:8080/"
        },
        "outputId": "7a9f65f1-751a-44fe-9151-321aa45c75b5"
      },
      "source": [
        "c1f2.fit(X_train, y_train, epochs = 20,  batch_size = 32)"
      ],
      "execution_count": 19,
      "outputs": [
        {
          "output_type": "stream",
          "text": [
            "Epoch 1/20\n",
            "1875/1875 [==============================] - 5s 3ms/step - loss: 0.1787 - accuracy: 0.9468\n",
            "Epoch 2/20\n",
            "1875/1875 [==============================] - 5s 3ms/step - loss: 0.0657 - accuracy: 0.9797\n",
            "Epoch 3/20\n",
            "1875/1875 [==============================] - 5s 3ms/step - loss: 0.0447 - accuracy: 0.9864\n",
            "Epoch 4/20\n",
            "1875/1875 [==============================] - 5s 3ms/step - loss: 0.0347 - accuracy: 0.9891\n",
            "Epoch 5/20\n",
            "1875/1875 [==============================] - 5s 3ms/step - loss: 0.0277 - accuracy: 0.9911\n",
            "Epoch 6/20\n",
            "1875/1875 [==============================] - 5s 3ms/step - loss: 0.0206 - accuracy: 0.9930\n",
            "Epoch 7/20\n",
            "1875/1875 [==============================] - 5s 3ms/step - loss: 0.0168 - accuracy: 0.9940\n",
            "Epoch 8/20\n",
            "1875/1875 [==============================] - 5s 3ms/step - loss: 0.0136 - accuracy: 0.9954\n",
            "Epoch 9/20\n",
            "1875/1875 [==============================] - 5s 3ms/step - loss: 0.0117 - accuracy: 0.9959\n",
            "Epoch 10/20\n",
            "1875/1875 [==============================] - 5s 3ms/step - loss: 0.0115 - accuracy: 0.9962\n",
            "Epoch 11/20\n",
            "1875/1875 [==============================] - 5s 3ms/step - loss: 0.0097 - accuracy: 0.9967\n",
            "Epoch 12/20\n",
            "1875/1875 [==============================] - 5s 3ms/step - loss: 0.0107 - accuracy: 0.9961\n",
            "Epoch 13/20\n",
            "1875/1875 [==============================] - 5s 3ms/step - loss: 0.0076 - accuracy: 0.9974\n",
            "Epoch 14/20\n",
            "1875/1875 [==============================] - 5s 3ms/step - loss: 0.0070 - accuracy: 0.9977\n",
            "Epoch 15/20\n",
            "1875/1875 [==============================] - 5s 3ms/step - loss: 0.0075 - accuracy: 0.9974\n",
            "Epoch 16/20\n",
            "1875/1875 [==============================] - 5s 3ms/step - loss: 0.0063 - accuracy: 0.9976\n",
            "Epoch 17/20\n",
            "1875/1875 [==============================] - 5s 3ms/step - loss: 0.0062 - accuracy: 0.9979\n",
            "Epoch 18/20\n",
            "1875/1875 [==============================] - 5s 3ms/step - loss: 0.0061 - accuracy: 0.9979\n",
            "Epoch 19/20\n",
            "1875/1875 [==============================] - 5s 3ms/step - loss: 0.0047 - accuracy: 0.9981\n",
            "Epoch 20/20\n",
            "1875/1875 [==============================] - 5s 3ms/step - loss: 0.0056 - accuracy: 0.9981\n"
          ],
          "name": "stdout"
        },
        {
          "output_type": "execute_result",
          "data": {
            "text/plain": [
              "<tensorflow.python.keras.callbacks.History at 0x7fdae83d0a58>"
            ]
          },
          "metadata": {
            "tags": []
          },
          "execution_count": 19
        }
      ]
    },
    {
      "cell_type": "code",
      "metadata": {
        "id": "JTLIG-8Y4guU",
        "colab": {
          "base_uri": "https://localhost:8080/"
        },
        "outputId": "67220cab-b4bd-42ee-ce25-f506cfa33d61"
      },
      "source": [
        "c1f2.evaluate(X_test, y_test, batch_size =32)"
      ],
      "execution_count": 20,
      "outputs": [
        {
          "output_type": "stream",
          "text": [
            "313/313 [==============================] - 1s 2ms/step - loss: 0.0533 - accuracy: 0.9893\n"
          ],
          "name": "stdout"
        },
        {
          "output_type": "execute_result",
          "data": {
            "text/plain": [
              "[0.053316328674554825, 0.989300012588501]"
            ]
          },
          "metadata": {
            "tags": []
          },
          "execution_count": 20
        }
      ]
    },
    {
      "cell_type": "markdown",
      "metadata": {
        "id": "d-G7aUhde-zq"
      },
      "source": [
        ""
      ]
    },
    {
      "cell_type": "markdown",
      "metadata": {
        "id": "zYsilPV-d68h"
      },
      "source": [
        "## **CNN1 + FCN3**"
      ]
    },
    {
      "cell_type": "code",
      "metadata": {
        "id": "ru3C9Fdb5MJ9"
      },
      "source": [
        "c1f3 = keras.models.Sequential([ \n",
        "    Conv2D(input_shape=(28,28,1),kernel_size=(3,3),strides=(1,1),filters= 32,padding='same',activation='relu'),\n",
        "    MaxPool2D(pool_size=(2,2), strides=(2,2)), \n",
        "    Flatten(),\n",
        "    Dense(256, activation='relu'),\n",
        "    keras.layers.Dropout(0.25), \n",
        "    Dense(128, activation='relu'),\n",
        "    keras.layers.Dropout(0.25), \n",
        "    keras.layers.Dense(10, activation='softmax')\n",
        "])\n",
        "\n",
        "c1f3.compile(optimizer='adam',\n",
        "              loss='categorical_crossentropy',\n",
        "              metrics=['accuracy']) "
      ],
      "execution_count": 21,
      "outputs": []
    },
    {
      "cell_type": "code",
      "metadata": {
        "id": "WUKcSnnc5XcD",
        "colab": {
          "base_uri": "https://localhost:8080/"
        },
        "outputId": "8aa725ce-e651-4994-f55b-dc25b027d6b8"
      },
      "source": [
        "c1f3 .summary()"
      ],
      "execution_count": 22,
      "outputs": [
        {
          "output_type": "stream",
          "text": [
            "Model: \"sequential_2\"\n",
            "_________________________________________________________________\n",
            "Layer (type)                 Output Shape              Param #   \n",
            "=================================================================\n",
            "conv2d_3 (Conv2D)            (None, 28, 28, 32)        320       \n",
            "_________________________________________________________________\n",
            "max_pooling2d_3 (MaxPooling2 (None, 14, 14, 32)        0         \n",
            "_________________________________________________________________\n",
            "flatten_1 (Flatten)          (None, 6272)              0         \n",
            "_________________________________________________________________\n",
            "dense_4 (Dense)              (None, 256)               1605888   \n",
            "_________________________________________________________________\n",
            "dropout_2 (Dropout)          (None, 256)               0         \n",
            "_________________________________________________________________\n",
            "dense_5 (Dense)              (None, 128)               32896     \n",
            "_________________________________________________________________\n",
            "dropout_3 (Dropout)          (None, 128)               0         \n",
            "_________________________________________________________________\n",
            "dense_6 (Dense)              (None, 10)                1290      \n",
            "=================================================================\n",
            "Total params: 1,640,394\n",
            "Trainable params: 1,640,394\n",
            "Non-trainable params: 0\n",
            "_________________________________________________________________\n"
          ],
          "name": "stdout"
        }
      ]
    },
    {
      "cell_type": "code",
      "metadata": {
        "id": "WHnUbwan5Zq7",
        "colab": {
          "base_uri": "https://localhost:8080/"
        },
        "outputId": "277587e4-45fd-42dc-a908-a0298c134dbe"
      },
      "source": [
        "c1f3.fit(X_train,y_train, epochs= 20 , batch_size =32)"
      ],
      "execution_count": 23,
      "outputs": [
        {
          "output_type": "stream",
          "text": [
            "Epoch 1/20\n",
            "1875/1875 [==============================] - 6s 3ms/step - loss: 0.1806 - accuracy: 0.9450\n",
            "Epoch 2/20\n",
            "1875/1875 [==============================] - 5s 3ms/step - loss: 0.0658 - accuracy: 0.9804\n",
            "Epoch 3/20\n",
            "1875/1875 [==============================] - 5s 3ms/step - loss: 0.0458 - accuracy: 0.9860\n",
            "Epoch 4/20\n",
            "1875/1875 [==============================] - 5s 3ms/step - loss: 0.0327 - accuracy: 0.9898\n",
            "Epoch 5/20\n",
            "1875/1875 [==============================] - 5s 3ms/step - loss: 0.0269 - accuracy: 0.9915\n",
            "Epoch 6/20\n",
            "1875/1875 [==============================] - 5s 3ms/step - loss: 0.0214 - accuracy: 0.9932\n",
            "Epoch 7/20\n",
            "1875/1875 [==============================] - 5s 3ms/step - loss: 0.0178 - accuracy: 0.9943\n",
            "Epoch 8/20\n",
            "1875/1875 [==============================] - 5s 3ms/step - loss: 0.0153 - accuracy: 0.9951\n",
            "Epoch 9/20\n",
            "1875/1875 [==============================] - 5s 3ms/step - loss: 0.0137 - accuracy: 0.9957\n",
            "Epoch 10/20\n",
            "1875/1875 [==============================] - 5s 3ms/step - loss: 0.0122 - accuracy: 0.9958\n",
            "Epoch 11/20\n",
            "1875/1875 [==============================] - 5s 3ms/step - loss: 0.0105 - accuracy: 0.9968\n",
            "Epoch 12/20\n",
            "1875/1875 [==============================] - 5s 3ms/step - loss: 0.0118 - accuracy: 0.9962\n",
            "Epoch 13/20\n",
            "1875/1875 [==============================] - 5s 3ms/step - loss: 0.0092 - accuracy: 0.9970\n",
            "Epoch 14/20\n",
            "1875/1875 [==============================] - 5s 3ms/step - loss: 0.0080 - accuracy: 0.9977\n",
            "Epoch 15/20\n",
            "1875/1875 [==============================] - 5s 3ms/step - loss: 0.0083 - accuracy: 0.9976\n",
            "Epoch 16/20\n",
            "1875/1875 [==============================] - 5s 3ms/step - loss: 0.0085 - accuracy: 0.9974\n",
            "Epoch 17/20\n",
            "1875/1875 [==============================] - 5s 3ms/step - loss: 0.0088 - accuracy: 0.9973\n",
            "Epoch 18/20\n",
            "1875/1875 [==============================] - 5s 3ms/step - loss: 0.0061 - accuracy: 0.9983\n",
            "Epoch 19/20\n",
            "1875/1875 [==============================] - 5s 3ms/step - loss: 0.0075 - accuracy: 0.9977\n",
            "Epoch 20/20\n",
            "1875/1875 [==============================] - 5s 3ms/step - loss: 0.0067 - accuracy: 0.9982\n"
          ],
          "name": "stdout"
        },
        {
          "output_type": "execute_result",
          "data": {
            "text/plain": [
              "<tensorflow.python.keras.callbacks.History at 0x7fdae82dceb8>"
            ]
          },
          "metadata": {
            "tags": []
          },
          "execution_count": 23
        }
      ]
    },
    {
      "cell_type": "code",
      "metadata": {
        "id": "kTaGJMFG7FbH",
        "colab": {
          "base_uri": "https://localhost:8080/"
        },
        "outputId": "8984b573-af55-49e6-8bac-157adebc0d54"
      },
      "source": [
        "c1f3.evaluate(X_test, y_test, batch_size= 32)"
      ],
      "execution_count": 24,
      "outputs": [
        {
          "output_type": "stream",
          "text": [
            "313/313 [==============================] - 1s 2ms/step - loss: 0.0697 - accuracy: 0.9885\n"
          ],
          "name": "stdout"
        },
        {
          "output_type": "execute_result",
          "data": {
            "text/plain": [
              "[0.06966154277324677, 0.9884999990463257]"
            ]
          },
          "metadata": {
            "tags": []
          },
          "execution_count": 24
        }
      ]
    },
    {
      "cell_type": "markdown",
      "metadata": {
        "id": "7Z6DJJUCei-s"
      },
      "source": [
        "## **CNN2 + FCN2**"
      ]
    },
    {
      "cell_type": "code",
      "metadata": {
        "id": "pV3NFglM7P65"
      },
      "source": [
        "c2f2 = keras.models.Sequential([ \n",
        "    Conv2D(input_shape=(28,28,1),kernel_size=(3,3),strides=(1,1),filters= 32,padding='same',activation='relu'),\n",
        "    MaxPool2D(pool_size=(2,2), strides=(2,2)), \n",
        "    Conv2D(kernel_size=(3,3),strides=(1,1),filters= 64,padding='same',activation='relu'),\n",
        "    MaxPool2D(pool_size=(2,2), strides=(2,2)), \n",
        "    Flatten(),\n",
        "    Dense(128, activation='relu'),\n",
        "    keras.layers.Dropout(0.25), \n",
        "    keras.layers.Dense(10, activation='softmax')\n",
        "])\n",
        "\n",
        "c2f2.compile(optimizer='adam',\n",
        "              loss='categorical_crossentropy',\n",
        "              metrics=['accuracy']) "
      ],
      "execution_count": 25,
      "outputs": []
    },
    {
      "cell_type": "code",
      "metadata": {
        "id": "OGtCiKy57YkR",
        "colab": {
          "base_uri": "https://localhost:8080/"
        },
        "outputId": "b4093c56-bc84-4234-ddf7-19a57fc8cae3"
      },
      "source": [
        "c2f2.summary()"
      ],
      "execution_count": 26,
      "outputs": [
        {
          "output_type": "stream",
          "text": [
            "Model: \"sequential_3\"\n",
            "_________________________________________________________________\n",
            "Layer (type)                 Output Shape              Param #   \n",
            "=================================================================\n",
            "conv2d_4 (Conv2D)            (None, 28, 28, 32)        320       \n",
            "_________________________________________________________________\n",
            "max_pooling2d_4 (MaxPooling2 (None, 14, 14, 32)        0         \n",
            "_________________________________________________________________\n",
            "conv2d_5 (Conv2D)            (None, 14, 14, 64)        18496     \n",
            "_________________________________________________________________\n",
            "max_pooling2d_5 (MaxPooling2 (None, 7, 7, 64)          0         \n",
            "_________________________________________________________________\n",
            "flatten_2 (Flatten)          (None, 3136)              0         \n",
            "_________________________________________________________________\n",
            "dense_7 (Dense)              (None, 128)               401536    \n",
            "_________________________________________________________________\n",
            "dropout_4 (Dropout)          (None, 128)               0         \n",
            "_________________________________________________________________\n",
            "dense_8 (Dense)              (None, 10)                1290      \n",
            "=================================================================\n",
            "Total params: 421,642\n",
            "Trainable params: 421,642\n",
            "Non-trainable params: 0\n",
            "_________________________________________________________________\n"
          ],
          "name": "stdout"
        }
      ]
    },
    {
      "cell_type": "code",
      "metadata": {
        "id": "94GWWQt-7eRS",
        "colab": {
          "base_uri": "https://localhost:8080/"
        },
        "outputId": "bfe30efd-8ebe-48c0-aa14-5b694ded7a4b"
      },
      "source": [
        "c2f2.fit(X_train, y_train, epochs = 20 , batch_size =32)"
      ],
      "execution_count": 27,
      "outputs": [
        {
          "output_type": "stream",
          "text": [
            "Epoch 1/20\n",
            "1875/1875 [==============================] - 5s 3ms/step - loss: 0.1471 - accuracy: 0.9554\n",
            "Epoch 2/20\n",
            "1875/1875 [==============================] - 5s 3ms/step - loss: 0.0522 - accuracy: 0.9844\n",
            "Epoch 3/20\n",
            "1875/1875 [==============================] - 5s 3ms/step - loss: 0.0376 - accuracy: 0.9878\n",
            "Epoch 4/20\n",
            "1875/1875 [==============================] - 5s 3ms/step - loss: 0.0287 - accuracy: 0.9912\n",
            "Epoch 5/20\n",
            "1875/1875 [==============================] - 5s 3ms/step - loss: 0.0232 - accuracy: 0.9926\n",
            "Epoch 6/20\n",
            "1875/1875 [==============================] - 5s 3ms/step - loss: 0.0187 - accuracy: 0.9939\n",
            "Epoch 7/20\n",
            "1875/1875 [==============================] - 5s 3ms/step - loss: 0.0159 - accuracy: 0.9946\n",
            "Epoch 8/20\n",
            "1875/1875 [==============================] - 5s 3ms/step - loss: 0.0127 - accuracy: 0.9958\n",
            "Epoch 9/20\n",
            "1875/1875 [==============================] - 5s 3ms/step - loss: 0.0117 - accuracy: 0.9962\n",
            "Epoch 10/20\n",
            "1875/1875 [==============================] - 5s 3ms/step - loss: 0.0111 - accuracy: 0.9964\n",
            "Epoch 11/20\n",
            "1875/1875 [==============================] - 5s 3ms/step - loss: 0.0099 - accuracy: 0.9969\n",
            "Epoch 12/20\n",
            "1875/1875 [==============================] - 5s 3ms/step - loss: 0.0088 - accuracy: 0.9973\n",
            "Epoch 13/20\n",
            "1875/1875 [==============================] - 5s 3ms/step - loss: 0.0086 - accuracy: 0.9970\n",
            "Epoch 14/20\n",
            "1875/1875 [==============================] - 5s 3ms/step - loss: 0.0068 - accuracy: 0.9978\n",
            "Epoch 15/20\n",
            "1875/1875 [==============================] - 5s 3ms/step - loss: 0.0068 - accuracy: 0.9977\n",
            "Epoch 16/20\n",
            "1875/1875 [==============================] - 5s 3ms/step - loss: 0.0061 - accuracy: 0.9977\n",
            "Epoch 17/20\n",
            "1875/1875 [==============================] - 5s 3ms/step - loss: 0.0067 - accuracy: 0.9978\n",
            "Epoch 18/20\n",
            "1875/1875 [==============================] - 5s 3ms/step - loss: 0.0059 - accuracy: 0.9981\n",
            "Epoch 19/20\n",
            "1875/1875 [==============================] - 5s 3ms/step - loss: 0.0061 - accuracy: 0.9980\n",
            "Epoch 20/20\n",
            "1875/1875 [==============================] - 5s 3ms/step - loss: 0.0057 - accuracy: 0.9982\n"
          ],
          "name": "stdout"
        },
        {
          "output_type": "execute_result",
          "data": {
            "text/plain": [
              "<tensorflow.python.keras.callbacks.History at 0x7fdae80b06a0>"
            ]
          },
          "metadata": {
            "tags": []
          },
          "execution_count": 27
        }
      ]
    },
    {
      "cell_type": "code",
      "metadata": {
        "id": "0-7is2U49A6Z",
        "colab": {
          "base_uri": "https://localhost:8080/"
        },
        "outputId": "0edb0c45-5cb5-49c6-b45a-e20dca089e48"
      },
      "source": [
        "c2f2.evaluate(X_test, y_test, batch_size =32)"
      ],
      "execution_count": 28,
      "outputs": [
        {
          "output_type": "stream",
          "text": [
            "313/313 [==============================] - 1s 2ms/step - loss: 0.0383 - accuracy: 0.9930\n"
          ],
          "name": "stdout"
        },
        {
          "output_type": "execute_result",
          "data": {
            "text/plain": [
              "[0.03826378658413887, 0.9929999709129333]"
            ]
          },
          "metadata": {
            "tags": []
          },
          "execution_count": 28
        }
      ]
    },
    {
      "cell_type": "markdown",
      "metadata": {
        "id": "SUJxRQtafihM"
      },
      "source": [
        "## **CNN2 + FCN3**"
      ]
    },
    {
      "cell_type": "code",
      "metadata": {
        "id": "Nl5CyAymAB34"
      },
      "source": [
        "c2f3 = keras.models.Sequential([ \n",
        "    Conv2D(input_shape=(28,28,1),kernel_size=(3,3),strides=(1,1),filters= 32,padding='same',activation='relu'),\n",
        "    MaxPool2D(pool_size=(2,2), strides=(2,2)), \n",
        "    Conv2D(kernel_size=(3,3),strides=(1,1),filters= 64,padding='same',activation='relu'),\n",
        "    MaxPool2D(pool_size=(2,2), strides=(2,2)), \n",
        "    Flatten(),\n",
        "    Dense(256, activation='relu'),\n",
        "    Dropout(0.25), \n",
        "    Dense(128, activation='relu'),\n",
        "    Dropout(0.25), \n",
        "    keras.layers.Dense(10, activation='softmax')\n",
        "])\n",
        "\n",
        "c2f3.compile(optimizer='adam',\n",
        "              loss='categorical_crossentropy',\n",
        "              metrics=['accuracy']) "
      ],
      "execution_count": 34,
      "outputs": []
    },
    {
      "cell_type": "code",
      "metadata": {
        "id": "gYxuGW_2ANL8",
        "colab": {
          "base_uri": "https://localhost:8080/"
        },
        "outputId": "f5a87c69-a26b-4060-f2bc-bb97355be771"
      },
      "source": [
        "c2f3.summary()"
      ],
      "execution_count": 35,
      "outputs": [
        {
          "output_type": "stream",
          "text": [
            "Model: \"sequential_6\"\n",
            "_________________________________________________________________\n",
            "Layer (type)                 Output Shape              Param #   \n",
            "=================================================================\n",
            "conv2d_10 (Conv2D)           (None, 28, 28, 32)        320       \n",
            "_________________________________________________________________\n",
            "max_pooling2d_10 (MaxPooling (None, 14, 14, 32)        0         \n",
            "_________________________________________________________________\n",
            "conv2d_11 (Conv2D)           (None, 14, 14, 64)        18496     \n",
            "_________________________________________________________________\n",
            "max_pooling2d_11 (MaxPooling (None, 7, 7, 64)          0         \n",
            "_________________________________________________________________\n",
            "flatten_5 (Flatten)          (None, 3136)              0         \n",
            "_________________________________________________________________\n",
            "dense_15 (Dense)             (None, 256)               803072    \n",
            "_________________________________________________________________\n",
            "dropout_9 (Dropout)          (None, 256)               0         \n",
            "_________________________________________________________________\n",
            "dense_16 (Dense)             (None, 128)               32896     \n",
            "_________________________________________________________________\n",
            "dropout_10 (Dropout)         (None, 128)               0         \n",
            "_________________________________________________________________\n",
            "dense_17 (Dense)             (None, 10)                1290      \n",
            "=================================================================\n",
            "Total params: 856,074\n",
            "Trainable params: 856,074\n",
            "Non-trainable params: 0\n",
            "_________________________________________________________________\n"
          ],
          "name": "stdout"
        }
      ]
    },
    {
      "cell_type": "code",
      "metadata": {
        "id": "lO1of4AOAQlV",
        "colab": {
          "base_uri": "https://localhost:8080/"
        },
        "outputId": "b6295127-e292-4aa0-ce08-e4d11c3b6b75"
      },
      "source": [
        "c2f3.fit(X_train, y_train, epochs=20, batch_size =32)"
      ],
      "execution_count": 36,
      "outputs": [
        {
          "output_type": "stream",
          "text": [
            "Epoch 1/20\n",
            "1875/1875 [==============================] - 5s 3ms/step - loss: 0.1607 - accuracy: 0.9505\n",
            "Epoch 2/20\n",
            "1875/1875 [==============================] - 5s 3ms/step - loss: 0.0545 - accuracy: 0.9842\n",
            "Epoch 3/20\n",
            "1875/1875 [==============================] - 5s 3ms/step - loss: 0.0401 - accuracy: 0.9880\n",
            "Epoch 4/20\n",
            "1875/1875 [==============================] - 5s 3ms/step - loss: 0.0304 - accuracy: 0.9911\n",
            "Epoch 5/20\n",
            "1875/1875 [==============================] - 5s 3ms/step - loss: 0.0253 - accuracy: 0.9923\n",
            "Epoch 6/20\n",
            "1875/1875 [==============================] - 5s 3ms/step - loss: 0.0210 - accuracy: 0.9933\n",
            "Epoch 7/20\n",
            "1875/1875 [==============================] - 5s 3ms/step - loss: 0.0185 - accuracy: 0.9943\n",
            "Epoch 8/20\n",
            "1875/1875 [==============================] - 5s 3ms/step - loss: 0.0173 - accuracy: 0.9949\n",
            "Epoch 9/20\n",
            "1875/1875 [==============================] - 5s 3ms/step - loss: 0.0143 - accuracy: 0.9958\n",
            "Epoch 10/20\n",
            "1875/1875 [==============================] - 5s 3ms/step - loss: 0.0137 - accuracy: 0.9958\n",
            "Epoch 11/20\n",
            "1875/1875 [==============================] - 5s 3ms/step - loss: 0.0126 - accuracy: 0.9965\n",
            "Epoch 12/20\n",
            "1875/1875 [==============================] - 5s 3ms/step - loss: 0.0108 - accuracy: 0.9967\n",
            "Epoch 13/20\n",
            "1875/1875 [==============================] - 5s 3ms/step - loss: 0.0105 - accuracy: 0.9969\n",
            "Epoch 14/20\n",
            "1875/1875 [==============================] - 5s 3ms/step - loss: 0.0099 - accuracy: 0.9972\n",
            "Epoch 15/20\n",
            "1875/1875 [==============================] - 5s 3ms/step - loss: 0.0105 - accuracy: 0.9970\n",
            "Epoch 16/20\n",
            "1875/1875 [==============================] - 5s 3ms/step - loss: 0.0086 - accuracy: 0.9976\n",
            "Epoch 17/20\n",
            "1875/1875 [==============================] - 5s 3ms/step - loss: 0.0087 - accuracy: 0.9976\n",
            "Epoch 18/20\n",
            "1875/1875 [==============================] - 5s 3ms/step - loss: 0.0097 - accuracy: 0.9973\n",
            "Epoch 19/20\n",
            "1875/1875 [==============================] - 5s 3ms/step - loss: 0.0080 - accuracy: 0.9978\n",
            "Epoch 20/20\n",
            "1875/1875 [==============================] - 5s 3ms/step - loss: 0.0072 - accuracy: 0.9979\n"
          ],
          "name": "stdout"
        },
        {
          "output_type": "execute_result",
          "data": {
            "text/plain": [
              "<tensorflow.python.keras.callbacks.History at 0x7fdb44ca3358>"
            ]
          },
          "metadata": {
            "tags": []
          },
          "execution_count": 36
        }
      ]
    },
    {
      "cell_type": "code",
      "metadata": {
        "id": "W-eIxCasDBil",
        "colab": {
          "base_uri": "https://localhost:8080/"
        },
        "outputId": "a3d1bf22-0709-460e-dab5-c319e7cbd545"
      },
      "source": [
        "c2f3.evaluate(X_test, y_test, batch_size = 32)"
      ],
      "execution_count": 37,
      "outputs": [
        {
          "output_type": "stream",
          "text": [
            "313/313 [==============================] - 1s 2ms/step - loss: 0.0452 - accuracy: 0.9906\n"
          ],
          "name": "stdout"
        },
        {
          "output_type": "execute_result",
          "data": {
            "text/plain": [
              "[0.045156922191381454, 0.9905999898910522]"
            ]
          },
          "metadata": {
            "tags": []
          },
          "execution_count": 37
        }
      ]
    },
    {
      "cell_type": "markdown",
      "metadata": {
        "id": "5XYSVtC-DVsz"
      },
      "source": [
        "# **[DIY] Hidden layer에 따른 정확도**"
      ]
    },
    {
      "cell_type": "code",
      "metadata": {
        "id": "hPXHL7TTgIMf",
        "colab": {
          "base_uri": "https://localhost:8080/"
        },
        "outputId": "5859e0c8-5e0c-4938-909b-985a927c64a8"
      },
      "source": [
        "c1f2score = c1f2.evaluate(X_test, y_test, batch_size = 32)\n",
        "c1f3score = c1f3.evaluate(X_test, y_test, batch_size = 32)\n",
        "c2f2score = c2f2.evaluate(X_test, y_test, batch_size = 32)\n",
        "c2f3score = c2f3.evaluate(X_test, y_test, batch_size = 32)\n"
      ],
      "execution_count": 39,
      "outputs": [
        {
          "output_type": "stream",
          "text": [
            "313/313 [==============================] - 1s 2ms/step - loss: 0.0533 - accuracy: 0.9893\n",
            "313/313 [==============================] - 1s 2ms/step - loss: 0.0697 - accuracy: 0.9885\n",
            "313/313 [==============================] - 1s 2ms/step - loss: 0.0383 - accuracy: 0.9930\n",
            "313/313 [==============================] - 1s 2ms/step - loss: 0.0452 - accuracy: 0.9906\n"
          ],
          "name": "stdout"
        }
      ]
    },
    {
      "cell_type": "code",
      "metadata": {
        "colab": {
          "base_uri": "https://localhost:8080/"
        },
        "id": "89PWJHOCqazW",
        "outputId": "87fcb625-2974-403f-c68a-12be6286b47e"
      },
      "source": [
        "accuracy = [c1f2score[1], c1f3score[1], c2f2score[1], c2f3score[1]]\n",
        "accuracy"
      ],
      "execution_count": 40,
      "outputs": [
        {
          "output_type": "execute_result",
          "data": {
            "text/plain": [
              "[0.989300012588501, 0.9884999990463257, 0.9929999709129333, 0.9905999898910522]"
            ]
          },
          "metadata": {
            "tags": []
          },
          "execution_count": 40
        }
      ]
    },
    {
      "cell_type": "code",
      "metadata": {
        "id": "vZv6a2aVRw9j",
        "colab": {
          "base_uri": "https://localhost:8080/",
          "height": 269
        },
        "outputId": "f8ab293a-9f92-4302-81b8-f434e0ba48fc"
      },
      "source": [
        "x = np.arange(4)\n",
        "cnns = ['C1F2','C1F3','C2F2','C2F3']\n",
        "accuracies = [acc*100 for acc in accuracy] # %\n",
        "\n",
        "plt.bar(x, accuracies)\n",
        "plt.xticks(x, cnns)\n",
        "plt.ylim((95, 100))\n",
        "plt.show()"
      ],
      "execution_count": 42,
      "outputs": [
        {
          "output_type": "display_data",
          "data": {
            "image/png": "[encoded data removed]",
            "text/plain": [
              "<Figure size 432x288 with 1 Axes>"
            ]
          },
          "metadata": {
            "tags": [],
            "needs_background": "light"
          }
        }
      ]
    },
    {
      "cell_type": "markdown",
      "metadata": {
        "id": "gBPKMI4y3fsa"
      },
      "source": [
        "## 모형의 저장\n",
        "\n",
        "- 트레이닝이 끝난 모형은 save 메서드로 가중치와 함께 hdf5 형식으로 저장\n",
        "- load 명령으로 불러 사용"
      ]
    },
    {
      "cell_type": "code",
      "metadata": {
        "id": "KCfbQl2v3fsa"
      },
      "source": [
        "c2f2.save('cnn_best.hdf5')"
      ],
      "execution_count": 43,
      "outputs": []
    },
    {
      "cell_type": "code",
      "metadata": {
        "id": "b7-ysIVy3fse",
        "colab": {
          "base_uri": "https://localhost:8080/"
        },
        "outputId": "33d2e407-d289-40da-d9de-1813f5625d7b"
      },
      "source": [
        "from keras.models import load_model\n",
        "\n",
        "model = load_model('cnn_best.hdf5')\n",
        "model.evaluate(X_test, y_test, batch_size=32)"
      ],
      "execution_count": 44,
      "outputs": [
        {
          "output_type": "stream",
          "text": [
            "313/313 [==============================] - 1s 2ms/step - loss: 0.0383 - accuracy: 0.9930\n"
          ],
          "name": "stdout"
        },
        {
          "output_type": "execute_result",
          "data": {
            "text/plain": [
              "[0.03826378658413887, 0.9929999709129333]"
            ]
          },
          "metadata": {
            "tags": []
          },
          "execution_count": 44
        }
      ]
    },
    {
      "cell_type": "markdown",
      "metadata": {
        "id": "jRG6VlWiMDee"
      },
      "source": [
        "## C2F2 모델에 대한 loss, accuracy 그래프를 그리시오."
      ]
    },
    {
      "cell_type": "code",
      "metadata": {
        "colab": {
          "base_uri": "https://localhost:8080/"
        },
        "id": "khKyzoFSr3-w",
        "outputId": "c37d00b9-ddf8-4789-c431-ecfd12f3de27"
      },
      "source": [
        "hist = c2f2.fit(X_train, y_train, \n",
        "         epochs = 20 , \n",
        "         batch_size =32, \n",
        "         validation_data=(X_test,y_test))"
      ],
      "execution_count": 45,
      "outputs": [
        {
          "output_type": "stream",
          "text": [
            "Epoch 1/20\n",
            "1875/1875 [==============================] - 6s 3ms/step - loss: 0.0045 - accuracy: 0.9984 - val_loss: 0.0417 - val_accuracy: 0.9923\n",
            "Epoch 2/20\n",
            "1875/1875 [==============================] - 6s 3ms/step - loss: 0.0064 - accuracy: 0.9981 - val_loss: 0.0397 - val_accuracy: 0.9919\n",
            "Epoch 3/20\n",
            "1875/1875 [==============================] - 6s 3ms/step - loss: 0.0048 - accuracy: 0.9986 - val_loss: 0.0420 - val_accuracy: 0.9915\n",
            "Epoch 4/20\n",
            "1875/1875 [==============================] - 6s 3ms/step - loss: 0.0046 - accuracy: 0.9986 - val_loss: 0.0459 - val_accuracy: 0.9935\n",
            "Epoch 5/20\n",
            "1875/1875 [==============================] - 6s 3ms/step - loss: 0.0046 - accuracy: 0.9985 - val_loss: 0.0465 - val_accuracy: 0.9927\n",
            "Epoch 6/20\n",
            "1875/1875 [==============================] - 6s 3ms/step - loss: 0.0045 - accuracy: 0.9985 - val_loss: 0.0474 - val_accuracy: 0.9926\n",
            "Epoch 7/20\n",
            "1875/1875 [==============================] - 6s 3ms/step - loss: 0.0057 - accuracy: 0.9983 - val_loss: 0.0521 - val_accuracy: 0.9914\n",
            "Epoch 8/20\n",
            "1875/1875 [==============================] - 6s 3ms/step - loss: 0.0050 - accuracy: 0.9984 - val_loss: 0.0450 - val_accuracy: 0.9925\n",
            "Epoch 9/20\n",
            "1875/1875 [==============================] - 6s 3ms/step - loss: 0.0036 - accuracy: 0.9989 - val_loss: 0.0453 - val_accuracy: 0.9930\n",
            "Epoch 10/20\n",
            "1875/1875 [==============================] - 6s 3ms/step - loss: 0.0048 - accuracy: 0.9984 - val_loss: 0.0361 - val_accuracy: 0.9922\n",
            "Epoch 11/20\n",
            "1875/1875 [==============================] - 6s 3ms/step - loss: 0.0048 - accuracy: 0.9985 - val_loss: 0.0482 - val_accuracy: 0.9915\n",
            "Epoch 12/20\n",
            "1875/1875 [==============================] - 6s 3ms/step - loss: 0.0052 - accuracy: 0.9983 - val_loss: 0.0502 - val_accuracy: 0.9920\n",
            "Epoch 13/20\n",
            "1875/1875 [==============================] - 6s 3ms/step - loss: 0.0039 - accuracy: 0.9988 - val_loss: 0.0420 - val_accuracy: 0.9927\n",
            "Epoch 14/20\n",
            "1875/1875 [==============================] - 6s 3ms/step - loss: 0.0033 - accuracy: 0.9990 - val_loss: 0.0544 - val_accuracy: 0.9909\n",
            "Epoch 15/20\n",
            "1875/1875 [==============================] - 6s 3ms/step - loss: 0.0046 - accuracy: 0.9987 - val_loss: 0.0485 - val_accuracy: 0.9924\n",
            "Epoch 16/20\n",
            "1875/1875 [==============================] - 6s 3ms/step - loss: 0.0041 - accuracy: 0.9987 - val_loss: 0.0530 - val_accuracy: 0.9907\n",
            "Epoch 17/20\n",
            "1875/1875 [==============================] - 6s 3ms/step - loss: 0.0033 - accuracy: 0.9988 - val_loss: 0.0556 - val_accuracy: 0.9928\n",
            "Epoch 18/20\n",
            "1875/1875 [==============================] - 6s 3ms/step - loss: 0.0037 - accuracy: 0.9990 - val_loss: 0.0582 - val_accuracy: 0.9917\n",
            "Epoch 19/20\n",
            "1875/1875 [==============================] - 6s 3ms/step - loss: 0.0046 - accuracy: 0.9987 - val_loss: 0.0539 - val_accuracy: 0.9926\n",
            "Epoch 20/20\n",
            "1875/1875 [==============================] - 6s 3ms/step - loss: 0.0033 - accuracy: 0.9989 - val_loss: 0.0661 - val_accuracy: 0.9926\n"
          ],
          "name": "stdout"
        }
      ]
    },
    {
      "cell_type": "code",
      "metadata": {
        "colab": {
          "base_uri": "https://localhost:8080/",
          "height": 313
        },
        "id": "uwHWstNxsNbX",
        "outputId": "640a0285-159c-4354-c006-eab8151b7188"
      },
      "source": [
        "# Plot loass and accuracy\n",
        "# Plot training & validation accuracy values\n",
        "epochs = 20\n",
        "loss_list = [100 * i for i in hist.history['loss']]\n",
        "acc_list = [100 * i for i in hist.history['accuracy']]\n",
        "plt.plot(range(1,epochs+1),loss_list)\n",
        "plt.plot(range(1,epochs+1),acc_list)\n",
        "plt.title('Model loss & accuracy')\n",
        "plt.ylabel('Accuracy (%)')\n",
        "plt.xlabel('Epoch')\n",
        "plt.legend(['loss', 'accuracy'], loc='center left')"
      ],
      "execution_count": 46,
      "outputs": [
        {
          "output_type": "execute_result",
          "data": {
            "text/plain": [
              "<matplotlib.legend.Legend at 0x7fdb453f49e8>"
            ]
          },
          "metadata": {
            "tags": []
          },
          "execution_count": 46
        },
        {
          "output_type": "display_data",
          "data": {
            "image/png": "[encoded data removed]",
            "text/plain": [
              "<Figure size 432x288 with 1 Axes>"
            ]
          },
          "metadata": {
            "tags": [],
            "needs_background": "light"
          }
        }
      ]
    },
    {
      "cell_type": "code",
      "metadata": {
        "id": "xAZXCcO-vwab"
      },
      "source": [
        "vloss_list = [100 * i for i in hist.history['val_loss']]\r\n",
        "vacc_list = [100 * i for i in hist.history['val_accuracy']]"
      ],
      "execution_count": 47,
      "outputs": []
    },
    {
      "cell_type": "code",
      "metadata": {
        "colab": {
          "base_uri": "https://localhost:8080/",
          "height": 313
        },
        "id": "uusJxmuiwHu4",
        "outputId": "223ff90c-dd4c-406b-90b7-ada99f8367e1"
      },
      "source": [
        "plt.plot(range(1,epochs+1),vloss_list)  \n",
        "plt.plot(range(1,epochs+1),vacc_list)  \n",
        "plt.title('Model val_loss & val_accuracy')\n",
        "plt.ylabel('Accuracy (%)')\n",
        "plt.xlabel('Epoch')\n",
        "plt.legend(['val_loss', 'val_accuracy'], loc='center left')"
      ],
      "execution_count": 49,
      "outputs": [
        {
          "output_type": "execute_result",
          "data": {
            "text/plain": [
              "<matplotlib.legend.Legend at 0x7fdae04b1c50>"
            ]
          },
          "metadata": {
            "tags": []
          },
          "execution_count": 49
        },
        {
          "output_type": "display_data",
          "data": {
            "image/png": "[encoded data removed]",
            "text/plain": [
              "<Figure size 432x288 with 1 Axes>"
            ]
          },
          "metadata": {
            "tags": [],
            "needs_background": "light"
          }
        }
      ]
    },
    {
      "cell_type": "code",
      "metadata": {
        "colab": {
          "base_uri": "https://localhost:8080/",
          "height": 313
        },
        "id": "StEcyTepwK_P",
        "outputId": "300e4177-2068-4a99-b881-11c6502a2f9b"
      },
      "source": [
        "plt.plot(range(1,epochs+1),acc_list)  \n",
        "plt.plot(range(1,epochs+1),vacc_list)  \n",
        "plt.title('accuracy vs. val_accuracy')\n",
        "plt.ylabel('Accuracy (%)')\n",
        "plt.xlabel('Epoch')\n",
        "plt.legend(['accuracy','val_accuracy'], loc='center')"
      ],
      "execution_count": 51,
      "outputs": [
        {
          "output_type": "execute_result",
          "data": {
            "text/plain": [
              "<matplotlib.legend.Legend at 0x7fdae03f16a0>"
            ]
          },
          "metadata": {
            "tags": []
          },
          "execution_count": 51
        },
        {
          "output_type": "display_data",
          "data": {
            "image/png": "[encoded data removed]",
            "text/plain": [
              "<Figure size 432x288 with 1 Axes>"
            ]
          },
          "metadata": {
            "tags": [],
            "needs_background": "light"
          }
        }
      ]
    },
    {
      "cell_type": "markdown",
      "metadata": {
        "id": "PjiTXAO1MKkE"
      },
      "source": [
        "***"
      ]
    },
    {
      "cell_type": "markdown",
      "metadata": {
        "id": "Ucj-avjHMPLy"
      },
      "source": [
        "## C2F3 모델에 대한 loss, accuracy 그래프를 추가하시오."
      ]
    },
    {
      "cell_type": "code",
      "metadata": {
        "id": "WNmXXLhvWUiK",
        "colab": {
          "base_uri": "https://localhost:8080/"
        },
        "outputId": "48814070-509d-4f9d-b5cd-b18c1a6ca4fe"
      },
      "source": [
        "# Code here!\n",
        "\n",
        "hist = c2f3.fit(X_train, y_train, \n",
        "         epochs = 20 , \n",
        "         batch_size =32, \n",
        "         validation_data=(X_test,y_test))"
      ],
      "execution_count": 52,
      "outputs": [
        {
          "output_type": "stream",
          "text": [
            "Epoch 1/20\n",
            "1875/1875 [==============================] - 6s 3ms/step - loss: 0.0077 - accuracy: 0.9978 - val_loss: 0.0280 - val_accuracy: 0.9937\n",
            "Epoch 2/20\n",
            "1875/1875 [==============================] - 6s 3ms/step - loss: 0.0078 - accuracy: 0.9977 - val_loss: 0.0390 - val_accuracy: 0.9927\n",
            "Epoch 3/20\n",
            "1875/1875 [==============================] - 6s 3ms/step - loss: 0.0092 - accuracy: 0.9976 - val_loss: 0.0303 - val_accuracy: 0.9926\n",
            "Epoch 4/20\n",
            "1875/1875 [==============================] - 6s 3ms/step - loss: 0.0068 - accuracy: 0.9984 - val_loss: 0.0427 - val_accuracy: 0.9915\n",
            "Epoch 5/20\n",
            "1875/1875 [==============================] - 6s 3ms/step - loss: 0.0066 - accuracy: 0.9981 - val_loss: 0.0432 - val_accuracy: 0.9925\n",
            "Epoch 6/20\n",
            "1875/1875 [==============================] - 6s 3ms/step - loss: 0.0082 - accuracy: 0.9978 - val_loss: 0.0487 - val_accuracy: 0.9921\n",
            "Epoch 7/20\n",
            "1875/1875 [==============================] - 6s 3ms/step - loss: 0.0061 - accuracy: 0.9983 - val_loss: 0.0510 - val_accuracy: 0.9930\n",
            "Epoch 8/20\n",
            "1875/1875 [==============================] - 6s 3ms/step - loss: 0.0071 - accuracy: 0.9983 - val_loss: 0.0462 - val_accuracy: 0.9925\n",
            "Epoch 9/20\n",
            "1875/1875 [==============================] - 6s 3ms/step - loss: 0.0059 - accuracy: 0.9984 - val_loss: 0.0432 - val_accuracy: 0.9929\n",
            "Epoch 10/20\n",
            "1875/1875 [==============================] - 6s 3ms/step - loss: 0.0066 - accuracy: 0.9984 - val_loss: 0.0628 - val_accuracy: 0.9916\n",
            "Epoch 11/20\n",
            "1875/1875 [==============================] - 6s 3ms/step - loss: 0.0086 - accuracy: 0.9978 - val_loss: 0.0561 - val_accuracy: 0.9918\n",
            "Epoch 12/20\n",
            "1875/1875 [==============================] - 6s 3ms/step - loss: 0.0048 - accuracy: 0.9987 - val_loss: 0.0546 - val_accuracy: 0.9913\n",
            "Epoch 13/20\n",
            "1875/1875 [==============================] - 6s 3ms/step - loss: 0.0058 - accuracy: 0.9985 - val_loss: 0.0677 - val_accuracy: 0.9917\n",
            "Epoch 14/20\n",
            "1875/1875 [==============================] - 6s 3ms/step - loss: 0.0074 - accuracy: 0.9982 - val_loss: 0.0465 - val_accuracy: 0.9926\n",
            "Epoch 15/20\n",
            "1875/1875 [==============================] - 6s 3ms/step - loss: 0.0044 - accuracy: 0.9989 - val_loss: 0.0418 - val_accuracy: 0.9933\n",
            "Epoch 16/20\n",
            "1875/1875 [==============================] - 6s 3ms/step - loss: 0.0077 - accuracy: 0.9983 - val_loss: 0.0532 - val_accuracy: 0.9921\n",
            "Epoch 17/20\n",
            "1875/1875 [==============================] - 6s 3ms/step - loss: 0.0052 - accuracy: 0.9984 - val_loss: 0.0428 - val_accuracy: 0.9934\n",
            "Epoch 18/20\n",
            "1875/1875 [==============================] - 6s 3ms/step - loss: 0.0069 - accuracy: 0.9985 - val_loss: 0.0496 - val_accuracy: 0.9916\n",
            "Epoch 19/20\n",
            "1875/1875 [==============================] - 6s 3ms/step - loss: 0.0049 - accuracy: 0.9988 - val_loss: 0.0529 - val_accuracy: 0.9924\n",
            "Epoch 20/20\n",
            "1875/1875 [==============================] - 6s 3ms/step - loss: 0.0072 - accuracy: 0.9986 - val_loss: 0.0449 - val_accuracy: 0.9928\n"
          ],
          "name": "stdout"
        }
      ]
    },
    {
      "cell_type": "code",
      "metadata": {
        "colab": {
          "base_uri": "https://localhost:8080/",
          "height": 313
        },
        "id": "dRcBQbgGwdxW",
        "outputId": "4dc41b93-1723-40b7-d65f-f33e11aa0f1e"
      },
      "source": [
        "# Plot loass and accuracy\n",
        "# Plot training & validation accuracy values\n",
        "epochs = 20\n",
        "loss_list = [100 * i for i in hist.history['loss']]\n",
        "acc_list = [100 * i for i in hist.history['accuracy']]\n",
        "plt.plot(range(1,epochs+1),loss_list)\n",
        "plt.plot(range(1,epochs+1),acc_list)\n",
        "plt.title('Model loss & accuracy')\n",
        "plt.ylabel('Accuracy (%)')\n",
        "plt.xlabel('Epoch')\n",
        "plt.legend(['loss', 'accuracy'], loc='center left')"
      ],
      "execution_count": 53,
      "outputs": [
        {
          "output_type": "execute_result",
          "data": {
            "text/plain": [
              "<matplotlib.legend.Legend at 0x7fdae02f2da0>"
            ]
          },
          "metadata": {
            "tags": []
          },
          "execution_count": 53
        },
        {
          "output_type": "display_data",
          "data": {
            "image/png": "[encoded data removed]",
            "text/plain": [
              "<Figure size 432x288 with 1 Axes>"
            ]
          },
          "metadata": {
            "tags": [],
            "needs_background": "light"
          }
        }
      ]
    },
    {
      "cell_type": "code",
      "metadata": {
        "id": "dl8PcbZfwnN-"
      },
      "source": [
        "vloss_list = [100 * i for i in hist.history['val_loss']]\n",
        "vacc_list = [100 * i for i in hist.history['val_accuracy']]"
      ],
      "execution_count": 54,
      "outputs": []
    },
    {
      "cell_type": "code",
      "metadata": {
        "colab": {
          "base_uri": "https://localhost:8080/",
          "height": 313
        },
        "id": "V346cd97wpUn",
        "outputId": "35644f60-8440-45b0-903b-63a0f6e78f59"
      },
      "source": [
        "plt.plot(range(1,epochs+1),vloss_list)  \n",
        "plt.plot(range(1,epochs+1),vacc_list)  \n",
        "plt.title('Model val_loss & val_accuracy')\n",
        "plt.ylabel('Accuracy (%)')\n",
        "plt.xlabel('Epoch')\n",
        "plt.legend(['val_loss', 'val_accuracy'], loc='center left')"
      ],
      "execution_count": 55,
      "outputs": [
        {
          "output_type": "execute_result",
          "data": {
            "text/plain": [
              "<matplotlib.legend.Legend at 0x7fdae0304a58>"
            ]
          },
          "metadata": {
            "tags": []
          },
          "execution_count": 55
        },
        {
          "output_type": "display_data",
          "data": {
            "image/png": "[encoded data removed]",
            "text/plain": [
              "<Figure size 432x288 with 1 Axes>"
            ]
          },
          "metadata": {
            "tags": [],
            "needs_background": "light"
          }
        }
      ]
    },
    {
      "cell_type": "code",
      "metadata": {
        "colab": {
          "base_uri": "https://localhost:8080/",
          "height": 313
        },
        "id": "Jk9njV_7wsPn",
        "outputId": "929369c3-5d7a-4983-818f-98209d6235b0"
      },
      "source": [
        "plt.plot(range(1,epochs+1),acc_list)  \n",
        "plt.plot(range(1,epochs+1),vacc_list)  \n",
        "plt.title('accuracy vs. val_accuracy')\n",
        "plt.ylabel('Accuracy (%)')\n",
        "plt.xlabel('Epoch')\n",
        "plt.legend(['accuracy','val_accuracy'], loc='center')"
      ],
      "execution_count": 56,
      "outputs": [
        {
          "output_type": "execute_result",
          "data": {
            "text/plain": [
              "<matplotlib.legend.Legend at 0x7fdae0278438>"
            ]
          },
          "metadata": {
            "tags": []
          },
          "execution_count": 56
        },
        {
          "output_type": "display_data",
          "data": {
            "image/png": "[encoded data removed]",
            "text/plain": [
              "<Figure size 432x288 with 1 Axes>"
            ]
          },
          "metadata": {
            "tags": [],
            "needs_background": "light"
          }
        }
      ]
    }
  ]
}