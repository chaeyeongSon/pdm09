{
  "nbformat": 4,
  "nbformat_minor": 0,
  "metadata": {
    "colab": {
      "name": "tf2_7_fmnist_CNN_best.ipynb",
      "provenance": [],
      "collapsed_sections": [],
      "toc_visible": true,
      "authorship_tag": "ABX9TyPYoHc188mp5JKjLLo4KUhG",
      "include_colab_link": true
    },
    "kernelspec": {
      "name": "python3",
      "display_name": "Python 3"
    }
  },
  "cells": [
    {
      "cell_type": "markdown",
      "metadata": {
        "id": "view-in-github",
        "colab_type": "text"
      },
      "source": [
        "<a href=\"https://colab.research.google.com/github/chaeyeongSon/pdm09/blob/master/py-tensorflow/tf2_7_fmnist_CNN_best.ipynb\" target=\"_parent\"><img src=\"https://colab.research.google.com/assets/colab-badge.svg\" alt=\"Open In Colab\"/></a>"
      ]
    },
    {
      "cell_type": "markdown",
      "metadata": {
        "id": "DDVxPpoOBmPh"
      },
      "source": [
        "# **CNN model of mnist dataset**\n",
        "- Conv2D + FCN\n",
        "    * Conv2D : 2차원 합성곱 필터링 + 풀링(Pooling)\n",
        "    * FCN : 1차원 완전연결신경망\n",
        "\n",
        "***\n",
        "- ## Traget: **Find the best model**\n",
        "***\n",
        "\n",
        "![mnist_NN_2_layers](https://img1.daumcdn.net/thumb/R1280x0/?scode=mtistory2&fname=https%3A%2F%2Fblog.kakaocdn.net%2Fdn%2FdJp5Z6%2FbtqAPebnF3x%2FQCe5vVcskhmxe964bGz4iK%2Fimg.png)\n",
        "\n",
        "(source: https://img1.daumcdn.net/thumb/R1280x0/?scode=mtistory2&fname=https%3A%2F%2Fblog.kakaocdn.net%2Fdn%2FdJp5Z6%2FbtqAPebnF3x%2FQCe5vVcskhmxe964bGz4iK%2Fimg.png)"
      ]
    },
    {
      "cell_type": "markdown",
      "metadata": {
        "id": "PYLyH7EJB3AC"
      },
      "source": [
        "## Search the best model of C2F2\n",
        "- callback\n",
        "    - Early stopping\n",
        "    - model checkpoint"
      ]
    },
    {
      "cell_type": "code",
      "metadata": {
        "colab": {
          "base_uri": "https://localhost:8080/"
        },
        "id": "fgBq76hvBXnx",
        "outputId": "b444c4ce-a841-4b7b-f9ca-71181ba93c7e"
      },
      "source": [
        "import numpy as np\n",
        "import tensorflow as tf\n",
        "from tensorflow import keras\n",
        "import pandas as pd\n",
        "import matplotlib.pyplot as plt\n",
        "%matplotlib inline\n",
        "\n",
        "print(tf.__version__)\n",
        "tf.random.set_seed(0)"
      ],
      "execution_count": 1,
      "outputs": [
        {
          "output_type": "stream",
          "text": [
            "2.3.0\n"
          ],
          "name": "stdout"
        }
      ]
    },
    {
      "cell_type": "code",
      "metadata": {
        "id": "k0POq544E8EH"
      },
      "source": [
        "# import TF2 submodules\n",
        "from tensorflow.keras import layers, models, callbacks"
      ],
      "execution_count": 2,
      "outputs": []
    },
    {
      "cell_type": "code",
      "metadata": {
        "colab": {
          "base_uri": "https://localhost:8080/"
        },
        "id": "g50ykHO1B-3Q",
        "outputId": "a354b29b-3611-411d-ca6b-5c3884aa5653"
      },
      "source": [
        "from keras.datasets import fashion_mnist\n",
        "(X_train0, y_train0), (X_test0, y_test0) = fashion_mnist.load_data()\n",
        "\n",
        "# Reshape\n",
        "X_train = X_train0.reshape(60000,28,28,1)\n",
        "X_test = X_test0.reshape(10000,28,28,1)\n",
        "\n",
        "# Normalization\n",
        "X_train, X_test = X_train/255.0, X_test/255.0\n",
        "\n",
        "print(\"X_train={0}\".format(X_train.shape))\n",
        "print(\"y_train={0}\".format(y_train0.shape)) \n",
        "print(\"X_test={0}\".format(X_test.shape))\n",
        "print(\"y_test={0}\".format(y_test0.shape))"
      ],
      "execution_count": 3,
      "outputs": [
        {
          "output_type": "stream",
          "text": [
            "Downloading data from https://storage.googleapis.com/tensorflow/tf-keras-datasets/train-labels-idx1-ubyte.gz\n",
            "32768/29515 [=================================] - 0s 0us/step\n",
            "Downloading data from https://storage.googleapis.com/tensorflow/tf-keras-datasets/train-images-idx3-ubyte.gz\n",
            "26427392/26421880 [==============================] - 0s 0us/step\n",
            "Downloading data from https://storage.googleapis.com/tensorflow/tf-keras-datasets/t10k-labels-idx1-ubyte.gz\n",
            "8192/5148 [===============================================] - 0s 0us/step\n",
            "Downloading data from https://storage.googleapis.com/tensorflow/tf-keras-datasets/t10k-images-idx3-ubyte.gz\n",
            "4423680/4422102 [==============================] - 0s 0us/step\n",
            "X_train=(60000, 28, 28, 1)\n",
            "y_train=(60000,)\n",
            "X_test=(10000, 28, 28, 1)\n",
            "y_test=(10000,)\n"
          ],
          "name": "stdout"
        }
      ]
    },
    {
      "cell_type": "code",
      "metadata": {
        "colab": {
          "base_uri": "https://localhost:8080/"
        },
        "id": "3odmU6jOCu_o",
        "outputId": "a7e8f072-f4f7-47c2-e3e9-34dad3ab1f8e"
      },
      "source": [
        "# One-Hot-Encoding\n",
        "# Use function to_categorical() to do One-Hot-Encoding\n",
        "# tf.keras.utils.to_categorical\n",
        "from keras.utils import to_categorical\n",
        "\n",
        "y_train = to_categorical(y_train0, 10)\n",
        "y_test = to_categorical(y_test0, 10)\n",
        "y_train.shape,y_test.shape"
      ],
      "execution_count": 4,
      "outputs": [
        {
          "output_type": "execute_result",
          "data": {
            "text/plain": [
              "((60000, 10), (10000, 10))"
            ]
          },
          "metadata": {
            "tags": []
          },
          "execution_count": 4
        }
      ]
    },
    {
      "cell_type": "code",
      "metadata": {
        "colab": {
          "base_uri": "https://localhost:8080/"
        },
        "id": "SWWGaRxbC0sQ",
        "outputId": "c999c7f5-14e3-4e8a-a84f-a9c087db9105"
      },
      "source": [
        "# y_train0.shape vs. y_train.shape\n",
        "y_train0.shape, y_train.shape"
      ],
      "execution_count": 5,
      "outputs": [
        {
          "output_type": "execute_result",
          "data": {
            "text/plain": [
              "((60000,), (60000, 10))"
            ]
          },
          "metadata": {
            "tags": []
          },
          "execution_count": 5
        }
      ]
    },
    {
      "cell_type": "markdown",
      "metadata": {
        "id": "vqZAyVe6C6sv"
      },
      "source": [
        "### Display Fashion\n",
        "- one random Fashion\n",
        "- 10 representative Fashion"
      ]
    },
    {
      "cell_type": "code",
      "metadata": {
        "colab": {
          "base_uri": "https://localhost:8080/",
          "height": 286
        },
        "id": "TRhqAvguC8mf",
        "outputId": "f019f494-13e1-439d-b0d8-ed36c3b59eef"
      },
      "source": [
        "# Code here!\n",
        "# display one random image from the training set:\n",
        "class_names = ['T-shirt/top', 'Trouser', 'Pullover', 'Dress', 'Coat', 'Sandal', 'Shirt', 'Sneaker', 'Bag', 'Ankle boot']\n",
        "\n",
        "idx = np.random.randint(0, X_train0.shape[0])\n",
        "print(idx)\n",
        "image = X_train0[idx]\n",
        "plt.imshow(image) #, cmap=plt.get_cmap('gray'))\n",
        "plt.title(class_names[y_train0[idx]])\n",
        "plt.xticks([])\n",
        "plt.yticks([])\n",
        "plt.show()"
      ],
      "execution_count": 6,
      "outputs": [
        {
          "output_type": "stream",
          "text": [
            "44266\n"
          ],
          "name": "stdout"
        },
        {
          "output_type": "display_data",
          "data": {
            "image/png": "[encoded data removed]",
            "text/plain": [
              "<Figure size 432x288 with 1 Axes>"
            ]
          },
          "metadata": {
            "tags": []
          }
        }
      ]
    },
    {
      "cell_type": "code",
      "metadata": {
        "colab": {
          "base_uri": "https://localhost:8080/",
          "height": 325
        },
        "id": "4Fmd9urKD8wf",
        "outputId": "3af38638-7fbb-46a5-cb45-fd873c19fedf"
      },
      "source": [
        "fig = plt.figure(figsize=(10,6))\n",
        "for i in range(10):\n",
        "    plt.subplot(2, 5, i+1)\n",
        "    num0_9 = X_train0[y_train0 == i]\n",
        "    # print(num0_9.shape)\n",
        "    plt.imshow(num0_9[0]) #, cmap='gray') #, interpolation='none')\n",
        "    plt.title(\"Class %d\" % (i))\n",
        "    plt.xticks([])\n",
        "    plt.yticks([])"
      ],
      "execution_count": 7,
      "outputs": [
        {
          "output_type": "display_data",
          "data": {
            "image/png": "[encoded data removed]",
            "text/plain": [
              "<Figure size 720x432 with 10 Axes>"
            ]
          },
          "metadata": {
            "tags": []
          }
        }
      ]
    },
    {
      "cell_type": "markdown",
      "metadata": {
        "id": "WceVnz5bEJd3"
      },
      "source": [
        "# Design CNN"
      ]
    },
    {
      "cell_type": "markdown",
      "metadata": {
        "id": "deeqZju_EMM3"
      },
      "source": [
        "### import models, layers, callbacks\n",
        "- models: Sequential\n",
        "- layers: Conv2D, MaxPool2D, Flatten\n",
        "- callbacks: ModelCheckpoint, EarlyStopping"
      ]
    },
    {
      "cell_type": "code",
      "metadata": {
        "id": "ezxuO20dELyv"
      },
      "source": [
        "from keras.models import Sequential\n",
        "from keras.layers import Conv2D, MaxPool2D, Flatten\n",
        "from keras.callbacks import ModelCheckpoint, EarlyStopping"
      ],
      "execution_count": 8,
      "outputs": []
    },
    {
      "cell_type": "code",
      "metadata": {
        "id": "rTPVw9ziEZGJ"
      },
      "source": [
        "c2f2 = keras.models.Sequential([ \n",
        "    Conv2D(input_shape=(28,28,1),kernel_size=(3,3),strides=(1,1),filters= 32,padding='same',activation='relu'),\n",
        "    MaxPool2D(pool_size=(2,2), strides=(2,2)), \n",
        "    Conv2D(kernel_size=(3,3),strides=(1,1),filters= 64,padding='same',activation='relu'),\n",
        "    MaxPool2D(pool_size=(2,2), strides=(2,2)),\n",
        "    Flatten(), \n",
        "    keras.layers.Dense(128, activation='relu'),  \n",
        "    keras.layers.Dropout(0.25), \n",
        "    keras.layers.Dense(10, activation='softmax')\n",
        "])\n",
        "\n",
        "c2f2.compile(optimizer='adam',\n",
        "              loss='categorical_crossentropy',\n",
        "              metrics=['accuracy']) "
      ],
      "execution_count": 9,
      "outputs": []
    },
    {
      "cell_type": "code",
      "metadata": {
        "colab": {
          "base_uri": "https://localhost:8080/"
        },
        "id": "f3tl4ZvxEc8o",
        "outputId": "39c380f3-7dbc-4472-d155-438104ea1e86"
      },
      "source": [
        "c2f2.summary()"
      ],
      "execution_count": 10,
      "outputs": [
        {
          "output_type": "stream",
          "text": [
            "Model: \"sequential\"\n",
            "_________________________________________________________________\n",
            "Layer (type)                 Output Shape              Param #   \n",
            "=================================================================\n",
            "conv2d (Conv2D)              (None, 28, 28, 32)        320       \n",
            "_________________________________________________________________\n",
            "max_pooling2d (MaxPooling2D) (None, 14, 14, 32)        0         \n",
            "_________________________________________________________________\n",
            "conv2d_1 (Conv2D)            (None, 14, 14, 64)        18496     \n",
            "_________________________________________________________________\n",
            "max_pooling2d_1 (MaxPooling2 (None, 7, 7, 64)          0         \n",
            "_________________________________________________________________\n",
            "flatten (Flatten)            (None, 3136)              0         \n",
            "_________________________________________________________________\n",
            "dense (Dense)                (None, 128)               401536    \n",
            "_________________________________________________________________\n",
            "dropout (Dropout)            (None, 128)               0         \n",
            "_________________________________________________________________\n",
            "dense_1 (Dense)              (None, 10)                1290      \n",
            "=================================================================\n",
            "Total params: 421,642\n",
            "Trainable params: 421,642\n",
            "Non-trainable params: 0\n",
            "_________________________________________________________________\n"
          ],
          "name": "stdout"
        }
      ]
    },
    {
      "cell_type": "code",
      "metadata": {
        "id": "ltXoFOBDEfho"
      },
      "source": [
        "cp_callback = callbacks.ModelCheckpoint(filepath=\"./fmnist_c2f2_best_weights.{epoch:03d}-{val_accuracy:.4f}.hdf5\", \n",
        "                              monitor='val_accuracy', verbose=0, save_best_only=True)\n",
        "es_callback = callbacks.EarlyStopping(monitor='val_accuracy', \n",
        "                            mode='max', verbose=1, patience=50)    # patience=10, 20, 50"
      ],
      "execution_count": 11,
      "outputs": []
    },
    {
      "cell_type": "code",
      "metadata": {
        "id": "UyoksDewE-hB",
        "colab": {
          "base_uri": "https://localhost:8080/"
        },
        "outputId": "cce17641-f0fb-4046-9f02-69948675d7da"
      },
      "source": [
        "# Train CNN model\n",
        "# Find and save the best model.\n",
        "hist = c2f2.fit(X_train, y_train, epochs = 500 , batch_size =32, \n",
        "         callbacks=[cp_callback, es_callback], \n",
        "         validation_data=(X_test,y_test))"
      ],
      "execution_count": 12,
      "outputs": [
        {
          "output_type": "stream",
          "text": [
            "Epoch 1/500\n",
            "1875/1875 [==============================] - 73s 39ms/step - loss: 0.4341 - accuracy: 0.8442 - val_loss: 0.3247 - val_accuracy: 0.8839\n",
            "Epoch 2/500\n",
            "1875/1875 [==============================] - 72s 39ms/step - loss: 0.2871 - accuracy: 0.8959 - val_loss: 0.2679 - val_accuracy: 0.9032\n",
            "Epoch 3/500\n",
            "1875/1875 [==============================] - 73s 39ms/step - loss: 0.2417 - accuracy: 0.9113 - val_loss: 0.2622 - val_accuracy: 0.9049\n",
            "Epoch 4/500\n",
            "1875/1875 [==============================] - 73s 39ms/step - loss: 0.2094 - accuracy: 0.9225 - val_loss: 0.2369 - val_accuracy: 0.9133\n",
            "Epoch 5/500\n",
            "1875/1875 [==============================] - 73s 39ms/step - loss: 0.1871 - accuracy: 0.9300 - val_loss: 0.2573 - val_accuracy: 0.9096\n",
            "Epoch 6/500\n",
            "1875/1875 [==============================] - 73s 39ms/step - loss: 0.1642 - accuracy: 0.9380 - val_loss: 0.2266 - val_accuracy: 0.9222\n",
            "Epoch 7/500\n",
            "1875/1875 [==============================] - 79s 42ms/step - loss: 0.1496 - accuracy: 0.9438 - val_loss: 0.2372 - val_accuracy: 0.9191\n",
            "Epoch 8/500\n",
            "1875/1875 [==============================] - 73s 39ms/step - loss: 0.1333 - accuracy: 0.9489 - val_loss: 0.2398 - val_accuracy: 0.9214\n",
            "Epoch 9/500\n",
            "1875/1875 [==============================] - 73s 39ms/step - loss: 0.1189 - accuracy: 0.9548 - val_loss: 0.2497 - val_accuracy: 0.9231\n",
            "Epoch 10/500\n",
            "1875/1875 [==============================] - 73s 39ms/step - loss: 0.1086 - accuracy: 0.9590 - val_loss: 0.2560 - val_accuracy: 0.9222\n",
            "Epoch 11/500\n",
            "1875/1875 [==============================] - 73s 39ms/step - loss: 0.1002 - accuracy: 0.9618 - val_loss: 0.2845 - val_accuracy: 0.9230\n",
            "Epoch 12/500\n",
            "1875/1875 [==============================] - 72s 39ms/step - loss: 0.0887 - accuracy: 0.9661 - val_loss: 0.2653 - val_accuracy: 0.9196\n",
            "Epoch 13/500\n",
            "1875/1875 [==============================] - 73s 39ms/step - loss: 0.0805 - accuracy: 0.9697 - val_loss: 0.3053 - val_accuracy: 0.9218\n",
            "Epoch 14/500\n",
            "1875/1875 [==============================] - 72s 39ms/step - loss: 0.0778 - accuracy: 0.9707 - val_loss: 0.3355 - val_accuracy: 0.9230\n",
            "Epoch 15/500\n",
            "1875/1875 [==============================] - 77s 41ms/step - loss: 0.0711 - accuracy: 0.9729 - val_loss: 0.3166 - val_accuracy: 0.9190\n",
            "Epoch 16/500\n",
            "1875/1875 [==============================] - 72s 39ms/step - loss: 0.0648 - accuracy: 0.9755 - val_loss: 0.3301 - val_accuracy: 0.9206\n",
            "Epoch 17/500\n",
            "1875/1875 [==============================] - 73s 39ms/step - loss: 0.0620 - accuracy: 0.9763 - val_loss: 0.3606 - val_accuracy: 0.9209\n",
            "Epoch 18/500\n",
            "1875/1875 [==============================] - 74s 40ms/step - loss: 0.0585 - accuracy: 0.9782 - val_loss: 0.3533 - val_accuracy: 0.9217\n",
            "Epoch 19/500\n",
            "1875/1875 [==============================] - 74s 39ms/step - loss: 0.0558 - accuracy: 0.9784 - val_loss: 0.3900 - val_accuracy: 0.9159\n",
            "Epoch 20/500\n",
            "1875/1875 [==============================] - 74s 40ms/step - loss: 0.0513 - accuracy: 0.9806 - val_loss: 0.4010 - val_accuracy: 0.9245\n",
            "Epoch 21/500\n",
            "1875/1875 [==============================] - 73s 39ms/step - loss: 0.0511 - accuracy: 0.9801 - val_loss: 0.4214 - val_accuracy: 0.9220\n",
            "Epoch 22/500\n",
            "1875/1875 [==============================] - 74s 39ms/step - loss: 0.0486 - accuracy: 0.9813 - val_loss: 0.4176 - val_accuracy: 0.9212\n",
            "Epoch 23/500\n",
            "1875/1875 [==============================] - 74s 39ms/step - loss: 0.0443 - accuracy: 0.9830 - val_loss: 0.3972 - val_accuracy: 0.9227\n",
            "Epoch 24/500\n",
            "1875/1875 [==============================] - 73s 39ms/step - loss: 0.0467 - accuracy: 0.9815 - val_loss: 0.4399 - val_accuracy: 0.9208\n",
            "Epoch 25/500\n",
            "1875/1875 [==============================] - 74s 39ms/step - loss: 0.0411 - accuracy: 0.9844 - val_loss: 0.4625 - val_accuracy: 0.9213\n",
            "Epoch 26/500\n",
            "1875/1875 [==============================] - 73s 39ms/step - loss: 0.0408 - accuracy: 0.9841 - val_loss: 0.4832 - val_accuracy: 0.9194\n",
            "Epoch 27/500\n",
            "1875/1875 [==============================] - 73s 39ms/step - loss: 0.0397 - accuracy: 0.9851 - val_loss: 0.5073 - val_accuracy: 0.9196\n",
            "Epoch 28/500\n",
            "1875/1875 [==============================] - 73s 39ms/step - loss: 0.0412 - accuracy: 0.9844 - val_loss: 0.5036 - val_accuracy: 0.9186\n",
            "Epoch 29/500\n",
            "1875/1875 [==============================] - 74s 39ms/step - loss: 0.0405 - accuracy: 0.9847 - val_loss: 0.4647 - val_accuracy: 0.9179\n",
            "Epoch 30/500\n",
            "1875/1875 [==============================] - 74s 40ms/step - loss: 0.0389 - accuracy: 0.9859 - val_loss: 0.5031 - val_accuracy: 0.9189\n",
            "Epoch 31/500\n",
            "1875/1875 [==============================] - 74s 39ms/step - loss: 0.0382 - accuracy: 0.9861 - val_loss: 0.5492 - val_accuracy: 0.9174\n",
            "Epoch 32/500\n",
            "1875/1875 [==============================] - 74s 39ms/step - loss: 0.0379 - accuracy: 0.9868 - val_loss: 0.5237 - val_accuracy: 0.9223\n",
            "Epoch 33/500\n",
            "1875/1875 [==============================] - 74s 39ms/step - loss: 0.0343 - accuracy: 0.9871 - val_loss: 0.5314 - val_accuracy: 0.9218\n",
            "Epoch 34/500\n",
            "1875/1875 [==============================] - 73s 39ms/step - loss: 0.0365 - accuracy: 0.9867 - val_loss: 0.5301 - val_accuracy: 0.9208\n",
            "Epoch 35/500\n",
            "1875/1875 [==============================] - 74s 39ms/step - loss: 0.0327 - accuracy: 0.9881 - val_loss: 0.5805 - val_accuracy: 0.9206\n",
            "Epoch 36/500\n",
            "1875/1875 [==============================] - 74s 39ms/step - loss: 0.0336 - accuracy: 0.9878 - val_loss: 0.5609 - val_accuracy: 0.9203\n",
            "Epoch 37/500\n",
            "1875/1875 [==============================] - 74s 39ms/step - loss: 0.0355 - accuracy: 0.9874 - val_loss: 0.5426 - val_accuracy: 0.9226\n",
            "Epoch 38/500\n",
            "1875/1875 [==============================] - 74s 39ms/step - loss: 0.0338 - accuracy: 0.9875 - val_loss: 0.5579 - val_accuracy: 0.9222\n",
            "Epoch 39/500\n",
            "1875/1875 [==============================] - 74s 39ms/step - loss: 0.0298 - accuracy: 0.9897 - val_loss: 0.6325 - val_accuracy: 0.9199\n",
            "Epoch 40/500\n",
            "1875/1875 [==============================] - 74s 40ms/step - loss: 0.0318 - accuracy: 0.9890 - val_loss: 0.6205 - val_accuracy: 0.9180\n",
            "Epoch 41/500\n",
            "1875/1875 [==============================] - 74s 39ms/step - loss: 0.0305 - accuracy: 0.9891 - val_loss: 0.5989 - val_accuracy: 0.9209\n",
            "Epoch 42/500\n",
            "1875/1875 [==============================] - 74s 39ms/step - loss: 0.0325 - accuracy: 0.9885 - val_loss: 0.6018 - val_accuracy: 0.9202\n",
            "Epoch 43/500\n",
            "1875/1875 [==============================] - 74s 39ms/step - loss: 0.0312 - accuracy: 0.9890 - val_loss: 0.5906 - val_accuracy: 0.9178\n",
            "Epoch 44/500\n",
            "1875/1875 [==============================] - 74s 39ms/step - loss: 0.0303 - accuracy: 0.9893 - val_loss: 0.6196 - val_accuracy: 0.9178\n",
            "Epoch 45/500\n",
            "1875/1875 [==============================] - 74s 39ms/step - loss: 0.0284 - accuracy: 0.9901 - val_loss: 0.5985 - val_accuracy: 0.9234\n",
            "Epoch 46/500\n",
            "1875/1875 [==============================] - 74s 39ms/step - loss: 0.0295 - accuracy: 0.9894 - val_loss: 0.6208 - val_accuracy: 0.9192\n",
            "Epoch 47/500\n",
            "1875/1875 [==============================] - 74s 40ms/step - loss: 0.0282 - accuracy: 0.9900 - val_loss: 0.6821 - val_accuracy: 0.9209\n",
            "Epoch 48/500\n",
            "1875/1875 [==============================] - 74s 39ms/step - loss: 0.0304 - accuracy: 0.9898 - val_loss: 0.6228 - val_accuracy: 0.9200\n",
            "Epoch 49/500\n",
            "1875/1875 [==============================] - 74s 39ms/step - loss: 0.0298 - accuracy: 0.9896 - val_loss: 0.6858 - val_accuracy: 0.9184\n",
            "Epoch 50/500\n",
            "1875/1875 [==============================] - 74s 39ms/step - loss: 0.0276 - accuracy: 0.9905 - val_loss: 0.6485 - val_accuracy: 0.9202\n",
            "Epoch 51/500\n",
            "1875/1875 [==============================] - 74s 39ms/step - loss: 0.0274 - accuracy: 0.9907 - val_loss: 0.6909 - val_accuracy: 0.9162\n",
            "Epoch 52/500\n",
            "1875/1875 [==============================] - 74s 40ms/step - loss: 0.0272 - accuracy: 0.9908 - val_loss: 0.6801 - val_accuracy: 0.9203\n",
            "Epoch 53/500\n",
            "1875/1875 [==============================] - 74s 39ms/step - loss: 0.0272 - accuracy: 0.9906 - val_loss: 0.6859 - val_accuracy: 0.9189\n",
            "Epoch 54/500\n",
            "1875/1875 [==============================] - 74s 39ms/step - loss: 0.0291 - accuracy: 0.9900 - val_loss: 0.6329 - val_accuracy: 0.9222\n",
            "Epoch 55/500\n",
            "1875/1875 [==============================] - 74s 39ms/step - loss: 0.0242 - accuracy: 0.9919 - val_loss: 0.7291 - val_accuracy: 0.9212\n",
            "Epoch 56/500\n",
            "1875/1875 [==============================] - 74s 40ms/step - loss: 0.0277 - accuracy: 0.9911 - val_loss: 0.6919 - val_accuracy: 0.9200\n",
            "Epoch 57/500\n",
            "1875/1875 [==============================] - 74s 40ms/step - loss: 0.0244 - accuracy: 0.9913 - val_loss: 0.6722 - val_accuracy: 0.9219\n",
            "Epoch 58/500\n",
            "1875/1875 [==============================] - 74s 40ms/step - loss: 0.0289 - accuracy: 0.9904 - val_loss: 0.7261 - val_accuracy: 0.9213\n",
            "Epoch 59/500\n",
            "1875/1875 [==============================] - 74s 39ms/step - loss: 0.0286 - accuracy: 0.9900 - val_loss: 0.7689 - val_accuracy: 0.9198\n",
            "Epoch 60/500\n",
            "1875/1875 [==============================] - 74s 39ms/step - loss: 0.0240 - accuracy: 0.9915 - val_loss: 0.7314 - val_accuracy: 0.9232\n",
            "Epoch 61/500\n",
            "1875/1875 [==============================] - 73s 39ms/step - loss: 0.0244 - accuracy: 0.9917 - val_loss: 0.7261 - val_accuracy: 0.9200\n",
            "Epoch 62/500\n",
            "1875/1875 [==============================] - 73s 39ms/step - loss: 0.0256 - accuracy: 0.9915 - val_loss: 0.7307 - val_accuracy: 0.9116\n",
            "Epoch 63/500\n",
            "1875/1875 [==============================] - 72s 39ms/step - loss: 0.0245 - accuracy: 0.9917 - val_loss: 0.7027 - val_accuracy: 0.9209\n",
            "Epoch 64/500\n",
            "1875/1875 [==============================] - 73s 39ms/step - loss: 0.0262 - accuracy: 0.9911 - val_loss: 0.7628 - val_accuracy: 0.9209\n",
            "Epoch 65/500\n",
            "1875/1875 [==============================] - 73s 39ms/step - loss: 0.0257 - accuracy: 0.9916 - val_loss: 0.7731 - val_accuracy: 0.9184\n",
            "Epoch 66/500\n",
            "1875/1875 [==============================] - 72s 39ms/step - loss: 0.0254 - accuracy: 0.9918 - val_loss: 0.8099 - val_accuracy: 0.9199\n",
            "Epoch 67/500\n",
            "1875/1875 [==============================] - 72s 39ms/step - loss: 0.0244 - accuracy: 0.9925 - val_loss: 0.7885 - val_accuracy: 0.9150\n",
            "Epoch 68/500\n",
            "1875/1875 [==============================] - 73s 39ms/step - loss: 0.0236 - accuracy: 0.9922 - val_loss: 0.7546 - val_accuracy: 0.9221\n",
            "Epoch 69/500\n",
            "1875/1875 [==============================] - 72s 39ms/step - loss: 0.0240 - accuracy: 0.9920 - val_loss: 0.7714 - val_accuracy: 0.9173\n",
            "Epoch 70/500\n",
            "1875/1875 [==============================] - 72s 39ms/step - loss: 0.0245 - accuracy: 0.9915 - val_loss: 0.8426 - val_accuracy: 0.9186\n",
            "Epoch 00070: early stopping\n"
          ],
          "name": "stdout"
        }
      ]
    },
    {
      "cell_type": "code",
      "metadata": {
        "id": "GQRgN_-vFM34",
        "colab": {
          "base_uri": "https://localhost:8080/"
        },
        "outputId": "c8c8cf34-fc01-4143-ecb3-e06072d73a89"
      },
      "source": [
        "c2f2.evaluate(X_test, y_test, batch_size =32)"
      ],
      "execution_count": 13,
      "outputs": [
        {
          "output_type": "stream",
          "text": [
            "313/313 [==============================] - 3s 11ms/step - loss: 0.8426 - accuracy: 0.9186\n"
          ],
          "name": "stdout"
        },
        {
          "output_type": "execute_result",
          "data": {
            "text/plain": [
              "[0.8426347374916077, 0.9186000227928162]"
            ]
          },
          "metadata": {
            "tags": []
          },
          "execution_count": 13
        }
      ]
    },
    {
      "cell_type": "markdown",
      "metadata": {
        "id": "0lY7SAB2FP0W"
      },
      "source": [
        "## Graph of loss and accuracy\n",
        "- model: C2F2"
      ]
    },
    {
      "cell_type": "code",
      "metadata": {
        "colab": {
          "base_uri": "https://localhost:8080/",
          "height": 313
        },
        "id": "LfC1ZGnPgRTi",
        "outputId": "9cb24340-8356-4293-fd48-aeff385a5d22"
      },
      "source": [
        "epochs = 70\n",
        "loss_list = [100 * i for i in hist.history['loss']]\n",
        "acc_list = [100 * i for i in hist.history['accuracy']]\n",
        "plt.plot(range(1,epochs+1),loss_list) \n",
        "plt.plot(range(1,epochs+1),acc_list) \n",
        "plt.title('Model loss & accuracy')\n",
        "plt.ylabel('Accuracy (%)')\n",
        "plt.xlabel('Epoch')\n",
        "plt.legend(['loss', 'accuracy'], loc='center left')"
      ],
      "execution_count": 14,
      "outputs": [
        {
          "output_type": "execute_result",
          "data": {
            "text/plain": [
              "<matplotlib.legend.Legend at 0x7fe7e8ed6438>"
            ]
          },
          "metadata": {
            "tags": []
          },
          "execution_count": 14
        },
        {
          "output_type": "display_data",
          "data": {
            "image/png": "[encoded data removed]",
            "text/plain": [
              "<Figure size 432x288 with 1 Axes>"
            ]
          },
          "metadata": {
            "tags": [],
            "needs_background": "light"
          }
        }
      ]
    },
    {
      "cell_type": "code",
      "metadata": {
        "id": "hzwjTGXNgU9i"
      },
      "source": [
        "vloss_list = [100 * i for i in hist.history['val_loss']]\n",
        "vacc_list = [100 * i for i in hist.history['val_accuracy']]"
      ],
      "execution_count": 15,
      "outputs": []
    },
    {
      "cell_type": "code",
      "metadata": {
        "colab": {
          "base_uri": "https://localhost:8080/",
          "height": 313
        },
        "id": "zPJlgCgSgWxy",
        "outputId": "87dbc6c3-bc6f-40de-a05c-c175e3a55c9b"
      },
      "source": [
        "plt.plot(range(1,epochs+1),vloss_list)  \n",
        "plt.plot(range(1,epochs+1),vacc_list)  \n",
        "plt.title('Model val_loss & val_accuracy')\n",
        "plt.ylabel('Accuracy (%)')\n",
        "plt.xlabel('Epoch')\n",
        "plt.legend(['val_loss', 'val_accuracy'], loc='center left')"
      ],
      "execution_count": 16,
      "outputs": [
        {
          "output_type": "execute_result",
          "data": {
            "text/plain": [
              "<matplotlib.legend.Legend at 0x7fe7e8ef3eb8>"
            ]
          },
          "metadata": {
            "tags": []
          },
          "execution_count": 16
        },
        {
          "output_type": "display_data",
          "data": {
            "image/png": "[encoded data removed]",
            "text/plain": [
              "<Figure size 432x288 with 1 Axes>"
            ]
          },
          "metadata": {
            "tags": [],
            "needs_background": "light"
          }
        }
      ]
    },
    {
      "cell_type": "code",
      "metadata": {
        "colab": {
          "base_uri": "https://localhost:8080/"
        },
        "id": "_EpiuwrOgaTk",
        "outputId": "f4326905-b5b2-4a43-ad80-c757b1cfc5eb"
      },
      "source": [
        "np.argmax(np.array(vacc_list))"
      ],
      "execution_count": 17,
      "outputs": [
        {
          "output_type": "execute_result",
          "data": {
            "text/plain": [
              "19"
            ]
          },
          "metadata": {
            "tags": []
          },
          "execution_count": 17
        }
      ]
    },
    {
      "cell_type": "code",
      "metadata": {
        "colab": {
          "base_uri": "https://localhost:8080/"
        },
        "id": "ZQROCEq2gdna",
        "outputId": "ec5b4319-b651-464d-915b-8fc7f4280488"
      },
      "source": [
        "vacc_list[np.argmax(np.array(vacc_list))]"
      ],
      "execution_count": 18,
      "outputs": [
        {
          "output_type": "execute_result",
          "data": {
            "text/plain": [
              "92.44999885559082"
            ]
          },
          "metadata": {
            "tags": []
          },
          "execution_count": 18
        }
      ]
    },
    {
      "cell_type": "code",
      "metadata": {
        "colab": {
          "base_uri": "https://localhost:8080/",
          "height": 313
        },
        "id": "59LO0A8WgfQj",
        "outputId": "ce95d259-f080-4b78-bd01-b5aa7a081800"
      },
      "source": [
        "plt.plot(range(1,epochs+1),acc_list)  \n",
        "plt.plot(range(1,epochs+1),vacc_list)  \n",
        "plt.title('accuracy vs. val_accuracy')\n",
        "plt.ylabel('Accuracy (%)')\n",
        "plt.xlabel('Epoch')\n",
        "plt.legend(['accuracy','val_accuracy'], loc='center')\n",
        "plt.plot(np.argmax(np.array(vacc_list))+1,vacc_list[np.argmax(np.array(vacc_list))], 'r*') "
      ],
      "execution_count": 19,
      "outputs": [
        {
          "output_type": "execute_result",
          "data": {
            "text/plain": [
              "[<matplotlib.lines.Line2D at 0x7fe7e8dd00b8>]"
            ]
          },
          "metadata": {
            "tags": []
          },
          "execution_count": 19
        },
        {
          "output_type": "display_data",
          "data": {
            "image/png": "[encoded data removed]",
            "text/plain": [
              "<Figure size 432x288 with 1 Axes>"
            ]
          },
          "metadata": {
            "tags": [],
            "needs_background": "light"
          }
        }
      ]
    },
    {
      "cell_type": "code",
      "metadata": {
        "colab": {
          "base_uri": "https://localhost:8080/"
        },
        "id": "8SFpyqPsglUu",
        "outputId": "62f5ae19-934a-4010-de08-3b9f11163a7f"
      },
      "source": [
        "from keras.models import load_model\n",
        "\n",
        "model = load_model('fmnist_c2f2_best_weights.020-0.9245.hdf5')\n",
        "model.evaluate(X_test, y_test, batch_size=32)"
      ],
      "execution_count": 21,
      "outputs": [
        {
          "output_type": "stream",
          "text": [
            "313/313 [==============================] - 3s 10ms/step - loss: 0.4010 - accuracy: 0.9245\n"
          ],
          "name": "stdout"
        },
        {
          "output_type": "execute_result",
          "data": {
            "text/plain": [
              "[0.4010082185268402, 0.9244999885559082]"
            ]
          },
          "metadata": {
            "tags": []
          },
          "execution_count": 21
        }
      ]
    },
    {
      "cell_type": "markdown",
      "metadata": {
        "id": "MumcSGz_gxT_"
      },
      "source": [
        "## [DIY] C2F3의 best model을 구하시오."
      ]
    },
    {
      "cell_type": "markdown",
      "metadata": {
        "id": "pwgH_cUHgz6B"
      },
      "source": [
        "## **CNN2 + FCN3**"
      ]
    },
    {
      "cell_type": "code",
      "metadata": {
        "id": "dhpwNmNCgxAy"
      },
      "source": [
        "c2f3 = keras.models.Sequential([ \n",
        "    Conv2D(input_shape=(28,28,1),kernel_size=(3,3),strides=(1,1),filters= 32,padding='same',activation='relu'),\n",
        "    MaxPool2D(pool_size=(2,2), strides=(2,2)), \n",
        "    Conv2D(kernel_size=(3,3),strides=(1,1),filters= 64,padding='same',activation='relu'),\n",
        "    MaxPool2D(pool_size=(2,2), strides=(2,2)),\n",
        "    Flatten(), \n",
        "    keras.layers.Dense(128, activation='relu'),  \n",
        "    keras.layers.Dropout(0.25), \n",
        "    keras.layers.Dense(64, activation='relu'),  \n",
        "    keras.layers.Dropout(0.25), \n",
        "    keras.layers.Dense(10, activation='softmax')\n",
        "])\n",
        "\n",
        "c2f3.compile(optimizer='adam',\n",
        "              loss='categorical_crossentropy',\n",
        "              metrics=['accuracy']) "
      ],
      "execution_count": 22,
      "outputs": []
    },
    {
      "cell_type": "code",
      "metadata": {
        "colab": {
          "base_uri": "https://localhost:8080/"
        },
        "id": "NDCklOuDhBAK",
        "outputId": "775ad749-f5b1-4865-a493-b309778a7682"
      },
      "source": [
        "c2f3.summary()"
      ],
      "execution_count": 23,
      "outputs": [
        {
          "output_type": "stream",
          "text": [
            "Model: \"sequential_1\"\n",
            "_________________________________________________________________\n",
            "Layer (type)                 Output Shape              Param #   \n",
            "=================================================================\n",
            "conv2d_2 (Conv2D)            (None, 28, 28, 32)        320       \n",
            "_________________________________________________________________\n",
            "max_pooling2d_2 (MaxPooling2 (None, 14, 14, 32)        0         \n",
            "_________________________________________________________________\n",
            "conv2d_3 (Conv2D)            (None, 14, 14, 64)        18496     \n",
            "_________________________________________________________________\n",
            "max_pooling2d_3 (MaxPooling2 (None, 7, 7, 64)          0         \n",
            "_________________________________________________________________\n",
            "flatten_1 (Flatten)          (None, 3136)              0         \n",
            "_________________________________________________________________\n",
            "dense_2 (Dense)              (None, 128)               401536    \n",
            "_________________________________________________________________\n",
            "dropout_1 (Dropout)          (None, 128)               0         \n",
            "_________________________________________________________________\n",
            "dense_3 (Dense)              (None, 64)                8256      \n",
            "_________________________________________________________________\n",
            "dropout_2 (Dropout)          (None, 64)                0         \n",
            "_________________________________________________________________\n",
            "dense_4 (Dense)              (None, 10)                650       \n",
            "=================================================================\n",
            "Total params: 429,258\n",
            "Trainable params: 429,258\n",
            "Non-trainable params: 0\n",
            "_________________________________________________________________\n"
          ],
          "name": "stdout"
        }
      ]
    },
    {
      "cell_type": "code",
      "metadata": {
        "id": "Qmue6Kj-hCvy"
      },
      "source": [
        "cp_callback = callbacks.ModelCheckpoint(filepath=\"./fmnist_c2f3_best_weights.{epoch:03d}-{val_accuracy:.4f}.hdf5\", \n",
        "                              monitor='val_accuracy', verbose=0, save_best_only=True)\n",
        "es_callback = callbacks.EarlyStopping(monitor='val_accuracy', \n",
        "                            mode='max', verbose=1, patience=50)    # patience=10, 20, 50"
      ],
      "execution_count": 24,
      "outputs": []
    },
    {
      "cell_type": "code",
      "metadata": {
        "colab": {
          "base_uri": "https://localhost:8080/"
        },
        "id": "eTI35xdRhHH6",
        "outputId": "230bd7a8-2131-4f81-a578-b8d6d1206cb7"
      },
      "source": [
        "hist = c2f3.fit(X_train, y_train, epochs = 500 , batch_size =32, \n",
        "         callbacks=[cp_callback, es_callback], \n",
        "         validation_data=(X_test,y_test))"
      ],
      "execution_count": 26,
      "outputs": [
        {
          "output_type": "stream",
          "text": [
            "Epoch 1/500\n",
            "1875/1875 [==============================] - 72s 38ms/step - loss: 0.4946 - accuracy: 0.8225 - val_loss: 0.3334 - val_accuracy: 0.8802\n",
            "Epoch 2/500\n",
            "1875/1875 [==============================] - 71s 38ms/step - loss: 0.3281 - accuracy: 0.8830 - val_loss: 0.2825 - val_accuracy: 0.8966\n",
            "Epoch 3/500\n",
            "1875/1875 [==============================] - 71s 38ms/step - loss: 0.2773 - accuracy: 0.9007 - val_loss: 0.2806 - val_accuracy: 0.8990\n",
            "Epoch 4/500\n",
            "1875/1875 [==============================] - 71s 38ms/step - loss: 0.2459 - accuracy: 0.9112 - val_loss: 0.2563 - val_accuracy: 0.9068\n",
            "Epoch 5/500\n",
            "1875/1875 [==============================] - 71s 38ms/step - loss: 0.2257 - accuracy: 0.9190 - val_loss: 0.2623 - val_accuracy: 0.9061\n",
            "Epoch 6/500\n",
            "1875/1875 [==============================] - 72s 38ms/step - loss: 0.2057 - accuracy: 0.9258 - val_loss: 0.2397 - val_accuracy: 0.9153\n",
            "Epoch 7/500\n",
            "1875/1875 [==============================] - 72s 38ms/step - loss: 0.1911 - accuracy: 0.9299 - val_loss: 0.2387 - val_accuracy: 0.9207\n",
            "Epoch 8/500\n",
            "1875/1875 [==============================] - 72s 38ms/step - loss: 0.1774 - accuracy: 0.9359 - val_loss: 0.2435 - val_accuracy: 0.9178\n",
            "Epoch 9/500\n",
            "1875/1875 [==============================] - 72s 38ms/step - loss: 0.1666 - accuracy: 0.9390 - val_loss: 0.2560 - val_accuracy: 0.9174\n",
            "Epoch 10/500\n",
            "1875/1875 [==============================] - 72s 39ms/step - loss: 0.1564 - accuracy: 0.9430 - val_loss: 0.2486 - val_accuracy: 0.9205\n",
            "Epoch 11/500\n",
            "1875/1875 [==============================] - 73s 39ms/step - loss: 0.1442 - accuracy: 0.9462 - val_loss: 0.2534 - val_accuracy: 0.9210\n",
            "Epoch 12/500\n",
            "1875/1875 [==============================] - 72s 38ms/step - loss: 0.1377 - accuracy: 0.9499 - val_loss: 0.2480 - val_accuracy: 0.9205\n",
            "Epoch 13/500\n",
            "1875/1875 [==============================] - 72s 38ms/step - loss: 0.1304 - accuracy: 0.9520 - val_loss: 0.2690 - val_accuracy: 0.9189\n",
            "Epoch 14/500\n",
            "1875/1875 [==============================] - 72s 38ms/step - loss: 0.1238 - accuracy: 0.9548 - val_loss: 0.2707 - val_accuracy: 0.9219\n",
            "Epoch 15/500\n",
            "1875/1875 [==============================] - 72s 39ms/step - loss: 0.1183 - accuracy: 0.9559 - val_loss: 0.2602 - val_accuracy: 0.9230\n",
            "Epoch 16/500\n",
            "1875/1875 [==============================] - 72s 38ms/step - loss: 0.1116 - accuracy: 0.9595 - val_loss: 0.2844 - val_accuracy: 0.9215\n",
            "Epoch 17/500\n",
            "1875/1875 [==============================] - 72s 39ms/step - loss: 0.1053 - accuracy: 0.9615 - val_loss: 0.2985 - val_accuracy: 0.9185\n",
            "Epoch 18/500\n",
            "1875/1875 [==============================] - 72s 39ms/step - loss: 0.1006 - accuracy: 0.9626 - val_loss: 0.2996 - val_accuracy: 0.9170\n",
            "Epoch 19/500\n",
            "1875/1875 [==============================] - 73s 39ms/step - loss: 0.0977 - accuracy: 0.9642 - val_loss: 0.3069 - val_accuracy: 0.9222\n",
            "Epoch 20/500\n",
            "1875/1875 [==============================] - 72s 39ms/step - loss: 0.0937 - accuracy: 0.9661 - val_loss: 0.3181 - val_accuracy: 0.9216\n",
            "Epoch 21/500\n",
            "1875/1875 [==============================] - 72s 38ms/step - loss: 0.0899 - accuracy: 0.9675 - val_loss: 0.3499 - val_accuracy: 0.9177\n",
            "Epoch 22/500\n",
            "1875/1875 [==============================] - 72s 38ms/step - loss: 0.0892 - accuracy: 0.9668 - val_loss: 0.3370 - val_accuracy: 0.9193\n",
            "Epoch 23/500\n",
            "1875/1875 [==============================] - 73s 39ms/step - loss: 0.0823 - accuracy: 0.9695 - val_loss: 0.3598 - val_accuracy: 0.9200\n",
            "Epoch 24/500\n",
            "1875/1875 [==============================] - 72s 38ms/step - loss: 0.0790 - accuracy: 0.9698 - val_loss: 0.3665 - val_accuracy: 0.9177\n",
            "Epoch 25/500\n",
            "1875/1875 [==============================] - 72s 38ms/step - loss: 0.0795 - accuracy: 0.9710 - val_loss: 0.3363 - val_accuracy: 0.9206\n",
            "Epoch 26/500\n",
            "1875/1875 [==============================] - 72s 38ms/step - loss: 0.0766 - accuracy: 0.9716 - val_loss: 0.3579 - val_accuracy: 0.9177\n",
            "Epoch 27/500\n",
            "1875/1875 [==============================] - 72s 38ms/step - loss: 0.0766 - accuracy: 0.9721 - val_loss: 0.4028 - val_accuracy: 0.9162\n",
            "Epoch 28/500\n",
            "1875/1875 [==============================] - 72s 39ms/step - loss: 0.0722 - accuracy: 0.9735 - val_loss: 0.3833 - val_accuracy: 0.9189\n",
            "Epoch 29/500\n",
            "1875/1875 [==============================] - 72s 38ms/step - loss: 0.0709 - accuracy: 0.9741 - val_loss: 0.3601 - val_accuracy: 0.9161\n",
            "Epoch 30/500\n",
            "1875/1875 [==============================] - 72s 38ms/step - loss: 0.0691 - accuracy: 0.9746 - val_loss: 0.3862 - val_accuracy: 0.9217\n",
            "Epoch 31/500\n",
            "1875/1875 [==============================] - 72s 38ms/step - loss: 0.0660 - accuracy: 0.9756 - val_loss: 0.4030 - val_accuracy: 0.9196\n",
            "Epoch 32/500\n",
            "1875/1875 [==============================] - 72s 38ms/step - loss: 0.0646 - accuracy: 0.9769 - val_loss: 0.4042 - val_accuracy: 0.9180\n",
            "Epoch 33/500\n",
            "1875/1875 [==============================] - 72s 38ms/step - loss: 0.0632 - accuracy: 0.9768 - val_loss: 0.4187 - val_accuracy: 0.9165\n",
            "Epoch 34/500\n",
            "1875/1875 [==============================] - 72s 39ms/step - loss: 0.0599 - accuracy: 0.9792 - val_loss: 0.4284 - val_accuracy: 0.9229\n",
            "Epoch 35/500\n",
            "1875/1875 [==============================] - 72s 39ms/step - loss: 0.0614 - accuracy: 0.9778 - val_loss: 0.4191 - val_accuracy: 0.9240\n",
            "Epoch 36/500\n",
            "1875/1875 [==============================] - 73s 39ms/step - loss: 0.0598 - accuracy: 0.9786 - val_loss: 0.4670 - val_accuracy: 0.9200\n",
            "Epoch 37/500\n",
            "1875/1875 [==============================] - 72s 39ms/step - loss: 0.0571 - accuracy: 0.9798 - val_loss: 0.4436 - val_accuracy: 0.9203\n",
            "Epoch 38/500\n",
            "1875/1875 [==============================] - 73s 39ms/step - loss: 0.0622 - accuracy: 0.9783 - val_loss: 0.4392 - val_accuracy: 0.9195\n",
            "Epoch 39/500\n",
            "1875/1875 [==============================] - 77s 41ms/step - loss: 0.0533 - accuracy: 0.9811 - val_loss: 0.4387 - val_accuracy: 0.9216\n",
            "Epoch 40/500\n",
            "1875/1875 [==============================] - 74s 39ms/step - loss: 0.0539 - accuracy: 0.9796 - val_loss: 0.4497 - val_accuracy: 0.9225\n",
            "Epoch 41/500\n",
            "1875/1875 [==============================] - 73s 39ms/step - loss: 0.0552 - accuracy: 0.9801 - val_loss: 0.4574 - val_accuracy: 0.9171\n",
            "Epoch 42/500\n",
            "1875/1875 [==============================] - 73s 39ms/step - loss: 0.0553 - accuracy: 0.9799 - val_loss: 0.4549 - val_accuracy: 0.9226\n",
            "Epoch 43/500\n",
            "1875/1875 [==============================] - 73s 39ms/step - loss: 0.0552 - accuracy: 0.9797 - val_loss: 0.4233 - val_accuracy: 0.9177\n",
            "Epoch 44/500\n",
            "1875/1875 [==============================] - 73s 39ms/step - loss: 0.0533 - accuracy: 0.9807 - val_loss: 0.4318 - val_accuracy: 0.9191\n",
            "Epoch 45/500\n",
            "1875/1875 [==============================] - 73s 39ms/step - loss: 0.0513 - accuracy: 0.9819 - val_loss: 0.4527 - val_accuracy: 0.9198\n",
            "Epoch 46/500\n",
            "1875/1875 [==============================] - 73s 39ms/step - loss: 0.0502 - accuracy: 0.9821 - val_loss: 0.4895 - val_accuracy: 0.9181\n",
            "Epoch 47/500\n",
            "1875/1875 [==============================] - 73s 39ms/step - loss: 0.0529 - accuracy: 0.9812 - val_loss: 0.4873 - val_accuracy: 0.9229\n",
            "Epoch 48/500\n",
            "1875/1875 [==============================] - 78s 42ms/step - loss: 0.0483 - accuracy: 0.9825 - val_loss: 0.4762 - val_accuracy: 0.9217\n",
            "Epoch 49/500\n",
            "1875/1875 [==============================] - 73s 39ms/step - loss: 0.0500 - accuracy: 0.9829 - val_loss: 0.4998 - val_accuracy: 0.9233\n",
            "Epoch 50/500\n",
            "1875/1875 [==============================] - 73s 39ms/step - loss: 0.0480 - accuracy: 0.9832 - val_loss: 0.4727 - val_accuracy: 0.9199\n",
            "Epoch 51/500\n",
            "1875/1875 [==============================] - 73s 39ms/step - loss: 0.0472 - accuracy: 0.9829 - val_loss: 0.5390 - val_accuracy: 0.9143\n",
            "Epoch 52/500\n",
            "1875/1875 [==============================] - 73s 39ms/step - loss: 0.0494 - accuracy: 0.9830 - val_loss: 0.4870 - val_accuracy: 0.9171\n",
            "Epoch 53/500\n",
            "1875/1875 [==============================] - 73s 39ms/step - loss: 0.0478 - accuracy: 0.9831 - val_loss: 0.5031 - val_accuracy: 0.9234\n",
            "Epoch 54/500\n",
            "1875/1875 [==============================] - 72s 39ms/step - loss: 0.0462 - accuracy: 0.9833 - val_loss: 0.5820 - val_accuracy: 0.9200\n",
            "Epoch 55/500\n",
            "1875/1875 [==============================] - 72s 39ms/step - loss: 0.0466 - accuracy: 0.9836 - val_loss: 0.5151 - val_accuracy: 0.9181\n",
            "Epoch 56/500\n",
            "1875/1875 [==============================] - 77s 41ms/step - loss: 0.0441 - accuracy: 0.9846 - val_loss: 0.5525 - val_accuracy: 0.9229\n",
            "Epoch 57/500\n",
            "1875/1875 [==============================] - 73s 39ms/step - loss: 0.0445 - accuracy: 0.9840 - val_loss: 0.5532 - val_accuracy: 0.9212\n",
            "Epoch 58/500\n",
            "1875/1875 [==============================] - 73s 39ms/step - loss: 0.0416 - accuracy: 0.9853 - val_loss: 0.5741 - val_accuracy: 0.9197\n",
            "Epoch 59/500\n",
            "1875/1875 [==============================] - 73s 39ms/step - loss: 0.0436 - accuracy: 0.9853 - val_loss: 0.5717 - val_accuracy: 0.9226\n",
            "Epoch 60/500\n",
            "1875/1875 [==============================] - 73s 39ms/step - loss: 0.0465 - accuracy: 0.9840 - val_loss: 0.5255 - val_accuracy: 0.9210\n",
            "Epoch 61/500\n",
            "1875/1875 [==============================] - 73s 39ms/step - loss: 0.0434 - accuracy: 0.9854 - val_loss: 0.5260 - val_accuracy: 0.9222\n",
            "Epoch 62/500\n",
            "1875/1875 [==============================] - 72s 39ms/step - loss: 0.0427 - accuracy: 0.9856 - val_loss: 0.5188 - val_accuracy: 0.9189\n",
            "Epoch 63/500\n",
            "1875/1875 [==============================] - 72s 38ms/step - loss: 0.0440 - accuracy: 0.9849 - val_loss: 0.5619 - val_accuracy: 0.9201\n",
            "Epoch 64/500\n",
            "1875/1875 [==============================] - 72s 38ms/step - loss: 0.0390 - accuracy: 0.9863 - val_loss: 0.5231 - val_accuracy: 0.9230\n",
            "Epoch 65/500\n",
            "1875/1875 [==============================] - 71s 38ms/step - loss: 0.0406 - accuracy: 0.9864 - val_loss: 0.5486 - val_accuracy: 0.9209\n",
            "Epoch 66/500\n",
            "1875/1875 [==============================] - 72s 38ms/step - loss: 0.0417 - accuracy: 0.9863 - val_loss: 0.5515 - val_accuracy: 0.9219\n",
            "Epoch 67/500\n",
            "1875/1875 [==============================] - 71s 38ms/step - loss: 0.0406 - accuracy: 0.9865 - val_loss: 0.5758 - val_accuracy: 0.9198\n",
            "Epoch 68/500\n",
            "1875/1875 [==============================] - 71s 38ms/step - loss: 0.0384 - accuracy: 0.9869 - val_loss: 0.5746 - val_accuracy: 0.9200\n",
            "Epoch 69/500\n",
            "1875/1875 [==============================] - 72s 38ms/step - loss: 0.0414 - accuracy: 0.9861 - val_loss: 0.5642 - val_accuracy: 0.9201\n",
            "Epoch 70/500\n",
            "1875/1875 [==============================] - 72s 38ms/step - loss: 0.0412 - accuracy: 0.9861 - val_loss: 0.6420 - val_accuracy: 0.9194\n",
            "Epoch 71/500\n",
            "1875/1875 [==============================] - 72s 38ms/step - loss: 0.0414 - accuracy: 0.9861 - val_loss: 0.5821 - val_accuracy: 0.9215\n",
            "Epoch 72/500\n",
            "1875/1875 [==============================] - 72s 38ms/step - loss: 0.0394 - accuracy: 0.9875 - val_loss: 0.6014 - val_accuracy: 0.9176\n",
            "Epoch 73/500\n",
            "1875/1875 [==============================] - 76s 41ms/step - loss: 0.0398 - accuracy: 0.9869 - val_loss: 0.6232 - val_accuracy: 0.9203\n",
            "Epoch 74/500\n",
            "1875/1875 [==============================] - 72s 38ms/step - loss: 0.0371 - accuracy: 0.9876 - val_loss: 0.6941 - val_accuracy: 0.9232\n",
            "Epoch 75/500\n",
            "1875/1875 [==============================] - 72s 38ms/step - loss: 0.0383 - accuracy: 0.9874 - val_loss: 0.6276 - val_accuracy: 0.9201\n",
            "Epoch 76/500\n",
            "1875/1875 [==============================] - 72s 38ms/step - loss: 0.0401 - accuracy: 0.9867 - val_loss: 0.5476 - val_accuracy: 0.9190\n",
            "Epoch 77/500\n",
            "1875/1875 [==============================] - 72s 38ms/step - loss: 0.0382 - accuracy: 0.9869 - val_loss: 0.6995 - val_accuracy: 0.9166\n",
            "Epoch 78/500\n",
            "1875/1875 [==============================] - 72s 38ms/step - loss: 0.0374 - accuracy: 0.9872 - val_loss: 0.6222 - val_accuracy: 0.9196\n",
            "Epoch 79/500\n",
            "1875/1875 [==============================] - 72s 38ms/step - loss: 0.0392 - accuracy: 0.9867 - val_loss: 0.6264 - val_accuracy: 0.9227\n",
            "Epoch 80/500\n",
            "1875/1875 [==============================] - 72s 38ms/step - loss: 0.0339 - accuracy: 0.9881 - val_loss: 0.6711 - val_accuracy: 0.9204\n",
            "Epoch 81/500\n",
            "1875/1875 [==============================] - 77s 41ms/step - loss: 0.0370 - accuracy: 0.9882 - val_loss: 0.6390 - val_accuracy: 0.9219\n",
            "Epoch 82/500\n",
            "1875/1875 [==============================] - 72s 39ms/step - loss: 0.0358 - accuracy: 0.9884 - val_loss: 0.5853 - val_accuracy: 0.9158\n",
            "Epoch 83/500\n",
            "1875/1875 [==============================] - 73s 39ms/step - loss: 0.0380 - accuracy: 0.9876 - val_loss: 0.6120 - val_accuracy: 0.9204\n",
            "Epoch 84/500\n",
            "1875/1875 [==============================] - 72s 38ms/step - loss: 0.0355 - accuracy: 0.9882 - val_loss: 0.5738 - val_accuracy: 0.9209\n",
            "Epoch 85/500\n",
            "1875/1875 [==============================] - 72s 39ms/step - loss: 0.0361 - accuracy: 0.9881 - val_loss: 0.6607 - val_accuracy: 0.9184\n",
            "Epoch 00085: early stopping\n"
          ],
          "name": "stdout"
        }
      ]
    },
    {
      "cell_type": "code",
      "metadata": {
        "colab": {
          "base_uri": "https://localhost:8080/"
        },
        "id": "xxXFznKawzBf",
        "outputId": "35427599-568c-450d-95c0-de4750651fdc"
      },
      "source": [
        "c2f3.evaluate(X_test, y_test, batch_size =32)"
      ],
      "execution_count": 27,
      "outputs": [
        {
          "output_type": "stream",
          "text": [
            "313/313 [==============================] - 3s 11ms/step - loss: 0.6607 - accuracy: 0.9184\n"
          ],
          "name": "stdout"
        },
        {
          "output_type": "execute_result",
          "data": {
            "text/plain": [
              "[0.6606905460357666, 0.91839998960495]"
            ]
          },
          "metadata": {
            "tags": []
          },
          "execution_count": 27
        }
      ]
    },
    {
      "cell_type": "markdown",
      "metadata": {
        "id": "8DnEo-5GwztR"
      },
      "source": [
        "## Graph of loss and accuracy\n",
        "- model: C2F3"
      ]
    },
    {
      "cell_type": "code",
      "metadata": {
        "colab": {
          "base_uri": "https://localhost:8080/",
          "height": 313
        },
        "id": "_rdgMInZxFYK",
        "outputId": "29e0ea1a-5808-4a21-b485-d6716fbf68e5"
      },
      "source": [
        "epochs = 85\n",
        "loss_list = [100 * i for i in hist.history['loss']]\n",
        "acc_list = [100 * i for i in hist.history['accuracy']]\n",
        "plt.plot(range(1,epochs+1),loss_list) \n",
        "plt.plot(range(1,epochs+1),acc_list) \n",
        "plt.title('Model loss & accuracy')\n",
        "plt.ylabel('Accuracy (%)')\n",
        "plt.xlabel('Epoch')\n",
        "plt.legend(['loss', 'accuracy'], loc='center left')"
      ],
      "execution_count": 28,
      "outputs": [
        {
          "output_type": "execute_result",
          "data": {
            "text/plain": [
              "<matplotlib.legend.Legend at 0x7fe7e60f2b70>"
            ]
          },
          "metadata": {
            "tags": []
          },
          "execution_count": 28
        },
        {
          "output_type": "display_data",
          "data": {
            "image/png": "[encoded data removed]",
            "text/plain": [
              "<Figure size 432x288 with 1 Axes>"
            ]
          },
          "metadata": {
            "tags": [],
            "needs_background": "light"
          }
        }
      ]
    },
    {
      "cell_type": "code",
      "metadata": {
        "id": "iLDTFdGCxXul"
      },
      "source": [
        "vloss_list = [100 * i for i in hist.history['val_loss']]\n",
        "vacc_list = [100 * i for i in hist.history['val_accuracy']]"
      ],
      "execution_count": 29,
      "outputs": []
    },
    {
      "cell_type": "code",
      "metadata": {
        "colab": {
          "base_uri": "https://localhost:8080/",
          "height": 313
        },
        "id": "kgYr_eDixZMV",
        "outputId": "48b901ca-7d9e-46c2-bf9f-3c49e8adad48"
      },
      "source": [
        "plt.plot(range(1,epochs+1),vloss_list)  \n",
        "plt.plot(range(1,epochs+1),vacc_list)  \n",
        "plt.title('Model val_loss & val_accuracy')\n",
        "plt.ylabel('Accuracy (%)')\n",
        "plt.xlabel('Epoch')\n",
        "plt.legend(['val_loss', 'val_accuracy'], loc='center left')"
      ],
      "execution_count": 30,
      "outputs": [
        {
          "output_type": "execute_result",
          "data": {
            "text/plain": [
              "<matplotlib.legend.Legend at 0x7fe7e609cb38>"
            ]
          },
          "metadata": {
            "tags": []
          },
          "execution_count": 30
        },
        {
          "output_type": "display_data",
          "data": {
            "image/png": "[encoded data removed]",
            "text/plain": [
              "<Figure size 432x288 with 1 Axes>"
            ]
          },
          "metadata": {
            "tags": [],
            "needs_background": "light"
          }
        }
      ]
    },
    {
      "cell_type": "code",
      "metadata": {
        "colab": {
          "base_uri": "https://localhost:8080/"
        },
        "id": "3h5qzRzDxa1L",
        "outputId": "bee24e67-4196-4ec7-c8d8-0829acbbbadd"
      },
      "source": [
        "np.argmax(np.array(vacc_list))"
      ],
      "execution_count": 31,
      "outputs": [
        {
          "output_type": "execute_result",
          "data": {
            "text/plain": [
              "34"
            ]
          },
          "metadata": {
            "tags": []
          },
          "execution_count": 31
        }
      ]
    },
    {
      "cell_type": "code",
      "metadata": {
        "colab": {
          "base_uri": "https://localhost:8080/"
        },
        "id": "yWTaiKakxbsr",
        "outputId": "8470fe85-5156-42a7-8fb3-54acea5dd699"
      },
      "source": [
        "vacc_list[np.argmax(np.array(vacc_list))]"
      ],
      "execution_count": 32,
      "outputs": [
        {
          "output_type": "execute_result",
          "data": {
            "text/plain": [
              "92.40000247955322"
            ]
          },
          "metadata": {
            "tags": []
          },
          "execution_count": 32
        }
      ]
    },
    {
      "cell_type": "code",
      "metadata": {
        "colab": {
          "base_uri": "https://localhost:8080/",
          "height": 313
        },
        "id": "6WMVzAWixc6k",
        "outputId": "cc0aaa65-5409-493e-87c6-849555e57523"
      },
      "source": [
        "plt.plot(range(1,epochs+1),acc_list)  \n",
        "plt.plot(range(1,epochs+1),vacc_list)  \n",
        "plt.title('accuracy vs. val_accuracy')\n",
        "plt.ylabel('Accuracy (%)')\n",
        "plt.xlabel('Epoch')\n",
        "plt.legend(['accuracy','val_accuracy'], loc='center')\n",
        "plt.plot(np.argmax(np.array(vacc_list))+1,vacc_list[np.argmax(np.array(vacc_list))], 'r*')"
      ],
      "execution_count": 33,
      "outputs": [
        {
          "output_type": "execute_result",
          "data": {
            "text/plain": [
              "[<matplotlib.lines.Line2D at 0x7fe7e60408d0>]"
            ]
          },
          "metadata": {
            "tags": []
          },
          "execution_count": 33
        },
        {
          "output_type": "display_data",
          "data": {
            "image/png": "[encoded data removed]",
            "text/plain": [
              "<Figure size 432x288 with 1 Axes>"
            ]
          },
          "metadata": {
            "tags": [],
            "needs_background": "light"
          }
        }
      ]
    },
    {
      "cell_type": "markdown",
      "metadata": {
        "id": "48nWptTo6KqE"
      },
      "source": [
        "## 최적화된 모형 불러와서 이용\n",
        "\n",
        "- callbacks.ModelCheckpoint를 이용해서 트레이닝 중 val_accuacy가 가장 높은 모형을 가중치와 함께 hdf5 형식으로 저장\n",
        "- load 명령으로 불러 사용\n",
        "\n",
        "  mnist_c2f3_best_weights.059-0.9938.hdf5"
      ]
    },
    {
      "cell_type": "code",
      "metadata": {
        "colab": {
          "base_uri": "https://localhost:8080/"
        },
        "id": "2hW_DY106I08",
        "outputId": "0230555a-019c-4194-c09a-8870b57ff196"
      },
      "source": [
        "from keras.models import load_model\n",
        "\n",
        "model = load_model('fmnist_c2f3_best_weights.035-0.9240.hdf5')\n",
        "model.evaluate(X_test, y_test, batch_size=32)"
      ],
      "execution_count": 34,
      "outputs": [
        {
          "output_type": "stream",
          "text": [
            "313/313 [==============================] - 3s 11ms/step - loss: 0.4191 - accuracy: 0.9240\n"
          ],
          "name": "stdout"
        },
        {
          "output_type": "execute_result",
          "data": {
            "text/plain": [
              "[0.4191470146179199, 0.9240000247955322]"
            ]
          },
          "metadata": {
            "tags": []
          },
          "execution_count": 34
        }
      ]
    }
  ]
}