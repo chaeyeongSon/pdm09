{
  "nbformat": 4,
  "nbformat_minor": 0,
  "metadata": {
    "colab": {
      "name": "tf2_7_fmnist_CNN_best.ipynb",
      "provenance": [],
      "collapsed_sections": [],
      "authorship_tag": "ABX9TyNgNb32oGA291ZlI6YBsGGd",
      "include_colab_link": true
    },
    "kernelspec": {
      "name": "python3",
      "display_name": "Python 3"
    }
  },
  "cells": [
    {
      "cell_type": "markdown",
      "metadata": {
        "id": "view-in-github",
        "colab_type": "text"
      },
      "source": [
        "<a href=\"https://colab.research.google.com/github/chaeyeongSon/pdm09/blob/master/py-tensorflow/tf2_7_fmnist_CNN_best.ipynb\" target=\"_parent\"><img src=\"https://colab.research.google.com/assets/colab-badge.svg\" alt=\"Open In Colab\"/></a>"
      ]
    },
    {
      "cell_type": "markdown",
      "metadata": {
        "id": "DDVxPpoOBmPh"
      },
      "source": [
        "# **CNN model of mnist dataset**\n",
        "- Conv2D + FCN\n",
        "    * Conv2D : 2차원 합성곱 필터링 + 풀링(Pooling)\n",
        "    * FCN : 1차원 완전연결신경망\n",
        "\n",
        "***\n",
        "- ## Traget: **Find the best model**\n",
        "***\n",
        "\n",
        "![mnist_NN_2_layers](https://img1.daumcdn.net/thumb/R1280x0/?scode=mtistory2&fname=https%3A%2F%2Fblog.kakaocdn.net%2Fdn%2FdJp5Z6%2FbtqAPebnF3x%2FQCe5vVcskhmxe964bGz4iK%2Fimg.png)\n",
        "\n",
        "(source: https://img1.daumcdn.net/thumb/R1280x0/?scode=mtistory2&fname=https%3A%2F%2Fblog.kakaocdn.net%2Fdn%2FdJp5Z6%2FbtqAPebnF3x%2FQCe5vVcskhmxe964bGz4iK%2Fimg.png)"
      ]
    },
    {
      "cell_type": "code",
      "metadata": {
        "colab": {
          "base_uri": "https://localhost:8080/"
        },
        "id": "sjMeTkZCBOpj",
        "outputId": "d933b309-8c72-42fb-a937-61682b18fa8c"
      },
      "source": [
        "import numpy as np\r\n",
        "import tensorflow as tf\r\n",
        "from tensorflow import keras\r\n",
        "import pandas as pd\r\n",
        "import matplotlib.pyplot as plt\r\n",
        "%matplotlib inline\r\n",
        "\r\n",
        "print(tf.__version__)\r\n",
        "tf.random.set_seed(0)"
      ],
      "execution_count": 1,
      "outputs": [
        {
          "output_type": "stream",
          "text": [
            "2.3.0\n"
          ],
          "name": "stdout"
        }
      ]
    },
    {
      "cell_type": "markdown",
      "metadata": {
        "id": "aW1PvtaqBSls"
      },
      "source": [
        "## **데이터 로딩, 정규화**"
      ]
    },
    {
      "cell_type": "code",
      "metadata": {
        "colab": {
          "base_uri": "https://localhost:8080/"
        },
        "id": "Wr90uQz3BY1t",
        "outputId": "a4b80ea8-979b-46e2-d7dd-de177997d4f5"
      },
      "source": [
        "from keras.datasets import fashion_mnist\r\n",
        "\r\n",
        "(X_train0, y_train0), (X_test0, y_test0) = fashion_mnist.load_data()\r\n",
        "\r\n",
        "# Reshape\r\n",
        "X_train = X_train0.reshape(60000,28,28,1)\r\n",
        "X_test = X_test0.reshape(10000,28,28,1)\r\n",
        "\r\n",
        "# Normalization\r\n",
        "X_train, X_test = X_train/255.0, X_test/255.0 # 정규화\r\n",
        "\r\n",
        "print(\"X_train={0}\".format(X_train.shape))\r\n",
        "print(\"y_train={0}\".format(y_train0.shape)) \r\n",
        "print(\"X_test={0}\".format(X_test.shape))\r\n",
        "print(\"y_test={0}\".format(y_test0.shape))"
      ],
      "execution_count": 2,
      "outputs": [
        {
          "output_type": "stream",
          "text": [
            "Downloading data from https://storage.googleapis.com/tensorflow/tf-keras-datasets/train-labels-idx1-ubyte.gz\n",
            "32768/29515 [=================================] - 0s 0us/step\n",
            "Downloading data from https://storage.googleapis.com/tensorflow/tf-keras-datasets/train-images-idx3-ubyte.gz\n",
            "26427392/26421880 [==============================] - 0s 0us/step\n",
            "Downloading data from https://storage.googleapis.com/tensorflow/tf-keras-datasets/t10k-labels-idx1-ubyte.gz\n",
            "8192/5148 [===============================================] - 0s 0us/step\n",
            "Downloading data from https://storage.googleapis.com/tensorflow/tf-keras-datasets/t10k-images-idx3-ubyte.gz\n",
            "4423680/4422102 [==============================] - 0s 0us/step\n",
            "X_train=(60000, 28, 28, 1)\n",
            "y_train=(60000,)\n",
            "X_test=(10000, 28, 28, 1)\n",
            "y_test=(10000,)\n"
          ],
          "name": "stdout"
        }
      ]
    },
    {
      "cell_type": "code",
      "metadata": {
        "colab": {
          "base_uri": "https://localhost:8080/"
        },
        "id": "YNp5-l_VBsSq",
        "outputId": "b0812fca-3176-4378-cfc2-ac4f28b56deb"
      },
      "source": [
        "# One-Hot-Encoding\r\n",
        "# Use function to_categorical() to do One-Hot-Encoding\r\n",
        "# tf.keras.utils.to_categorical\r\n",
        "from keras.utils import to_categorical\r\n",
        "\r\n",
        "y_train = to_categorical(y_train0, 10)\r\n",
        "y_test = to_categorical(y_test0, 10)\r\n",
        "y_train.shape,y_test.shape"
      ],
      "execution_count": 3,
      "outputs": [
        {
          "output_type": "execute_result",
          "data": {
            "text/plain": [
              "((60000, 10), (10000, 10))"
            ]
          },
          "metadata": {
            "tags": []
          },
          "execution_count": 3
        }
      ]
    },
    {
      "cell_type": "markdown",
      "metadata": {
        "id": "PJCWH8ZBBxvm"
      },
      "source": [
        "### Display images\r\n",
        "- one random image\r\n",
        "- 10 representative images"
      ]
    },
    {
      "cell_type": "code",
      "metadata": {
        "colab": {
          "base_uri": "https://localhost:8080/",
          "height": 286
        },
        "id": "IAfHNh3SBxEf",
        "outputId": "9128aa27-62a9-4040-fe3f-10fa9c436065"
      },
      "source": [
        "# Code here!\r\n",
        "# display one random image from the training set:\r\n",
        "class_names = ['T-shirt/top', 'Trouser', 'Pullover', 'Dress', 'Coat', 'Sandal', 'Shirt', 'Sneaker', 'Bag', 'Ankle boot']\r\n",
        "\r\n",
        "idx = np.random.randint(0, X_train0.shape[0])\r\n",
        "print(idx)\r\n",
        "image = X_train0[idx]\r\n",
        "plt.imshow(image) #, cmap=plt.get_cmap('gray'))\r\n",
        "plt.title(class_names[y_train0[idx]])\r\n",
        "plt.xticks([])\r\n",
        "plt.yticks([])\r\n",
        "plt.show()"
      ],
      "execution_count": 4,
      "outputs": [
        {
          "output_type": "stream",
          "text": [
            "35551\n"
          ],
          "name": "stdout"
        },
        {
          "output_type": "display_data",
          "data": {
            "image/png": "[encoded data removed]",
            "text/plain": [
              "<Figure size 432x288 with 1 Axes>"
            ]
          },
          "metadata": {
            "tags": []
          }
        }
      ]
    },
    {
      "cell_type": "code",
      "metadata": {
        "colab": {
          "base_uri": "https://localhost:8080/",
          "height": 325
        },
        "id": "-V5dRkp6CCwm",
        "outputId": "b4b2de8f-3b4a-4a6c-e5c1-9444cb3af2cb"
      },
      "source": [
        "# 10 representative images\r\n",
        "fig = plt.figure(figsize=(10,6))\r\n",
        "for i in range(10):\r\n",
        "    plt.subplot(2, 5, i+1)\r\n",
        "    num0_9 = X_train0[y_train0 == i]\r\n",
        "    # print(num0_9.shape)\r\n",
        "    plt.imshow(num0_9[0]) #, cmap='gray') #, interpolation='none')\r\n",
        "    plt.title(\"Class %d\" % (i))\r\n",
        "    plt.xticks([])\r\n",
        "    plt.yticks([])"
      ],
      "execution_count": 5,
      "outputs": [
        {
          "output_type": "display_data",
          "data": {
            "image/png": "[encoded data removed]",
            "text/plain": [
              "<Figure size 720x432 with 10 Axes>"
            ]
          },
          "metadata": {
            "tags": []
          }
        }
      ]
    },
    {
      "cell_type": "markdown",
      "metadata": {
        "id": "qJ48ccMmCPHV"
      },
      "source": [
        "# Design CNN"
      ]
    },
    {
      "cell_type": "markdown",
      "metadata": {
        "id": "NWVWvwacCQKQ"
      },
      "source": [
        "### import Conv2D, MaxPool2D"
      ]
    },
    {
      "cell_type": "code",
      "metadata": {
        "id": "szYSaV08CSLY"
      },
      "source": [
        "from keras.layers import Conv2D, MaxPool2D, Flatten, Dense, Dropout"
      ],
      "execution_count": 6,
      "outputs": []
    },
    {
      "cell_type": "markdown",
      "metadata": {
        "id": "ZDNsodz2CUAd"
      },
      "source": [
        "##**CNN1 + FCN2**\r\n",
        "- CNN1: Conv2D + MaxPooling2D\r\n",
        "- FCN2: Dense(128) + Output(10) "
      ]
    },
    {
      "cell_type": "code",
      "metadata": {
        "id": "cFJbDkkUCTe4"
      },
      "source": [
        "c1f2 = keras.models.Sequential([ \r\n",
        "    Conv2D(input_shape=(28,28,1),kernel_size=(3,3),strides=(1,1),filters= 32,padding='same',activation='relu'),\r\n",
        "    MaxPool2D(pool_size=(2,2), strides=(2,2)), \r\n",
        "    Flatten(),\r\n",
        "    Dense(128, activation='relu'),\r\n",
        "    keras.layers.Dropout(0.25), \r\n",
        "    keras.layers.Dense(10, activation='softmax')\r\n",
        "])\r\n",
        "\r\n",
        "c1f2.compile(optimizer='adam',\r\n",
        "              loss='categorical_crossentropy',\r\n",
        "              metrics=['accuracy']) "
      ],
      "execution_count": 7,
      "outputs": []
    },
    {
      "cell_type": "code",
      "metadata": {
        "colab": {
          "base_uri": "https://localhost:8080/"
        },
        "id": "9MMsSh81CreN",
        "outputId": "c80b3b8c-89c9-431b-8805-c8f5041a990b"
      },
      "source": [
        "c1f2.summary()"
      ],
      "execution_count": 8,
      "outputs": [
        {
          "output_type": "stream",
          "text": [
            "Model: \"sequential\"\n",
            "_________________________________________________________________\n",
            "Layer (type)                 Output Shape              Param #   \n",
            "=================================================================\n",
            "conv2d (Conv2D)              (None, 28, 28, 32)        320       \n",
            "_________________________________________________________________\n",
            "max_pooling2d (MaxPooling2D) (None, 14, 14, 32)        0         \n",
            "_________________________________________________________________\n",
            "flatten (Flatten)            (None, 6272)              0         \n",
            "_________________________________________________________________\n",
            "dense (Dense)                (None, 128)               802944    \n",
            "_________________________________________________________________\n",
            "dropout (Dropout)            (None, 128)               0         \n",
            "_________________________________________________________________\n",
            "dense_1 (Dense)              (None, 10)                1290      \n",
            "=================================================================\n",
            "Total params: 804,554\n",
            "Trainable params: 804,554\n",
            "Non-trainable params: 0\n",
            "_________________________________________________________________\n"
          ],
          "name": "stdout"
        }
      ]
    },
    {
      "cell_type": "code",
      "metadata": {
        "colab": {
          "base_uri": "https://localhost:8080/"
        },
        "id": "K7hnyUvACsaB",
        "outputId": "6e829477-5ca2-4c42-c29e-9fce181f926d"
      },
      "source": [
        "c1f2.fit(X_train, y_train, epochs = 20,  batch_size = 32)"
      ],
      "execution_count": 9,
      "outputs": [
        {
          "output_type": "stream",
          "text": [
            "Epoch 1/20\n",
            "1875/1875 [==============================] - 40s 21ms/step - loss: 0.4227 - accuracy: 0.8513\n",
            "Epoch 2/20\n",
            "1875/1875 [==============================] - 38s 20ms/step - loss: 0.2865 - accuracy: 0.8971\n",
            "Epoch 3/20\n",
            "1875/1875 [==============================] - 38s 20ms/step - loss: 0.2466 - accuracy: 0.9114\n",
            "Epoch 4/20\n",
            "1875/1875 [==============================] - 41s 22ms/step - loss: 0.2171 - accuracy: 0.9193\n",
            "Epoch 5/20\n",
            "1875/1875 [==============================] - 38s 20ms/step - loss: 0.1960 - accuracy: 0.9266\n",
            "Epoch 6/20\n",
            "1875/1875 [==============================] - 38s 20ms/step - loss: 0.1762 - accuracy: 0.9350\n",
            "Epoch 7/20\n",
            "1875/1875 [==============================] - 38s 20ms/step - loss: 0.1619 - accuracy: 0.9397\n",
            "Epoch 8/20\n",
            "1875/1875 [==============================] - 38s 20ms/step - loss: 0.1454 - accuracy: 0.9453\n",
            "Epoch 9/20\n",
            "1875/1875 [==============================] - 38s 20ms/step - loss: 0.1341 - accuracy: 0.9486\n",
            "Epoch 10/20\n",
            "1875/1875 [==============================] - 38s 20ms/step - loss: 0.1229 - accuracy: 0.9547\n",
            "Epoch 11/20\n",
            "1875/1875 [==============================] - 38s 20ms/step - loss: 0.1129 - accuracy: 0.9579\n",
            "Epoch 12/20\n",
            "1875/1875 [==============================] - 38s 20ms/step - loss: 0.1060 - accuracy: 0.9599\n",
            "Epoch 13/20\n",
            "1875/1875 [==============================] - 38s 20ms/step - loss: 0.0954 - accuracy: 0.9637\n",
            "Epoch 14/20\n",
            "1875/1875 [==============================] - 38s 20ms/step - loss: 0.0873 - accuracy: 0.9664\n",
            "Epoch 15/20\n",
            "1875/1875 [==============================] - 38s 20ms/step - loss: 0.0841 - accuracy: 0.9680\n",
            "Epoch 16/20\n",
            "1875/1875 [==============================] - 38s 20ms/step - loss: 0.0779 - accuracy: 0.9702\n",
            "Epoch 17/20\n",
            "1875/1875 [==============================] - 38s 20ms/step - loss: 0.0743 - accuracy: 0.9717\n",
            "Epoch 18/20\n",
            "1875/1875 [==============================] - 39s 21ms/step - loss: 0.0703 - accuracy: 0.9736\n",
            "Epoch 19/20\n",
            "1875/1875 [==============================] - 38s 20ms/step - loss: 0.0657 - accuracy: 0.9750\n",
            "Epoch 20/20\n",
            "1875/1875 [==============================] - 38s 20ms/step - loss: 0.0623 - accuracy: 0.9765\n"
          ],
          "name": "stdout"
        },
        {
          "output_type": "execute_result",
          "data": {
            "text/plain": [
              "<tensorflow.python.keras.callbacks.History at 0x7faa9a2effd0>"
            ]
          },
          "metadata": {
            "tags": []
          },
          "execution_count": 9
        }
      ]
    },
    {
      "cell_type": "code",
      "metadata": {
        "colab": {
          "base_uri": "https://localhost:8080/"
        },
        "id": "qrczwrHCCxcs",
        "outputId": "2b7afdd5-8a5f-440e-f327-52ddd0092776"
      },
      "source": [
        "c1f2.evaluate(X_test, y_test, batch_size =32)"
      ],
      "execution_count": 10,
      "outputs": [
        {
          "output_type": "stream",
          "text": [
            "313/313 [==============================] - 2s 6ms/step - loss: 0.3653 - accuracy: 0.9151\n"
          ],
          "name": "stdout"
        },
        {
          "output_type": "execute_result",
          "data": {
            "text/plain": [
              "[0.3652949631214142, 0.9150999784469604]"
            ]
          },
          "metadata": {
            "tags": []
          },
          "execution_count": 10
        }
      ]
    },
    {
      "cell_type": "markdown",
      "metadata": {
        "id": "HYxdl90FF4f-"
      },
      "source": [
        "## **CNN1 + FCN3**"
      ]
    },
    {
      "cell_type": "code",
      "metadata": {
        "id": "qmWzlw3ZF6d2"
      },
      "source": [
        "c1f3 = keras.models.Sequential([ \r\n",
        "    Conv2D(input_shape=(28,28,1),kernel_size=(3,3),strides=(1,1),filters= 32,padding='same',activation='relu'),\r\n",
        "    MaxPool2D(pool_size=(2,2), strides=(2,2)), \r\n",
        "    Flatten(),\r\n",
        "    Dense(256, activation='relu'),\r\n",
        "    keras.layers.Dropout(0.25), \r\n",
        "    Dense(128, activation='relu'),\r\n",
        "    keras.layers.Dropout(0.25), \r\n",
        "    keras.layers.Dense(10, activation='softmax')\r\n",
        "])\r\n",
        "\r\n",
        "c1f3.compile(optimizer='adam',\r\n",
        "              loss='categorical_crossentropy',\r\n",
        "              metrics=['accuracy']) "
      ],
      "execution_count": 11,
      "outputs": []
    },
    {
      "cell_type": "code",
      "metadata": {
        "colab": {
          "base_uri": "https://localhost:8080/"
        },
        "id": "C7DOmq3jF_mQ",
        "outputId": "712879fe-b9e8-4796-b7e9-80d4b71d0b41"
      },
      "source": [
        "c1f3 .summary()"
      ],
      "execution_count": 12,
      "outputs": [
        {
          "output_type": "stream",
          "text": [
            "Model: \"sequential_1\"\n",
            "_________________________________________________________________\n",
            "Layer (type)                 Output Shape              Param #   \n",
            "=================================================================\n",
            "conv2d_1 (Conv2D)            (None, 28, 28, 32)        320       \n",
            "_________________________________________________________________\n",
            "max_pooling2d_1 (MaxPooling2 (None, 14, 14, 32)        0         \n",
            "_________________________________________________________________\n",
            "flatten_1 (Flatten)          (None, 6272)              0         \n",
            "_________________________________________________________________\n",
            "dense_2 (Dense)              (None, 256)               1605888   \n",
            "_________________________________________________________________\n",
            "dropout_1 (Dropout)          (None, 256)               0         \n",
            "_________________________________________________________________\n",
            "dense_3 (Dense)              (None, 128)               32896     \n",
            "_________________________________________________________________\n",
            "dropout_2 (Dropout)          (None, 128)               0         \n",
            "_________________________________________________________________\n",
            "dense_4 (Dense)              (None, 10)                1290      \n",
            "=================================================================\n",
            "Total params: 1,640,394\n",
            "Trainable params: 1,640,394\n",
            "Non-trainable params: 0\n",
            "_________________________________________________________________\n"
          ],
          "name": "stdout"
        }
      ]
    },
    {
      "cell_type": "code",
      "metadata": {
        "colab": {
          "base_uri": "https://localhost:8080/"
        },
        "id": "o2n7ujYKGB8F",
        "outputId": "79a0316e-5d82-4cb3-f505-cc18d85af2d4"
      },
      "source": [
        "c1f3.fit(X_train,y_train, epochs= 20 , batch_size =32)"
      ],
      "execution_count": 13,
      "outputs": [
        {
          "output_type": "stream",
          "text": [
            "Epoch 1/20\n",
            "1875/1875 [==============================] - 53s 28ms/step - loss: 0.4458 - accuracy: 0.8415\n",
            "Epoch 2/20\n",
            "1875/1875 [==============================] - 53s 28ms/step - loss: 0.2941 - accuracy: 0.8932\n",
            "Epoch 3/20\n",
            "1875/1875 [==============================] - 53s 28ms/step - loss: 0.2476 - accuracy: 0.9095\n",
            "Epoch 4/20\n",
            "1875/1875 [==============================] - 52s 28ms/step - loss: 0.2182 - accuracy: 0.9194\n",
            "Epoch 5/20\n",
            "1875/1875 [==============================] - 53s 28ms/step - loss: 0.1949 - accuracy: 0.9268\n",
            "Epoch 6/20\n",
            "1875/1875 [==============================] - 52s 28ms/step - loss: 0.1731 - accuracy: 0.9358\n",
            "Epoch 7/20\n",
            "1875/1875 [==============================] - 53s 28ms/step - loss: 0.1550 - accuracy: 0.9422\n",
            "Epoch 8/20\n",
            "1875/1875 [==============================] - 53s 28ms/step - loss: 0.1406 - accuracy: 0.9481\n",
            "Epoch 9/20\n",
            "1875/1875 [==============================] - 54s 29ms/step - loss: 0.1257 - accuracy: 0.9522\n",
            "Epoch 10/20\n",
            "1875/1875 [==============================] - 53s 28ms/step - loss: 0.1146 - accuracy: 0.9579\n",
            "Epoch 11/20\n",
            "1875/1875 [==============================] - 53s 28ms/step - loss: 0.1046 - accuracy: 0.9609\n",
            "Epoch 12/20\n",
            "1875/1875 [==============================] - 53s 28ms/step - loss: 0.0954 - accuracy: 0.9649\n",
            "Epoch 13/20\n",
            "1875/1875 [==============================] - 53s 28ms/step - loss: 0.0883 - accuracy: 0.9669\n",
            "Epoch 14/20\n",
            "1875/1875 [==============================] - 53s 28ms/step - loss: 0.0856 - accuracy: 0.9673\n",
            "Epoch 15/20\n",
            "1875/1875 [==============================] - 54s 29ms/step - loss: 0.0755 - accuracy: 0.9733\n",
            "Epoch 16/20\n",
            "1875/1875 [==============================] - 53s 28ms/step - loss: 0.0750 - accuracy: 0.9732\n",
            "Epoch 17/20\n",
            "1875/1875 [==============================] - 53s 28ms/step - loss: 0.0687 - accuracy: 0.9745\n",
            "Epoch 18/20\n",
            "1875/1875 [==============================] - 53s 28ms/step - loss: 0.0645 - accuracy: 0.9763\n",
            "Epoch 19/20\n",
            "1875/1875 [==============================] - 53s 28ms/step - loss: 0.0648 - accuracy: 0.9768\n",
            "Epoch 20/20\n",
            "1875/1875 [==============================] - 53s 28ms/step - loss: 0.0605 - accuracy: 0.9785\n"
          ],
          "name": "stdout"
        },
        {
          "output_type": "execute_result",
          "data": {
            "text/plain": [
              "<tensorflow.python.keras.callbacks.History at 0x7faa97303be0>"
            ]
          },
          "metadata": {
            "tags": []
          },
          "execution_count": 13
        }
      ]
    },
    {
      "cell_type": "code",
      "metadata": {
        "colab": {
          "base_uri": "https://localhost:8080/"
        },
        "id": "lEJ9yDsdGiIC",
        "outputId": "acb3ca17-95c8-427a-f4f6-0d5e471ec6b2"
      },
      "source": [
        "c1f3.evaluate(X_test, y_test, batch_size= 32)"
      ],
      "execution_count": 14,
      "outputs": [
        {
          "output_type": "stream",
          "text": [
            "313/313 [==============================] - 3s 8ms/step - loss: 0.4091 - accuracy: 0.9140\n"
          ],
          "name": "stdout"
        },
        {
          "output_type": "execute_result",
          "data": {
            "text/plain": [
              "[0.4091190695762634, 0.9139999747276306]"
            ]
          },
          "metadata": {
            "tags": []
          },
          "execution_count": 14
        }
      ]
    },
    {
      "cell_type": "markdown",
      "metadata": {
        "id": "8C7evdsQKMal"
      },
      "source": [
        "## **CNN2 + FCN2**"
      ]
    },
    {
      "cell_type": "code",
      "metadata": {
        "id": "Vtgy7eeTKOmM"
      },
      "source": [
        "c2f2 = keras.models.Sequential([ \r\n",
        "    Conv2D(input_shape=(28,28,1),kernel_size=(3,3),strides=(1,1),filters= 32,padding='same',activation='relu'),\r\n",
        "    MaxPool2D(pool_size=(2,2), strides=(2,2)), \r\n",
        "    Conv2D(kernel_size=(3,3),strides=(1,1),filters= 64,padding='same',activation='relu'),\r\n",
        "    MaxPool2D(pool_size=(2,2), strides=(2,2)), \r\n",
        "    Flatten(),\r\n",
        "    Dense(128, activation='relu'),\r\n",
        "    keras.layers.Dropout(0.25), \r\n",
        "    keras.layers.Dense(10, activation='softmax')\r\n",
        "])\r\n",
        "\r\n",
        "c2f2.compile(optimizer='adam',\r\n",
        "              loss='categorical_crossentropy',\r\n",
        "              metrics=['accuracy']) "
      ],
      "execution_count": 15,
      "outputs": []
    },
    {
      "cell_type": "code",
      "metadata": {
        "colab": {
          "base_uri": "https://localhost:8080/"
        },
        "id": "LYTmQ4_aKR4P",
        "outputId": "10acca91-047a-4983-9bd1-f3257097a3d8"
      },
      "source": [
        "c2f2.summary()"
      ],
      "execution_count": 16,
      "outputs": [
        {
          "output_type": "stream",
          "text": [
            "Model: \"sequential_2\"\n",
            "_________________________________________________________________\n",
            "Layer (type)                 Output Shape              Param #   \n",
            "=================================================================\n",
            "conv2d_2 (Conv2D)            (None, 28, 28, 32)        320       \n",
            "_________________________________________________________________\n",
            "max_pooling2d_2 (MaxPooling2 (None, 14, 14, 32)        0         \n",
            "_________________________________________________________________\n",
            "conv2d_3 (Conv2D)            (None, 14, 14, 64)        18496     \n",
            "_________________________________________________________________\n",
            "max_pooling2d_3 (MaxPooling2 (None, 7, 7, 64)          0         \n",
            "_________________________________________________________________\n",
            "flatten_2 (Flatten)          (None, 3136)              0         \n",
            "_________________________________________________________________\n",
            "dense_5 (Dense)              (None, 128)               401536    \n",
            "_________________________________________________________________\n",
            "dropout_3 (Dropout)          (None, 128)               0         \n",
            "_________________________________________________________________\n",
            "dense_6 (Dense)              (None, 10)                1290      \n",
            "=================================================================\n",
            "Total params: 421,642\n",
            "Trainable params: 421,642\n",
            "Non-trainable params: 0\n",
            "_________________________________________________________________\n"
          ],
          "name": "stdout"
        }
      ]
    },
    {
      "cell_type": "code",
      "metadata": {
        "colab": {
          "base_uri": "https://localhost:8080/"
        },
        "id": "mO6cSzgDKUrI",
        "outputId": "0392fdda-425e-49f8-87cc-2a8aced40c1d"
      },
      "source": [
        "c2f2.fit(X_train, y_train, epochs = 20 , batch_size =32)"
      ],
      "execution_count": 17,
      "outputs": [
        {
          "output_type": "stream",
          "text": [
            "Epoch 1/20\n",
            "1875/1875 [==============================] - 71s 38ms/step - loss: 0.4296 - accuracy: 0.8462\n",
            "Epoch 2/20\n",
            "1875/1875 [==============================] - 71s 38ms/step - loss: 0.2855 - accuracy: 0.8959\n",
            "Epoch 3/20\n",
            "1875/1875 [==============================] - 70s 38ms/step - loss: 0.2410 - accuracy: 0.9108\n",
            "Epoch 4/20\n",
            "1875/1875 [==============================] - 70s 37ms/step - loss: 0.2100 - accuracy: 0.9222\n",
            "Epoch 5/20\n",
            "1875/1875 [==============================] - 71s 38ms/step - loss: 0.1890 - accuracy: 0.9299\n",
            "Epoch 6/20\n",
            "1875/1875 [==============================] - 70s 38ms/step - loss: 0.1676 - accuracy: 0.9373\n",
            "Epoch 7/20\n",
            "1875/1875 [==============================] - 70s 38ms/step - loss: 0.1518 - accuracy: 0.9426\n",
            "Epoch 8/20\n",
            "1875/1875 [==============================] - 71s 38ms/step - loss: 0.1346 - accuracy: 0.9495\n",
            "Epoch 9/20\n",
            "1875/1875 [==============================] - 71s 38ms/step - loss: 0.1224 - accuracy: 0.9542\n",
            "Epoch 10/20\n",
            "1875/1875 [==============================] - 70s 37ms/step - loss: 0.1102 - accuracy: 0.9579\n",
            "Epoch 11/20\n",
            "1875/1875 [==============================] - 70s 37ms/step - loss: 0.0997 - accuracy: 0.9611\n",
            "Epoch 12/20\n",
            "1875/1875 [==============================] - 71s 38ms/step - loss: 0.0928 - accuracy: 0.9642\n",
            "Epoch 13/20\n",
            "1875/1875 [==============================] - 70s 38ms/step - loss: 0.0840 - accuracy: 0.9676\n",
            "Epoch 14/20\n",
            "1875/1875 [==============================] - 72s 38ms/step - loss: 0.0778 - accuracy: 0.9704\n",
            "Epoch 15/20\n",
            "1875/1875 [==============================] - 71s 38ms/step - loss: 0.0737 - accuracy: 0.9718\n",
            "Epoch 16/20\n",
            "1875/1875 [==============================] - 71s 38ms/step - loss: 0.0681 - accuracy: 0.9740\n",
            "Epoch 17/20\n",
            "1875/1875 [==============================] - 71s 38ms/step - loss: 0.0625 - accuracy: 0.9761\n",
            "Epoch 18/20\n",
            "1875/1875 [==============================] - 71s 38ms/step - loss: 0.0607 - accuracy: 0.9766\n",
            "Epoch 19/20\n",
            "1875/1875 [==============================] - 71s 38ms/step - loss: 0.0589 - accuracy: 0.9782\n",
            "Epoch 20/20\n",
            "1875/1875 [==============================] - 70s 38ms/step - loss: 0.0536 - accuracy: 0.9803\n"
          ],
          "name": "stdout"
        },
        {
          "output_type": "execute_result",
          "data": {
            "text/plain": [
              "<tensorflow.python.keras.callbacks.History at 0x7faa96139d68>"
            ]
          },
          "metadata": {
            "tags": []
          },
          "execution_count": 17
        }
      ]
    },
    {
      "cell_type": "code",
      "metadata": {
        "colab": {
          "base_uri": "https://localhost:8080/"
        },
        "id": "fICvCUQnPoK4",
        "outputId": "d8ba2645-46e4-44cd-c70c-25ac3cd39157"
      },
      "source": [
        "c2f2.evaluate(X_test, y_test, batch_size =32)"
      ],
      "execution_count": 18,
      "outputs": [
        {
          "output_type": "stream",
          "text": [
            "313/313 [==============================] - 3s 11ms/step - loss: 0.4008 - accuracy: 0.9215\n"
          ],
          "name": "stdout"
        },
        {
          "output_type": "execute_result",
          "data": {
            "text/plain": [
              "[0.40084490180015564, 0.921500027179718]"
            ]
          },
          "metadata": {
            "tags": []
          },
          "execution_count": 18
        }
      ]
    },
    {
      "cell_type": "markdown",
      "metadata": {
        "id": "nH1JSl3RP1bv"
      },
      "source": [
        "## **CNN2 + FCN3**"
      ]
    },
    {
      "cell_type": "code",
      "metadata": {
        "id": "5G30SafgP3jg"
      },
      "source": [
        "c2f3 = keras.models.Sequential([ \r\n",
        "    Conv2D(input_shape=(28,28,1),kernel_size=(3,3),strides=(1,1),filters= 32,padding='same',activation='relu'),\r\n",
        "    MaxPool2D(pool_size=(2,2), strides=(2,2)), \r\n",
        "    Conv2D(kernel_size=(3,3),strides=(1,1),filters= 64,padding='same',activation='relu'),\r\n",
        "    MaxPool2D(pool_size=(2,2), strides=(2,2)), \r\n",
        "    Flatten(),\r\n",
        "    Dense(256, activation='relu'),\r\n",
        "    Dropout(0.25), \r\n",
        "    Dense(128, activation='relu'),\r\n",
        "    Dropout(0.25), \r\n",
        "    keras.layers.Dense(10, activation='softmax')\r\n",
        "])\r\n",
        "\r\n",
        "c2f3.compile(optimizer='adam',\r\n",
        "              loss='categorical_crossentropy',\r\n",
        "              metrics=['accuracy']) "
      ],
      "execution_count": 20,
      "outputs": []
    },
    {
      "cell_type": "code",
      "metadata": {
        "colab": {
          "base_uri": "https://localhost:8080/"
        },
        "id": "HAi2gZRBQAym",
        "outputId": "1dcee2b2-211b-4b25-f0c8-5a677186b075"
      },
      "source": [
        "c2f3.summary()"
      ],
      "execution_count": 21,
      "outputs": [
        {
          "output_type": "stream",
          "text": [
            "Model: \"sequential_4\"\n",
            "_________________________________________________________________\n",
            "Layer (type)                 Output Shape              Param #   \n",
            "=================================================================\n",
            "conv2d_6 (Conv2D)            (None, 28, 28, 32)        320       \n",
            "_________________________________________________________________\n",
            "max_pooling2d_6 (MaxPooling2 (None, 14, 14, 32)        0         \n",
            "_________________________________________________________________\n",
            "conv2d_7 (Conv2D)            (None, 14, 14, 64)        18496     \n",
            "_________________________________________________________________\n",
            "max_pooling2d_7 (MaxPooling2 (None, 7, 7, 64)          0         \n",
            "_________________________________________________________________\n",
            "flatten_4 (Flatten)          (None, 3136)              0         \n",
            "_________________________________________________________________\n",
            "dense_10 (Dense)             (None, 256)               803072    \n",
            "_________________________________________________________________\n",
            "dropout_6 (Dropout)          (None, 256)               0         \n",
            "_________________________________________________________________\n",
            "dense_11 (Dense)             (None, 128)               32896     \n",
            "_________________________________________________________________\n",
            "dropout_7 (Dropout)          (None, 128)               0         \n",
            "_________________________________________________________________\n",
            "dense_12 (Dense)             (None, 10)                1290      \n",
            "=================================================================\n",
            "Total params: 856,074\n",
            "Trainable params: 856,074\n",
            "Non-trainable params: 0\n",
            "_________________________________________________________________\n"
          ],
          "name": "stdout"
        }
      ]
    },
    {
      "cell_type": "code",
      "metadata": {
        "colab": {
          "base_uri": "https://localhost:8080/"
        },
        "id": "-oc6aWfNQEl_",
        "outputId": "8dd53784-782a-41ff-a5df-8b7a01681bed"
      },
      "source": [
        "c2f3.fit(X_train, y_train, epochs=20, batch_size =32)"
      ],
      "execution_count": 22,
      "outputs": [
        {
          "output_type": "stream",
          "text": [
            "Epoch 1/20\n",
            "1875/1875 [==============================] - 79s 42ms/step - loss: 0.4531 - accuracy: 0.8383\n",
            "Epoch 2/20\n",
            "1875/1875 [==============================] - 79s 42ms/step - loss: 0.2852 - accuracy: 0.8966\n",
            "Epoch 3/20\n",
            "1875/1875 [==============================] - 79s 42ms/step - loss: 0.2386 - accuracy: 0.9133\n",
            "Epoch 4/20\n",
            "1875/1875 [==============================] - 78s 42ms/step - loss: 0.2084 - accuracy: 0.9215\n",
            "Epoch 5/20\n",
            "1875/1875 [==============================] - 78s 41ms/step - loss: 0.1838 - accuracy: 0.9320\n",
            "Epoch 6/20\n",
            "1875/1875 [==============================] - 78s 42ms/step - loss: 0.1647 - accuracy: 0.9391\n",
            "Epoch 7/20\n",
            "1875/1875 [==============================] - 78s 42ms/step - loss: 0.1484 - accuracy: 0.9456\n",
            "Epoch 8/20\n",
            "1875/1875 [==============================] - 78s 42ms/step - loss: 0.1320 - accuracy: 0.9513\n",
            "Epoch 9/20\n",
            "1875/1875 [==============================] - 78s 41ms/step - loss: 0.1179 - accuracy: 0.9556\n",
            "Epoch 10/20\n",
            "1875/1875 [==============================] - 80s 43ms/step - loss: 0.1079 - accuracy: 0.9603\n",
            "Epoch 11/20\n",
            "1875/1875 [==============================] - 79s 42ms/step - loss: 0.1002 - accuracy: 0.9630\n",
            "Epoch 12/20\n",
            "1875/1875 [==============================] - 78s 42ms/step - loss: 0.0884 - accuracy: 0.9671\n",
            "Epoch 13/20\n",
            "1875/1875 [==============================] - 78s 42ms/step - loss: 0.0840 - accuracy: 0.9689\n",
            "Epoch 14/20\n",
            "1875/1875 [==============================] - 79s 42ms/step - loss: 0.0786 - accuracy: 0.9711\n",
            "Epoch 15/20\n",
            "1875/1875 [==============================] - 79s 42ms/step - loss: 0.0710 - accuracy: 0.9743\n",
            "Epoch 16/20\n",
            "1875/1875 [==============================] - 78s 42ms/step - loss: 0.0690 - accuracy: 0.9746\n",
            "Epoch 17/20\n",
            "1875/1875 [==============================] - 79s 42ms/step - loss: 0.0621 - accuracy: 0.9765\n",
            "Epoch 18/20\n",
            "1875/1875 [==============================] - 79s 42ms/step - loss: 0.0601 - accuracy: 0.9787\n",
            "Epoch 19/20\n",
            "1875/1875 [==============================] - 78s 42ms/step - loss: 0.0563 - accuracy: 0.9797\n",
            "Epoch 20/20\n",
            "1875/1875 [==============================] - 78s 42ms/step - loss: 0.0553 - accuracy: 0.9801\n"
          ],
          "name": "stdout"
        },
        {
          "output_type": "execute_result",
          "data": {
            "text/plain": [
              "<tensorflow.python.keras.callbacks.History at 0x7faa94f315f8>"
            ]
          },
          "metadata": {
            "tags": []
          },
          "execution_count": 22
        }
      ]
    },
    {
      "cell_type": "code",
      "metadata": {
        "colab": {
          "base_uri": "https://localhost:8080/"
        },
        "id": "8EhdgwmTQdCD",
        "outputId": "3a8f346f-7b39-4f0a-faf2-6634434e079f"
      },
      "source": [
        "c2f3.evaluate(X_test, y_test, batch_size = 32)"
      ],
      "execution_count": 23,
      "outputs": [
        {
          "output_type": "stream",
          "text": [
            "313/313 [==============================] - 4s 12ms/step - loss: 0.3624 - accuracy: 0.9223\n"
          ],
          "name": "stdout"
        },
        {
          "output_type": "execute_result",
          "data": {
            "text/plain": [
              "[0.3623959720134735, 0.9222999811172485]"
            ]
          },
          "metadata": {
            "tags": []
          },
          "execution_count": 23
        }
      ]
    },
    {
      "cell_type": "markdown",
      "metadata": {
        "id": "FjojRU93QgCF"
      },
      "source": [
        "# **[DIY] Hidden layer에 따른 정확도**"
      ]
    },
    {
      "cell_type": "code",
      "metadata": {
        "colab": {
          "base_uri": "https://localhost:8080/"
        },
        "id": "nhfd-no2QhhR",
        "outputId": "72474b35-33f2-45e3-c58f-49911c3cbd07"
      },
      "source": [
        "c1f2score = c1f2.evaluate(X_test, y_test, batch_size = 32)\r\n",
        "c1f3score = c1f3.evaluate(X_test, y_test, batch_size = 32)\r\n",
        "c2f2score = c2f2.evaluate(X_test, y_test, batch_size = 32)\r\n",
        "c2f3score = c2f3.evaluate(X_test, y_test, batch_size = 32)\r\n"
      ],
      "execution_count": 24,
      "outputs": [
        {
          "output_type": "stream",
          "text": [
            "313/313 [==============================] - 2s 6ms/step - loss: 0.3653 - accuracy: 0.9151\n",
            "313/313 [==============================] - 3s 8ms/step - loss: 0.4091 - accuracy: 0.9140\n",
            "313/313 [==============================] - 3s 11ms/step - loss: 0.4008 - accuracy: 0.9215\n",
            "313/313 [==============================] - 4s 12ms/step - loss: 0.3624 - accuracy: 0.9223\n"
          ],
          "name": "stdout"
        }
      ]
    },
    {
      "cell_type": "code",
      "metadata": {
        "colab": {
          "base_uri": "https://localhost:8080/"
        },
        "id": "nLZgNoY6Q-rG",
        "outputId": "08bd277c-1651-409d-a0be-cb6d9c814386"
      },
      "source": [
        "accuracy = [c1f2score[1], c1f3score[1], c2f2score[1], c2f3score[1]]\r\n",
        "accuracy"
      ],
      "execution_count": 25,
      "outputs": [
        {
          "output_type": "execute_result",
          "data": {
            "text/plain": [
              "[0.9150999784469604, 0.9139999747276306, 0.921500027179718, 0.9222999811172485]"
            ]
          },
          "metadata": {
            "tags": []
          },
          "execution_count": 25
        }
      ]
    },
    {
      "cell_type": "code",
      "metadata": {
        "colab": {
          "base_uri": "https://localhost:8080/",
          "height": 269
        },
        "id": "IA1GXnqCRAhs",
        "outputId": "3d68bd0b-a99d-4854-e463-b8890c9c190b"
      },
      "source": [
        "x = np.arange(4)\r\n",
        "cnns = ['C1F2','C1F3','C2F2','C2F3']\r\n",
        "accuracies = [acc*100 for acc in accuracy] # %\r\n",
        "\r\n",
        "plt.bar(x, accuracies)\r\n",
        "plt.xticks(x, cnns)\r\n",
        "plt.ylim((90, 95))\r\n",
        "plt.show()"
      ],
      "execution_count": 28,
      "outputs": [
        {
          "output_type": "display_data",
          "data": {
            "image/png": "[encoded data removed]",
            "text/plain": [
              "<Figure size 432x288 with 1 Axes>"
            ]
          },
          "metadata": {
            "tags": [],
            "needs_background": "light"
          }
        }
      ]
    },
    {
      "cell_type": "markdown",
      "metadata": {
        "id": "Mo9EoiP5WmfC"
      },
      "source": [
        "## 모형의 저장\r\n",
        "\r\n",
        "- 트레이닝이 끝난 모형은 save 메서드로 가중치와 함께 hdf5 형식으로 저장\r\n",
        "- load 명령으로 불러 사용"
      ]
    },
    {
      "cell_type": "code",
      "metadata": {
        "id": "2S1Pk3HFWn7I"
      },
      "source": [
        "c2f3.save('fmnist_cnn_best.hdf5')"
      ],
      "execution_count": 30,
      "outputs": []
    },
    {
      "cell_type": "code",
      "metadata": {
        "colab": {
          "base_uri": "https://localhost:8080/"
        },
        "id": "Uxzb-zq4WxXk",
        "outputId": "18e1a1df-7e87-422d-dabd-a9aef28044b6"
      },
      "source": [
        "from keras.models import load_model\r\n",
        "\r\n",
        "model = load_model('fmnist_cnn_best.hdf5')\r\n",
        "model.evaluate(X_test, y_test, batch_size=32)"
      ],
      "execution_count": 32,
      "outputs": [
        {
          "output_type": "stream",
          "text": [
            "313/313 [==============================] - 4s 12ms/step - loss: 0.3624 - accuracy: 0.9223\n"
          ],
          "name": "stdout"
        },
        {
          "output_type": "execute_result",
          "data": {
            "text/plain": [
              "[0.3623959720134735, 0.9222999811172485]"
            ]
          },
          "metadata": {
            "tags": []
          },
          "execution_count": 32
        }
      ]
    },
    {
      "cell_type": "markdown",
      "metadata": {
        "id": "wsqH45YNXJMa"
      },
      "source": [
        "## C2F2 모델에 대한 loss, accuracy 그래프를 그리시오."
      ]
    },
    {
      "cell_type": "code",
      "metadata": {
        "colab": {
          "base_uri": "https://localhost:8080/"
        },
        "id": "1Ct9Ex1vXMe2",
        "outputId": "779d166a-e32c-4cf1-cfc4-4c6c63746568"
      },
      "source": [
        "hist = c2f2.fit(X_train, y_train, \r\n",
        "         epochs = 20 , \r\n",
        "         batch_size =32, \r\n",
        "         validation_data=(X_test,y_test))"
      ],
      "execution_count": 33,
      "outputs": [
        {
          "output_type": "stream",
          "text": [
            "Epoch 1/20\n",
            "1875/1875 [==============================] - 74s 39ms/step - loss: 0.0526 - accuracy: 0.9800 - val_loss: 0.4111 - val_accuracy: 0.9190\n",
            "Epoch 2/20\n",
            "1875/1875 [==============================] - 74s 39ms/step - loss: 0.0496 - accuracy: 0.9813 - val_loss: 0.3858 - val_accuracy: 0.9206\n",
            "Epoch 3/20\n",
            "1875/1875 [==============================] - 76s 40ms/step - loss: 0.0485 - accuracy: 0.9814 - val_loss: 0.4567 - val_accuracy: 0.9143\n",
            "Epoch 4/20\n",
            "1875/1875 [==============================] - 74s 40ms/step - loss: 0.0461 - accuracy: 0.9825 - val_loss: 0.4126 - val_accuracy: 0.9162\n",
            "Epoch 5/20\n",
            "1875/1875 [==============================] - 75s 40ms/step - loss: 0.0463 - accuracy: 0.9825 - val_loss: 0.4563 - val_accuracy: 0.9183\n",
            "Epoch 6/20\n",
            "1875/1875 [==============================] - 75s 40ms/step - loss: 0.0445 - accuracy: 0.9834 - val_loss: 0.4617 - val_accuracy: 0.9218\n",
            "Epoch 7/20\n",
            "1875/1875 [==============================] - 76s 41ms/step - loss: 0.0400 - accuracy: 0.9853 - val_loss: 0.4914 - val_accuracy: 0.9175\n",
            "Epoch 8/20\n",
            "1875/1875 [==============================] - 75s 40ms/step - loss: 0.0417 - accuracy: 0.9847 - val_loss: 0.4467 - val_accuracy: 0.9174\n",
            "Epoch 9/20\n",
            "1875/1875 [==============================] - 74s 40ms/step - loss: 0.0391 - accuracy: 0.9853 - val_loss: 0.4811 - val_accuracy: 0.9202\n",
            "Epoch 10/20\n",
            "1875/1875 [==============================] - 75s 40ms/step - loss: 0.0378 - accuracy: 0.9865 - val_loss: 0.5084 - val_accuracy: 0.9177\n",
            "Epoch 11/20\n",
            "1875/1875 [==============================] - 75s 40ms/step - loss: 0.0386 - accuracy: 0.9857 - val_loss: 0.5189 - val_accuracy: 0.9196\n",
            "Epoch 12/20\n",
            "1875/1875 [==============================] - 75s 40ms/step - loss: 0.0361 - accuracy: 0.9867 - val_loss: 0.5321 - val_accuracy: 0.9195\n",
            "Epoch 13/20\n",
            "1875/1875 [==============================] - 74s 40ms/step - loss: 0.0389 - accuracy: 0.9854 - val_loss: 0.5570 - val_accuracy: 0.9235\n",
            "Epoch 14/20\n",
            "1875/1875 [==============================] - 74s 39ms/step - loss: 0.0364 - accuracy: 0.9868 - val_loss: 0.5931 - val_accuracy: 0.9196\n",
            "Epoch 15/20\n",
            "1875/1875 [==============================] - 74s 39ms/step - loss: 0.0337 - accuracy: 0.9876 - val_loss: 0.5455 - val_accuracy: 0.9177\n",
            "Epoch 16/20\n",
            "1875/1875 [==============================] - 75s 40ms/step - loss: 0.0363 - accuracy: 0.9869 - val_loss: 0.5565 - val_accuracy: 0.9213\n",
            "Epoch 17/20\n",
            "1875/1875 [==============================] - 74s 39ms/step - loss: 0.0341 - accuracy: 0.9880 - val_loss: 0.5603 - val_accuracy: 0.9198\n",
            "Epoch 18/20\n",
            "1875/1875 [==============================] - 74s 40ms/step - loss: 0.0352 - accuracy: 0.9876 - val_loss: 0.5701 - val_accuracy: 0.9208\n",
            "Epoch 19/20\n",
            "1875/1875 [==============================] - 74s 39ms/step - loss: 0.0336 - accuracy: 0.9885 - val_loss: 0.5449 - val_accuracy: 0.9202\n",
            "Epoch 20/20\n",
            "1875/1875 [==============================] - 75s 40ms/step - loss: 0.0326 - accuracy: 0.9883 - val_loss: 0.6090 - val_accuracy: 0.9185\n"
          ],
          "name": "stdout"
        }
      ]
    },
    {
      "cell_type": "code",
      "metadata": {
        "colab": {
          "base_uri": "https://localhost:8080/",
          "height": 313
        },
        "id": "FcRcHk9iXgI7",
        "outputId": "d9cd7789-2138-45d4-cf49-5c23c18d7dca"
      },
      "source": [
        "# Plot loass and accuracy\r\n",
        "# Plot training & validation accuracy values\r\n",
        "epochs = 20\r\n",
        "loss_list = [100 * i for i in hist.history['loss']]\r\n",
        "acc_list = [100 * i for i in hist.history['accuracy']]\r\n",
        "plt.plot(range(1,epochs+1),loss_list)\r\n",
        "plt.plot(range(1,epochs+1),acc_list)\r\n",
        "plt.title('Model loss & accuracy')\r\n",
        "plt.ylabel('Accuracy (%)')\r\n",
        "plt.xlabel('Epoch')\r\n",
        "plt.legend(['loss', 'accuracy'], loc='center left')"
      ],
      "execution_count": 34,
      "outputs": [
        {
          "output_type": "execute_result",
          "data": {
            "text/plain": [
              "<matplotlib.legend.Legend at 0x7faa92a643c8>"
            ]
          },
          "metadata": {
            "tags": []
          },
          "execution_count": 34
        },
        {
          "output_type": "display_data",
          "data": {
            "image/png": "[encoded data removed]",
            "text/plain": [
              "<Figure size 432x288 with 1 Axes>"
            ]
          },
          "metadata": {
            "tags": [],
            "needs_background": "light"
          }
        }
      ]
    },
    {
      "cell_type": "code",
      "metadata": {
        "id": "A9z_QpHJXh9G"
      },
      "source": [
        "vloss_list = [100 * i for i in hist.history['val_loss']]\r\n",
        "vacc_list = [100 * i for i in hist.history['val_accuracy']]"
      ],
      "execution_count": 35,
      "outputs": []
    },
    {
      "cell_type": "code",
      "metadata": {
        "colab": {
          "base_uri": "https://localhost:8080/",
          "height": 313
        },
        "id": "uS43x7fOXjbL",
        "outputId": "61793fac-ec0d-4f2f-e91e-73e63deea956"
      },
      "source": [
        "plt.plot(range(1,epochs+1),vloss_list)  \r\n",
        "plt.plot(range(1,epochs+1),vacc_list)  \r\n",
        "plt.title('Model val_loss & val_accuracy')\r\n",
        "plt.ylabel('Accuracy (%)')\r\n",
        "plt.xlabel('Epoch')\r\n",
        "plt.legend(['val_loss', 'val_accuracy'], loc='center left')"
      ],
      "execution_count": 36,
      "outputs": [
        {
          "output_type": "execute_result",
          "data": {
            "text/plain": [
              "<matplotlib.legend.Legend at 0x7faa99a11240>"
            ]
          },
          "metadata": {
            "tags": []
          },
          "execution_count": 36
        },
        {
          "output_type": "display_data",
          "data": {
            "image/png": "[encoded data removed]",
            "text/plain": [
              "<Figure size 432x288 with 1 Axes>"
            ]
          },
          "metadata": {
            "tags": [],
            "needs_background": "light"
          }
        }
      ]
    },
    {
      "cell_type": "code",
      "metadata": {
        "colab": {
          "base_uri": "https://localhost:8080/",
          "height": 313
        },
        "id": "5HuMOcFsXlUV",
        "outputId": "2d257279-1550-4b25-f270-7d14f3cfcd9b"
      },
      "source": [
        "plt.plot(range(1,epochs+1),acc_list)  \r\n",
        "plt.plot(range(1,epochs+1),vacc_list)  \r\n",
        "plt.title('accuracy vs. val_accuracy')\r\n",
        "plt.ylabel('Accuracy (%)')\r\n",
        "plt.xlabel('Epoch')\r\n",
        "plt.legend(['accuracy','val_accuracy'], loc='center')"
      ],
      "execution_count": 37,
      "outputs": [
        {
          "output_type": "execute_result",
          "data": {
            "text/plain": [
              "<matplotlib.legend.Legend at 0x7faa93d3b198>"
            ]
          },
          "metadata": {
            "tags": []
          },
          "execution_count": 37
        },
        {
          "output_type": "display_data",
          "data": {
            "image/png": "[encoded data removed]",
            "text/plain": [
              "<Figure size 432x288 with 1 Axes>"
            ]
          },
          "metadata": {
            "tags": [],
            "needs_background": "light"
          }
        }
      ]
    },
    {
      "cell_type": "markdown",
      "metadata": {
        "id": "rHxWsA10XoVr"
      },
      "source": [
        "## C2F3 모델에 대한 loss, accuracy 그래프를 추가하시오."
      ]
    },
    {
      "cell_type": "code",
      "metadata": {
        "colab": {
          "base_uri": "https://localhost:8080/"
        },
        "id": "e6M-JmwrXqG2",
        "outputId": "b37ab10a-3bcd-4eef-9c1a-03a1d19ff18a"
      },
      "source": [
        "# Code here!\r\n",
        "\r\n",
        "hist = c2f3.fit(X_train, y_train, \r\n",
        "         epochs = 20 , \r\n",
        "         batch_size =32, \r\n",
        "         validation_data=(X_test,y_test))"
      ],
      "execution_count": 38,
      "outputs": [
        {
          "output_type": "stream",
          "text": [
            "Epoch 1/20\n",
            "1875/1875 [==============================] - 81s 43ms/step - loss: 0.0511 - accuracy: 0.9817 - val_loss: 0.4352 - val_accuracy: 0.9188\n",
            "Epoch 2/20\n",
            "1875/1875 [==============================] - 81s 43ms/step - loss: 0.0495 - accuracy: 0.9824 - val_loss: 0.3962 - val_accuracy: 0.9215\n",
            "Epoch 3/20\n",
            "1875/1875 [==============================] - 81s 43ms/step - loss: 0.0457 - accuracy: 0.9835 - val_loss: 0.5045 - val_accuracy: 0.9206\n",
            "Epoch 4/20\n",
            "1875/1875 [==============================] - 80s 43ms/step - loss: 0.0445 - accuracy: 0.9840 - val_loss: 0.4440 - val_accuracy: 0.9225\n",
            "Epoch 5/20\n",
            "1875/1875 [==============================] - 81s 43ms/step - loss: 0.0443 - accuracy: 0.9847 - val_loss: 0.4598 - val_accuracy: 0.9213\n",
            "Epoch 6/20\n",
            "1875/1875 [==============================] - 81s 43ms/step - loss: 0.0444 - accuracy: 0.9844 - val_loss: 0.4457 - val_accuracy: 0.9239\n",
            "Epoch 7/20\n",
            "1875/1875 [==============================] - 85s 45ms/step - loss: 0.0417 - accuracy: 0.9861 - val_loss: 0.4705 - val_accuracy: 0.9183\n",
            "Epoch 8/20\n",
            "1875/1875 [==============================] - 81s 43ms/step - loss: 0.0384 - accuracy: 0.9866 - val_loss: 0.4628 - val_accuracy: 0.9233\n",
            "Epoch 9/20\n",
            "1875/1875 [==============================] - 80s 43ms/step - loss: 0.0367 - accuracy: 0.9876 - val_loss: 0.4734 - val_accuracy: 0.9207\n",
            "Epoch 10/20\n",
            "1875/1875 [==============================] - 81s 43ms/step - loss: 0.0388 - accuracy: 0.9869 - val_loss: 0.4692 - val_accuracy: 0.9210\n",
            "Epoch 11/20\n",
            "1875/1875 [==============================] - 81s 43ms/step - loss: 0.0369 - accuracy: 0.9873 - val_loss: 0.4836 - val_accuracy: 0.9233\n",
            "Epoch 12/20\n",
            "1875/1875 [==============================] - 81s 43ms/step - loss: 0.0363 - accuracy: 0.9882 - val_loss: 0.4896 - val_accuracy: 0.9217\n",
            "Epoch 13/20\n",
            "1875/1875 [==============================] - 81s 43ms/step - loss: 0.0370 - accuracy: 0.9875 - val_loss: 0.5053 - val_accuracy: 0.9231\n",
            "Epoch 14/20\n",
            "1875/1875 [==============================] - 81s 43ms/step - loss: 0.0327 - accuracy: 0.9890 - val_loss: 0.4823 - val_accuracy: 0.9220\n",
            "Epoch 15/20\n",
            "1875/1875 [==============================] - 81s 43ms/step - loss: 0.0361 - accuracy: 0.9876 - val_loss: 0.4847 - val_accuracy: 0.9252\n",
            "Epoch 16/20\n",
            "1875/1875 [==============================] - 81s 43ms/step - loss: 0.0333 - accuracy: 0.9895 - val_loss: 0.5059 - val_accuracy: 0.9256\n",
            "Epoch 17/20\n",
            "1875/1875 [==============================] - 80s 43ms/step - loss: 0.0335 - accuracy: 0.9888 - val_loss: 0.5381 - val_accuracy: 0.9222\n",
            "Epoch 18/20\n",
            "1875/1875 [==============================] - 81s 43ms/step - loss: 0.0330 - accuracy: 0.9885 - val_loss: 0.5112 - val_accuracy: 0.9224\n",
            "Epoch 19/20\n",
            "1875/1875 [==============================] - 82s 44ms/step - loss: 0.0328 - accuracy: 0.9891 - val_loss: 0.5774 - val_accuracy: 0.9191\n",
            "Epoch 20/20\n",
            "1875/1875 [==============================] - 82s 44ms/step - loss: 0.0298 - accuracy: 0.9902 - val_loss: 0.5196 - val_accuracy: 0.9179\n"
          ],
          "name": "stdout"
        }
      ]
    },
    {
      "cell_type": "code",
      "metadata": {
        "colab": {
          "base_uri": "https://localhost:8080/",
          "height": 313
        },
        "id": "OtLfcMesd9lC",
        "outputId": "bdb7434d-75d8-460c-d5cd-bcf7b42318a4"
      },
      "source": [
        "# Plot loass and accuracy\r\n",
        "# Plot training & validation accuracy values\r\n",
        "epochs = 20\r\n",
        "loss_list = [100 * i for i in hist.history['loss']]\r\n",
        "acc_list = [100 * i for i in hist.history['accuracy']]\r\n",
        "plt.plot(range(1,epochs+1),loss_list)\r\n",
        "plt.plot(range(1,epochs+1),acc_list)\r\n",
        "plt.title('Model loss & accuracy')\r\n",
        "plt.ylabel('Accuracy (%)')\r\n",
        "plt.xlabel('Epoch')\r\n",
        "plt.legend(['loss', 'accuracy'], loc='center left')"
      ],
      "execution_count": 39,
      "outputs": [
        {
          "output_type": "execute_result",
          "data": {
            "text/plain": [
              "<matplotlib.legend.Legend at 0x7faa9461d518>"
            ]
          },
          "metadata": {
            "tags": []
          },
          "execution_count": 39
        },
        {
          "output_type": "display_data",
          "data": {
            "image/png": "[encoded data removed]",
            "text/plain": [
              "<Figure size 432x288 with 1 Axes>"
            ]
          },
          "metadata": {
            "tags": [],
            "needs_background": "light"
          }
        }
      ]
    },
    {
      "cell_type": "code",
      "metadata": {
        "id": "WOnUKn2NeCQb"
      },
      "source": [
        "vloss_list = [100 * i for i in hist.history['val_loss']]\r\n",
        "vacc_list = [100 * i for i in hist.history['val_accuracy']]"
      ],
      "execution_count": 40,
      "outputs": []
    },
    {
      "cell_type": "code",
      "metadata": {
        "colab": {
          "base_uri": "https://localhost:8080/",
          "height": 313
        },
        "id": "OzE3fZD1j_AM",
        "outputId": "6525e54c-1051-4831-c1ed-d53af959598d"
      },
      "source": [
        "plt.plot(range(1,epochs+1),vloss_list)  \r\n",
        "plt.plot(range(1,epochs+1),vacc_list)  \r\n",
        "plt.title('Model val_loss & val_accuracy')\r\n",
        "plt.ylabel('Accuracy (%)')\r\n",
        "plt.xlabel('Epoch')\r\n",
        "plt.legend(['val_loss', 'val_accuracy'], loc='center left')"
      ],
      "execution_count": 41,
      "outputs": [
        {
          "output_type": "execute_result",
          "data": {
            "text/plain": [
              "<matplotlib.legend.Legend at 0x7faad52725c0>"
            ]
          },
          "metadata": {
            "tags": []
          },
          "execution_count": 41
        },
        {
          "output_type": "display_data",
          "data": {
            "image/png": "[encoded data removed]",
            "text/plain": [
              "<Figure size 432x288 with 1 Axes>"
            ]
          },
          "metadata": {
            "tags": [],
            "needs_background": "light"
          }
        }
      ]
    },
    {
      "cell_type": "code",
      "metadata": {
        "colab": {
          "base_uri": "https://localhost:8080/",
          "height": 313
        },
        "id": "PvViFy_CkE4Z",
        "outputId": "e59d3d63-8b08-4255-8cc6-f6d45d84edb2"
      },
      "source": [
        "plt.plot(range(1,epochs+1),acc_list)  \r\n",
        "plt.plot(range(1,epochs+1),vacc_list)  \r\n",
        "plt.title('accuracy vs. val_accuracy')\r\n",
        "plt.ylabel('Accuracy (%)')\r\n",
        "plt.xlabel('Epoch')\r\n",
        "plt.legend(['accuracy','val_accuracy'], loc='center')"
      ],
      "execution_count": 44,
      "outputs": [
        {
          "output_type": "execute_result",
          "data": {
            "text/plain": [
              "<matplotlib.legend.Legend at 0x7faa92993630>"
            ]
          },
          "metadata": {
            "tags": []
          },
          "execution_count": 44
        },
        {
          "output_type": "display_data",
          "data": {
            "image/png": "[encoded data removed]",
            "text/plain": [
              "<Figure size 432x288 with 1 Axes>"
            ]
          },
          "metadata": {
            "tags": [],
            "needs_background": "light"
          }
        }
      ]
    },
    {
      "cell_type": "markdown",
      "metadata": {
        "id": "PYLyH7EJB3AC"
      },
      "source": [
        "## Search the best model of C2F2\n",
        "- callback\n",
        "    - Early stopping\n",
        "    - model checkpoint"
      ]
    },
    {
      "cell_type": "code",
      "metadata": {
        "id": "k0POq544E8EH"
      },
      "source": [
        "# import TF2 submodules\n",
        "from tensorflow.keras import layers, models, callbacks"
      ],
      "execution_count": 45,
      "outputs": []
    },
    {
      "cell_type": "code",
      "metadata": {
        "id": "ltXoFOBDEfho"
      },
      "source": [
        "cp_callback = callbacks.ModelCheckpoint(filepath=\"./fmnist_c2f2_best_weights.{epoch:03d}-{val_accuracy:.4f}.hdf5\", \n",
        "                              monitor='val_accuracy', verbose=0, save_best_only=True)\n",
        "es_callback = callbacks.EarlyStopping(monitor='val_accuracy', \n",
        "                            mode='max', verbose=1, patience=50)    # patience=10, 20, 50"
      ],
      "execution_count": 46,
      "outputs": []
    },
    {
      "cell_type": "code",
      "metadata": {
        "id": "UyoksDewE-hB",
        "colab": {
          "base_uri": "https://localhost:8080/"
        },
        "outputId": "25585f19-4058-4908-b495-b34b4526130d"
      },
      "source": [
        "# Train CNN model\n",
        "# Find and save the best model.\n",
        "hist = c2f2.fit(X_train, y_train, epochs = 500 , batch_size =32, \n",
        "         callbacks=[cp_callback, es_callback], \n",
        "         validation_data=(X_test,y_test))"
      ],
      "execution_count": 47,
      "outputs": [
        {
          "output_type": "stream",
          "text": [
            "Epoch 1/500\n",
            "1875/1875 [==============================] - 74s 39ms/step - loss: 0.0303 - accuracy: 0.9889 - val_loss: 0.5921 - val_accuracy: 0.9178\n",
            "Epoch 2/500\n",
            "1875/1875 [==============================] - 74s 40ms/step - loss: 0.0333 - accuracy: 0.9892 - val_loss: 0.6020 - val_accuracy: 0.9207\n",
            "Epoch 3/500\n",
            "1875/1875 [==============================] - 74s 39ms/step - loss: 0.0339 - accuracy: 0.9885 - val_loss: 0.5843 - val_accuracy: 0.9203\n",
            "Epoch 4/500\n",
            "1875/1875 [==============================] - 75s 40ms/step - loss: 0.0324 - accuracy: 0.9888 - val_loss: 0.5956 - val_accuracy: 0.9185\n",
            "Epoch 5/500\n",
            "1875/1875 [==============================] - 74s 39ms/step - loss: 0.0321 - accuracy: 0.9887 - val_loss: 0.6117 - val_accuracy: 0.9197\n",
            "Epoch 6/500\n",
            "1875/1875 [==============================] - 74s 40ms/step - loss: 0.0293 - accuracy: 0.9898 - val_loss: 0.6622 - val_accuracy: 0.9207\n",
            "Epoch 7/500\n",
            "1875/1875 [==============================] - 74s 40ms/step - loss: 0.0315 - accuracy: 0.9894 - val_loss: 0.6436 - val_accuracy: 0.9199\n",
            "Epoch 8/500\n",
            "1875/1875 [==============================] - 75s 40ms/step - loss: 0.0304 - accuracy: 0.9891 - val_loss: 0.5794 - val_accuracy: 0.9211\n",
            "Epoch 9/500\n",
            "1875/1875 [==============================] - 75s 40ms/step - loss: 0.0285 - accuracy: 0.9899 - val_loss: 0.6774 - val_accuracy: 0.9188\n",
            "Epoch 10/500\n",
            "1875/1875 [==============================] - 74s 40ms/step - loss: 0.0309 - accuracy: 0.9898 - val_loss: 0.6381 - val_accuracy: 0.9181\n",
            "Epoch 11/500\n",
            "1875/1875 [==============================] - 74s 40ms/step - loss: 0.0316 - accuracy: 0.9894 - val_loss: 0.7005 - val_accuracy: 0.9174\n",
            "Epoch 12/500\n",
            "1875/1875 [==============================] - 74s 39ms/step - loss: 0.0266 - accuracy: 0.9905 - val_loss: 0.6287 - val_accuracy: 0.9189\n",
            "Epoch 13/500\n",
            "1875/1875 [==============================] - 75s 40ms/step - loss: 0.0285 - accuracy: 0.9901 - val_loss: 0.7217 - val_accuracy: 0.9219\n",
            "Epoch 14/500\n",
            "1875/1875 [==============================] - 74s 40ms/step - loss: 0.0287 - accuracy: 0.9904 - val_loss: 0.6604 - val_accuracy: 0.9199\n",
            "Epoch 15/500\n",
            "1875/1875 [==============================] - 75s 40ms/step - loss: 0.0291 - accuracy: 0.9903 - val_loss: 0.6749 - val_accuracy: 0.9129\n",
            "Epoch 16/500\n",
            "1875/1875 [==============================] - 74s 40ms/step - loss: 0.0283 - accuracy: 0.9905 - val_loss: 0.6998 - val_accuracy: 0.9228\n",
            "Epoch 17/500\n",
            "1875/1875 [==============================] - 75s 40ms/step - loss: 0.0279 - accuracy: 0.9903 - val_loss: 0.7255 - val_accuracy: 0.9223\n",
            "Epoch 18/500\n",
            "1875/1875 [==============================] - 74s 40ms/step - loss: 0.0287 - accuracy: 0.9901 - val_loss: 0.6892 - val_accuracy: 0.9203\n",
            "Epoch 19/500\n",
            "1875/1875 [==============================] - 74s 40ms/step - loss: 0.0309 - accuracy: 0.9895 - val_loss: 0.7069 - val_accuracy: 0.9216\n",
            "Epoch 20/500\n",
            "1875/1875 [==============================] - 74s 39ms/step - loss: 0.0262 - accuracy: 0.9911 - val_loss: 0.7247 - val_accuracy: 0.9192\n",
            "Epoch 21/500\n",
            "1875/1875 [==============================] - 74s 39ms/step - loss: 0.0280 - accuracy: 0.9905 - val_loss: 0.8359 - val_accuracy: 0.9175\n",
            "Epoch 22/500\n",
            "1875/1875 [==============================] - 74s 40ms/step - loss: 0.0275 - accuracy: 0.9902 - val_loss: 0.7376 - val_accuracy: 0.9173\n",
            "Epoch 23/500\n",
            "1875/1875 [==============================] - 74s 39ms/step - loss: 0.0266 - accuracy: 0.9910 - val_loss: 0.7179 - val_accuracy: 0.9176\n",
            "Epoch 24/500\n",
            "1875/1875 [==============================] - 73s 39ms/step - loss: 0.0253 - accuracy: 0.9913 - val_loss: 0.6743 - val_accuracy: 0.9190\n",
            "Epoch 25/500\n",
            "1875/1875 [==============================] - 73s 39ms/step - loss: 0.0266 - accuracy: 0.9908 - val_loss: 0.7347 - val_accuracy: 0.9187\n",
            "Epoch 26/500\n",
            "1875/1875 [==============================] - 74s 39ms/step - loss: 0.0272 - accuracy: 0.9905 - val_loss: 0.6822 - val_accuracy: 0.9215\n",
            "Epoch 27/500\n",
            "1875/1875 [==============================] - 74s 39ms/step - loss: 0.0219 - accuracy: 0.9924 - val_loss: 0.8400 - val_accuracy: 0.9209\n",
            "Epoch 28/500\n",
            "1875/1875 [==============================] - 74s 39ms/step - loss: 0.0292 - accuracy: 0.9905 - val_loss: 0.7058 - val_accuracy: 0.9217\n",
            "Epoch 29/500\n",
            "1875/1875 [==============================] - 73s 39ms/step - loss: 0.0268 - accuracy: 0.9909 - val_loss: 0.7230 - val_accuracy: 0.9212\n",
            "Epoch 30/500\n",
            "1875/1875 [==============================] - 73s 39ms/step - loss: 0.0257 - accuracy: 0.9916 - val_loss: 0.7006 - val_accuracy: 0.9189\n",
            "Epoch 31/500\n",
            "1875/1875 [==============================] - 73s 39ms/step - loss: 0.0251 - accuracy: 0.9916 - val_loss: 0.7276 - val_accuracy: 0.9194\n",
            "Epoch 32/500\n",
            "1875/1875 [==============================] - 72s 39ms/step - loss: 0.0263 - accuracy: 0.9913 - val_loss: 0.6955 - val_accuracy: 0.9192\n",
            "Epoch 33/500\n",
            "1875/1875 [==============================] - 72s 39ms/step - loss: 0.0247 - accuracy: 0.9920 - val_loss: 0.6915 - val_accuracy: 0.9177\n",
            "Epoch 34/500\n",
            "1875/1875 [==============================] - 73s 39ms/step - loss: 0.0262 - accuracy: 0.9912 - val_loss: 0.7284 - val_accuracy: 0.9221\n",
            "Epoch 35/500\n",
            "1875/1875 [==============================] - 74s 39ms/step - loss: 0.0240 - accuracy: 0.9920 - val_loss: 0.7403 - val_accuracy: 0.9196\n",
            "Epoch 36/500\n",
            "1875/1875 [==============================] - 73s 39ms/step - loss: 0.0257 - accuracy: 0.9916 - val_loss: 0.7061 - val_accuracy: 0.9182\n",
            "Epoch 37/500\n",
            "1875/1875 [==============================] - 73s 39ms/step - loss: 0.0219 - accuracy: 0.9926 - val_loss: 0.9123 - val_accuracy: 0.9183\n",
            "Epoch 38/500\n",
            "1875/1875 [==============================] - 72s 39ms/step - loss: 0.0220 - accuracy: 0.9922 - val_loss: 0.7445 - val_accuracy: 0.9185\n",
            "Epoch 39/500\n",
            "1875/1875 [==============================] - 73s 39ms/step - loss: 0.0263 - accuracy: 0.9914 - val_loss: 0.8391 - val_accuracy: 0.9197\n",
            "Epoch 40/500\n",
            "1875/1875 [==============================] - 73s 39ms/step - loss: 0.0225 - accuracy: 0.9924 - val_loss: 0.8509 - val_accuracy: 0.9235\n",
            "Epoch 41/500\n",
            "1875/1875 [==============================] - 72s 39ms/step - loss: 0.0237 - accuracy: 0.9921 - val_loss: 0.7258 - val_accuracy: 0.9168\n",
            "Epoch 42/500\n",
            "1875/1875 [==============================] - 73s 39ms/step - loss: 0.0247 - accuracy: 0.9924 - val_loss: 0.8354 - val_accuracy: 0.9193\n",
            "Epoch 43/500\n",
            "1875/1875 [==============================] - 72s 39ms/step - loss: 0.0233 - accuracy: 0.9925 - val_loss: 0.9458 - val_accuracy: 0.9199\n",
            "Epoch 44/500\n",
            "1875/1875 [==============================] - 73s 39ms/step - loss: 0.0269 - accuracy: 0.9915 - val_loss: 0.7830 - val_accuracy: 0.9189\n",
            "Epoch 45/500\n",
            "1875/1875 [==============================] - 72s 38ms/step - loss: 0.0265 - accuracy: 0.9918 - val_loss: 0.8056 - val_accuracy: 0.9194\n",
            "Epoch 46/500\n",
            "1875/1875 [==============================] - 72s 39ms/step - loss: 0.0232 - accuracy: 0.9930 - val_loss: 0.7433 - val_accuracy: 0.9191\n",
            "Epoch 47/500\n",
            "1875/1875 [==============================] - 72s 39ms/step - loss: 0.0241 - accuracy: 0.9920 - val_loss: 0.7471 - val_accuracy: 0.9224\n",
            "Epoch 48/500\n",
            "1875/1875 [==============================] - 73s 39ms/step - loss: 0.0242 - accuracy: 0.9925 - val_loss: 0.8598 - val_accuracy: 0.9177\n",
            "Epoch 49/500\n",
            "1875/1875 [==============================] - 73s 39ms/step - loss: 0.0243 - accuracy: 0.9918 - val_loss: 0.8112 - val_accuracy: 0.9180\n",
            "Epoch 50/500\n",
            "1875/1875 [==============================] - 73s 39ms/step - loss: 0.0236 - accuracy: 0.9923 - val_loss: 0.8799 - val_accuracy: 0.9219\n",
            "Epoch 51/500\n",
            "1875/1875 [==============================] - 73s 39ms/step - loss: 0.0235 - accuracy: 0.9928 - val_loss: 0.7458 - val_accuracy: 0.9146\n",
            "Epoch 52/500\n",
            "1875/1875 [==============================] - 73s 39ms/step - loss: 0.0240 - accuracy: 0.9924 - val_loss: 0.7854 - val_accuracy: 0.9211\n",
            "Epoch 53/500\n",
            "1875/1875 [==============================] - 76s 41ms/step - loss: 0.0215 - accuracy: 0.9932 - val_loss: 1.0400 - val_accuracy: 0.9166\n",
            "Epoch 54/500\n",
            "1875/1875 [==============================] - 83s 44ms/step - loss: 0.0254 - accuracy: 0.9919 - val_loss: 0.8377 - val_accuracy: 0.9229\n",
            "Epoch 55/500\n",
            "1875/1875 [==============================] - 73s 39ms/step - loss: 0.0222 - accuracy: 0.9926 - val_loss: 0.9678 - val_accuracy: 0.9198\n",
            "Epoch 56/500\n",
            "1875/1875 [==============================] - 72s 39ms/step - loss: 0.0250 - accuracy: 0.9916 - val_loss: 0.8509 - val_accuracy: 0.9207\n",
            "Epoch 57/500\n",
            "1875/1875 [==============================] - 74s 39ms/step - loss: 0.0224 - accuracy: 0.9926 - val_loss: 0.9571 - val_accuracy: 0.9197\n",
            "Epoch 58/500\n",
            "1875/1875 [==============================] - 72s 39ms/step - loss: 0.0231 - accuracy: 0.9927 - val_loss: 0.8553 - val_accuracy: 0.9224\n",
            "Epoch 59/500\n",
            "1875/1875 [==============================] - 73s 39ms/step - loss: 0.0249 - accuracy: 0.9925 - val_loss: 0.8082 - val_accuracy: 0.9207\n",
            "Epoch 60/500\n",
            "1875/1875 [==============================] - 73s 39ms/step - loss: 0.0231 - accuracy: 0.9925 - val_loss: 0.8747 - val_accuracy: 0.9188\n",
            "Epoch 61/500\n",
            "1875/1875 [==============================] - 73s 39ms/step - loss: 0.0233 - accuracy: 0.9926 - val_loss: 0.8665 - val_accuracy: 0.9150\n",
            "Epoch 62/500\n",
            "1875/1875 [==============================] - 73s 39ms/step - loss: 0.0244 - accuracy: 0.9925 - val_loss: 0.9248 - val_accuracy: 0.9200\n",
            "Epoch 63/500\n",
            "1875/1875 [==============================] - 72s 39ms/step - loss: 0.0226 - accuracy: 0.9932 - val_loss: 0.8095 - val_accuracy: 0.9150\n",
            "Epoch 64/500\n",
            "1875/1875 [==============================] - 72s 39ms/step - loss: 0.0213 - accuracy: 0.9934 - val_loss: 1.0440 - val_accuracy: 0.9190\n",
            "Epoch 65/500\n",
            "1875/1875 [==============================] - 72s 39ms/step - loss: 0.0238 - accuracy: 0.9921 - val_loss: 0.7834 - val_accuracy: 0.9158\n",
            "Epoch 66/500\n",
            "1875/1875 [==============================] - 73s 39ms/step - loss: 0.0238 - accuracy: 0.9927 - val_loss: 1.0236 - val_accuracy: 0.9205\n",
            "Epoch 67/500\n",
            "1875/1875 [==============================] - 72s 38ms/step - loss: 0.0224 - accuracy: 0.9924 - val_loss: 0.8699 - val_accuracy: 0.9199\n",
            "Epoch 68/500\n",
            "1875/1875 [==============================] - 72s 39ms/step - loss: 0.0218 - accuracy: 0.9930 - val_loss: 0.9388 - val_accuracy: 0.9171\n",
            "Epoch 69/500\n",
            "1875/1875 [==============================] - 72s 39ms/step - loss: 0.0260 - accuracy: 0.9923 - val_loss: 0.9060 - val_accuracy: 0.9220\n",
            "Epoch 70/500\n",
            "1875/1875 [==============================] - 73s 39ms/step - loss: 0.0184 - accuracy: 0.9940 - val_loss: 0.9497 - val_accuracy: 0.9219\n",
            "Epoch 71/500\n",
            "1875/1875 [==============================] - 72s 39ms/step - loss: 0.0207 - accuracy: 0.9934 - val_loss: 0.9882 - val_accuracy: 0.9181\n",
            "Epoch 72/500\n",
            "1875/1875 [==============================] - 73s 39ms/step - loss: 0.0235 - accuracy: 0.9927 - val_loss: 0.9937 - val_accuracy: 0.9199\n",
            "Epoch 73/500\n",
            "1875/1875 [==============================] - 72s 38ms/step - loss: 0.0215 - accuracy: 0.9931 - val_loss: 0.9109 - val_accuracy: 0.9180\n",
            "Epoch 74/500\n",
            "1875/1875 [==============================] - 72s 39ms/step - loss: 0.0196 - accuracy: 0.9933 - val_loss: 1.1674 - val_accuracy: 0.9231\n",
            "Epoch 75/500\n",
            "1875/1875 [==============================] - 73s 39ms/step - loss: 0.0254 - accuracy: 0.9928 - val_loss: 0.9458 - val_accuracy: 0.9213\n",
            "Epoch 76/500\n",
            "1875/1875 [==============================] - 72s 39ms/step - loss: 0.0203 - accuracy: 0.9937 - val_loss: 1.0465 - val_accuracy: 0.9189\n",
            "Epoch 77/500\n",
            "1875/1875 [==============================] - 72s 39ms/step - loss: 0.0231 - accuracy: 0.9931 - val_loss: 1.0057 - val_accuracy: 0.9182\n",
            "Epoch 78/500\n",
            "1875/1875 [==============================] - 73s 39ms/step - loss: 0.0187 - accuracy: 0.9939 - val_loss: 1.0358 - val_accuracy: 0.9207\n",
            "Epoch 79/500\n",
            "1875/1875 [==============================] - 74s 40ms/step - loss: 0.0231 - accuracy: 0.9931 - val_loss: 0.9864 - val_accuracy: 0.9175\n",
            "Epoch 80/500\n",
            "1875/1875 [==============================] - 73s 39ms/step - loss: 0.0238 - accuracy: 0.9930 - val_loss: 0.9349 - val_accuracy: 0.9190\n",
            "Epoch 81/500\n",
            "1875/1875 [==============================] - 72s 39ms/step - loss: 0.0223 - accuracy: 0.9938 - val_loss: 0.9964 - val_accuracy: 0.9209\n",
            "Epoch 82/500\n",
            "1875/1875 [==============================] - 73s 39ms/step - loss: 0.0196 - accuracy: 0.9939 - val_loss: 0.9497 - val_accuracy: 0.9189\n",
            "Epoch 83/500\n",
            "1875/1875 [==============================] - 73s 39ms/step - loss: 0.0233 - accuracy: 0.9932 - val_loss: 0.9488 - val_accuracy: 0.9208\n",
            "Epoch 84/500\n",
            "1875/1875 [==============================] - 74s 39ms/step - loss: 0.0204 - accuracy: 0.9936 - val_loss: 0.9457 - val_accuracy: 0.9182\n",
            "Epoch 85/500\n",
            "1875/1875 [==============================] - 72s 39ms/step - loss: 0.0202 - accuracy: 0.9934 - val_loss: 1.1068 - val_accuracy: 0.9182\n",
            "Epoch 86/500\n",
            "1875/1875 [==============================] - 72s 39ms/step - loss: 0.0210 - accuracy: 0.9934 - val_loss: 1.0426 - val_accuracy: 0.9194\n",
            "Epoch 87/500\n",
            "1875/1875 [==============================] - 74s 39ms/step - loss: 0.0216 - accuracy: 0.9933 - val_loss: 1.0733 - val_accuracy: 0.9188\n",
            "Epoch 88/500\n",
            "1875/1875 [==============================] - 74s 39ms/step - loss: 0.0215 - accuracy: 0.9936 - val_loss: 1.1007 - val_accuracy: 0.9220\n",
            "Epoch 89/500\n",
            "1875/1875 [==============================] - 72s 39ms/step - loss: 0.0204 - accuracy: 0.9935 - val_loss: 0.9488 - val_accuracy: 0.9201\n",
            "Epoch 90/500\n",
            "1875/1875 [==============================] - 72s 39ms/step - loss: 0.0222 - accuracy: 0.9937 - val_loss: 0.8738 - val_accuracy: 0.9206\n",
            "Epoch 00090: early stopping\n"
          ],
          "name": "stdout"
        }
      ]
    },
    {
      "cell_type": "code",
      "metadata": {
        "id": "GQRgN_-vFM34",
        "colab": {
          "base_uri": "https://localhost:8080/"
        },
        "outputId": "99e57018-4e4d-4a18-eed1-07d3020a70b0"
      },
      "source": [
        "c2f2.evaluate(X_test, y_test, batch_size =32)"
      ],
      "execution_count": 48,
      "outputs": [
        {
          "output_type": "stream",
          "text": [
            "313/313 [==============================] - 3s 11ms/step - loss: 0.8738 - accuracy: 0.9206\n"
          ],
          "name": "stdout"
        },
        {
          "output_type": "execute_result",
          "data": {
            "text/plain": [
              "[0.8737748265266418, 0.9205999970436096]"
            ]
          },
          "metadata": {
            "tags": []
          },
          "execution_count": 48
        }
      ]
    },
    {
      "cell_type": "markdown",
      "metadata": {
        "id": "0lY7SAB2FP0W"
      },
      "source": [
        "## Graph of loss and accuracy\n",
        "- model: C2F2"
      ]
    },
    {
      "cell_type": "code",
      "metadata": {
        "colab": {
          "base_uri": "https://localhost:8080/",
          "height": 313
        },
        "id": "LfC1ZGnPgRTi",
        "outputId": "b4524b6a-e3a4-4814-f97e-98ecc682ed92"
      },
      "source": [
        "epochs = 90\n",
        "loss_list = [100 * i for i in hist.history['loss']]\n",
        "acc_list = [100 * i for i in hist.history['accuracy']]\n",
        "plt.plot(range(1,epochs+1),loss_list) \n",
        "plt.plot(range(1,epochs+1),acc_list) \n",
        "plt.title('Model loss & accuracy')\n",
        "plt.ylabel('Accuracy (%)')\n",
        "plt.xlabel('Epoch')\n",
        "plt.legend(['loss', 'accuracy'], loc='center left')"
      ],
      "execution_count": 51,
      "outputs": [
        {
          "output_type": "execute_result",
          "data": {
            "text/plain": [
              "<matplotlib.legend.Legend at 0x7faa9267ec18>"
            ]
          },
          "metadata": {
            "tags": []
          },
          "execution_count": 51
        },
        {
          "output_type": "display_data",
          "data": {
            "image/png": "[encoded data removed]",
            "text/plain": [
              "<Figure size 432x288 with 1 Axes>"
            ]
          },
          "metadata": {
            "tags": [],
            "needs_background": "light"
          }
        }
      ]
    },
    {
      "cell_type": "code",
      "metadata": {
        "id": "hzwjTGXNgU9i"
      },
      "source": [
        "vloss_list = [100 * i for i in hist.history['val_loss']]\n",
        "vacc_list = [100 * i for i in hist.history['val_accuracy']]"
      ],
      "execution_count": 52,
      "outputs": []
    },
    {
      "cell_type": "code",
      "metadata": {
        "colab": {
          "base_uri": "https://localhost:8080/",
          "height": 313
        },
        "id": "zPJlgCgSgWxy",
        "outputId": "3b6bd5b7-023a-4d41-8806-be019dd2eb14"
      },
      "source": [
        "plt.plot(range(1,epochs+1),vloss_list)  \n",
        "plt.plot(range(1,epochs+1),vacc_list)  \n",
        "plt.title('Model val_loss & val_accuracy')\n",
        "plt.ylabel('Accuracy (%)')\n",
        "plt.xlabel('Epoch')\n",
        "plt.legend(['val_loss', 'val_accuracy'], loc='center left')"
      ],
      "execution_count": 53,
      "outputs": [
        {
          "output_type": "execute_result",
          "data": {
            "text/plain": [
              "<matplotlib.legend.Legend at 0x7faa926429e8>"
            ]
          },
          "metadata": {
            "tags": []
          },
          "execution_count": 53
        },
        {
          "output_type": "display_data",
          "data": {
            "image/png": "[encoded data removed]",
            "text/plain": [
              "<Figure size 432x288 with 1 Axes>"
            ]
          },
          "metadata": {
            "tags": [],
            "needs_background": "light"
          }
        }
      ]
    },
    {
      "cell_type": "code",
      "metadata": {
        "colab": {
          "base_uri": "https://localhost:8080/"
        },
        "id": "_EpiuwrOgaTk",
        "outputId": "2ff61eec-5cd7-42d3-ec20-447d3a3e6abe"
      },
      "source": [
        "np.argmax(np.array(vacc_list))"
      ],
      "execution_count": 54,
      "outputs": [
        {
          "output_type": "execute_result",
          "data": {
            "text/plain": [
              "39"
            ]
          },
          "metadata": {
            "tags": []
          },
          "execution_count": 54
        }
      ]
    },
    {
      "cell_type": "code",
      "metadata": {
        "colab": {
          "base_uri": "https://localhost:8080/"
        },
        "id": "ZQROCEq2gdna",
        "outputId": "ed4db7a5-acc6-432b-9461-fb453b962063"
      },
      "source": [
        "vacc_list[np.argmax(np.array(vacc_list))]"
      ],
      "execution_count": 55,
      "outputs": [
        {
          "output_type": "execute_result",
          "data": {
            "text/plain": [
              "92.35000014305115"
            ]
          },
          "metadata": {
            "tags": []
          },
          "execution_count": 55
        }
      ]
    },
    {
      "cell_type": "code",
      "metadata": {
        "colab": {
          "base_uri": "https://localhost:8080/",
          "height": 313
        },
        "id": "59LO0A8WgfQj",
        "outputId": "2951a144-53a1-4ac9-f765-b9042cdc6c45"
      },
      "source": [
        "plt.plot(range(1,epochs+1),acc_list)  \n",
        "plt.plot(range(1,epochs+1),vacc_list)  \n",
        "plt.title('accuracy vs. val_accuracy')\n",
        "plt.ylabel('Accuracy (%)')\n",
        "plt.xlabel('Epoch')\n",
        "plt.legend(['accuracy','val_accuracy'], loc='center')\n",
        "plt.plot(np.argmax(np.array(vacc_list))+1,vacc_list[np.argmax(np.array(vacc_list))], 'r*') "
      ],
      "execution_count": 56,
      "outputs": [
        {
          "output_type": "execute_result",
          "data": {
            "text/plain": [
              "[<matplotlib.lines.Line2D at 0x7faa925e6ba8>]"
            ]
          },
          "metadata": {
            "tags": []
          },
          "execution_count": 56
        },
        {
          "output_type": "display_data",
          "data": {
            "image/png": "[encoded data removed]",
            "text/plain": [
              "<Figure size 432x288 with 1 Axes>"
            ]
          },
          "metadata": {
            "tags": [],
            "needs_background": "light"
          }
        }
      ]
    },
    {
      "cell_type": "markdown",
      "metadata": {
        "id": "pU4gqdDcAhvZ"
      },
      "source": [
        "## 최적화된 모형 불러와서 이용\r\n",
        "\r\n",
        "- callbacks.ModelCheckpoint를 이용해서 트레이닝 중 val_accuacy가 가장 높은 모형을 가중치와 함께 hdf5 형식으로 저장\r\n",
        "- load 명령으로 불러 사용\r\n",
        "\r\n",
        "  fmnist_c2f2_best_weights.040-0.9235.hdf5"
      ]
    },
    {
      "cell_type": "code",
      "metadata": {
        "colab": {
          "base_uri": "https://localhost:8080/"
        },
        "id": "8SFpyqPsglUu",
        "outputId": "b11e0168-6df4-4c05-8b8e-4ebe7b254889"
      },
      "source": [
        "from keras.models import load_model\n",
        "\n",
        "model = load_model('fmnist_c2f2_best_weights.040-0.9235.hdf5')\n",
        "model.evaluate(X_test, y_test, batch_size=32)"
      ],
      "execution_count": 58,
      "outputs": [
        {
          "output_type": "stream",
          "text": [
            "313/313 [==============================] - 4s 11ms/step - loss: 0.8509 - accuracy: 0.9235\n"
          ],
          "name": "stdout"
        },
        {
          "output_type": "execute_result",
          "data": {
            "text/plain": [
              "[0.8509355187416077, 0.9235000014305115]"
            ]
          },
          "metadata": {
            "tags": []
          },
          "execution_count": 58
        }
      ]
    },
    {
      "cell_type": "markdown",
      "metadata": {
        "id": "MumcSGz_gxT_"
      },
      "source": [
        "## [DIY] C2F3의 best model을 구하시오."
      ]
    },
    {
      "cell_type": "markdown",
      "metadata": {
        "id": "pwgH_cUHgz6B"
      },
      "source": [
        "## **CNN2 + FCN3**"
      ]
    },
    {
      "cell_type": "code",
      "metadata": {
        "id": "dhpwNmNCgxAy"
      },
      "source": [
        "c2f3 = keras.models.Sequential([ \n",
        "    Conv2D(input_shape=(28,28,1),kernel_size=(3,3),strides=(1,1),filters= 32,padding='same',activation='relu'),\n",
        "    MaxPool2D(pool_size=(2,2), strides=(2,2)), \n",
        "    Conv2D(kernel_size=(3,3),strides=(1,1),filters= 64,padding='same',activation='relu'),\n",
        "    MaxPool2D(pool_size=(2,2), strides=(2,2)),\n",
        "    Flatten(), \n",
        "    keras.layers.Dense(128, activation='relu'),  \n",
        "    keras.layers.Dropout(0.25), \n",
        "    keras.layers.Dense(64, activation='relu'),  \n",
        "    keras.layers.Dropout(0.25), \n",
        "    keras.layers.Dense(10, activation='softmax')\n",
        "])\n",
        "\n",
        "c2f3.compile(optimizer='adam',\n",
        "              loss='categorical_crossentropy',\n",
        "              metrics=['accuracy']) "
      ],
      "execution_count": 59,
      "outputs": []
    },
    {
      "cell_type": "code",
      "metadata": {
        "colab": {
          "base_uri": "https://localhost:8080/"
        },
        "id": "NDCklOuDhBAK",
        "outputId": "3b6fe0c3-e8cd-4838-cf8c-3f538286ef6a"
      },
      "source": [
        "c2f3.summary()"
      ],
      "execution_count": 60,
      "outputs": [
        {
          "output_type": "stream",
          "text": [
            "Model: \"sequential_5\"\n",
            "_________________________________________________________________\n",
            "Layer (type)                 Output Shape              Param #   \n",
            "=================================================================\n",
            "conv2d_8 (Conv2D)            (None, 28, 28, 32)        320       \n",
            "_________________________________________________________________\n",
            "max_pooling2d_8 (MaxPooling2 (None, 14, 14, 32)        0         \n",
            "_________________________________________________________________\n",
            "conv2d_9 (Conv2D)            (None, 14, 14, 64)        18496     \n",
            "_________________________________________________________________\n",
            "max_pooling2d_9 (MaxPooling2 (None, 7, 7, 64)          0         \n",
            "_________________________________________________________________\n",
            "flatten_5 (Flatten)          (None, 3136)              0         \n",
            "_________________________________________________________________\n",
            "dense_13 (Dense)             (None, 128)               401536    \n",
            "_________________________________________________________________\n",
            "dropout_8 (Dropout)          (None, 128)               0         \n",
            "_________________________________________________________________\n",
            "dense_14 (Dense)             (None, 64)                8256      \n",
            "_________________________________________________________________\n",
            "dropout_9 (Dropout)          (None, 64)                0         \n",
            "_________________________________________________________________\n",
            "dense_15 (Dense)             (None, 10)                650       \n",
            "=================================================================\n",
            "Total params: 429,258\n",
            "Trainable params: 429,258\n",
            "Non-trainable params: 0\n",
            "_________________________________________________________________\n"
          ],
          "name": "stdout"
        }
      ]
    },
    {
      "cell_type": "code",
      "metadata": {
        "id": "Qmue6Kj-hCvy"
      },
      "source": [
        "cp_callback = callbacks.ModelCheckpoint(filepath=\"./fmnist_c2f3_best_weights.{epoch:03d}-{val_accuracy:.4f}.hdf5\", \n",
        "                              monitor='val_accuracy', verbose=0, save_best_only=True)\n",
        "es_callback = callbacks.EarlyStopping(monitor='val_accuracy', \n",
        "                            mode='max', verbose=1, patience=50)    # patience=10, 20, 50"
      ],
      "execution_count": 61,
      "outputs": []
    },
    {
      "cell_type": "code",
      "metadata": {
        "colab": {
          "base_uri": "https://localhost:8080/"
        },
        "id": "eTI35xdRhHH6",
        "outputId": "30c135ee-678c-4906-9c67-888a6b59a1fe"
      },
      "source": [
        "hist = c2f3.fit(X_train, y_train, epochs = 500 , batch_size =32, \n",
        "         callbacks=[cp_callback, es_callback], \n",
        "         validation_data=(X_test,y_test))"
      ],
      "execution_count": 62,
      "outputs": [
        {
          "output_type": "stream",
          "text": [
            "Epoch 1/500\n",
            "1875/1875 [==============================] - 75s 40ms/step - loss: 0.5200 - accuracy: 0.8136 - val_loss: 0.3371 - val_accuracy: 0.8789\n",
            "Epoch 2/500\n",
            "1875/1875 [==============================] - 74s 40ms/step - loss: 0.3257 - accuracy: 0.8842 - val_loss: 0.2808 - val_accuracy: 0.8965\n",
            "Epoch 3/500\n",
            "1875/1875 [==============================] - 74s 40ms/step - loss: 0.2731 - accuracy: 0.9025 - val_loss: 0.2695 - val_accuracy: 0.9049\n",
            "Epoch 4/500\n",
            "1875/1875 [==============================] - 74s 40ms/step - loss: 0.2424 - accuracy: 0.9126 - val_loss: 0.2499 - val_accuracy: 0.9098\n",
            "Epoch 5/500\n",
            "1875/1875 [==============================] - 74s 40ms/step - loss: 0.2170 - accuracy: 0.9211 - val_loss: 0.2445 - val_accuracy: 0.9145\n",
            "Epoch 6/500\n",
            "1875/1875 [==============================] - 73s 39ms/step - loss: 0.1972 - accuracy: 0.9287 - val_loss: 0.2457 - val_accuracy: 0.9129\n",
            "Epoch 7/500\n",
            "1875/1875 [==============================] - 73s 39ms/step - loss: 0.1800 - accuracy: 0.9332 - val_loss: 0.2438 - val_accuracy: 0.9197\n",
            "Epoch 8/500\n",
            "1875/1875 [==============================] - 73s 39ms/step - loss: 0.1678 - accuracy: 0.9385 - val_loss: 0.2328 - val_accuracy: 0.9221\n",
            "Epoch 9/500\n",
            "1875/1875 [==============================] - 74s 39ms/step - loss: 0.1545 - accuracy: 0.9430 - val_loss: 0.2534 - val_accuracy: 0.9176\n",
            "Epoch 10/500\n",
            "1875/1875 [==============================] - 73s 39ms/step - loss: 0.1436 - accuracy: 0.9466 - val_loss: 0.2433 - val_accuracy: 0.9216\n",
            "Epoch 11/500\n",
            "1875/1875 [==============================] - 73s 39ms/step - loss: 0.1358 - accuracy: 0.9500 - val_loss: 0.2532 - val_accuracy: 0.9216\n",
            "Epoch 12/500\n",
            "1875/1875 [==============================] - 73s 39ms/step - loss: 0.1268 - accuracy: 0.9528 - val_loss: 0.2542 - val_accuracy: 0.9185\n",
            "Epoch 13/500\n",
            "1875/1875 [==============================] - 73s 39ms/step - loss: 0.1233 - accuracy: 0.9550 - val_loss: 0.2647 - val_accuracy: 0.9216\n",
            "Epoch 14/500\n",
            "1875/1875 [==============================] - 73s 39ms/step - loss: 0.1124 - accuracy: 0.9581 - val_loss: 0.2700 - val_accuracy: 0.9229\n",
            "Epoch 15/500\n",
            "1875/1875 [==============================] - 73s 39ms/step - loss: 0.1081 - accuracy: 0.9600 - val_loss: 0.2951 - val_accuracy: 0.9186\n",
            "Epoch 16/500\n",
            "1875/1875 [==============================] - 73s 39ms/step - loss: 0.1010 - accuracy: 0.9630 - val_loss: 0.3214 - val_accuracy: 0.9203\n",
            "Epoch 17/500\n",
            "1875/1875 [==============================] - 73s 39ms/step - loss: 0.0971 - accuracy: 0.9642 - val_loss: 0.3102 - val_accuracy: 0.9214\n",
            "Epoch 18/500\n",
            "1875/1875 [==============================] - 74s 39ms/step - loss: 0.0917 - accuracy: 0.9663 - val_loss: 0.3299 - val_accuracy: 0.9216\n",
            "Epoch 19/500\n",
            "1875/1875 [==============================] - 73s 39ms/step - loss: 0.0887 - accuracy: 0.9678 - val_loss: 0.3128 - val_accuracy: 0.9198\n",
            "Epoch 20/500\n",
            "1875/1875 [==============================] - 73s 39ms/step - loss: 0.0861 - accuracy: 0.9690 - val_loss: 0.3178 - val_accuracy: 0.9219\n",
            "Epoch 21/500\n",
            "1875/1875 [==============================] - 73s 39ms/step - loss: 0.0816 - accuracy: 0.9698 - val_loss: 0.3463 - val_accuracy: 0.9191\n",
            "Epoch 22/500\n",
            "1875/1875 [==============================] - 74s 39ms/step - loss: 0.0794 - accuracy: 0.9714 - val_loss: 0.3505 - val_accuracy: 0.9197\n",
            "Epoch 23/500\n",
            "1875/1875 [==============================] - 73s 39ms/step - loss: 0.0768 - accuracy: 0.9719 - val_loss: 0.3503 - val_accuracy: 0.9200\n",
            "Epoch 24/500\n",
            "1875/1875 [==============================] - 73s 39ms/step - loss: 0.0714 - accuracy: 0.9740 - val_loss: 0.3468 - val_accuracy: 0.9183\n",
            "Epoch 25/500\n",
            "1875/1875 [==============================] - 73s 39ms/step - loss: 0.0694 - accuracy: 0.9748 - val_loss: 0.3626 - val_accuracy: 0.9180\n",
            "Epoch 26/500\n",
            "1875/1875 [==============================] - 73s 39ms/step - loss: 0.0702 - accuracy: 0.9745 - val_loss: 0.3669 - val_accuracy: 0.9167\n",
            "Epoch 27/500\n",
            "1875/1875 [==============================] - 74s 39ms/step - loss: 0.0652 - accuracy: 0.9765 - val_loss: 0.3985 - val_accuracy: 0.9181\n",
            "Epoch 28/500\n",
            "1875/1875 [==============================] - 73s 39ms/step - loss: 0.0647 - accuracy: 0.9765 - val_loss: 0.4170 - val_accuracy: 0.9170\n",
            "Epoch 29/500\n",
            "1875/1875 [==============================] - 73s 39ms/step - loss: 0.0637 - accuracy: 0.9772 - val_loss: 0.4065 - val_accuracy: 0.9128\n",
            "Epoch 30/500\n",
            "1875/1875 [==============================] - 74s 39ms/step - loss: 0.0605 - accuracy: 0.9785 - val_loss: 0.4438 - val_accuracy: 0.9205\n",
            "Epoch 31/500\n",
            "1875/1875 [==============================] - 74s 40ms/step - loss: 0.0624 - accuracy: 0.9773 - val_loss: 0.4274 - val_accuracy: 0.9200\n",
            "Epoch 32/500\n",
            "1875/1875 [==============================] - 74s 39ms/step - loss: 0.0595 - accuracy: 0.9785 - val_loss: 0.4592 - val_accuracy: 0.9169\n",
            "Epoch 33/500\n",
            "1875/1875 [==============================] - 76s 40ms/step - loss: 0.0547 - accuracy: 0.9804 - val_loss: 0.4989 - val_accuracy: 0.9182\n",
            "Epoch 34/500\n",
            "1875/1875 [==============================] - 74s 40ms/step - loss: 0.0565 - accuracy: 0.9796 - val_loss: 0.4635 - val_accuracy: 0.9199\n",
            "Epoch 35/500\n",
            "1875/1875 [==============================] - 73s 39ms/step - loss: 0.0520 - accuracy: 0.9809 - val_loss: 0.4509 - val_accuracy: 0.9179\n",
            "Epoch 36/500\n",
            "1875/1875 [==============================] - 74s 39ms/step - loss: 0.0540 - accuracy: 0.9806 - val_loss: 0.4799 - val_accuracy: 0.9180\n",
            "Epoch 37/500\n",
            "1875/1875 [==============================] - 74s 39ms/step - loss: 0.0529 - accuracy: 0.9812 - val_loss: 0.4279 - val_accuracy: 0.9194\n",
            "Epoch 38/500\n",
            "1875/1875 [==============================] - 74s 40ms/step - loss: 0.0525 - accuracy: 0.9817 - val_loss: 0.4435 - val_accuracy: 0.9201\n",
            "Epoch 39/500\n",
            "1875/1875 [==============================] - 74s 39ms/step - loss: 0.0512 - accuracy: 0.9822 - val_loss: 0.4701 - val_accuracy: 0.9179\n",
            "Epoch 40/500\n",
            "1875/1875 [==============================] - 76s 40ms/step - loss: 0.0477 - accuracy: 0.9834 - val_loss: 0.5002 - val_accuracy: 0.9193\n",
            "Epoch 41/500\n",
            "1875/1875 [==============================] - 74s 40ms/step - loss: 0.0498 - accuracy: 0.9824 - val_loss: 0.5052 - val_accuracy: 0.9219\n",
            "Epoch 42/500\n",
            "1875/1875 [==============================] - 77s 41ms/step - loss: 0.0486 - accuracy: 0.9830 - val_loss: 0.4674 - val_accuracy: 0.9199\n",
            "Epoch 43/500\n",
            "1875/1875 [==============================] - 74s 40ms/step - loss: 0.0472 - accuracy: 0.9839 - val_loss: 0.4880 - val_accuracy: 0.9206\n",
            "Epoch 44/500\n",
            "1875/1875 [==============================] - 76s 41ms/step - loss: 0.0483 - accuracy: 0.9834 - val_loss: 0.4856 - val_accuracy: 0.9200\n",
            "Epoch 45/500\n",
            "1875/1875 [==============================] - 74s 40ms/step - loss: 0.0456 - accuracy: 0.9842 - val_loss: 0.4821 - val_accuracy: 0.9200\n",
            "Epoch 46/500\n",
            "1875/1875 [==============================] - 74s 40ms/step - loss: 0.0454 - accuracy: 0.9842 - val_loss: 0.5307 - val_accuracy: 0.9215\n",
            "Epoch 47/500\n",
            "1875/1875 [==============================] - 74s 40ms/step - loss: 0.0453 - accuracy: 0.9847 - val_loss: 0.4346 - val_accuracy: 0.9215\n",
            "Epoch 48/500\n",
            "1875/1875 [==============================] - 75s 40ms/step - loss: 0.0426 - accuracy: 0.9851 - val_loss: 0.5586 - val_accuracy: 0.9197\n",
            "Epoch 49/500\n",
            "1875/1875 [==============================] - 74s 40ms/step - loss: 0.0459 - accuracy: 0.9842 - val_loss: 0.5226 - val_accuracy: 0.9178\n",
            "Epoch 50/500\n",
            "1875/1875 [==============================] - 77s 41ms/step - loss: 0.0451 - accuracy: 0.9849 - val_loss: 0.5604 - val_accuracy: 0.9223\n",
            "Epoch 51/500\n",
            "1875/1875 [==============================] - 74s 40ms/step - loss: 0.0418 - accuracy: 0.9853 - val_loss: 0.5415 - val_accuracy: 0.9198\n",
            "Epoch 52/500\n",
            "1875/1875 [==============================] - 74s 39ms/step - loss: 0.0446 - accuracy: 0.9851 - val_loss: 0.4864 - val_accuracy: 0.9197\n",
            "Epoch 53/500\n",
            "1875/1875 [==============================] - 75s 40ms/step - loss: 0.0430 - accuracy: 0.9857 - val_loss: 0.5739 - val_accuracy: 0.9151\n",
            "Epoch 54/500\n",
            "1875/1875 [==============================] - 74s 39ms/step - loss: 0.0440 - accuracy: 0.9851 - val_loss: 0.5163 - val_accuracy: 0.9209\n",
            "Epoch 55/500\n",
            "1875/1875 [==============================] - 74s 39ms/step - loss: 0.0417 - accuracy: 0.9858 - val_loss: 0.5053 - val_accuracy: 0.9164\n",
            "Epoch 56/500\n",
            "1875/1875 [==============================] - 74s 39ms/step - loss: 0.0401 - accuracy: 0.9859 - val_loss: 0.5771 - val_accuracy: 0.9178\n",
            "Epoch 57/500\n",
            "1875/1875 [==============================] - 75s 40ms/step - loss: 0.0390 - accuracy: 0.9867 - val_loss: 0.5722 - val_accuracy: 0.9206\n",
            "Epoch 58/500\n",
            "1875/1875 [==============================] - 77s 41ms/step - loss: 0.0381 - accuracy: 0.9873 - val_loss: 0.6170 - val_accuracy: 0.9170\n",
            "Epoch 59/500\n",
            "1875/1875 [==============================] - 73s 39ms/step - loss: 0.0411 - accuracy: 0.9867 - val_loss: 0.5250 - val_accuracy: 0.9182\n",
            "Epoch 60/500\n",
            "1875/1875 [==============================] - 73s 39ms/step - loss: 0.0431 - accuracy: 0.9856 - val_loss: 0.5617 - val_accuracy: 0.9196\n",
            "Epoch 61/500\n",
            "1875/1875 [==============================] - 74s 40ms/step - loss: 0.0391 - accuracy: 0.9868 - val_loss: 0.5296 - val_accuracy: 0.9204\n",
            "Epoch 62/500\n",
            "1875/1875 [==============================] - 73s 39ms/step - loss: 0.0362 - accuracy: 0.9875 - val_loss: 0.6586 - val_accuracy: 0.9096\n",
            "Epoch 63/500\n",
            "1875/1875 [==============================] - 73s 39ms/step - loss: 0.0370 - accuracy: 0.9872 - val_loss: 0.6112 - val_accuracy: 0.9193\n",
            "Epoch 64/500\n",
            "1875/1875 [==============================] - 73s 39ms/step - loss: 0.0356 - accuracy: 0.9877 - val_loss: 0.6339 - val_accuracy: 0.9207\n",
            "Epoch 00064: early stopping\n"
          ],
          "name": "stdout"
        }
      ]
    },
    {
      "cell_type": "code",
      "metadata": {
        "colab": {
          "base_uri": "https://localhost:8080/"
        },
        "id": "xxXFznKawzBf",
        "outputId": "e59ac078-a4bd-4cad-d210-06776c882911"
      },
      "source": [
        "c2f3.evaluate(X_test, y_test, batch_size =32)"
      ],
      "execution_count": 63,
      "outputs": [
        {
          "output_type": "stream",
          "text": [
            "313/313 [==============================] - 3s 11ms/step - loss: 0.6339 - accuracy: 0.9207\n"
          ],
          "name": "stdout"
        },
        {
          "output_type": "execute_result",
          "data": {
            "text/plain": [
              "[0.6338903307914734, 0.9207000136375427]"
            ]
          },
          "metadata": {
            "tags": []
          },
          "execution_count": 63
        }
      ]
    },
    {
      "cell_type": "markdown",
      "metadata": {
        "id": "8DnEo-5GwztR"
      },
      "source": [
        "## Graph of loss and accuracy\n",
        "- model: C2F3"
      ]
    },
    {
      "cell_type": "code",
      "metadata": {
        "colab": {
          "base_uri": "https://localhost:8080/",
          "height": 313
        },
        "id": "_rdgMInZxFYK",
        "outputId": "f7821533-1c8b-46b1-914e-3b07ee173840"
      },
      "source": [
        "epochs = 64\n",
        "loss_list = [100 * i for i in hist.history['loss']]\n",
        "acc_list = [100 * i for i in hist.history['accuracy']]\n",
        "plt.plot(range(1,epochs+1),loss_list) \n",
        "plt.plot(range(1,epochs+1),acc_list) \n",
        "plt.title('Model loss & accuracy')\n",
        "plt.ylabel('Accuracy (%)')\n",
        "plt.xlabel('Epoch')\n",
        "plt.legend(['loss', 'accuracy'], loc='center left')"
      ],
      "execution_count": 64,
      "outputs": [
        {
          "output_type": "execute_result",
          "data": {
            "text/plain": [
              "<matplotlib.legend.Legend at 0x7faa91ae6c18>"
            ]
          },
          "metadata": {
            "tags": []
          },
          "execution_count": 64
        },
        {
          "output_type": "display_data",
          "data": {
            "image/png": "[encoded data removed]",
            "text/plain": [
              "<Figure size 432x288 with 1 Axes>"
            ]
          },
          "metadata": {
            "tags": [],
            "needs_background": "light"
          }
        }
      ]
    },
    {
      "cell_type": "code",
      "metadata": {
        "id": "iLDTFdGCxXul"
      },
      "source": [
        "vloss_list = [100 * i for i in hist.history['val_loss']]\n",
        "vacc_list = [100 * i for i in hist.history['val_accuracy']]"
      ],
      "execution_count": 65,
      "outputs": []
    },
    {
      "cell_type": "code",
      "metadata": {
        "colab": {
          "base_uri": "https://localhost:8080/",
          "height": 313
        },
        "id": "kgYr_eDixZMV",
        "outputId": "44d5d39c-0862-46bd-969a-9c90b051065e"
      },
      "source": [
        "plt.plot(range(1,epochs+1),vloss_list)  \n",
        "plt.plot(range(1,epochs+1),vacc_list)  \n",
        "plt.title('Model val_loss & val_accuracy')\n",
        "plt.ylabel('Accuracy (%)')\n",
        "plt.xlabel('Epoch')\n",
        "plt.legend(['val_loss', 'val_accuracy'], loc='center left')"
      ],
      "execution_count": 66,
      "outputs": [
        {
          "output_type": "execute_result",
          "data": {
            "text/plain": [
              "<matplotlib.legend.Legend at 0x7faa92358b38>"
            ]
          },
          "metadata": {
            "tags": []
          },
          "execution_count": 66
        },
        {
          "output_type": "display_data",
          "data": {
            "image/png": "[encoded data removed]",
            "text/plain": [
              "<Figure size 432x288 with 1 Axes>"
            ]
          },
          "metadata": {
            "tags": [],
            "needs_background": "light"
          }
        }
      ]
    },
    {
      "cell_type": "code",
      "metadata": {
        "colab": {
          "base_uri": "https://localhost:8080/"
        },
        "id": "3h5qzRzDxa1L",
        "outputId": "1821db6c-2c47-4c5a-a078-5917e96b21e4"
      },
      "source": [
        "np.argmax(np.array(vacc_list))"
      ],
      "execution_count": 67,
      "outputs": [
        {
          "output_type": "execute_result",
          "data": {
            "text/plain": [
              "13"
            ]
          },
          "metadata": {
            "tags": []
          },
          "execution_count": 67
        }
      ]
    },
    {
      "cell_type": "code",
      "metadata": {
        "colab": {
          "base_uri": "https://localhost:8080/"
        },
        "id": "yWTaiKakxbsr",
        "outputId": "b0b2b355-5ab5-4d64-a465-07a1b1caf826"
      },
      "source": [
        "vacc_list[np.argmax(np.array(vacc_list))]"
      ],
      "execution_count": 68,
      "outputs": [
        {
          "output_type": "execute_result",
          "data": {
            "text/plain": [
              "92.29000210762024"
            ]
          },
          "metadata": {
            "tags": []
          },
          "execution_count": 68
        }
      ]
    },
    {
      "cell_type": "code",
      "metadata": {
        "colab": {
          "base_uri": "https://localhost:8080/",
          "height": 313
        },
        "id": "6WMVzAWixc6k",
        "outputId": "8162e6ef-1925-4f2a-b555-c29a0b401651"
      },
      "source": [
        "plt.plot(range(1,epochs+1),acc_list)  \n",
        "plt.plot(range(1,epochs+1),vacc_list)  \n",
        "plt.title('accuracy vs. val_accuracy')\n",
        "plt.ylabel('Accuracy (%)')\n",
        "plt.xlabel('Epoch')\n",
        "plt.legend(['accuracy','val_accuracy'], loc='center')\n",
        "plt.plot(np.argmax(np.array(vacc_list))+1,vacc_list[np.argmax(np.array(vacc_list))], 'r*')"
      ],
      "execution_count": 69,
      "outputs": [
        {
          "output_type": "execute_result",
          "data": {
            "text/plain": [
              "[<matplotlib.lines.Line2D at 0x7faa90a042b0>]"
            ]
          },
          "metadata": {
            "tags": []
          },
          "execution_count": 69
        },
        {
          "output_type": "display_data",
          "data": {
            "image/png": "[encoded data removed]",
            "text/plain": [
              "<Figure size 432x288 with 1 Axes>"
            ]
          },
          "metadata": {
            "tags": [],
            "needs_background": "light"
          }
        }
      ]
    },
    {
      "cell_type": "markdown",
      "metadata": {
        "id": "48nWptTo6KqE"
      },
      "source": [
        "## 최적화된 모형 불러와서 이용\n",
        "\n",
        "- callbacks.ModelCheckpoint를 이용해서 트레이닝 중 val_accuacy가 가장 높은 모형을 가중치와 함께 hdf5 형식으로 저장\n",
        "- load 명령으로 불러 사용\n",
        "\n",
        "  fmnist_c2f3_best_weights.014-0.9229.hdf5"
      ]
    },
    {
      "cell_type": "code",
      "metadata": {
        "colab": {
          "base_uri": "https://localhost:8080/"
        },
        "id": "2hW_DY106I08",
        "outputId": "b58f6a16-fd26-434c-a964-c78f6333691b"
      },
      "source": [
        "from keras.models import load_model\n",
        "\n",
        "model = load_model('fmnist_c2f3_best_weights.014-0.9229.hdf5')\n",
        "model.evaluate(X_test, y_test, batch_size=32)"
      ],
      "execution_count": 70,
      "outputs": [
        {
          "output_type": "stream",
          "text": [
            "313/313 [==============================] - 3s 11ms/step - loss: 0.2700 - accuracy: 0.9229\n"
          ],
          "name": "stdout"
        },
        {
          "output_type": "execute_result",
          "data": {
            "text/plain": [
              "[0.2699875235557556, 0.9229000210762024]"
            ]
          },
          "metadata": {
            "tags": []
          },
          "execution_count": 70
        }
      ]
    }
  ]
}