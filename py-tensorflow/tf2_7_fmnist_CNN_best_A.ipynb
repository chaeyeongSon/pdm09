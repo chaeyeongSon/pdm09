{
  "nbformat": 4,
  "nbformat_minor": 0,
  "metadata": {
    "colab": {
      "name": "tf2_7_fmnist_CNN_best_A.ipynb",
      "provenance": [],
      "collapsed_sections": [],
      "toc_visible": true,
      "include_colab_link": true
    },
    "kernelspec": {
      "name": "python3",
      "display_name": "Python 3"
    },
    "accelerator": "GPU"
  },
  "cells": [
    {
      "cell_type": "markdown",
      "metadata": {
        "id": "view-in-github",
        "colab_type": "text"
      },
      "source": [
        "<a href=\"https://colab.research.google.com/github/chaeyeongSon/pdm09/blob/master/py-tensorflow/tf2_7_fmnist_CNN_best_A.ipynb\" target=\"_parent\"><img src=\"https://colab.research.google.com/assets/colab-badge.svg\" alt=\"Open In Colab\"/></a>"
      ]
    },
    {
      "cell_type": "markdown",
      "metadata": {
        "id": "rswfCVLZ-QW0"
      },
      "source": [
        "# **CNN model of fmnist dataset**\n",
        "- Conv2D + FCN\n",
        "    * Conv2D : 2차원 합성곱 필터링 + 풀링(Pooling)\n",
        "    * FCN : 1차원 완전연결신경망\n",
        "\n",
        "***\n",
        "- ## Traget: Find the best model\n",
        "***\n",
        "\n",
        "![mnist_NN_2_layers](https://img1.daumcdn.net/thumb/R1280x0/?scode=mtistory2&fname=https%3A%2F%2Fblog.kakaocdn.net%2Fdn%2FdJp5Z6%2FbtqAPebnF3x%2FQCe5vVcskhmxe964bGz4iK%2Fimg.png)\n",
        "\n",
        "(source: https://img1.daumcdn.net/thumb/R1280x0/?scode=mtistory2&fname=https%3A%2F%2Fblog.kakaocdn.net%2Fdn%2FdJp5Z6%2FbtqAPebnF3x%2FQCe5vVcskhmxe964bGz4iK%2Fimg.png)"
      ]
    },
    {
      "cell_type": "markdown",
      "metadata": {
        "id": "ISueys4bNHd1"
      },
      "source": [
        "## dataset: fashion_mnist\n",
        "- (60000, 28, 28), train\n",
        "- (10000, 28, 28), test\n",
        "- grayscale images of items of 10 types of clothings, such as shoes, t-shirts, dresses, and more.\n",
        "- class names\n",
        "> class_names = ['T-shirt/top', 'Trouser', 'Pullover', 'Dress', 'Coat', 'Sandal', 'Shirt', 'Sneaker', 'Bag', 'Ankle boot']\n",
        "\n",
        "- DL of fmnist\n",
        "> https://machinelearningmastery.com/how-to-develop-a-cnn-from-scratch-for-fashion-mnist-clothing-classification/\n"
      ]
    },
    {
      "cell_type": "markdown",
      "metadata": {
        "id": "1yhvkxS_HhpK"
      },
      "source": [
        "## Search the best model of C2F2\n",
        "- callback\n",
        "    - Early stopping\n",
        "    - model checkpoint"
      ]
    },
    {
      "cell_type": "code",
      "metadata": {
        "id": "8GgGzPXPVyfa",
        "colab": {
          "base_uri": "https://localhost:8080/"
        },
        "outputId": "a1e26706-ac16-4006-b206-d86413f4dc33"
      },
      "source": [
        "import numpy as np\n",
        "import tensorflow as tf\n",
        "from tensorflow import keras\n",
        "import pandas as pd\n",
        "import matplotlib.pyplot as plt\n",
        "%matplotlib inline\n",
        "\n",
        "tf.random.set_seed(0)\n",
        "\n",
        "print(tf.__version__)"
      ],
      "execution_count": 1,
      "outputs": [
        {
          "output_type": "stream",
          "text": [
            "2.3.0\n"
          ],
          "name": "stdout"
        }
      ]
    },
    {
      "cell_type": "code",
      "metadata": {
        "id": "nMZqMpIvIlwf"
      },
      "source": [
        "# import TF2 submodules\n",
        "from tensorflow.keras import layers, models, callbacks"
      ],
      "execution_count": 2,
      "outputs": []
    },
    {
      "cell_type": "markdown",
      "metadata": {
        "id": "-0IOOUM14Jk1"
      },
      "source": [
        "## **데이터 로딩, 정규화**"
      ]
    },
    {
      "cell_type": "code",
      "metadata": {
        "id": "N1ogJ7I64Fz-",
        "colab": {
          "base_uri": "https://localhost:8080/"
        },
        "outputId": "eb5d4a40-0255-4b83-fc7a-41b1f80ebbce"
      },
      "source": [
        "from keras.datasets import fashion_mnist\n",
        "\n",
        "(X_train0, y_train0), (X_test0, y_test0) = fashion_mnist.load_data()\n",
        "\n",
        "# Reshape\n",
        "X_train = X_train0.reshape(60000,28,28,1)\n",
        "X_test = X_test0.reshape(10000,28,28,1)\n",
        "\n",
        "# Normalization\n",
        "X_train, X_test = X_train/255.0, X_test/255.0 # 정규화\n",
        "\n",
        "print(\"X_train={0}\".format(X_train.shape))\n",
        "print(\"y_train={0}\".format(y_train0.shape)) \n",
        "print(\"X_test={0}\".format(X_test.shape))\n",
        "print(\"y_test={0}\".format(y_test0.shape))"
      ],
      "execution_count": 3,
      "outputs": [
        {
          "output_type": "stream",
          "text": [
            "Downloading data from https://storage.googleapis.com/tensorflow/tf-keras-datasets/train-labels-idx1-ubyte.gz\n",
            "32768/29515 [=================================] - 0s 0us/step\n",
            "Downloading data from https://storage.googleapis.com/tensorflow/tf-keras-datasets/train-images-idx3-ubyte.gz\n",
            "26427392/26421880 [==============================] - 1s 0us/step\n",
            "Downloading data from https://storage.googleapis.com/tensorflow/tf-keras-datasets/t10k-labels-idx1-ubyte.gz\n",
            "8192/5148 [===============================================] - 0s 0us/step\n",
            "Downloading data from https://storage.googleapis.com/tensorflow/tf-keras-datasets/t10k-images-idx3-ubyte.gz\n",
            "4423680/4422102 [==============================] - 0s 0us/step\n",
            "X_train=(60000, 28, 28, 1)\n",
            "y_train=(60000,)\n",
            "X_test=(10000, 28, 28, 1)\n",
            "y_test=(10000,)\n"
          ],
          "name": "stdout"
        }
      ]
    },
    {
      "cell_type": "code",
      "metadata": {
        "id": "F46-QZqJHiQ6",
        "colab": {
          "base_uri": "https://localhost:8080/"
        },
        "outputId": "b767b9e6-4ca8-48cd-b52b-138a20a1048e"
      },
      "source": [
        "# One-Hot-Encoding\n",
        "# Use function to_categorical() to do One-Hot-Encoding\n",
        "# tf.keras.utils.to_categorical\n",
        "from keras.utils import to_categorical\n",
        "\n",
        "y_train = to_categorical(y_train0, 10)\n",
        "y_test = to_categorical(y_test0, 10)\n",
        "y_train.shape,y_test.shape"
      ],
      "execution_count": 4,
      "outputs": [
        {
          "output_type": "execute_result",
          "data": {
            "text/plain": [
              "((60000, 10), (10000, 10))"
            ]
          },
          "metadata": {
            "tags": []
          },
          "execution_count": 4
        }
      ]
    },
    {
      "cell_type": "code",
      "metadata": {
        "id": "eZ3OfP5PkEkL",
        "colab": {
          "base_uri": "https://localhost:8080/"
        },
        "outputId": "70fc42f5-bb9d-45ca-85ae-ef712b8a8669"
      },
      "source": [
        "# y_train0.shape vs. y_train.shape\n",
        "y_train0.shape, y_train.shape"
      ],
      "execution_count": 5,
      "outputs": [
        {
          "output_type": "execute_result",
          "data": {
            "text/plain": [
              "((60000,), (60000, 10))"
            ]
          },
          "metadata": {
            "tags": []
          },
          "execution_count": 5
        }
      ]
    },
    {
      "cell_type": "markdown",
      "metadata": {
        "id": "5z7SozStigmF"
      },
      "source": [
        "### Display fashions\n",
        "- one random fashion\n",
        "- 10 representative fashions"
      ]
    },
    {
      "cell_type": "code",
      "metadata": {
        "id": "IK7XT3XoirSL",
        "colab": {
          "base_uri": "https://localhost:8080/",
          "height": 286
        },
        "outputId": "9edd59ff-9dd9-403b-a56f-27b2054ec768"
      },
      "source": [
        "# Code here!\n",
        "# display one random image from the training set:\n",
        "class_names =  ['T-shirt/top', 'Trouser', 'Pullover', 'Dress', 'Coat', 'Sandal', 'Shirt', 'Sneaker', 'Bag', 'Ankle boot']\n",
        "\n",
        "idx = np.random.randint(0, X_train0.shape[0])\n",
        "print(idx)\n",
        "image = X_train0[idx]\n",
        "plt.imshow(image) #, cmap=plt.get_cmap('gray'))\n",
        "plt.title(class_names[y_train0[idx]])\n",
        "plt.xticks([])\n",
        "plt.yticks([])\n",
        "plt.show()"
      ],
      "execution_count": 6,
      "outputs": [
        {
          "output_type": "stream",
          "text": [
            "12380\n"
          ],
          "name": "stdout"
        },
        {
          "output_type": "display_data",
          "data": {
            "image/png": "[encoded data removed]",
            "text/plain": [
              "<Figure size 432x288 with 1 Axes>"
            ]
          },
          "metadata": {
            "tags": []
          }
        }
      ]
    },
    {
      "cell_type": "code",
      "metadata": {
        "id": "LzhD5pcukau7",
        "colab": {
          "base_uri": "https://localhost:8080/",
          "height": 325
        },
        "outputId": "b6e9d530-247e-4c54-ae2e-0b66de7dbf31"
      },
      "source": [
        "fig = plt.figure(figsize=(10,6))\n",
        "for i in range(10):\n",
        "    plt.subplot(2, 5, i+1)\n",
        "    num0_9 = X_train0[y_train0 == i]\n",
        "    # print(num0_9.shape)\n",
        "    plt.imshow(num0_9[0]) #, cmap='gray') #, interpolation='none')\n",
        "    plt.title(\"Class %d\" % (i))\n",
        "    plt.xticks([])\n",
        "    plt.yticks([])"
      ],
      "execution_count": 7,
      "outputs": [
        {
          "output_type": "display_data",
          "data": {
            "image/png": "[encoded data removed]",
            "text/plain": [
              "<Figure size 720x432 with 10 Axes>"
            ]
          },
          "metadata": {
            "tags": []
          }
        }
      ]
    },
    {
      "cell_type": "markdown",
      "metadata": {
        "id": "55DYVfFXi0WR"
      },
      "source": [
        "# Design CNN"
      ]
    },
    {
      "cell_type": "markdown",
      "metadata": {
        "id": "iPcLIcUCcsiG"
      },
      "source": [
        "### import models, layers, callbacks\n",
        "- models: Sequential\n",
        "- layers: Conv2D, MaxPool2D, Flatten\n",
        "- callbacks: ModelCheckpoint, EarlyStopping"
      ]
    },
    {
      "cell_type": "code",
      "metadata": {
        "id": "NzqMC4Xtc3ZE"
      },
      "source": [
        "from keras.models import Sequential\n",
        "from keras.layers import Conv2D, MaxPool2D, Flatten\n",
        "from keras.callbacks import ModelCheckpoint, EarlyStopping"
      ],
      "execution_count": 8,
      "outputs": []
    },
    {
      "cell_type": "markdown",
      "metadata": {
        "id": "7Z6DJJUCei-s"
      },
      "source": [
        "## **CNN2 + FCN2**"
      ]
    },
    {
      "cell_type": "code",
      "metadata": {
        "id": "pV3NFglM7P65"
      },
      "source": [
        "c2f2 = keras.models.Sequential([ \n",
        "    Conv2D(input_shape=(28,28,1),kernel_size=(3,3),strides=(1,1),filters= 32,padding='same',activation='relu'),\n",
        "    MaxPool2D(pool_size=(2,2), strides=(2,2)), \n",
        "    Conv2D(kernel_size=(3,3),strides=(1,1),filters= 64,padding='same',activation='relu'),\n",
        "    MaxPool2D(pool_size=(2,2), strides=(2,2)),\n",
        "    Flatten(), \n",
        "    keras.layers.Dense(128, activation='relu'),  \n",
        "    keras.layers.Dropout(0.25), \n",
        "    keras.layers.Dense(10, activation='softmax')\n",
        "])\n",
        "\n",
        "c2f2.compile(optimizer='adam',\n",
        "              loss='categorical_crossentropy',\n",
        "              metrics=['accuracy']) "
      ],
      "execution_count": 9,
      "outputs": []
    },
    {
      "cell_type": "code",
      "metadata": {
        "id": "OGtCiKy57YkR",
        "colab": {
          "base_uri": "https://localhost:8080/"
        },
        "outputId": "41a9950d-f350-46c9-c849-3c2f04b80a71"
      },
      "source": [
        "c2f2.summary()"
      ],
      "execution_count": 10,
      "outputs": [
        {
          "output_type": "stream",
          "text": [
            "Model: \"sequential\"\n",
            "_________________________________________________________________\n",
            "Layer (type)                 Output Shape              Param #   \n",
            "=================================================================\n",
            "conv2d (Conv2D)              (None, 28, 28, 32)        320       \n",
            "_________________________________________________________________\n",
            "max_pooling2d (MaxPooling2D) (None, 14, 14, 32)        0         \n",
            "_________________________________________________________________\n",
            "conv2d_1 (Conv2D)            (None, 14, 14, 64)        18496     \n",
            "_________________________________________________________________\n",
            "max_pooling2d_1 (MaxPooling2 (None, 7, 7, 64)          0         \n",
            "_________________________________________________________________\n",
            "flatten (Flatten)            (None, 3136)              0         \n",
            "_________________________________________________________________\n",
            "dense (Dense)                (None, 128)               401536    \n",
            "_________________________________________________________________\n",
            "dropout (Dropout)            (None, 128)               0         \n",
            "_________________________________________________________________\n",
            "dense_1 (Dense)              (None, 10)                1290      \n",
            "=================================================================\n",
            "Total params: 421,642\n",
            "Trainable params: 421,642\n",
            "Non-trainable params: 0\n",
            "_________________________________________________________________\n"
          ],
          "name": "stdout"
        }
      ]
    },
    {
      "cell_type": "code",
      "metadata": {
        "id": "zw_pQPBdJmU8"
      },
      "source": [
        "cp_callback = callbacks.ModelCheckpoint(filepath=\"./fmnist_c2f2_best_weights.{epoch:03d}-{val_accuracy:.4f}.hdf5\", \n",
        "                              monitor='val_accuracy', verbose=0, save_best_only=True)\n",
        "es_callback = callbacks.EarlyStopping(monitor='val_accuracy', \n",
        "                            mode='max', verbose=1, patience=50)    # patience=20, 50"
      ],
      "execution_count": 11,
      "outputs": []
    },
    {
      "cell_type": "code",
      "metadata": {
        "id": "94GWWQt-7eRS",
        "colab": {
          "base_uri": "https://localhost:8080/"
        },
        "outputId": "8cb0300e-fe58-4c6c-aa2c-e6f9aea79f65"
      },
      "source": [
        "hist = c2f2.fit(X_train, y_train, epochs = 500 , batch_size =32, \n",
        "         callbacks=[cp_callback, es_callback], \n",
        "         validation_data=(X_test,y_test))"
      ],
      "execution_count": 12,
      "outputs": [
        {
          "output_type": "stream",
          "text": [
            "Epoch 1/500\n",
            "1875/1875 [==============================] - 6s 3ms/step - loss: 0.4344 - accuracy: 0.8449 - val_loss: 0.3227 - val_accuracy: 0.8842\n",
            "Epoch 2/500\n",
            "1875/1875 [==============================] - 6s 3ms/step - loss: 0.2847 - accuracy: 0.8970 - val_loss: 0.2671 - val_accuracy: 0.9019\n",
            "Epoch 3/500\n",
            "1875/1875 [==============================] - 6s 3ms/step - loss: 0.2407 - accuracy: 0.9113 - val_loss: 0.2625 - val_accuracy: 0.9044\n",
            "Epoch 4/500\n",
            "1875/1875 [==============================] - 6s 3ms/step - loss: 0.2083 - accuracy: 0.9220 - val_loss: 0.2410 - val_accuracy: 0.9117\n",
            "Epoch 5/500\n",
            "1875/1875 [==============================] - 6s 3ms/step - loss: 0.1865 - accuracy: 0.9305 - val_loss: 0.2492 - val_accuracy: 0.9121\n",
            "Epoch 6/500\n",
            "1875/1875 [==============================] - 6s 3ms/step - loss: 0.1664 - accuracy: 0.9374 - val_loss: 0.2328 - val_accuracy: 0.9210\n",
            "Epoch 7/500\n",
            "1875/1875 [==============================] - 6s 3ms/step - loss: 0.1493 - accuracy: 0.9434 - val_loss: 0.2387 - val_accuracy: 0.9188\n",
            "Epoch 8/500\n",
            "1875/1875 [==============================] - 6s 3ms/step - loss: 0.1327 - accuracy: 0.9499 - val_loss: 0.2419 - val_accuracy: 0.9218\n",
            "Epoch 9/500\n",
            "1875/1875 [==============================] - 6s 3ms/step - loss: 0.1174 - accuracy: 0.9550 - val_loss: 0.2446 - val_accuracy: 0.9235\n",
            "Epoch 10/500\n",
            "1875/1875 [==============================] - 6s 3ms/step - loss: 0.1069 - accuracy: 0.9593 - val_loss: 0.2597 - val_accuracy: 0.9206\n",
            "Epoch 11/500\n",
            "1875/1875 [==============================] - 6s 3ms/step - loss: 0.0982 - accuracy: 0.9620 - val_loss: 0.2627 - val_accuracy: 0.9215\n",
            "Epoch 12/500\n",
            "1875/1875 [==============================] - 6s 3ms/step - loss: 0.0863 - accuracy: 0.9670 - val_loss: 0.2836 - val_accuracy: 0.9203\n",
            "Epoch 13/500\n",
            "1875/1875 [==============================] - 6s 3ms/step - loss: 0.0809 - accuracy: 0.9690 - val_loss: 0.2851 - val_accuracy: 0.9239\n",
            "Epoch 14/500\n",
            "1875/1875 [==============================] - 6s 3ms/step - loss: 0.0735 - accuracy: 0.9719 - val_loss: 0.3117 - val_accuracy: 0.9238\n",
            "Epoch 15/500\n",
            "1875/1875 [==============================] - 6s 3ms/step - loss: 0.0673 - accuracy: 0.9740 - val_loss: 0.3441 - val_accuracy: 0.9218\n",
            "Epoch 16/500\n",
            "1875/1875 [==============================] - 6s 3ms/step - loss: 0.0630 - accuracy: 0.9760 - val_loss: 0.3503 - val_accuracy: 0.9230\n",
            "Epoch 17/500\n",
            "1875/1875 [==============================] - 6s 3ms/step - loss: 0.0594 - accuracy: 0.9774 - val_loss: 0.3617 - val_accuracy: 0.9209\n",
            "Epoch 18/500\n",
            "1875/1875 [==============================] - 6s 3ms/step - loss: 0.0572 - accuracy: 0.9776 - val_loss: 0.3461 - val_accuracy: 0.9247\n",
            "Epoch 19/500\n",
            "1875/1875 [==============================] - 6s 3ms/step - loss: 0.0514 - accuracy: 0.9800 - val_loss: 0.3771 - val_accuracy: 0.9262\n",
            "Epoch 20/500\n",
            "1875/1875 [==============================] - 6s 3ms/step - loss: 0.0513 - accuracy: 0.9811 - val_loss: 0.4036 - val_accuracy: 0.9180\n",
            "Epoch 21/500\n",
            "1875/1875 [==============================] - 6s 3ms/step - loss: 0.0474 - accuracy: 0.9814 - val_loss: 0.4583 - val_accuracy: 0.9192\n",
            "Epoch 22/500\n",
            "1875/1875 [==============================] - 6s 3ms/step - loss: 0.0489 - accuracy: 0.9819 - val_loss: 0.4186 - val_accuracy: 0.9166\n",
            "Epoch 23/500\n",
            "1875/1875 [==============================] - 6s 3ms/step - loss: 0.0465 - accuracy: 0.9829 - val_loss: 0.4001 - val_accuracy: 0.9211\n",
            "Epoch 24/500\n",
            "1875/1875 [==============================] - 6s 3ms/step - loss: 0.0452 - accuracy: 0.9838 - val_loss: 0.4121 - val_accuracy: 0.9198\n",
            "Epoch 25/500\n",
            "1875/1875 [==============================] - 6s 3ms/step - loss: 0.0389 - accuracy: 0.9855 - val_loss: 0.4602 - val_accuracy: 0.9213\n",
            "Epoch 26/500\n",
            "1875/1875 [==============================] - 6s 3ms/step - loss: 0.0415 - accuracy: 0.9847 - val_loss: 0.4185 - val_accuracy: 0.9220\n",
            "Epoch 27/500\n",
            "1875/1875 [==============================] - 6s 3ms/step - loss: 0.0379 - accuracy: 0.9858 - val_loss: 0.5000 - val_accuracy: 0.9198\n",
            "Epoch 28/500\n",
            "1875/1875 [==============================] - 6s 3ms/step - loss: 0.0387 - accuracy: 0.9861 - val_loss: 0.4684 - val_accuracy: 0.9200\n",
            "Epoch 29/500\n",
            "1875/1875 [==============================] - 6s 3ms/step - loss: 0.0381 - accuracy: 0.9865 - val_loss: 0.4647 - val_accuracy: 0.9179\n",
            "Epoch 30/500\n",
            "1875/1875 [==============================] - 6s 3ms/step - loss: 0.0370 - accuracy: 0.9867 - val_loss: 0.4875 - val_accuracy: 0.9185\n",
            "Epoch 31/500\n",
            "1875/1875 [==============================] - 6s 3ms/step - loss: 0.0357 - accuracy: 0.9875 - val_loss: 0.5432 - val_accuracy: 0.9208\n",
            "Epoch 32/500\n",
            "1875/1875 [==============================] - 6s 3ms/step - loss: 0.0334 - accuracy: 0.9878 - val_loss: 0.5108 - val_accuracy: 0.9216\n",
            "Epoch 33/500\n",
            "1875/1875 [==============================] - 6s 3ms/step - loss: 0.0340 - accuracy: 0.9876 - val_loss: 0.5080 - val_accuracy: 0.9184\n",
            "Epoch 34/500\n",
            "1875/1875 [==============================] - 6s 3ms/step - loss: 0.0337 - accuracy: 0.9876 - val_loss: 0.5213 - val_accuracy: 0.9179\n",
            "Epoch 35/500\n",
            "1875/1875 [==============================] - 6s 3ms/step - loss: 0.0339 - accuracy: 0.9878 - val_loss: 0.5595 - val_accuracy: 0.9190\n",
            "Epoch 36/500\n",
            "1875/1875 [==============================] - 6s 3ms/step - loss: 0.0335 - accuracy: 0.9878 - val_loss: 0.5668 - val_accuracy: 0.9195\n",
            "Epoch 37/500\n",
            "1875/1875 [==============================] - 6s 3ms/step - loss: 0.0348 - accuracy: 0.9886 - val_loss: 0.5110 - val_accuracy: 0.9209\n",
            "Epoch 38/500\n",
            "1875/1875 [==============================] - 6s 3ms/step - loss: 0.0310 - accuracy: 0.9890 - val_loss: 0.5634 - val_accuracy: 0.9204\n",
            "Epoch 39/500\n",
            "1875/1875 [==============================] - 6s 3ms/step - loss: 0.0315 - accuracy: 0.9890 - val_loss: 0.5546 - val_accuracy: 0.9205\n",
            "Epoch 40/500\n",
            "1875/1875 [==============================] - 6s 3ms/step - loss: 0.0312 - accuracy: 0.9892 - val_loss: 0.5975 - val_accuracy: 0.9212\n",
            "Epoch 41/500\n",
            "1875/1875 [==============================] - 6s 3ms/step - loss: 0.0307 - accuracy: 0.9891 - val_loss: 0.5978 - val_accuracy: 0.9187\n",
            "Epoch 42/500\n",
            "1875/1875 [==============================] - 6s 3ms/step - loss: 0.0308 - accuracy: 0.9893 - val_loss: 0.6002 - val_accuracy: 0.9188\n",
            "Epoch 43/500\n",
            "1875/1875 [==============================] - 6s 3ms/step - loss: 0.0318 - accuracy: 0.9889 - val_loss: 0.5413 - val_accuracy: 0.9209\n",
            "Epoch 44/500\n",
            "1875/1875 [==============================] - 6s 3ms/step - loss: 0.0299 - accuracy: 0.9894 - val_loss: 0.6085 - val_accuracy: 0.9229\n",
            "Epoch 45/500\n",
            "1875/1875 [==============================] - 6s 3ms/step - loss: 0.0276 - accuracy: 0.9902 - val_loss: 0.6446 - val_accuracy: 0.9168\n",
            "Epoch 46/500\n",
            "1875/1875 [==============================] - 6s 3ms/step - loss: 0.0273 - accuracy: 0.9904 - val_loss: 0.6093 - val_accuracy: 0.9164\n",
            "Epoch 47/500\n",
            "1875/1875 [==============================] - 6s 3ms/step - loss: 0.0283 - accuracy: 0.9901 - val_loss: 0.6680 - val_accuracy: 0.9157\n",
            "Epoch 48/500\n",
            "1875/1875 [==============================] - 6s 3ms/step - loss: 0.0284 - accuracy: 0.9898 - val_loss: 0.6760 - val_accuracy: 0.9151\n",
            "Epoch 49/500\n",
            "1875/1875 [==============================] - 6s 3ms/step - loss: 0.0266 - accuracy: 0.9905 - val_loss: 0.6491 - val_accuracy: 0.9172\n",
            "Epoch 50/500\n",
            "1875/1875 [==============================] - 6s 3ms/step - loss: 0.0272 - accuracy: 0.9905 - val_loss: 0.6580 - val_accuracy: 0.9203\n",
            "Epoch 51/500\n",
            "1875/1875 [==============================] - 6s 3ms/step - loss: 0.0244 - accuracy: 0.9914 - val_loss: 0.6585 - val_accuracy: 0.9173\n",
            "Epoch 52/500\n",
            "1875/1875 [==============================] - 6s 3ms/step - loss: 0.0286 - accuracy: 0.9902 - val_loss: 0.7084 - val_accuracy: 0.9173\n",
            "Epoch 53/500\n",
            "1875/1875 [==============================] - 6s 3ms/step - loss: 0.0276 - accuracy: 0.9908 - val_loss: 0.6279 - val_accuracy: 0.9174\n",
            "Epoch 54/500\n",
            "1875/1875 [==============================] - 6s 3ms/step - loss: 0.0267 - accuracy: 0.9913 - val_loss: 0.6621 - val_accuracy: 0.9216\n",
            "Epoch 55/500\n",
            "1875/1875 [==============================] - 6s 3ms/step - loss: 0.0253 - accuracy: 0.9916 - val_loss: 0.7162 - val_accuracy: 0.9192\n",
            "Epoch 56/500\n",
            "1875/1875 [==============================] - 6s 3ms/step - loss: 0.0254 - accuracy: 0.9913 - val_loss: 0.6467 - val_accuracy: 0.9204\n",
            "Epoch 57/500\n",
            "1875/1875 [==============================] - 6s 3ms/step - loss: 0.0250 - accuracy: 0.9915 - val_loss: 0.7251 - val_accuracy: 0.9173\n",
            "Epoch 58/500\n",
            "1875/1875 [==============================] - 6s 3ms/step - loss: 0.0270 - accuracy: 0.9907 - val_loss: 0.6880 - val_accuracy: 0.9208\n",
            "Epoch 59/500\n",
            "1875/1875 [==============================] - 6s 3ms/step - loss: 0.0253 - accuracy: 0.9913 - val_loss: 0.7794 - val_accuracy: 0.9216\n",
            "Epoch 60/500\n",
            "1875/1875 [==============================] - 6s 3ms/step - loss: 0.0266 - accuracy: 0.9915 - val_loss: 0.7354 - val_accuracy: 0.9182\n",
            "Epoch 61/500\n",
            "1875/1875 [==============================] - 6s 3ms/step - loss: 0.0275 - accuracy: 0.9913 - val_loss: 0.7320 - val_accuracy: 0.9240\n",
            "Epoch 62/500\n",
            "1875/1875 [==============================] - 6s 3ms/step - loss: 0.0242 - accuracy: 0.9918 - val_loss: 0.5902 - val_accuracy: 0.9214\n",
            "Epoch 63/500\n",
            "1875/1875 [==============================] - 6s 3ms/step - loss: 0.0269 - accuracy: 0.9913 - val_loss: 0.7134 - val_accuracy: 0.9212\n",
            "Epoch 64/500\n",
            "1875/1875 [==============================] - 6s 3ms/step - loss: 0.0238 - accuracy: 0.9921 - val_loss: 0.7221 - val_accuracy: 0.9187\n",
            "Epoch 65/500\n",
            "1875/1875 [==============================] - 6s 3ms/step - loss: 0.0267 - accuracy: 0.9913 - val_loss: 0.7488 - val_accuracy: 0.9212\n",
            "Epoch 66/500\n",
            "1875/1875 [==============================] - 6s 3ms/step - loss: 0.0233 - accuracy: 0.9923 - val_loss: 0.6701 - val_accuracy: 0.9206\n",
            "Epoch 67/500\n",
            "1875/1875 [==============================] - 6s 3ms/step - loss: 0.0265 - accuracy: 0.9914 - val_loss: 0.7178 - val_accuracy: 0.9201\n",
            "Epoch 68/500\n",
            "1875/1875 [==============================] - 6s 3ms/step - loss: 0.0263 - accuracy: 0.9913 - val_loss: 0.7167 - val_accuracy: 0.9216\n",
            "Epoch 69/500\n",
            "1875/1875 [==============================] - 6s 3ms/step - loss: 0.0231 - accuracy: 0.9925 - val_loss: 0.7408 - val_accuracy: 0.9183\n",
            "Epoch 00069: early stopping\n"
          ],
          "name": "stdout"
        }
      ]
    },
    {
      "cell_type": "code",
      "metadata": {
        "id": "0-7is2U49A6Z",
        "colab": {
          "base_uri": "https://localhost:8080/"
        },
        "outputId": "29803935-1f01-48a7-f415-61be8323a566"
      },
      "source": [
        "c2f2.evaluate(X_test, y_test, batch_size =32)"
      ],
      "execution_count": 13,
      "outputs": [
        {
          "output_type": "stream",
          "text": [
            "313/313 [==============================] - 1s 2ms/step - loss: 0.7408 - accuracy: 0.9183\n"
          ],
          "name": "stdout"
        },
        {
          "output_type": "execute_result",
          "data": {
            "text/plain": [
              "[0.7408457398414612, 0.9182999730110168]"
            ]
          },
          "metadata": {
            "tags": []
          },
          "execution_count": 13
        }
      ]
    },
    {
      "cell_type": "markdown",
      "metadata": {
        "id": "SUJxRQtafihM"
      },
      "source": [
        "## **CNN2 + FCN3**"
      ]
    },
    {
      "cell_type": "code",
      "metadata": {
        "id": "Nl5CyAymAB34"
      },
      "source": [
        "c2f3 = keras.models.Sequential([ \n",
        "    Conv2D(input_shape=(28,28,1),kernel_size=(3,3),strides=(1,1),filters= 32,padding='same',activation='relu'),\n",
        "    MaxPool2D(pool_size=(2,2), strides=(2,2)), \n",
        "    Conv2D(kernel_size=(3,3),strides=(1,1),filters= 64,padding='same',activation='relu'),\n",
        "    MaxPool2D(pool_size=(2,2), strides=(2,2)),\n",
        "    Flatten(), \n",
        "    keras.layers.Dense(128, activation='relu'),  \n",
        "    keras.layers.Dropout(0.25), \n",
        "    keras.layers.Dense(64, activation='relu'),  \n",
        "    keras.layers.Dropout(0.25), \n",
        "    keras.layers.Dense(10, activation='softmax')\n",
        "])\n",
        "\n",
        "c2f3.compile(optimizer='adam',\n",
        "              loss='categorical_crossentropy',\n",
        "              metrics=['accuracy']) "
      ],
      "execution_count": 14,
      "outputs": []
    },
    {
      "cell_type": "code",
      "metadata": {
        "id": "gYxuGW_2ANL8",
        "colab": {
          "base_uri": "https://localhost:8080/"
        },
        "outputId": "b90e6843-5c89-45d4-cb7b-7b3f45c99bbe"
      },
      "source": [
        "c2f3.summary()"
      ],
      "execution_count": 15,
      "outputs": [
        {
          "output_type": "stream",
          "text": [
            "Model: \"sequential_1\"\n",
            "_________________________________________________________________\n",
            "Layer (type)                 Output Shape              Param #   \n",
            "=================================================================\n",
            "conv2d_2 (Conv2D)            (None, 28, 28, 32)        320       \n",
            "_________________________________________________________________\n",
            "max_pooling2d_2 (MaxPooling2 (None, 14, 14, 32)        0         \n",
            "_________________________________________________________________\n",
            "conv2d_3 (Conv2D)            (None, 14, 14, 64)        18496     \n",
            "_________________________________________________________________\n",
            "max_pooling2d_3 (MaxPooling2 (None, 7, 7, 64)          0         \n",
            "_________________________________________________________________\n",
            "flatten_1 (Flatten)          (None, 3136)              0         \n",
            "_________________________________________________________________\n",
            "dense_2 (Dense)              (None, 128)               401536    \n",
            "_________________________________________________________________\n",
            "dropout_1 (Dropout)          (None, 128)               0         \n",
            "_________________________________________________________________\n",
            "dense_3 (Dense)              (None, 64)                8256      \n",
            "_________________________________________________________________\n",
            "dropout_2 (Dropout)          (None, 64)                0         \n",
            "_________________________________________________________________\n",
            "dense_4 (Dense)              (None, 10)                650       \n",
            "=================================================================\n",
            "Total params: 429,258\n",
            "Trainable params: 429,258\n",
            "Non-trainable params: 0\n",
            "_________________________________________________________________\n"
          ],
          "name": "stdout"
        }
      ]
    },
    {
      "cell_type": "code",
      "metadata": {
        "id": "KMsTuhO2x61z"
      },
      "source": [
        "cp_callback = callbacks.ModelCheckpoint(filepath=\"./fmnist_c2f3_best_weights.{epoch:03d}-{val_accuracy:.4f}.hdf5\", \n",
        "                              monitor='val_accuracy', verbose=0, save_best_only=True)\n",
        "es_callback = callbacks.EarlyStopping(monitor='val_accuracy', \n",
        "                            mode='max', verbose=1, patience=50)    # patience=20, 50"
      ],
      "execution_count": 16,
      "outputs": []
    },
    {
      "cell_type": "code",
      "metadata": {
        "id": "lO1of4AOAQlV",
        "colab": {
          "base_uri": "https://localhost:8080/"
        },
        "outputId": "01f0271c-ba53-4acb-e4ec-d0e69d64059b"
      },
      "source": [
        "c2f3.fit(X_train, y_train, epochs=500, batch_size =32, \n",
        "         callbacks=[cp_callback, es_callback], \n",
        "         validation_data=(X_test,y_test))"
      ],
      "execution_count": 17,
      "outputs": [
        {
          "output_type": "stream",
          "text": [
            "Epoch 1/500\n",
            "1875/1875 [==============================] - 6s 3ms/step - loss: 0.4922 - accuracy: 0.8234 - val_loss: 0.3426 - val_accuracy: 0.8770\n",
            "Epoch 2/500\n",
            "1875/1875 [==============================] - 6s 3ms/step - loss: 0.3140 - accuracy: 0.8885 - val_loss: 0.2775 - val_accuracy: 0.9010\n",
            "Epoch 3/500\n",
            "1875/1875 [==============================] - 6s 3ms/step - loss: 0.2647 - accuracy: 0.9046 - val_loss: 0.2660 - val_accuracy: 0.9077\n",
            "Epoch 4/500\n",
            "1875/1875 [==============================] - 6s 3ms/step - loss: 0.2319 - accuracy: 0.9154 - val_loss: 0.2434 - val_accuracy: 0.9100\n",
            "Epoch 5/500\n",
            "1875/1875 [==============================] - 6s 3ms/step - loss: 0.2096 - accuracy: 0.9251 - val_loss: 0.2448 - val_accuracy: 0.9128\n",
            "Epoch 6/500\n",
            "1875/1875 [==============================] - 6s 3ms/step - loss: 0.1883 - accuracy: 0.9313 - val_loss: 0.2532 - val_accuracy: 0.9124\n",
            "Epoch 7/500\n",
            "1875/1875 [==============================] - 7s 4ms/step - loss: 0.1739 - accuracy: 0.9364 - val_loss: 0.2462 - val_accuracy: 0.9152\n",
            "Epoch 8/500\n",
            "1875/1875 [==============================] - 6s 3ms/step - loss: 0.1575 - accuracy: 0.9415 - val_loss: 0.2368 - val_accuracy: 0.9229\n",
            "Epoch 9/500\n",
            "1875/1875 [==============================] - 6s 3ms/step - loss: 0.1458 - accuracy: 0.9464 - val_loss: 0.2531 - val_accuracy: 0.9200\n",
            "Epoch 10/500\n",
            "1875/1875 [==============================] - 6s 3ms/step - loss: 0.1373 - accuracy: 0.9493 - val_loss: 0.2365 - val_accuracy: 0.9238\n",
            "Epoch 11/500\n",
            "1875/1875 [==============================] - 6s 3ms/step - loss: 0.1253 - accuracy: 0.9541 - val_loss: 0.2585 - val_accuracy: 0.9235\n",
            "Epoch 12/500\n",
            "1875/1875 [==============================] - 6s 3ms/step - loss: 0.1152 - accuracy: 0.9566 - val_loss: 0.2625 - val_accuracy: 0.9222\n",
            "Epoch 13/500\n",
            "1875/1875 [==============================] - 6s 3ms/step - loss: 0.1092 - accuracy: 0.9593 - val_loss: 0.2823 - val_accuracy: 0.9236\n",
            "Epoch 14/500\n",
            "1875/1875 [==============================] - 6s 3ms/step - loss: 0.1026 - accuracy: 0.9612 - val_loss: 0.2717 - val_accuracy: 0.9250\n",
            "Epoch 15/500\n",
            "1875/1875 [==============================] - 6s 3ms/step - loss: 0.1005 - accuracy: 0.9635 - val_loss: 0.2923 - val_accuracy: 0.9211\n",
            "Epoch 16/500\n",
            "1875/1875 [==============================] - 6s 3ms/step - loss: 0.0910 - accuracy: 0.9664 - val_loss: 0.2927 - val_accuracy: 0.9236\n",
            "Epoch 17/500\n",
            "1875/1875 [==============================] - 6s 3ms/step - loss: 0.0870 - accuracy: 0.9680 - val_loss: 0.3354 - val_accuracy: 0.9193\n",
            "Epoch 18/500\n",
            "1875/1875 [==============================] - 6s 3ms/step - loss: 0.0822 - accuracy: 0.9696 - val_loss: 0.3150 - val_accuracy: 0.9208\n",
            "Epoch 19/500\n",
            "1875/1875 [==============================] - 6s 3ms/step - loss: 0.0804 - accuracy: 0.9697 - val_loss: 0.3280 - val_accuracy: 0.9228\n",
            "Epoch 20/500\n",
            "1875/1875 [==============================] - 6s 3ms/step - loss: 0.0747 - accuracy: 0.9730 - val_loss: 0.3519 - val_accuracy: 0.9231\n",
            "Epoch 21/500\n",
            "1875/1875 [==============================] - 6s 3ms/step - loss: 0.0726 - accuracy: 0.9730 - val_loss: 0.3563 - val_accuracy: 0.9237\n",
            "Epoch 22/500\n",
            "1875/1875 [==============================] - 6s 3ms/step - loss: 0.0698 - accuracy: 0.9743 - val_loss: 0.3674 - val_accuracy: 0.9238\n",
            "Epoch 23/500\n",
            "1875/1875 [==============================] - 6s 3ms/step - loss: 0.0639 - accuracy: 0.9765 - val_loss: 0.3822 - val_accuracy: 0.9247\n",
            "Epoch 24/500\n",
            "1875/1875 [==============================] - 6s 3ms/step - loss: 0.0664 - accuracy: 0.9756 - val_loss: 0.3687 - val_accuracy: 0.9222\n",
            "Epoch 25/500\n",
            "1875/1875 [==============================] - 6s 3ms/step - loss: 0.0650 - accuracy: 0.9761 - val_loss: 0.3868 - val_accuracy: 0.9203\n",
            "Epoch 26/500\n",
            "1875/1875 [==============================] - 6s 3ms/step - loss: 0.0591 - accuracy: 0.9787 - val_loss: 0.4202 - val_accuracy: 0.9222\n",
            "Epoch 27/500\n",
            "1875/1875 [==============================] - 6s 3ms/step - loss: 0.0594 - accuracy: 0.9782 - val_loss: 0.4286 - val_accuracy: 0.9213\n",
            "Epoch 28/500\n",
            "1875/1875 [==============================] - 6s 3ms/step - loss: 0.0580 - accuracy: 0.9797 - val_loss: 0.4552 - val_accuracy: 0.9217\n",
            "Epoch 29/500\n",
            "1875/1875 [==============================] - 6s 3ms/step - loss: 0.0570 - accuracy: 0.9802 - val_loss: 0.4419 - val_accuracy: 0.9202\n",
            "Epoch 30/500\n",
            "1875/1875 [==============================] - 6s 3ms/step - loss: 0.0532 - accuracy: 0.9814 - val_loss: 0.4494 - val_accuracy: 0.9229\n",
            "Epoch 31/500\n",
            "1875/1875 [==============================] - 6s 3ms/step - loss: 0.0532 - accuracy: 0.9809 - val_loss: 0.4469 - val_accuracy: 0.9211\n",
            "Epoch 32/500\n",
            "1875/1875 [==============================] - 6s 3ms/step - loss: 0.0529 - accuracy: 0.9819 - val_loss: 0.4507 - val_accuracy: 0.9227\n",
            "Epoch 33/500\n",
            "1875/1875 [==============================] - 6s 3ms/step - loss: 0.0516 - accuracy: 0.9815 - val_loss: 0.4301 - val_accuracy: 0.9250\n",
            "Epoch 34/500\n",
            "1875/1875 [==============================] - 6s 3ms/step - loss: 0.0499 - accuracy: 0.9827 - val_loss: 0.4653 - val_accuracy: 0.9218\n",
            "Epoch 35/500\n",
            "1875/1875 [==============================] - 6s 3ms/step - loss: 0.0474 - accuracy: 0.9834 - val_loss: 0.5379 - val_accuracy: 0.9223\n",
            "Epoch 36/500\n",
            "1875/1875 [==============================] - 6s 3ms/step - loss: 0.0477 - accuracy: 0.9834 - val_loss: 0.4910 - val_accuracy: 0.9226\n",
            "Epoch 37/500\n",
            "1875/1875 [==============================] - 6s 3ms/step - loss: 0.0485 - accuracy: 0.9837 - val_loss: 0.4485 - val_accuracy: 0.9245\n",
            "Epoch 38/500\n",
            "1875/1875 [==============================] - 6s 3ms/step - loss: 0.0467 - accuracy: 0.9840 - val_loss: 0.4352 - val_accuracy: 0.9251\n",
            "Epoch 39/500\n",
            "1875/1875 [==============================] - 6s 3ms/step - loss: 0.0452 - accuracy: 0.9842 - val_loss: 0.4931 - val_accuracy: 0.9241\n",
            "Epoch 40/500\n",
            "1875/1875 [==============================] - 6s 3ms/step - loss: 0.0419 - accuracy: 0.9852 - val_loss: 0.5239 - val_accuracy: 0.9240\n",
            "Epoch 41/500\n",
            "1875/1875 [==============================] - 6s 3ms/step - loss: 0.0429 - accuracy: 0.9851 - val_loss: 0.5461 - val_accuracy: 0.9178\n",
            "Epoch 42/500\n",
            "1875/1875 [==============================] - 6s 3ms/step - loss: 0.0429 - accuracy: 0.9854 - val_loss: 0.4729 - val_accuracy: 0.9210\n",
            "Epoch 43/500\n",
            "1875/1875 [==============================] - 6s 3ms/step - loss: 0.0457 - accuracy: 0.9847 - val_loss: 0.5221 - val_accuracy: 0.9227\n",
            "Epoch 44/500\n",
            "1875/1875 [==============================] - 6s 3ms/step - loss: 0.0372 - accuracy: 0.9872 - val_loss: 0.5547 - val_accuracy: 0.9182\n",
            "Epoch 45/500\n",
            "1875/1875 [==============================] - 6s 3ms/step - loss: 0.0403 - accuracy: 0.9860 - val_loss: 0.5785 - val_accuracy: 0.9220\n",
            "Epoch 46/500\n",
            "1875/1875 [==============================] - 6s 3ms/step - loss: 0.0394 - accuracy: 0.9865 - val_loss: 0.5507 - val_accuracy: 0.9219\n",
            "Epoch 47/500\n",
            "1875/1875 [==============================] - 6s 3ms/step - loss: 0.0410 - accuracy: 0.9860 - val_loss: 0.5615 - val_accuracy: 0.9202\n",
            "Epoch 48/500\n",
            "1875/1875 [==============================] - 6s 3ms/step - loss: 0.0365 - accuracy: 0.9874 - val_loss: 0.5771 - val_accuracy: 0.9242\n",
            "Epoch 49/500\n",
            "1875/1875 [==============================] - 6s 3ms/step - loss: 0.0395 - accuracy: 0.9869 - val_loss: 0.5637 - val_accuracy: 0.9247\n",
            "Epoch 50/500\n",
            "1875/1875 [==============================] - 6s 3ms/step - loss: 0.0433 - accuracy: 0.9860 - val_loss: 0.4953 - val_accuracy: 0.9228\n",
            "Epoch 51/500\n",
            "1875/1875 [==============================] - 6s 3ms/step - loss: 0.0376 - accuracy: 0.9872 - val_loss: 0.5057 - val_accuracy: 0.9221\n",
            "Epoch 52/500\n",
            "1875/1875 [==============================] - 6s 3ms/step - loss: 0.0384 - accuracy: 0.9865 - val_loss: 0.5430 - val_accuracy: 0.9211\n",
            "Epoch 53/500\n",
            "1875/1875 [==============================] - 6s 3ms/step - loss: 0.0377 - accuracy: 0.9877 - val_loss: 0.5540 - val_accuracy: 0.9245\n",
            "Epoch 54/500\n",
            "1875/1875 [==============================] - 6s 3ms/step - loss: 0.0371 - accuracy: 0.9878 - val_loss: 0.6049 - val_accuracy: 0.9253\n",
            "Epoch 55/500\n",
            "1875/1875 [==============================] - 6s 3ms/step - loss: 0.0337 - accuracy: 0.9882 - val_loss: 0.7397 - val_accuracy: 0.9195\n",
            "Epoch 56/500\n",
            "1875/1875 [==============================] - 6s 3ms/step - loss: 0.0388 - accuracy: 0.9869 - val_loss: 0.6230 - val_accuracy: 0.9217\n",
            "Epoch 57/500\n",
            "1875/1875 [==============================] - 6s 3ms/step - loss: 0.0357 - accuracy: 0.9886 - val_loss: 0.6337 - val_accuracy: 0.9211\n",
            "Epoch 58/500\n",
            "1875/1875 [==============================] - 7s 4ms/step - loss: 0.0338 - accuracy: 0.9885 - val_loss: 0.6079 - val_accuracy: 0.9241\n",
            "Epoch 59/500\n",
            "1875/1875 [==============================] - 7s 4ms/step - loss: 0.0335 - accuracy: 0.9888 - val_loss: 0.5435 - val_accuracy: 0.9240\n",
            "Epoch 60/500\n",
            "1875/1875 [==============================] - 6s 3ms/step - loss: 0.0333 - accuracy: 0.9888 - val_loss: 0.6285 - val_accuracy: 0.9215\n",
            "Epoch 61/500\n",
            "1875/1875 [==============================] - 6s 3ms/step - loss: 0.0335 - accuracy: 0.9886 - val_loss: 0.6228 - val_accuracy: 0.9145\n",
            "Epoch 62/500\n",
            "1875/1875 [==============================] - 6s 3ms/step - loss: 0.0328 - accuracy: 0.9895 - val_loss: 0.5910 - val_accuracy: 0.9221\n",
            "Epoch 63/500\n",
            "1875/1875 [==============================] - 6s 3ms/step - loss: 0.0354 - accuracy: 0.9883 - val_loss: 0.6230 - val_accuracy: 0.9230\n",
            "Epoch 64/500\n",
            "1875/1875 [==============================] - 6s 3ms/step - loss: 0.0320 - accuracy: 0.9889 - val_loss: 0.6384 - val_accuracy: 0.9233\n",
            "Epoch 65/500\n",
            "1875/1875 [==============================] - 6s 3ms/step - loss: 0.0334 - accuracy: 0.9895 - val_loss: 0.5983 - val_accuracy: 0.9223\n",
            "Epoch 66/500\n",
            "1875/1875 [==============================] - 6s 3ms/step - loss: 0.0300 - accuracy: 0.9897 - val_loss: 0.6112 - val_accuracy: 0.9226\n",
            "Epoch 67/500\n",
            "1875/1875 [==============================] - 6s 3ms/step - loss: 0.0316 - accuracy: 0.9898 - val_loss: 0.6322 - val_accuracy: 0.9218\n",
            "Epoch 68/500\n",
            "1875/1875 [==============================] - 6s 3ms/step - loss: 0.0325 - accuracy: 0.9895 - val_loss: 0.6939 - val_accuracy: 0.9238\n",
            "Epoch 69/500\n",
            "1875/1875 [==============================] - 6s 3ms/step - loss: 0.0352 - accuracy: 0.9885 - val_loss: 0.6735 - val_accuracy: 0.9212\n",
            "Epoch 70/500\n",
            "1875/1875 [==============================] - 6s 3ms/step - loss: 0.0302 - accuracy: 0.9906 - val_loss: 0.6710 - val_accuracy: 0.9234\n",
            "Epoch 71/500\n",
            "1875/1875 [==============================] - 6s 3ms/step - loss: 0.0291 - accuracy: 0.9903 - val_loss: 0.6805 - val_accuracy: 0.9229\n",
            "Epoch 72/500\n",
            "1875/1875 [==============================] - 6s 3ms/step - loss: 0.0318 - accuracy: 0.9900 - val_loss: 0.6448 - val_accuracy: 0.9193\n",
            "Epoch 73/500\n",
            "1875/1875 [==============================] - 6s 3ms/step - loss: 0.0278 - accuracy: 0.9907 - val_loss: 0.6262 - val_accuracy: 0.9228\n",
            "Epoch 74/500\n",
            "1875/1875 [==============================] - 6s 3ms/step - loss: 0.0308 - accuracy: 0.9899 - val_loss: 0.6713 - val_accuracy: 0.9231\n",
            "Epoch 75/500\n",
            "1875/1875 [==============================] - 6s 3ms/step - loss: 0.0289 - accuracy: 0.9905 - val_loss: 0.7100 - val_accuracy: 0.9219\n",
            "Epoch 76/500\n",
            "1875/1875 [==============================] - 6s 3ms/step - loss: 0.0308 - accuracy: 0.9906 - val_loss: 0.6140 - val_accuracy: 0.9157\n",
            "Epoch 77/500\n",
            "1875/1875 [==============================] - 6s 3ms/step - loss: 0.0286 - accuracy: 0.9907 - val_loss: 0.6495 - val_accuracy: 0.9221\n",
            "Epoch 78/500\n",
            "1875/1875 [==============================] - 6s 3ms/step - loss: 0.0321 - accuracy: 0.9894 - val_loss: 0.6644 - val_accuracy: 0.9207\n",
            "Epoch 79/500\n",
            "1875/1875 [==============================] - 6s 3ms/step - loss: 0.0278 - accuracy: 0.9912 - val_loss: 0.6939 - val_accuracy: 0.9229\n",
            "Epoch 80/500\n",
            "1875/1875 [==============================] - 6s 3ms/step - loss: 0.0299 - accuracy: 0.9910 - val_loss: 0.6476 - val_accuracy: 0.9218\n",
            "Epoch 81/500\n",
            "1875/1875 [==============================] - 6s 3ms/step - loss: 0.0305 - accuracy: 0.9903 - val_loss: 0.6388 - val_accuracy: 0.9230\n",
            "Epoch 82/500\n",
            "1875/1875 [==============================] - 6s 3ms/step - loss: 0.0271 - accuracy: 0.9912 - val_loss: 0.7240 - val_accuracy: 0.9240\n",
            "Epoch 83/500\n",
            "1875/1875 [==============================] - 6s 3ms/step - loss: 0.0288 - accuracy: 0.9908 - val_loss: 0.7663 - val_accuracy: 0.9235\n",
            "Epoch 84/500\n",
            "1875/1875 [==============================] - 6s 3ms/step - loss: 0.0303 - accuracy: 0.9906 - val_loss: 0.6872 - val_accuracy: 0.9263\n",
            "Epoch 85/500\n",
            "1875/1875 [==============================] - 6s 3ms/step - loss: 0.0281 - accuracy: 0.9910 - val_loss: 0.7218 - val_accuracy: 0.9248\n",
            "Epoch 86/500\n",
            "1875/1875 [==============================] - 6s 3ms/step - loss: 0.0284 - accuracy: 0.9910 - val_loss: 0.6656 - val_accuracy: 0.9226\n",
            "Epoch 87/500\n",
            "1875/1875 [==============================] - 6s 3ms/step - loss: 0.0281 - accuracy: 0.9910 - val_loss: 0.6438 - val_accuracy: 0.9237\n",
            "Epoch 88/500\n",
            "1875/1875 [==============================] - 6s 3ms/step - loss: 0.0294 - accuracy: 0.9911 - val_loss: 0.6621 - val_accuracy: 0.9217\n",
            "Epoch 89/500\n",
            "1875/1875 [==============================] - 6s 3ms/step - loss: 0.0295 - accuracy: 0.9911 - val_loss: 0.7115 - val_accuracy: 0.9219\n",
            "Epoch 90/500\n",
            "1875/1875 [==============================] - 6s 3ms/step - loss: 0.0270 - accuracy: 0.9917 - val_loss: 0.7034 - val_accuracy: 0.9235\n",
            "Epoch 91/500\n",
            "1875/1875 [==============================] - 6s 3ms/step - loss: 0.0283 - accuracy: 0.9912 - val_loss: 0.7238 - val_accuracy: 0.9206\n",
            "Epoch 92/500\n",
            "1875/1875 [==============================] - 6s 3ms/step - loss: 0.0303 - accuracy: 0.9905 - val_loss: 0.6083 - val_accuracy: 0.9211\n",
            "Epoch 93/500\n",
            "1875/1875 [==============================] - 6s 3ms/step - loss: 0.0270 - accuracy: 0.9919 - val_loss: 0.6556 - val_accuracy: 0.9223\n",
            "Epoch 94/500\n",
            "1875/1875 [==============================] - 6s 3ms/step - loss: 0.0271 - accuracy: 0.9919 - val_loss: 0.7072 - val_accuracy: 0.9206\n",
            "Epoch 95/500\n",
            "1875/1875 [==============================] - 6s 3ms/step - loss: 0.0293 - accuracy: 0.9909 - val_loss: 0.7289 - val_accuracy: 0.9228\n",
            "Epoch 96/500\n",
            "1875/1875 [==============================] - 6s 3ms/step - loss: 0.0237 - accuracy: 0.9926 - val_loss: 0.7943 - val_accuracy: 0.9236\n",
            "Epoch 97/500\n",
            "1875/1875 [==============================] - 6s 3ms/step - loss: 0.0261 - accuracy: 0.9919 - val_loss: 0.6913 - val_accuracy: 0.9212\n",
            "Epoch 98/500\n",
            "1875/1875 [==============================] - 6s 3ms/step - loss: 0.0266 - accuracy: 0.9912 - val_loss: 0.7186 - val_accuracy: 0.9236\n",
            "Epoch 99/500\n",
            "1875/1875 [==============================] - 6s 3ms/step - loss: 0.0287 - accuracy: 0.9913 - val_loss: 0.7418 - val_accuracy: 0.9219\n",
            "Epoch 100/500\n",
            "1875/1875 [==============================] - 6s 3ms/step - loss: 0.0297 - accuracy: 0.9908 - val_loss: 0.6206 - val_accuracy: 0.9250\n",
            "Epoch 101/500\n",
            "1875/1875 [==============================] - 6s 3ms/step - loss: 0.0248 - accuracy: 0.9920 - val_loss: 0.7361 - val_accuracy: 0.9257\n",
            "Epoch 102/500\n",
            "1875/1875 [==============================] - 6s 3ms/step - loss: 0.0248 - accuracy: 0.9923 - val_loss: 0.7580 - val_accuracy: 0.9224\n",
            "Epoch 103/500\n",
            "1875/1875 [==============================] - 6s 3ms/step - loss: 0.0256 - accuracy: 0.9920 - val_loss: 0.7288 - val_accuracy: 0.9221\n",
            "Epoch 104/500\n",
            "1875/1875 [==============================] - 6s 3ms/step - loss: 0.0268 - accuracy: 0.9921 - val_loss: 0.8585 - val_accuracy: 0.9234\n",
            "Epoch 105/500\n",
            "1875/1875 [==============================] - 6s 3ms/step - loss: 0.0271 - accuracy: 0.9919 - val_loss: 0.7207 - val_accuracy: 0.9235\n",
            "Epoch 106/500\n",
            "1875/1875 [==============================] - 6s 3ms/step - loss: 0.0281 - accuracy: 0.9917 - val_loss: 0.7213 - val_accuracy: 0.9161\n",
            "Epoch 107/500\n",
            "1875/1875 [==============================] - 6s 3ms/step - loss: 0.0291 - accuracy: 0.9916 - val_loss: 0.7711 - val_accuracy: 0.9240\n",
            "Epoch 108/500\n",
            "1875/1875 [==============================] - 6s 3ms/step - loss: 0.0262 - accuracy: 0.9923 - val_loss: 0.7314 - val_accuracy: 0.9218\n",
            "Epoch 109/500\n",
            "1875/1875 [==============================] - 7s 4ms/step - loss: 0.0293 - accuracy: 0.9915 - val_loss: 0.6909 - val_accuracy: 0.9230\n",
            "Epoch 110/500\n",
            "1875/1875 [==============================] - 7s 4ms/step - loss: 0.0239 - accuracy: 0.9929 - val_loss: 0.7280 - val_accuracy: 0.9210\n",
            "Epoch 111/500\n",
            "1875/1875 [==============================] - 6s 3ms/step - loss: 0.0286 - accuracy: 0.9922 - val_loss: 0.6988 - val_accuracy: 0.9243\n",
            "Epoch 112/500\n",
            "1875/1875 [==============================] - 6s 3ms/step - loss: 0.0224 - accuracy: 0.9934 - val_loss: 0.6771 - val_accuracy: 0.9235\n",
            "Epoch 113/500\n",
            "1875/1875 [==============================] - 6s 3ms/step - loss: 0.0257 - accuracy: 0.9921 - val_loss: 0.6898 - val_accuracy: 0.9217\n",
            "Epoch 114/500\n",
            "1875/1875 [==============================] - 6s 3ms/step - loss: 0.0280 - accuracy: 0.9919 - val_loss: 0.7234 - val_accuracy: 0.9230\n",
            "Epoch 115/500\n",
            "1875/1875 [==============================] - 6s 3ms/step - loss: 0.0248 - accuracy: 0.9924 - val_loss: 0.7113 - val_accuracy: 0.9199\n",
            "Epoch 116/500\n",
            "1875/1875 [==============================] - 6s 3ms/step - loss: 0.0261 - accuracy: 0.9922 - val_loss: 0.7883 - val_accuracy: 0.9227\n",
            "Epoch 117/500\n",
            "1875/1875 [==============================] - 6s 3ms/step - loss: 0.0252 - accuracy: 0.9916 - val_loss: 0.7938 - val_accuracy: 0.9225\n",
            "Epoch 118/500\n",
            "1875/1875 [==============================] - 6s 3ms/step - loss: 0.0232 - accuracy: 0.9927 - val_loss: 0.6748 - val_accuracy: 0.9215\n",
            "Epoch 119/500\n",
            "1875/1875 [==============================] - 6s 3ms/step - loss: 0.0251 - accuracy: 0.9924 - val_loss: 0.8314 - val_accuracy: 0.9221\n",
            "Epoch 120/500\n",
            "1875/1875 [==============================] - 6s 3ms/step - loss: 0.0267 - accuracy: 0.9921 - val_loss: 0.8096 - val_accuracy: 0.9241\n",
            "Epoch 121/500\n",
            "1875/1875 [==============================] - 6s 3ms/step - loss: 0.0263 - accuracy: 0.9925 - val_loss: 0.7167 - val_accuracy: 0.9220\n",
            "Epoch 122/500\n",
            "1875/1875 [==============================] - 6s 3ms/step - loss: 0.0253 - accuracy: 0.9921 - val_loss: 0.7701 - val_accuracy: 0.9223\n",
            "Epoch 123/500\n",
            "1875/1875 [==============================] - 6s 3ms/step - loss: 0.0287 - accuracy: 0.9916 - val_loss: 0.7665 - val_accuracy: 0.9195\n",
            "Epoch 124/500\n",
            "1875/1875 [==============================] - 6s 3ms/step - loss: 0.0248 - accuracy: 0.9922 - val_loss: 0.8800 - val_accuracy: 0.9209\n",
            "Epoch 125/500\n",
            "1875/1875 [==============================] - 6s 3ms/step - loss: 0.0240 - accuracy: 0.9924 - val_loss: 0.8031 - val_accuracy: 0.9201\n",
            "Epoch 126/500\n",
            "1875/1875 [==============================] - 6s 3ms/step - loss: 0.0260 - accuracy: 0.9923 - val_loss: 0.8160 - val_accuracy: 0.9224\n",
            "Epoch 127/500\n",
            "1875/1875 [==============================] - 6s 3ms/step - loss: 0.0254 - accuracy: 0.9927 - val_loss: 0.7331 - val_accuracy: 0.9209\n",
            "Epoch 128/500\n",
            "1875/1875 [==============================] - 6s 3ms/step - loss: 0.0248 - accuracy: 0.9930 - val_loss: 0.6697 - val_accuracy: 0.9223\n",
            "Epoch 129/500\n",
            "1875/1875 [==============================] - 6s 3ms/step - loss: 0.0225 - accuracy: 0.9932 - val_loss: 0.7801 - val_accuracy: 0.9249\n",
            "Epoch 130/500\n",
            "1875/1875 [==============================] - 6s 3ms/step - loss: 0.0272 - accuracy: 0.9924 - val_loss: 0.7998 - val_accuracy: 0.9236\n",
            "Epoch 131/500\n",
            "1875/1875 [==============================] - 6s 3ms/step - loss: 0.0256 - accuracy: 0.9922 - val_loss: 0.7761 - val_accuracy: 0.9250\n",
            "Epoch 132/500\n",
            "1875/1875 [==============================] - 6s 3ms/step - loss: 0.0245 - accuracy: 0.9928 - val_loss: 0.7770 - val_accuracy: 0.9178\n",
            "Epoch 133/500\n",
            "1875/1875 [==============================] - 6s 3ms/step - loss: 0.0247 - accuracy: 0.9925 - val_loss: 0.8133 - val_accuracy: 0.9244\n",
            "Epoch 134/500\n",
            "1875/1875 [==============================] - 6s 3ms/step - loss: 0.0239 - accuracy: 0.9934 - val_loss: 0.7916 - val_accuracy: 0.9246\n",
            "Epoch 00134: early stopping\n"
          ],
          "name": "stdout"
        },
        {
          "output_type": "execute_result",
          "data": {
            "text/plain": [
              "<tensorflow.python.keras.callbacks.History at 0x7fa8de141eb8>"
            ]
          },
          "metadata": {
            "tags": []
          },
          "execution_count": 17
        }
      ]
    },
    {
      "cell_type": "code",
      "metadata": {
        "id": "W-eIxCasDBil",
        "colab": {
          "base_uri": "https://localhost:8080/"
        },
        "outputId": "a4df00bd-27df-4614-afcc-af7cff7f02d9"
      },
      "source": [
        " c2f3.evaluate(X_test, y_test, batch_size = 32)"
      ],
      "execution_count": 18,
      "outputs": [
        {
          "output_type": "stream",
          "text": [
            "313/313 [==============================] - 1s 2ms/step - loss: 0.7916 - accuracy: 0.9246\n"
          ],
          "name": "stdout"
        },
        {
          "output_type": "execute_result",
          "data": {
            "text/plain": [
              "[0.7915714979171753, 0.9246000051498413]"
            ]
          },
          "metadata": {
            "tags": []
          },
          "execution_count": 18
        }
      ]
    },
    {
      "cell_type": "markdown",
      "metadata": {
        "id": "5XYSVtC-DVsz"
      },
      "source": [
        "# **[DIY] Hidden layer에 따른 정확도**"
      ]
    },
    {
      "cell_type": "code",
      "metadata": {
        "id": "OiCc_UO2rGmp",
        "colab": {
          "base_uri": "https://localhost:8080/"
        },
        "outputId": "0d50520f-a31b-4f25-8da0-a44abf2293fd"
      },
      "source": [
        "score1=c2f2.evaluate(X_test, y_test, batch_size = 32)\n",
        "score2=c2f3.evaluate(X_test, y_test, batch_size = 32)\n",
        "losses = [score1[0],score2[0]]\n",
        "accuracies= [score1[1],score2[1]]\n",
        "losses,accuracies"
      ],
      "execution_count": 19,
      "outputs": [
        {
          "output_type": "stream",
          "text": [
            "313/313 [==============================] - 1s 2ms/step - loss: 0.7408 - accuracy: 0.9183\n",
            "313/313 [==============================] - 1s 2ms/step - loss: 0.7916 - accuracy: 0.9246\n"
          ],
          "name": "stdout"
        },
        {
          "output_type": "execute_result",
          "data": {
            "text/plain": [
              "([0.7408457398414612, 0.7915714979171753],\n",
              " [0.9182999730110168, 0.9246000051498413])"
            ]
          },
          "metadata": {
            "tags": []
          },
          "execution_count": 19
        }
      ]
    },
    {
      "cell_type": "code",
      "metadata": {
        "id": "vZv6a2aVRw9j",
        "colab": {
          "base_uri": "https://localhost:8080/",
          "height": 269
        },
        "outputId": "97547b51-440a-4179-f81e-eb9f072e0d22"
      },
      "source": [
        "x = np.arange(2)\n",
        "cnns = ['C2F2','C2F3']\n",
        "\n",
        "plt.bar(x, accuracies)\n",
        "plt.xticks(x, cnns)\n",
        "plt.ylim((.9,1.0))\n",
        "plt.show()"
      ],
      "execution_count": 20,
      "outputs": [
        {
          "output_type": "display_data",
          "data": {
            "image/png": "[encoded data removed]",
            "text/plain": [
              "<Figure size 432x288 with 1 Axes>"
            ]
          },
          "metadata": {
            "tags": [],
            "needs_background": "light"
          }
        }
      ]
    },
    {
      "cell_type": "markdown",
      "metadata": {
        "id": "3Ub3qGnjs4EI"
      },
      "source": [
        "## Graph of loss and accuracy\n",
        "- model: C2F2"
      ]
    },
    {
      "cell_type": "code",
      "metadata": {
        "id": "NiSAsgsNtUte"
      },
      "source": [
        "c2f2 = keras.models.Sequential([ \n",
        "    Conv2D(input_shape=(28,28,1),kernel_size=(3,3),strides=(1,1),filters= 32,padding='same',activation='relu'),\n",
        "    MaxPool2D(pool_size=(2,2), strides=(2,2)), \n",
        "    Conv2D(kernel_size=(3,3),strides=(1,1),filters= 64,padding='same',activation='relu'),\n",
        "    MaxPool2D(pool_size=(2,2), strides=(2,2)),\n",
        "    Flatten(), \n",
        "    keras.layers.Dense(128, activation='relu'),  \n",
        "    keras.layers.Dropout(0.25), \n",
        "    keras.layers.Dense(10, activation='softmax')\n",
        "])\n",
        "\n",
        "c2f2.compile(optimizer='adam',\n",
        "            loss='categorical_crossentropy',\n",
        "            metrics=['accuracy'])"
      ],
      "execution_count": 21,
      "outputs": []
    },
    {
      "cell_type": "code",
      "metadata": {
        "id": "dJHBUlomtUtt",
        "colab": {
          "base_uri": "https://localhost:8080/"
        },
        "outputId": "a6cc2d79-27b4-4cf4-f013-c2afd2c4e9c5"
      },
      "source": [
        "c2f2.summary()"
      ],
      "execution_count": 22,
      "outputs": [
        {
          "output_type": "stream",
          "text": [
            "Model: \"sequential_2\"\n",
            "_________________________________________________________________\n",
            "Layer (type)                 Output Shape              Param #   \n",
            "=================================================================\n",
            "conv2d_4 (Conv2D)            (None, 28, 28, 32)        320       \n",
            "_________________________________________________________________\n",
            "max_pooling2d_4 (MaxPooling2 (None, 14, 14, 32)        0         \n",
            "_________________________________________________________________\n",
            "conv2d_5 (Conv2D)            (None, 14, 14, 64)        18496     \n",
            "_________________________________________________________________\n",
            "max_pooling2d_5 (MaxPooling2 (None, 7, 7, 64)          0         \n",
            "_________________________________________________________________\n",
            "flatten_2 (Flatten)          (None, 3136)              0         \n",
            "_________________________________________________________________\n",
            "dense_5 (Dense)              (None, 128)               401536    \n",
            "_________________________________________________________________\n",
            "dropout_3 (Dropout)          (None, 128)               0         \n",
            "_________________________________________________________________\n",
            "dense_6 (Dense)              (None, 10)                1290      \n",
            "=================================================================\n",
            "Total params: 421,642\n",
            "Trainable params: 421,642\n",
            "Non-trainable params: 0\n",
            "_________________________________________________________________\n"
          ],
          "name": "stdout"
        }
      ]
    },
    {
      "cell_type": "code",
      "metadata": {
        "id": "-Yfqv2AqtUtz",
        "colab": {
          "base_uri": "https://localhost:8080/"
        },
        "outputId": "6fc46828-f1dc-45d7-8e23-feeb3133e208"
      },
      "source": [
        "hist = c2f2.fit(X_train, y_train, \n",
        "         epochs = 20 , \n",
        "         batch_size =32, \n",
        "         validation_data=(X_test,y_test))"
      ],
      "execution_count": 23,
      "outputs": [
        {
          "output_type": "stream",
          "text": [
            "Epoch 1/20\n",
            "1875/1875 [==============================] - 6s 3ms/step - loss: 0.4335 - accuracy: 0.8434 - val_loss: 0.3209 - val_accuracy: 0.8853\n",
            "Epoch 2/20\n",
            "1875/1875 [==============================] - 6s 3ms/step - loss: 0.2842 - accuracy: 0.8960 - val_loss: 0.2780 - val_accuracy: 0.8980\n",
            "Epoch 3/20\n",
            "1875/1875 [==============================] - 6s 3ms/step - loss: 0.2404 - accuracy: 0.9121 - val_loss: 0.2552 - val_accuracy: 0.9081\n",
            "Epoch 4/20\n",
            "1875/1875 [==============================] - 6s 3ms/step - loss: 0.2091 - accuracy: 0.9219 - val_loss: 0.2393 - val_accuracy: 0.9145\n",
            "Epoch 5/20\n",
            "1875/1875 [==============================] - 6s 3ms/step - loss: 0.1869 - accuracy: 0.9310 - val_loss: 0.2321 - val_accuracy: 0.9181\n",
            "Epoch 6/20\n",
            "1875/1875 [==============================] - 6s 3ms/step - loss: 0.1640 - accuracy: 0.9387 - val_loss: 0.2410 - val_accuracy: 0.9191\n",
            "Epoch 7/20\n",
            "1875/1875 [==============================] - 6s 3ms/step - loss: 0.1496 - accuracy: 0.9443 - val_loss: 0.2316 - val_accuracy: 0.9211\n",
            "Epoch 8/20\n",
            "1875/1875 [==============================] - 6s 3ms/step - loss: 0.1332 - accuracy: 0.9492 - val_loss: 0.2315 - val_accuracy: 0.9232\n",
            "Epoch 9/20\n",
            "1875/1875 [==============================] - 6s 3ms/step - loss: 0.1190 - accuracy: 0.9548 - val_loss: 0.2530 - val_accuracy: 0.9236\n",
            "Epoch 10/20\n",
            "1875/1875 [==============================] - 6s 3ms/step - loss: 0.1077 - accuracy: 0.9596 - val_loss: 0.2631 - val_accuracy: 0.9236\n",
            "Epoch 11/20\n",
            "1875/1875 [==============================] - 6s 3ms/step - loss: 0.0973 - accuracy: 0.9631 - val_loss: 0.2852 - val_accuracy: 0.9233\n",
            "Epoch 12/20\n",
            "1875/1875 [==============================] - 6s 3ms/step - loss: 0.0890 - accuracy: 0.9666 - val_loss: 0.2982 - val_accuracy: 0.9213\n",
            "Epoch 13/20\n",
            "1875/1875 [==============================] - 6s 3ms/step - loss: 0.0824 - accuracy: 0.9688 - val_loss: 0.2867 - val_accuracy: 0.9204\n",
            "Epoch 14/20\n",
            "1875/1875 [==============================] - 6s 3ms/step - loss: 0.0764 - accuracy: 0.9709 - val_loss: 0.3165 - val_accuracy: 0.9217\n",
            "Epoch 15/20\n",
            "1875/1875 [==============================] - 6s 3ms/step - loss: 0.0702 - accuracy: 0.9727 - val_loss: 0.3199 - val_accuracy: 0.9232\n",
            "Epoch 16/20\n",
            "1875/1875 [==============================] - 6s 3ms/step - loss: 0.0640 - accuracy: 0.9753 - val_loss: 0.3271 - val_accuracy: 0.9191\n",
            "Epoch 17/20\n",
            "1875/1875 [==============================] - 6s 3ms/step - loss: 0.0628 - accuracy: 0.9750 - val_loss: 0.4089 - val_accuracy: 0.9171\n",
            "Epoch 18/20\n",
            "1875/1875 [==============================] - 6s 3ms/step - loss: 0.0568 - accuracy: 0.9781 - val_loss: 0.3604 - val_accuracy: 0.9211\n",
            "Epoch 19/20\n",
            "1875/1875 [==============================] - 6s 3ms/step - loss: 0.0553 - accuracy: 0.9790 - val_loss: 0.3712 - val_accuracy: 0.9234\n",
            "Epoch 20/20\n",
            "1875/1875 [==============================] - 6s 3ms/step - loss: 0.0525 - accuracy: 0.9797 - val_loss: 0.3970 - val_accuracy: 0.9207\n"
          ],
          "name": "stdout"
        }
      ]
    },
    {
      "cell_type": "code",
      "metadata": {
        "id": "WNmXXLhvWUiK",
        "colab": {
          "base_uri": "https://localhost:8080/",
          "height": 313
        },
        "outputId": "8373d93f-7e03-4732-f3be-b8c1cd72d9a4"
      },
      "source": [
        "# Plot loass and accuracy\n",
        "# Plot training & validation accuracy values\n",
        "epochs = 20\n",
        "loss_list = [100 * i for i in hist.history['loss']]\n",
        "acc_list = [100 * i for i in hist.history['accuracy']]\n",
        "plt.plot(range(1,epochs+1),loss_list) \n",
        "plt.plot(range(1,epochs+1),acc_list) \n",
        "plt.title('Model loss & accuracy')\n",
        "plt.ylabel('Accuracy (%)')\n",
        "plt.xlabel('Epoch')\n",
        "plt.legend(['loss', 'accuracy'], loc='center left')"
      ],
      "execution_count": 24,
      "outputs": [
        {
          "output_type": "execute_result",
          "data": {
            "text/plain": [
              "<matplotlib.legend.Legend at 0x7fa8d65ac080>"
            ]
          },
          "metadata": {
            "tags": []
          },
          "execution_count": 24
        },
        {
          "output_type": "display_data",
          "data": {
            "image/png": "[encoded data removed]",
            "text/plain": [
              "<Figure size 432x288 with 1 Axes>"
            ]
          },
          "metadata": {
            "tags": [],
            "needs_background": "light"
          }
        }
      ]
    },
    {
      "cell_type": "code",
      "metadata": {
        "id": "0wNssVPhu_8m"
      },
      "source": [
        "vloss_list = [100 * i for i in hist.history['val_loss']]\n",
        "vacc_list = [100 * i for i in hist.history['val_accuracy']]"
      ],
      "execution_count": 25,
      "outputs": []
    },
    {
      "cell_type": "code",
      "metadata": {
        "id": "TX5Uzro4vjaY",
        "colab": {
          "base_uri": "https://localhost:8080/",
          "height": 313
        },
        "outputId": "7bc57e47-293f-4ea3-d194-f5c90f1a40b2"
      },
      "source": [
        "plt.plot(range(1,epochs+1),vloss_list)  \n",
        "plt.plot(range(1,epochs+1),vacc_list)  \n",
        "plt.title('Model val_loss & val_accuracy')\n",
        "plt.ylabel('Accuracy (%)')\n",
        "plt.xlabel('Epoch')\n",
        "plt.legend(['val_loss', 'val_accuracy'], loc='center left')"
      ],
      "execution_count": 26,
      "outputs": [
        {
          "output_type": "execute_result",
          "data": {
            "text/plain": [
              "<matplotlib.legend.Legend at 0x7fa8d658ce48>"
            ]
          },
          "metadata": {
            "tags": []
          },
          "execution_count": 26
        },
        {
          "output_type": "display_data",
          "data": {
            "image/png": "[encoded data removed]",
            "text/plain": [
              "<Figure size 432x288 with 1 Axes>"
            ]
          },
          "metadata": {
            "tags": [],
            "needs_background": "light"
          }
        }
      ]
    },
    {
      "cell_type": "code",
      "metadata": {
        "id": "blALTNdyvjVK",
        "colab": {
          "base_uri": "https://localhost:8080/",
          "height": 313
        },
        "outputId": "00b7a98b-36b2-4e43-d0d8-d3e18719135e"
      },
      "source": [
        "plt.plot(range(1,epochs+1),acc_list)  \n",
        "plt.plot(range(1,epochs+1),vacc_list)  \n",
        "plt.title('accuracy vs. val_accuracy')\n",
        "plt.ylabel('Accuracy (%)')\n",
        "plt.xlabel('Epoch')\n",
        "plt.legend(['accuracy','val_accuracy']) #, loc='center bottom')"
      ],
      "execution_count": 27,
      "outputs": [
        {
          "output_type": "execute_result",
          "data": {
            "text/plain": [
              "<matplotlib.legend.Legend at 0x7fa8d6524908>"
            ]
          },
          "metadata": {
            "tags": []
          },
          "execution_count": 27
        },
        {
          "output_type": "display_data",
          "data": {
            "image/png": "[encoded data removed]",
            "text/plain": [
              "<Figure size 432x288 with 1 Axes>"
            ]
          },
          "metadata": {
            "tags": [],
            "needs_background": "light"
          }
        }
      ]
    },
    {
      "cell_type": "markdown",
      "metadata": {
        "id": "gBPKMI4y3fsa"
      },
      "source": [
        "## 모형의 저장\n",
        "\n",
        "- 트레이닝이 끝난 모형은 save 메서드로 가중치와 함께 hdf5 형식으로 저장\n",
        "- load 명령으로 불러 사용"
      ]
    },
    {
      "cell_type": "code",
      "metadata": {
        "id": "KCfbQl2v3fsa"
      },
      "source": [
        "# c2f2.save('fmnist_cnn_best.hdf5')"
      ],
      "execution_count": 28,
      "outputs": []
    },
    {
      "cell_type": "code",
      "metadata": {
        "id": "b7-ysIVy3fse",
        "colab": {
          "base_uri": "https://localhost:8080/"
        },
        "outputId": "a2156177-3679-42eb-cf97-f4fda1e98474"
      },
      "source": [
        "from keras.models import load_model\n",
        "\n",
        "model = load_model('fmnist_c2f3_best_weights.084-0.9263.hdf5')\n",
        "model.evaluate(X_test, y_test, batch_size=32)"
      ],
      "execution_count": 30,
      "outputs": [
        {
          "output_type": "stream",
          "text": [
            "313/313 [==============================] - 1s 2ms/step - loss: 0.6872 - accuracy: 0.9263\n"
          ],
          "name": "stdout"
        },
        {
          "output_type": "execute_result",
          "data": {
            "text/plain": [
              "[0.6871631145477295, 0.9262999892234802]"
            ]
          },
          "metadata": {
            "tags": []
          },
          "execution_count": 30
        }
      ]
    },
    {
      "cell_type": "markdown",
      "metadata": {
        "id": "KF3UzDJotZrh"
      },
      "source": [
        "## Confusion matrix"
      ]
    },
    {
      "cell_type": "code",
      "metadata": {
        "id": "RV1IaOyeu6Em"
      },
      "source": [
        "from sklearn.metrics import confusion_matrix\n",
        "import seaborn as sns"
      ],
      "execution_count": 31,
      "outputs": []
    },
    {
      "cell_type": "code",
      "metadata": {
        "id": "Bxs1eC-cuO0Y"
      },
      "source": [
        "predictions = model.predict(X_test)"
      ],
      "execution_count": 32,
      "outputs": []
    },
    {
      "cell_type": "code",
      "metadata": {
        "id": "6Tqhg-UJujo5",
        "colab": {
          "base_uri": "https://localhost:8080/"
        },
        "outputId": "d7eeda95-1f69-432e-9ed4-35072b356b45"
      },
      "source": [
        "predictions.shape"
      ],
      "execution_count": 33,
      "outputs": [
        {
          "output_type": "execute_result",
          "data": {
            "text/plain": [
              "(10000, 10)"
            ]
          },
          "metadata": {
            "tags": []
          },
          "execution_count": 33
        }
      ]
    },
    {
      "cell_type": "code",
      "metadata": {
        "id": "nZch1JFSufoR",
        "colab": {
          "base_uri": "https://localhost:8080/"
        },
        "outputId": "e72f94a6-b478-4499-d8cc-af1a56455693"
      },
      "source": [
        "predictions0 = np.argmax(predictions, axis=1)\n",
        "predictions0.shape"
      ],
      "execution_count": 34,
      "outputs": [
        {
          "output_type": "execute_result",
          "data": {
            "text/plain": [
              "(10000,)"
            ]
          },
          "metadata": {
            "tags": []
          },
          "execution_count": 34
        }
      ]
    },
    {
      "cell_type": "code",
      "metadata": {
        "id": "hiPMQeYXt12l"
      },
      "source": [
        "cm = confusion_matrix(y_test0, predictions0)"
      ],
      "execution_count": 35,
      "outputs": []
    },
    {
      "cell_type": "code",
      "metadata": {
        "id": "YITaGwYjvatc"
      },
      "source": [
        "class_names =  ['T-shirt/top', 'Trouser', 'Pullover', 'Dress', 'Coat', 'Sandal', 'Shirt', 'Sneaker', 'Bag', 'Ankle boot']"
      ],
      "execution_count": 36,
      "outputs": []
    },
    {
      "cell_type": "code",
      "metadata": {
        "id": "2qGHMNU3u8ut",
        "colab": {
          "base_uri": "https://localhost:8080/",
          "height": 551
        },
        "outputId": "cc306697-2276-444a-8980-f122653ff3f3"
      },
      "source": [
        "plt.figure(figsize=(9,9))\n",
        "sns.heatmap(cm, cbar=False, xticklabels=class_names, yticklabels=class_names, fmt='d', annot=True, cmap=plt.cm.coolwarm)\n",
        "plt.xlabel('Predicted')\n",
        "plt.ylabel('Actual')\n",
        "plt.show()"
      ],
      "execution_count": 37,
      "outputs": [
        {
          "output_type": "display_data",
          "data": {
            "image/png": "[encoded data removed]",
            "text/plain": [
              "<Figure size 648x648 with 1 Axes>"
            ]
          },
          "metadata": {
            "tags": [],
            "needs_background": "light"
          }
        }
      ]
    },
    {
      "cell_type": "code",
      "metadata": {
        "id": "T6ebZJ77wGGi"
      },
      "source": [
        ""
      ],
      "execution_count": null,
      "outputs": []
    }
  ]
}