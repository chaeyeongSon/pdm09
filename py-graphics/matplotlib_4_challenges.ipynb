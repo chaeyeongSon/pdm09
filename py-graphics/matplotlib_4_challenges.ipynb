{
  "nbformat": 4,
  "nbformat_minor": 0,
  "metadata": {
    "colab": {
      "name": "matplotlib_4_challenges.ipynb",
      "provenance": [],
      "collapsed_sections": [],
      "include_colab_link": true
    },
    "kernelspec": {
      "name": "python3",
      "display_name": "Python 3"
    }
  },
  "cells": [
    {
      "cell_type": "markdown",
      "metadata": {
        "id": "view-in-github",
        "colab_type": "text"
      },
      "source": [
        "<a href=\"https://colab.research.google.com/github/chaeyeongSon/pdm09/blob/master/py-graphics/matplotlib_4_challenges.ipynb\" target=\"_parent\"><img src=\"https://colab.research.google.com/assets/colab-badge.svg\" alt=\"Open In Colab\"/></a>"
      ]
    },
    {
      "cell_type": "markdown",
      "metadata": {
        "id": "9Wej-7GZ4f3N",
        "colab_type": "text"
      },
      "source": [
        "# Challenge\n",
        "## Python module 2. **matplotlib**\n",
        "### Python graphics using matplotlib\n",
        "- Visualization\n",
        "- Front-end deployment to WEB or Mobile"
      ]
    },
    {
      "cell_type": "markdown",
      "metadata": {
        "id": "h6yEJiGJ4Lbk",
        "colab_type": "text"
      },
      "source": [
        "### 무작위수 분포 그려보기"
      ]
    },
    {
      "cell_type": "markdown",
      "metadata": {
        "id": "b-JcgSU-Ktyz",
        "colab_type": "text"
      },
      "source": [
        "### [도전1.] 균일분포와 정규분포를 비교하는 그림을 그리시오.\n",
        "- subplot 이용\n",
        "- style(제목, x-축 레이블, y-축 레이블, ...)\n",
        "\n",
        "> [hint] 검색: \"How to add title to subplots in Matplotlib?\""
      ]
    },
    {
      "cell_type": "code",
      "metadata": {
        "id": "asaSzifRhhZK",
        "colab_type": "code",
        "colab": {}
      },
      "source": [
        "import numpy as np\n",
        "import matplotlib.pyplot as plt"
      ],
      "execution_count": null,
      "outputs": []
    },
    {
      "cell_type": "code",
      "metadata": {
        "id": "k0XaT2f9JGZy",
        "colab_type": "code",
        "colab": {
          "base_uri": "https://localhost:8080/",
          "height": 355
        },
        "outputId": "1fe93921-f9cf-4c1f-c9d7-05d0bf737977"
      },
      "source": [
        "plt.hist(np.random.rand(1000))"
      ],
      "execution_count": null,
      "outputs": [
        {
          "output_type": "execute_result",
          "data": {
            "text/plain": [
              "(array([120.,  89., 111., 102., 100.,  89.,  97.,  96., 117.,  79.]),\n",
              " array([7.57503900e-04, 1.00681020e-01, 2.00604537e-01, 3.00528053e-01,\n",
              "        4.00451570e-01, 5.00375086e-01, 6.00298602e-01, 7.00222119e-01,\n",
              "        8.00145635e-01, 9.00069152e-01, 9.99992668e-01]),\n",
              " <a list of 10 Patch objects>)"
            ]
          },
          "metadata": {
            "tags": []
          },
          "execution_count": 2
        },
        {
          "output_type": "display_data",
          "data": {
            "image/png": "[encoded data removed]",
            "text/plain": [
              "<Figure size 432x288 with 1 Axes>"
            ]
          },
          "metadata": {
            "tags": [],
            "needs_background": "light"
          }
        }
      ]
    },
    {
      "cell_type": "code",
      "metadata": {
        "id": "T8SCqKVeMhBF",
        "colab_type": "code",
        "colab": {
          "base_uri": "https://localhost:8080/",
          "height": 355
        },
        "outputId": "4490974d-6c0d-449e-f627-b9c6133879a6"
      },
      "source": [
        "plt.hist(np.random.randn(1000))"
      ],
      "execution_count": null,
      "outputs": [
        {
          "output_type": "execute_result",
          "data": {
            "text/plain": [
              "(array([ 18.,  74., 136., 222., 279., 154.,  89.,  19.,   7.,   2.]),\n",
              " array([-2.64179236, -2.00500311, -1.36821386, -0.73142461, -0.09463536,\n",
              "         0.54215389,  1.17894315,  1.8157324 ,  2.45252165,  3.0893109 ,\n",
              "         3.72610015]),\n",
              " <a list of 10 Patch objects>)"
            ]
          },
          "metadata": {
            "tags": []
          },
          "execution_count": 3
        },
        {
          "output_type": "display_data",
          "data": {
            "image/png": "[encoded data removed]",
            "text/plain": [
              "<Figure size 432x288 with 1 Axes>"
            ]
          },
          "metadata": {
            "tags": [],
            "needs_background": "light"
          }
        }
      ]
    },
    {
      "cell_type": "code",
      "metadata": {
        "id": "D6mRWFlSpsu3",
        "colab_type": "code",
        "colab": {
          "base_uri": "https://localhost:8080/",
          "height": 302
        },
        "outputId": "3c6c24c9-1613-4229-b54a-d4ebf56f6c4f"
      },
      "source": [
        "plt.subplot(121).set_title(\"Uniform distribution\")  # 첫 번째 subplot 제목\"Uniform distribution\"\n",
        "plt.xlabel('x') # 첫 번째 subplot x레이블 'x'\n",
        "plt.ylabel('y') # 첫 번째 subplot y레이블 'y'\n",
        "plt.hist(np.random.rand(1000))\n",
        "\n",
        "plt.subplot(122).set_title(\"Normal distribution\") # 두 번째 subplot에 제목\"Normal distribution\" 추가\n",
        "plt.xlabel('x') # 두 번째 subplot x레이블 'x'\n",
        "plt.ylabel('y') # 두 번째 subplot y레이블 'y'\n",
        "plt.hist(np.random.randn(1000))\n",
        "\n",
        "plt.suptitle(\"Uniform distribution & Normal distribution\", fontweight=\"bold\") # 전체 제목 \"Uniform distribution & Normal distribution\", 글자 굵게\n",
        "plt.tight_layout()  # 그래프 간격 조절\n",
        "plt.show()"
      ],
      "execution_count": null,
      "outputs": [
        {
          "output_type": "display_data",
          "data": {
            "image/png": "[encoded data removed]",
            "text/plain": [
              "<Figure size 432x288 with 2 Axes>"
            ]
          },
          "metadata": {
            "tags": [],
            "needs_background": "light"
          }
        }
      ]
    },
    {
      "cell_type": "markdown",
      "metadata": {
        "id": "iGDZR9Msh4_6",
        "colab_type": "text"
      },
      "source": [
        "### subplot(121), subplot(122)"
      ]
    },
    {
      "cell_type": "markdown",
      "metadata": {
        "id": "D5XGB1v_PAeU",
        "colab_type": "text"
      },
      "source": [
        "### [도전 2.] 0~9 사이의 무작위 정수 1000개를 만들어서 각 수의 빈도에 대한 히스토그램, 막대그래프, 꺽은선 그래프를 그리고 비교하시오.\n",
        "- subplot 이용\n",
        "- style(제목, x-축 레이블, y-축 레이블, ...)\n",
        "\n"
      ]
    },
    {
      "cell_type": "code",
      "metadata": {
        "id": "PMJghJzfiVzs",
        "colab_type": "code",
        "colab": {}
      },
      "source": [
        "n1000 = np.random.randint(0, 10, 1000)"
      ],
      "execution_count": null,
      "outputs": []
    },
    {
      "cell_type": "code",
      "metadata": {
        "id": "xza_yV8nMshU",
        "colab_type": "code",
        "colab": {}
      },
      "source": [
        "value, count= np.unique(n1000, return_counts=True)\n",
        "# count"
      ],
      "execution_count": null,
      "outputs": []
    },
    {
      "cell_type": "code",
      "metadata": {
        "id": "Cq2pcVqIvZGe",
        "colab_type": "code",
        "colab": {
          "base_uri": "https://localhost:8080/",
          "height": 265
        },
        "outputId": "9478826d-14cf-4165-9340-4eb53a740123"
      },
      "source": [
        "plt.hist(n1000)\n",
        "plt.show()"
      ],
      "execution_count": null,
      "outputs": [
        {
          "output_type": "display_data",
          "data": {
            "image/png": "[encoded data removed]",
            "text/plain": [
              "<Figure size 432x288 with 1 Axes>"
            ]
          },
          "metadata": {
            "tags": [],
            "needs_background": "light"
          }
        }
      ]
    },
    {
      "cell_type": "code",
      "metadata": {
        "id": "CtOSk4RpQTXG",
        "colab_type": "code",
        "colab": {
          "base_uri": "https://localhost:8080/",
          "height": 265
        },
        "outputId": "0df8687c-703e-42e6-838d-ef7a88ce3e79"
      },
      "source": [
        "plt.bar(value,count) #,color=\"bgrcmyk\")  # 'bgrcmykw\n",
        "plt.show()"
      ],
      "execution_count": null,
      "outputs": [
        {
          "output_type": "display_data",
          "data": {
            "image/png": "[encoded data removed]",
            "text/plain": [
              "<Figure size 432x288 with 1 Axes>"
            ]
          },
          "metadata": {
            "tags": [],
            "needs_background": "light"
          }
        }
      ]
    },
    {
      "cell_type": "code",
      "metadata": {
        "id": "If18Y68kvyc6",
        "colab_type": "code",
        "colab": {
          "base_uri": "https://localhost:8080/",
          "height": 265
        },
        "outputId": "9aa9bb9e-be6d-46da-9350-6cf115daf609"
      },
      "source": [
        "plt.plot(value,count,marker='o')\n",
        "plt.show()"
      ],
      "execution_count": null,
      "outputs": [
        {
          "output_type": "display_data",
          "data": {
            "image/png": "[encoded data removed]",
            "text/plain": [
              "<Figure size 432x288 with 1 Axes>"
            ]
          },
          "metadata": {
            "tags": [],
            "needs_background": "light"
          }
        }
      ]
    },
    {
      "cell_type": "code",
      "metadata": {
        "id": "yb9oAujow2vD",
        "colab_type": "code",
        "colab": {
          "base_uri": "https://localhost:8080/",
          "height": 302
        },
        "outputId": "74444421-e903-4a0f-8861-82fe0d9ed6e6"
      },
      "source": [
        "plt.subplot(131).set_title(\"Histogram\")  # 첫 번째 subplot 제목\"Histogram\"\n",
        "plt.xlabel('number') # 첫 번째 subplot x레이블 'number'\n",
        "plt.ylabel('count') # 첫 번째 subplot y레이블 'count'\n",
        "plt.hist(n1000)\n",
        "\n",
        "plt.subplot(132).set_title(\"Bar graph\") # 두 번째 subplot에 제목\"Bar graph\"\n",
        "plt.xlabel('number') # 두 번째 subplot x레이블 'number'\n",
        "plt.ylabel('count') # 두 번째 subplot y레이블 'count'\n",
        "plt.bar(value,count)\n",
        "\n",
        "plt.subplot(133).set_title(\"Line graph\") # 세 번째 subplot에 제목\"Line graph\"\n",
        "plt.xlabel('number') # 세 번째 subplot x레이블 'number'\n",
        "plt.ylabel('count') # 세 번째 subplot y레이블 'count'\n",
        "plt.plot(value,count,marker='o')\n",
        "\n",
        "plt.suptitle(\"Histogram & Bar & Line\", fontweight=\"bold\") # 전체 제목 \"Histogram & Bar & Line\", 글자 굵게\n",
        "plt.tight_layout()  # 그래프 간격 조절\n",
        "plt.show()"
      ],
      "execution_count": null,
      "outputs": [
        {
          "output_type": "display_data",
          "data": {
            "image/png": "[encoded data removed]",
            "text/plain": [
              "<Figure size 432x288 with 3 Axes>"
            ]
          },
          "metadata": {
            "tags": [],
            "needs_background": "light"
          }
        }
      ]
    },
    {
      "cell_type": "markdown",
      "metadata": {
        "id": "vJOiAMJ5Jpnq",
        "colab_type": "text"
      },
      "source": [
        "> [Python 그래픽스](https://datascienceschool.net/view-notebook/d0b1637803754bb083b5722c9f2209d0/)\n"
      ]
    }
  ]
}