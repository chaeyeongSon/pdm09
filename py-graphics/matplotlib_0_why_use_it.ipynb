{
  "nbformat": 4,
  "nbformat_minor": 0,
  "metadata": {
    "colab": {
      "name": "matplotlib_0_why_use_it.ipynb",
      "provenance": [],
      "collapsed_sections": [],
      "include_colab_link": true
    },
    "kernelspec": {
      "name": "python3",
      "display_name": "Python 3"
    }
  },
  "cells": [
    {
      "cell_type": "markdown",
      "metadata": {
        "id": "view-in-github",
        "colab_type": "text"
      },
      "source": [
        "<a href=\"https://colab.research.google.com/github/chaeyeongSon/pdm09/blob/master/py-graphics/matplotlib_0_why_use_it.ipynb\" target=\"_parent\"><img src=\"https://colab.research.google.com/assets/colab-badge.svg\" alt=\"Open In Colab\"/></a>"
      ]
    },
    {
      "cell_type": "markdown",
      "metadata": {
        "id": "9Wej-7GZ4f3N",
        "colab_type": "text"
      },
      "source": [
        "## Python module 2. **matplotlib**\n",
        "### Python graphics using matplotlib\n",
        "- Visualization : 시각화\n",
        "- Front-end deployment to WEB or Mobile : 서비스"
      ]
    },
    {
      "cell_type": "markdown",
      "metadata": {
        "id": "1Ry0YHkNFis5",
        "colab_type": "text"
      },
      "source": [
        "## 난수 생성\n",
        "> NumPy의 random 서브모듈은 난수를 생성하는 다양한 명령을 제공.\n",
        "\n",
        "- rand: 0부터 1사이의 균일 분포 (uniform distribution) -> 백색 잡음\n",
        "- randn: 가우시안 표준 정규 분포 (normal distribution, Gaussian) -> 가우시안 잡음\n",
        "- randint: 균일 분포의 정수 난수 (uniform int)\n",
        "\n",
        "> randn()은 평균 0, 표준편차 1 인 가우시안 정규분포를 생성."
      ]
    },
    {
      "cell_type": "markdown",
      "metadata": {
        "id": "ozoCcRquhg4p",
        "colab_type": "text"
      },
      "source": [
        "## python graphics\n",
        "- matplotlib\n",
        "> import matplotlib.pyplot as plt"
      ]
    },
    {
      "cell_type": "markdown",
      "metadata": {
        "id": "h6yEJiGJ4Lbk",
        "colab_type": "text"
      },
      "source": [
        "### 무작위수 분포 그려보기"
      ]
    },
    {
      "cell_type": "code",
      "metadata": {
        "id": "ngcwuNlfhrIQ",
        "colab_type": "code",
        "colab": {}
      },
      "source": [
        "# import module; numpy, matplotlib\n",
        "import numpy as np\n",
        "import matplotlib.pyplot as plt "
      ],
      "execution_count": null,
      "outputs": []
    },
    {
      "cell_type": "code",
      "metadata": {
        "id": "EZK12Xg7H55L",
        "colab_type": "code",
        "colab": {
          "base_uri": "https://localhost:8080/",
          "height": 35
        },
        "outputId": "08f25c24-cbdc-4d50-8f23-ea3abb6a46bd"
      },
      "source": [
        "n1000 = np.random.randint(0,10,1000)  # 0~9 사이 정수 1000개를 랜덤으로 뽑아 만든 1차원 벡터\n",
        "n1000.shape"
      ],
      "execution_count": null,
      "outputs": [
        {
          "output_type": "execute_result",
          "data": {
            "text/plain": [
              "(1000,)"
            ]
          },
          "metadata": {
            "tags": []
          },
          "execution_count": 7
        }
      ]
    },
    {
      "cell_type": "code",
      "metadata": {
        "id": "A6ZNTRNXI4Vw",
        "colab_type": "code",
        "colab": {
          "base_uri": "https://localhost:8080/",
          "height": 53
        },
        "outputId": "643241bf-c2cf-46a1-d751-762a0a5f1a57"
      },
      "source": [
        "n1000[:30]"
      ],
      "execution_count": null,
      "outputs": [
        {
          "output_type": "execute_result",
          "data": {
            "text/plain": [
              "array([8, 3, 5, 6, 7, 5, 3, 3, 8, 7, 7, 8, 9, 1, 8, 7, 7, 5, 8, 3, 6, 8,\n",
              "       5, 6, 6, 4, 4, 8, 1, 7])"
            ]
          },
          "metadata": {
            "tags": []
          },
          "execution_count": 8
        }
      ]
    },
    {
      "cell_type": "code",
      "metadata": {
        "id": "jr30IHxvJDuE",
        "colab_type": "code",
        "colab": {
          "base_uri": "https://localhost:8080/",
          "height": 319
        },
        "outputId": "8ece611f-1003-49cc-ba06-493cead626be"
      },
      "source": [
        "plt.hist(n1000,label=range(0,10)) #, color='red')\n",
        "# plt.show()"
      ],
      "execution_count": null,
      "outputs": [
        {
          "output_type": "execute_result",
          "data": {
            "text/plain": [
              "(array([109., 104.,  86.,  98., 113., 104.,  88., 105., 104.,  89.]),\n",
              " array([0. , 0.9, 1.8, 2.7, 3.6, 4.5, 5.4, 6.3, 7.2, 8.1, 9. ]),\n",
              " <a list of 10 Patch objects>)"
            ]
          },
          "metadata": {
            "tags": []
          },
          "execution_count": 11
        },
        {
          "output_type": "display_data",
          "data": {
            "image/png": "[encoded data removed]",
            "text/plain": [
              "<Figure size 432x288 with 1 Axes>"
            ]
          },
          "metadata": {
            "tags": [],
            "needs_background": "light"
          }
        }
      ]
    },
    {
      "cell_type": "markdown",
      "metadata": {
        "id": "b-JcgSU-Ktyz",
        "colab_type": "text"
      },
      "source": [
        "### [도전] 균일분포와 정규분포를 비교하는 그림을 그리시오."
      ]
    },
    {
      "cell_type": "code",
      "metadata": {
        "id": "k0XaT2f9JGZy",
        "colab_type": "code",
        "colab": {
          "base_uri": "https://localhost:8080/",
          "height": 355
        },
        "outputId": "86d637f1-f029-45e2-ff09-56ff9faf6de2"
      },
      "source": [
        "plt.hist(np.random.rand(1000))  # 0~1까지의 수를 무작위로  정해줌\n",
        "                                # 1000개는 그렇게 고르지 않게 그려지는데 만약 100000개라면 엄청 고르게 그려짐\n",
        "                                # random seed가 결정되지 않아서 그릴 때마다 다르게 그려짐"
      ],
      "execution_count": null,
      "outputs": [
        {
          "output_type": "execute_result",
          "data": {
            "text/plain": [
              "(array([107.,  93., 106., 105., 101., 107., 107.,  97., 100.,  77.]),\n",
              " array([0.00240827, 0.10210502, 0.20180177, 0.30149851, 0.40119526,\n",
              "        0.50089201, 0.60058876, 0.70028551, 0.79998226, 0.89967901,\n",
              "        0.99937576]),\n",
              " <a list of 10 Patch objects>)"
            ]
          },
          "metadata": {
            "tags": []
          },
          "execution_count": 12
        },
        {
          "output_type": "display_data",
          "data": {
            "image/png": "[encoded data removed]",
            "text/plain": [
              "<Figure size 432x288 with 1 Axes>"
            ]
          },
          "metadata": {
            "tags": [],
            "needs_background": "light"
          }
        }
      ]
    },
    {
      "cell_type": "code",
      "metadata": {
        "id": "T8SCqKVeMhBF",
        "colab_type": "code",
        "colab": {
          "base_uri": "https://localhost:8080/",
          "height": 355
        },
        "outputId": "75072d40-362c-4dfe-e4b6-4f6fc09c053b"
      },
      "source": [
        "plt.hist(np.random.randn(1000)) # 정규 분포(가우시안 분포) : 가쪽으로 갈 수록 나오는 빈도가 떨어짐"
      ],
      "execution_count": null,
      "outputs": [
        {
          "output_type": "execute_result",
          "data": {
            "text/plain": [
              "(array([  8.,  23.,  86., 204., 237., 216., 151.,  62.,  10.,   3.]),\n",
              " array([-3.10351782, -2.44966297, -1.79580811, -1.14195325, -0.4880984 ,\n",
              "         0.16575646,  0.81961132,  1.47346617,  2.12732103,  2.78117589,\n",
              "         3.43503074]),\n",
              " <a list of 10 Patch objects>)"
            ]
          },
          "metadata": {
            "tags": []
          },
          "execution_count": 15
        },
        {
          "output_type": "display_data",
          "data": {
            "image/png": "[encoded data removed]",
            "text/plain": [
              "<Figure size 432x288 with 1 Axes>"
            ]
          },
          "metadata": {
            "tags": [],
            "needs_background": "light"
          }
        }
      ]
    },
    {
      "cell_type": "code",
      "metadata": {
        "id": "BUkVDXTJMkwc",
        "colab_type": "code",
        "colab": {
          "base_uri": "https://localhost:8080/",
          "height": 35
        },
        "outputId": "cfdc16eb-c085-4489-e9e9-32b25f25aa0d"
      },
      "source": [
        "np.max(np.random.randn(1000)) # 가장 큰 값"
      ],
      "execution_count": null,
      "outputs": [
        {
          "output_type": "execute_result",
          "data": {
            "text/plain": [
              "3.0377535227672667"
            ]
          },
          "metadata": {
            "tags": []
          },
          "execution_count": 16
        }
      ]
    },
    {
      "cell_type": "markdown",
      "metadata": {
        "id": "D5XGB1v_PAeU",
        "colab_type": "text"
      },
      "source": [
        "### [도전] 0~9 사이의 무작위 정수 1000개를 만들어서 각 수에 대한 막대그래프를 그리시오."
      ]
    },
    {
      "cell_type": "code",
      "metadata": {
        "id": "xza_yV8nMshU",
        "colab_type": "code",
        "colab": {
          "base_uri": "https://localhost:8080/",
          "height": 35
        },
        "outputId": "a4ff66b7-4565-4eed-83c3-fb22c7c2950b"
      },
      "source": [
        "value, count= np.unique(n1000, return_counts=True)  # return_counts=True - 서로 다른 숫자가 몇 번 나오는지 카운트 해줌 \n",
        "count"
      ],
      "execution_count": null,
      "outputs": [
        {
          "output_type": "execute_result",
          "data": {
            "text/plain": [
              "array([109, 104,  86,  98, 113, 104,  88, 105, 104,  89])"
            ]
          },
          "metadata": {
            "tags": []
          },
          "execution_count": 19
        }
      ]
    },
    {
      "cell_type": "code",
      "metadata": {
        "id": "83m0VTfPGrma",
        "colab_type": "code",
        "colab": {
          "base_uri": "https://localhost:8080/",
          "height": 35
        },
        "outputId": "d333727a-b14e-44f5-eed1-93f32cc1f568"
      },
      "source": [
        "value"
      ],
      "execution_count": null,
      "outputs": [
        {
          "output_type": "execute_result",
          "data": {
            "text/plain": [
              "array([0, 1, 2, 3, 4, 5, 6, 7, 8, 9])"
            ]
          },
          "metadata": {
            "tags": []
          },
          "execution_count": 20
        }
      ]
    },
    {
      "cell_type": "code",
      "metadata": {
        "id": "CtOSk4RpQTXG",
        "colab_type": "code",
        "colab": {
          "base_uri": "https://localhost:8080/",
          "height": 339
        },
        "outputId": "016cafa9-334a-4806-8dfe-2065f2a7b585"
      },
      "source": [
        "plt.bar(value,count ,color=\"bgrcmyk\") # bgrcmykw - b:blue, g:green, r:red, c:cyan, m:magenta, y:yellow, k:black\n",
        "                                      # 순서대로 들어감, 순서가 끝나면 처음부터 다시 반복한다."
      ],
      "execution_count": null,
      "outputs": [
        {
          "output_type": "stream",
          "text": [
            "/usr/local/lib/python3.6/dist-packages/ipykernel_launcher.py:1: MatplotlibDeprecationWarning: Using a string of single character colors as a color sequence is deprecated. Use an explicit list instead.\n",
            "  \"\"\"Entry point for launching an IPython kernel.\n"
          ],
          "name": "stderr"
        },
        {
          "output_type": "execute_result",
          "data": {
            "text/plain": [
              "<BarContainer object of 10 artists>"
            ]
          },
          "metadata": {
            "tags": []
          },
          "execution_count": 21
        },
        {
          "output_type": "display_data",
          "data": {
            "image/png": "[encoded data removed]",
            "text/plain": [
              "<Figure size 432x288 with 1 Axes>"
            ]
          },
          "metadata": {
            "tags": [],
            "needs_background": "light"
          }
        }
      ]
    },
    {
      "cell_type": "markdown",
      "metadata": {
        "id": "vJOiAMJ5Jpnq",
        "colab_type": "text"
      },
      "source": [
        "> [Python 그래픽스](https://datascienceschool.net/view-notebook/d0b1637803754bb083b5722c9f2209d0/)\n",
        "\n",
        "> [Mnist demo by Redwoods](http://life21c.inje.ac.kr:8501)"
      ]
    },
    {
      "cell_type": "code",
      "metadata": {
        "id": "xkt78bvjQYbN",
        "colab_type": "code",
        "colab": {}
      },
      "source": [
        ""
      ],
      "execution_count": null,
      "outputs": []
    }
  ]
}